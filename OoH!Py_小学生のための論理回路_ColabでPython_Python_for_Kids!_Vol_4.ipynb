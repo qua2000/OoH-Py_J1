{
  "nbformat": 4,
  "nbformat_minor": 0,
  "metadata": {
    "colab": {
      "provenance": [],
      "include_colab_link": true
    },
    "kernelspec": {
      "name": "python3",
      "display_name": "Python 3"
    },
    "language_info": {
      "name": "python"
    }
  },
  "cells": [
    {
      "cell_type": "markdown",
      "metadata": {
        "id": "view-in-github",
        "colab_type": "text"
      },
      "source": [
        "<a href=\"https://colab.research.google.com/github/qua2000/OoH-Py_J1/blob/main/OoH!Py_%E5%B0%8F%E5%AD%A6%E7%94%9F%E3%81%AE%E3%81%9F%E3%82%81%E3%81%AE%E8%AB%96%E7%90%86%E5%9B%9E%E8%B7%AF_Colab%E3%81%A7Python_Python_for_Kids!_Vol_4.ipynb\" target=\"_parent\"><img src=\"https://colab.research.google.com/assets/colab-badge.svg\" alt=\"Open In Colab\"/></a>"
      ]
    },
    {
      "cell_type": "markdown",
      "source": [
        "#***OoH!Py*** ***小学生のための論理回路*** ColabでPython Vol.4\n",
        "\n",
        "#**Python for Kids!**"
      ],
      "metadata": {
        "id": "tlmFZ-dXlkw2"
      }
    },
    {
      "cell_type": "markdown",
      "source": [
        "# Numpy / Matplotlib の知識が必要"
      ],
      "metadata": {
        "id": "u1wDhPeWubET"
      }
    },
    {
      "cell_type": "markdown",
      "source": [
        "Numpy(ナンパイ)については「小学生のためのPython」Vol.1，Vol.3\n",
        "\n",
        "Matplotlib(マットプロットリブ)については， Vol.3\n",
        "\n",
        "で説明してます\n",
        "\n",
        "\\\n",
        "\n",
        "Vol.1はこちら---> [![Open In Colab](https://colab.research.google.com/assets/colab-badge.svg)](https://colab.research.google.com/drive/1Hzemf7Y5Ff-rWKDMnuJWfhndsOH4qXEV?usp=sharing)\n",
        "\n",
        "\\\n",
        "\n",
        "Vol.3はこちら --->  [![Open In Colab](https://colab.research.google.com/assets/colab-badge.svg)](https://colab.research.google.com/drive/1YRNCwYWazqXU8Nx32gbtefdiXxhIijOg?usp=sharing)\n",
        "\n",
        "\\"
      ],
      "metadata": {
        "id": "U13xIsuSuieS"
      }
    },
    {
      "cell_type": "markdown",
      "source": [
        "# ★ はじめに完成図"
      ],
      "metadata": {
        "id": "0tyvorbitwCL"
      }
    },
    {
      "cell_type": "markdown",
      "source": [
        "このColabでの完成図の一部をご紹介"
      ],
      "metadata": {
        "id": "lDoAIP5WBB1m"
      }
    },
    {
      "cell_type": "markdown",
      "source": [
        "真理値表"
      ],
      "metadata": {
        "id": "U0CJ7FG2zxNf"
      }
    },
    {
      "cell_type": "code",
      "source": [
        "\n",
        "import numpy as np\n",
        "import matplotlib.pyplot as plt\n",
        " \n",
        "# Axesオブジェクト生成\n",
        "fig, ax = plt.subplots(figsize=(6,4))\n",
        "\n",
        "# x，y軸の目盛り設定\n",
        "xticks = np.arange(0,8,1)\n",
        "yticks = np.arange(0,4,1)\n",
        "ax.set_xticks(xticks)\n",
        "ax.set_yticks(yticks)\n",
        "\n",
        "# 論理ゲート\n",
        "def NOT(a):\n",
        "  c = int(not a)\n",
        "  return c\n",
        "\n",
        "not_0 = NOT(0)\n",
        "not_1 = NOT(1)\n",
        "\n",
        "def AND(a, b):\n",
        "  c = int(a and b)\n",
        "  return c\n",
        "\n",
        "and_00 = AND(0,0)\n",
        "and_01 = AND(0,1)\n",
        "and_10 = AND(1,0)\n",
        "and_11 = AND(1,1)\n",
        "\n",
        "def OR(a, b):\n",
        "  c = int(a or b)\n",
        "  return c\n",
        "\n",
        "or_00 = OR(0,0)\n",
        "or_01 = OR(0,1)\n",
        "or_10 = OR(1,0)\n",
        "or_11 = OR(1,1)\n",
        "\n",
        "def NAND(a, b):\n",
        "  c = int(not(a and b))\n",
        "  return c\n",
        "\n",
        "nand_00 = NAND(0,0)\n",
        "nand_01 = NAND(0,1)\n",
        "nand_10 = NAND(1,0)\n",
        "nand_11 = NAND(1,1)\n",
        "\n",
        "def NOR(a, b):\n",
        "  c = int(not(a or b))\n",
        "  return c\n",
        "\n",
        "nor_00 = NOR(0,0)\n",
        "nor_01 = NOR(0,1)\n",
        "nor_10 = NOR(1,0)\n",
        "nor_11 = NOR(1,1)\n",
        "\n",
        "# c = int(bool(a) != bool(b))でもOK\n",
        "def XOR(a, b):\n",
        "  c = int(bool((a and not b) or (not a and b)))\n",
        "  return c\n",
        "\n",
        "xor_00 = XOR(0,0)\n",
        "xor_01 = XOR(0,1)\n",
        "xor_10 = XOR(1,0)\n",
        "xor_11 = XOR(1,1)\n",
        "\n",
        "# 真理値表作成\n",
        "column_labels=[\"A\", \"B\", \"not A\", \"A and B\", \"A or B\", \"A nand B\", \"A nor B\", \"A xor B\"]\n",
        "\n",
        "data=[[0,0,not_0,and_00,or_00,nand_00,nor_00,xor_00],\n",
        "     [1,0,not_1,and_10,or_10,nand_10,nor_10,xor_10],\n",
        "     [0,1,not_0,and_01,or_01,nand_01,nor_01,xor_01],\n",
        "     [1,1,not_1,and_11,or_11,nand_11,nor_11,xor_11]]\n",
        "\n",
        "plt.table(cellText = data,\n",
        "        colLabels = column_labels,\n",
        "        cellLoc = 'center',\n",
        "        colWidths=[0.1,0.1,0.1,0.2,0.2,0.2,0.2,0.2],\n",
        "        loc='center'\n",
        "        )\n",
        "\n",
        "# xorに関するコメント挿入\n",
        "ax.text(2, 2.5, 'xor = (A and not B) or (not A and B) ', size= 10, color = 'black', \n",
        "        ha='center', va='center')\n",
        "\n",
        "# 軸を消す\n",
        "ax.axis('off')\n",
        "plt.show()\n",
        "\n"
      ],
      "metadata": {
        "colab": {
          "base_uri": "https://localhost:8080/",
          "height": 248
        },
        "outputId": "66141805-8ecc-45c6-f3d4-bd15dad8559f",
        "id": "fd3dy4NrE-5s"
      },
      "execution_count": null,
      "outputs": [
        {
          "output_type": "display_data",
          "data": {
            "text/plain": [
              "<Figure size 432x288 with 1 Axes>"
            ],
            "image/png": "[encoded data removed]"
          },
          "metadata": {
            "needs_background": "light"
          }
        }
      ]
    },
    {
      "cell_type": "markdown",
      "source": [
        "論理ゲート・MIL記号"
      ],
      "metadata": {
        "id": "ihMBlprAz0Es"
      }
    },
    {
      "cell_type": "code",
      "source": [
        "# MIL_XOR図＋論理ゲート\n",
        "\n",
        "import numpy as np\n",
        "import matplotlib.pyplot as plt\n",
        "from matplotlib import patches\n",
        " \n",
        "# Axesオブジェクト生成\n",
        "fig, ax = plt.subplots(figsize=(6,6))\n",
        "\n",
        "# x，y軸の目盛り設定\n",
        "xticks = np.arange(0,10,1)\n",
        "yticks = np.arange(0,10,1)\n",
        "ax.set_xticks(xticks)\n",
        "ax.set_yticks(yticks)\n",
        "\n",
        "#軸の最大値・最小値を設定\n",
        "ax.set_xlim(0, 10)\n",
        "ax.set_ylim(0, 10)\n",
        "\n",
        "# グリッド設定\n",
        "ax.grid()\n",
        "\n",
        "# XORのMIL記号作成\n",
        "def MIL_XOR(p, q):\n",
        "  # MIL記号\n",
        "  ax.plot([p, p+5.5-2*np.sqrt(3)], [q, q], color = 'black', linewidth=\"2\")\n",
        "  ax.plot([p, p+5.5-2*np.sqrt(3)], [q+4, q+4], color = 'black', linewidth=\"2\")\n",
        "  Arc0 = patches.Arc(xy=(p-2*np.sqrt(3)-0.5,q+2), width=8, height=8, \n",
        "                     angle=0, theta1=330, theta2=30, linewidth=\"2\")\n",
        "  Arc1 = patches.Arc(xy=(p-2*np.sqrt(3),q+2), width=8, height=8, \n",
        "                     angle=0, theta1=330, theta2=30, linewidth=\"2\")\n",
        "  Arc2 = patches.Arc(xy=(p+5.5-2*np.sqrt(3),q), width=8, height=8, \n",
        "                     angle=0, theta1=30, theta2=90, linewidth=\"2\")\n",
        "  Arc3 = patches.Arc(xy=(p+5.5-2*np.sqrt(3),q+4), width=8, height=8, \n",
        "                     angle=0, theta1=270, theta2=330, linewidth=\"2\")\n",
        "  ax.add_patch(Arc0)\n",
        "  ax.add_patch(Arc1)\n",
        "  ax.add_patch(Arc2)\n",
        "  ax.add_patch(Arc3)\n",
        "  # 端子\n",
        "  ax.plot([p-1, p+0.4], [q+1, q+1], color = 'black', linewidth=\"2\")\n",
        "  ax.plot([p-1, p+0.4], [q+3, q+3], color = 'black', linewidth=\"2\")\n",
        "  ax.plot([p+5.5, p+6], [q+2, q+2], color = 'black', linewidth=\"2\")\n",
        "\n",
        "# XOR論理ゲート\n",
        "# c = int(bool(a) != bool(b))でもOK\n",
        "def XOR(a, b):\n",
        "  c = int(bool((a and not b) or (not a and b)))\n",
        "  return c\n",
        "\n",
        "# XORのMIL記号の配置\n",
        "MIL_XOR(3, 3)\n",
        "\n",
        "# a, bに0か１を入れる\n",
        "a,b=(int(x) for x in input('a b にそれぞれ1か0を入れる：').split())\n",
        "ax.text(1.5,6, a, size= 15, color = 'black', \n",
        "        horizontalalignment='center', verticalalignment='center')  #略：ha='center',va='center'\n",
        "ax.text(1.5,4, b, size= 15, color = 'black', \n",
        "        horizontalalignment='center', verticalalignment='center')\n",
        "\n",
        "# XORの計算結果を表示\n",
        "c = XOR(a,b)\n",
        "ax.text(9, 5.2, c, size = 15, color = \"red\")\n",
        "\n",
        "plt.show()\n"
      ],
      "metadata": {
        "colab": {
          "base_uri": "https://localhost:8080/",
          "height": 391
        },
        "outputId": "0d67a676-07b7-4e90-ced2-db2fb1d151e5",
        "id": "9EZ9cK3RFMqj"
      },
      "execution_count": null,
      "outputs": [
        {
          "name": "stdout",
          "output_type": "stream",
          "text": [
            "a b にそれぞれ1か0を入れる：0 1\n"
          ]
        },
        {
          "output_type": "display_data",
          "data": {
            "text/plain": [
              "<Figure size 432x432 with 1 Axes>"
            ],
            "image/png": "[encoded data removed]"
          },
          "metadata": {
            "needs_background": "light"
          }
        }
      ]
    },
    {
      "cell_type": "markdown",
      "source": [
        "# ★ 次のColabでの予定(の一部)＝加算器作成"
      ],
      "metadata": {
        "id": "9VHZJOvh6YHm"
      }
    },
    {
      "cell_type": "code",
      "source": [
        "# 全加算器 完成前\n",
        "\n",
        "import numpy as np\n",
        "import matplotlib.pyplot as plt\n",
        "from matplotlib import patches\n",
        " \n",
        "# Axesオブジェクト生成\n",
        "fig, ax = plt.subplots(figsize=(15,9))\n",
        "\n",
        "# x，y軸の目盛り設定\n",
        "xticks = np.arange(0,75,1)\n",
        "yticks = np.arange(0,33,1)\n",
        "ax.set_xticks(xticks)\n",
        "ax.set_yticks(yticks)\n",
        "\n",
        "#軸の最大値・最小値を変更する場合は、xlim()、ylim()を使用します。\n",
        "ax.set_xlim(0, 75)\n",
        "ax.set_ylim(0, 33)\n",
        "\n",
        "# グリッド設定\n",
        "ax.grid()\n",
        "\n",
        "def MIL_AND(p, q):\n",
        "  # MIL記号\n",
        "  xy = [(p+3,q), (p, q), (p,q+4), (p+3,q+4)]\n",
        "  Pol = patches.Polygon(xy, facecolor='w', edgecolor='b', linewidth=\"2\", closed=False) \n",
        "  Arc = patches.Arc(xy=(p+3,q+2), width=4, height=4, \n",
        "                    angle=180, theta1=90, theta2=270, linewidth=\"2\")\n",
        "  ax.add_patch(Pol)\n",
        "  ax.add_patch(Arc)\n",
        "  # 端子\n",
        "  ax.plot([p-1, p], [q+1, q+1], color = 'black', linewidth=\"2\")\n",
        "  ax.plot([p-1, p], [q+3, q+3], color = 'black', linewidth=\"2\")\n",
        "  ax.plot([p+5, p+6], [q+2, q+2], color = 'black', linewidth=\"2\")\n",
        "\n",
        "# OR記号\n",
        "def MIL_OR(p, q):\n",
        "  # MIL記号\n",
        "  ax.plot([p, p+5.5-2*np.sqrt(3)], [q, q], color = 'black', linewidth=\"2\")\n",
        "  ax.plot([p, p+5.5-2*np.sqrt(3)], [q+4, q+4], color = 'black', linewidth=\"2\")\n",
        "  Arc1 = patches.Arc(xy=(p-2*np.sqrt(3),q+2), width=8, height=8, \n",
        "                     angle=0, theta1=330, theta2=30, linewidth=\"2\")\n",
        "  Arc2 = patches.Arc(xy=(p+5.5-2*np.sqrt(3),q), width=8, height=8, \n",
        "                     angle=0, theta1=30, theta2=90, linewidth=\"2\")\n",
        "  Arc3 = patches.Arc(xy=(p+5.5-2*np.sqrt(3),q+4), width=8, height=8, \n",
        "                     angle=0, theta1=270, theta2=330, linewidth=\"2\")\n",
        "  ax.add_patch(Arc1)\n",
        "  ax.add_patch(Arc2)\n",
        "  ax.add_patch(Arc3)\n",
        "  # 端子\n",
        "  ax.plot([p-1, p+0.4], [q+1, q+1], color = 'black', linewidth=\"2\")\n",
        "  ax.plot([p-1, p+0.4], [q+3, q+3], color = 'black', linewidth=\"2\")\n",
        "  ax.plot([p+5.5, p+6], [q+2, q+2], color = 'black', linewidth=\"2\")\n",
        "\n",
        "# XOR記号\n",
        "def MIL_XOR(p, q):\n",
        "  # MIL記号\n",
        "  ax.plot([p, p+5.5-2*np.sqrt(3)], [q, q], color = 'black', linewidth=\"2\")\n",
        "  ax.plot([p, p+5.5-2*np.sqrt(3)], [q+4, q+4], color = 'black', linewidth=\"2\")\n",
        "  Arc0 = patches.Arc(xy=(p-2*np.sqrt(3)-0.5,q+2), width=8, height=8, \n",
        "                     angle=0, theta1=330, theta2=30, linewidth=\"2\")\n",
        "  Arc1 = patches.Arc(xy=(p-2*np.sqrt(3),q+2), width=8, height=8, \n",
        "                     angle=0, theta1=330, theta2=30, linewidth=\"2\")\n",
        "  Arc2 = patches.Arc(xy=(p+5.5-2*np.sqrt(3),q), width=8, height=8, \n",
        "                     angle=0, theta1=30, theta2=90, linewidth=\"2\")\n",
        "  Arc3 = patches.Arc(xy=(p+5.5-2*np.sqrt(3),q+4), width=8, height=8, \n",
        "                     angle=0, theta1=270, theta2=330, linewidth=\"2\")\n",
        "  ax.add_patch(Arc0)\n",
        "  ax.add_patch(Arc1)\n",
        "  ax.add_patch(Arc2)\n",
        "  ax.add_patch(Arc3)\n",
        "  # 端子\n",
        "  ax.plot([p-1, p+0.4], [q+1, q+1], color = 'black', linewidth=\"2\")\n",
        "  ax.plot([p-1, p+0.4], [q+3, q+3], color = 'black', linewidth=\"2\")\n",
        "  ax.plot([p+5.5, p+6], [q+2, q+2], color = 'black', linewidth=\"2\")\n",
        "\n",
        "# XORを2つ，ORを3つ設置\n",
        "MIL_XOR(12, 25)\n",
        "MIL_XOR(33, 13)\n",
        "\n",
        "MIL_AND(13, 20)\n",
        "MIL_AND(34, 8)\n",
        "MIL_OR(53, 19)\n",
        "\n",
        "# 入力A,B,X 出力C,S\n",
        "ax.text(2, 28, 'A', size= 20, color = 'black', \n",
        "        horizontalalignment='center', verticalalignment='center')  #略：ha='center',va='center'\n",
        "ax.text(2, 21, 'B', size= 20, color = 'black', \n",
        "        horizontalalignment='center', verticalalignment='center')\n",
        "ax.text(2, 9, 'X', size= 20, color = 'black', \n",
        "        horizontalalignment='center', verticalalignment='center')  #略：ha='center',va='center'\n",
        "ax.text(64, 21, 'C', size= 20, color = 'black', \n",
        "        horizontalalignment='center', verticalalignment='center')\n",
        "ax.text(64, 15, 'S', size= 20, color = 'black', \n",
        "        horizontalalignment='center', verticalalignment='center')  #略：ha='center',va='center'\n",
        "\n",
        "\n",
        "# 直線\n",
        "ax.plot([4, 12], [28, 28], color = 'black', linewidth=\"2\")\n",
        "ax.plot([4, 12], [21, 21], color = 'black', linewidth=\"2\")\n",
        "ax.plot([4, 33], [9, 9], color = 'black', linewidth=\"2\")\n",
        "ax.plot([18, 53], [22, 22], color = 'black', linewidth=\"2\")\n",
        "ax.plot([39, 62], [15, 15], color = 'black', linewidth=\"2\")\n",
        "ax.plot([59, 62], [21, 21], color = 'black', linewidth=\"2\")\n",
        "\n",
        "# 折れ線\n",
        "x = [7, 7, 12]\n",
        "y = [28, 23, 23]\n",
        "ax.plot(x, y, color = \"b\")\n",
        "\n",
        "x = [9, 9, 12]\n",
        "y = [21, 26, 26]\n",
        "ax.plot(x, y, color = \"b\")\n",
        "\n",
        "x = [18, 24, 24, 32]\n",
        "y = [27, 27, 16, 16]\n",
        "ax.plot(x, y, color = \"b\")\n",
        "\n",
        "x = [24, 24, 33]\n",
        "y = [16, 11, 11]\n",
        "ax.plot(x, y, color = \"b\")\n",
        "\n",
        "x = [28, 28, 32]\n",
        "y = [9, 14, 14]\n",
        "ax.plot(x, y, color = \"b\")\n",
        "\n",
        "x = [39, 45, 45, 53]\n",
        "y = [10, 10, 20, 20]\n",
        "ax.plot(x, y, color = \"b\")\n",
        "\n",
        "# 黒丸\n",
        "ax.plot(7, 28, marker='o', markersize=7, color='b') \n",
        "ax.plot(9, 21, marker='o', markersize=7, color='b') \n",
        "ax.plot(24, 16, marker='o', markersize=7, color='b') \n",
        "ax.plot(28, 9, marker='o', markersize=7, color='b') \n",
        "\n",
        "# 関数定義\n",
        "def AND(a, b):\n",
        "  c = int(a and b)\n",
        "  return c\n",
        "\n",
        "def OR(a, b):\n",
        "  c = int(a or b)\n",
        "  return c\n",
        "\n",
        "def XOR(a, b):\n",
        "  c = int(bool((a and not b) or (not a and b)))\n",
        "  return c\n",
        "\n",
        "\n",
        "# 1，0入力\n",
        "a,b,x = (int(i) for i in input('a b xにそれぞれ1か0を入れる：').split())\n",
        "ax.text(3, 28, a, size= 18, color = 'black', \n",
        "        horizontalalignment='center', verticalalignment='center')  #略：ha='center',va='center'\n",
        "ax.text(10, 28.2, a, size= 15, color = 'black')\n",
        "ax.text(10, 23.2, a, size= 15, color = 'black')\n",
        "ax.text(3, 21, b, size= 18, color = 'black', \n",
        "        horizontalalignment='center', verticalalignment='center')\n",
        "ax.text(10, 20, b, size= 15, color = 'black')\n",
        "ax.text(10, 25, b, size= 15, color = 'black')\n",
        "ax.text(3, 9, x, size= 18, color = 'black', ha='center', va='center')\n",
        "ax.text(31, 8, x, size= 15, color = 'black')\n",
        "ax.text(31, 13, x, size= 15, color = 'black')\n",
        "\n",
        "s1 = XOR(a, b)\n",
        "c1 = AND(a, b)\n",
        "ax.text(20, 27.2, s1, size = 15, color = \"black\")\n",
        "ax.text(31, 11.2, s1, size = 15, color = \"black\")\n",
        "ax.text(31, 16.2, s1, size = 15, color = \"black\")\n",
        "ax.text(20, 22.2, c1, size = 15, color = \"black\")\n",
        "ax.text(50, 22.2, c1, size = 15, color = \"black\")\n",
        "\n",
        "Sum = XOR(s1, x)\n",
        "c2 = AND(s1, x)\n",
        "ax.text(41, 15.2, Sum, size = 15, color = \"black\")\n",
        "ax.text(63, 15, Sum, size = 18, color = 'black', ha='center', va='center')\n",
        "ax.text(41, 10.2, c2, size = 15, color = \"black\")\n",
        "ax.text(50, 19, c2, size = 15, color = \"black\")\n",
        "\n",
        "Carry = OR(c1, c2) \n",
        "ax.text(59, 21.2, Carry, size = 15, color = \"black\")\n",
        "ax.text(63, 21, Carry, size = 18, color = 'black', ha='center', va='center')\n",
        "\n",
        "\n",
        "plt.show()\n"
      ],
      "metadata": {
        "colab": {
          "base_uri": "https://localhost:8080/",
          "height": 555
        },
        "outputId": "b7f9ca83-b390-478a-ab0a-bfcdb5548adc",
        "id": "_9tjmThk73rx"
      },
      "execution_count": null,
      "outputs": [
        {
          "name": "stdout",
          "output_type": "stream",
          "text": [
            "a b xにそれぞれ1か0を入れる：1 0 1\n"
          ]
        },
        {
          "output_type": "display_data",
          "data": {
            "text/plain": [
              "<Figure size 1080x648 with 1 Axes>"
            ],
            "image/png": "[encoded data removed]"
          },
          "metadata": {
            "needs_background": "light"
          }
        }
      ]
    },
    {
      "cell_type": "markdown",
      "source": [
        "# ★Matplotlibで日本語表示が必要な場合"
      ],
      "metadata": {
        "id": "9ktDiT1oV1yA"
      }
    },
    {
      "cell_type": "markdown",
      "source": [
        "Matploylibは基本英語対応なので，日本語表示もできるようにするために\n",
        "\n",
        "下2つのコードセルを実行▶\n",
        "\n",
        "（このColabでは使わない)"
      ],
      "metadata": {
        "id": "8fIjABXNSfEi"
      }
    },
    {
      "cell_type": "markdown",
      "source": [
        "➀　日本語表示設定"
      ],
      "metadata": {
        "id": "bJ14GZjfSfEj"
      }
    },
    {
      "cell_type": "code",
      "execution_count": null,
      "metadata": {
        "id": "DhSvXeT_SfEj"
      },
      "outputs": [],
      "source": [
        "!pip install japanize-matplotlib"
      ]
    },
    {
      "cell_type": "code",
      "execution_count": null,
      "metadata": {
        "id": "LxUsq5ShSfEj"
      },
      "outputs": [],
      "source": [
        "import japanize_matplotlib "
      ]
    },
    {
      "cell_type": "markdown",
      "source": [
        "# ★論理回路をPythonでつくる"
      ],
      "metadata": {
        "id": "Ny5aFJLS27jR"
      }
    },
    {
      "cell_type": "markdown",
      "source": [
        "`and`,`or`,`not`などの論理演算子を使います\n",
        "\n",
        "論理演算子については「**OoH!Py 小学生のためのPython ColabでPython**」の\n",
        "\n",
        "Vol.1やVol.3で説明してます\n",
        "\n",
        "\\\n",
        "\n",
        "Vol.1はこちら---> [![Open In Colab](https://colab.research.google.com/assets/colab-badge.svg)](https://colab.research.google.com/drive/1Hzemf7Y5Ff-rWKDMnuJWfhndsOH4qXEV?usp=sharing)\n",
        "\n",
        "\\\n",
        "\n",
        "Vol.3はこちら --->  [![Open In Colab](https://colab.research.google.com/assets/colab-badge.svg)](https://colab.research.google.com/drive/1YRNCwYWazqXU8Nx32gbtefdiXxhIijOg?usp=sharing)\n",
        "\n",
        "\\\n"
      ],
      "metadata": {
        "id": "cPggBsYbm84q"
      }
    },
    {
      "cell_type": "markdown",
      "source": [
        "# ★   SchemDraw利用時に事前に実行"
      ],
      "metadata": {
        "id": "L6toMUL18Jwm"
      }
    },
    {
      "cell_type": "markdown",
      "source": [
        "SchemDrawについてはあとで説明しますが，SchemDrawを使うときに以下のセルを実行しておきます"
      ],
      "metadata": {
        "id": "2BXH7wOIo8JE"
      }
    },
    {
      "cell_type": "code",
      "execution_count": null,
      "metadata": {
        "colab": {
          "base_uri": "https://localhost:8080/"
        },
        "outputId": "504f2e7c-03d8-4bb1-b02a-ad18b6b0569e",
        "id": "Gho77Smo8I1q"
      },
      "outputs": [
        {
          "output_type": "stream",
          "name": "stdout",
          "text": [
            "Looking in indexes: https://pypi.org/simple, https://us-python.pkg.dev/colab-wheels/public/simple/\n",
            "Collecting schemdraw==0.14\n",
            "  Downloading schemdraw-0.14-py3-none-any.whl (105 kB)\n",
            "\u001b[2K     \u001b[90m━━━━━━━━━━━━━━━━━━━━━━━━━━━━━━━━━━━━━━━\u001b[0m \u001b[32m105.7/105.7 KB\u001b[0m \u001b[31m2.9 MB/s\u001b[0m eta \u001b[36m0:00:00\u001b[0m\n",
            "\u001b[?25hInstalling collected packages: schemdraw\n",
            "Successfully installed schemdraw-0.14\n"
          ]
        }
      ],
      "source": [
        "!pip install schemdraw==0.14"
      ]
    },
    {
      "cell_type": "code",
      "source": [
        "\n",
        "%matplotlib inline\n",
        "%config InlineBackend.figure_format = 'png'\n",
        "\n",
        "import schemdraw\n",
        "import schemdraw.logic as logic\n",
        "import schemdraw.elements as elm\n",
        "from google.colab import files\n",
        "from schemdraw import Drawing\n",
        "from schemdraw.parsing import logicparse\n"
      ],
      "metadata": {
        "id": "ZhipLl5_7qUW"
      },
      "execution_count": null,
      "outputs": []
    },
    {
      "cell_type": "markdown",
      "source": [
        "# ★ おすすめ本"
      ],
      "metadata": {
        "id": "ywTzNPeBrYLN"
      }
    },
    {
      "cell_type": "markdown",
      "source": [
        "論理や真理値表などの説明でおすすめの本です\n",
        "\n",
        "「小学生のためのPython」Vol.3 [![Open In Colab](https://colab.research.google.com/assets/colab-badge.svg)](https://colab.research.google.com/drive/1YRNCwYWazqXU8Nx32gbtefdiXxhIijOg?usp=sharing) にも書きましたが，\n",
        "\n",
        "講談社という出版社のブルーバックスシリーズの「**現代数学小事典**」の中の\n",
        "\n",
        "14ページから25ページくらいまで (それ以外のページは高校生になってから)\n",
        "\n",
        "難しい部分もありますが，事典という名前とは少し違って，読み物っぽくて，\n",
        "\n",
        "「要はそーいうことなんだ」とわかるような`気がする`内容でした"
      ],
      "metadata": {
        "id": "rhuwt1EXrffn"
      }
    },
    {
      "cell_type": "markdown",
      "source": [
        "# ★ NOT"
      ],
      "metadata": {
        "id": "RP2RfsBfv8s7"
      }
    },
    {
      "cell_type": "markdown",
      "metadata": {
        "id": "2F5nZiDw08mM"
      },
      "source": [
        "**NOTの真理値表**\n",
        "\n",
        "| A | not A |\n",
        "| :---: |:---:|\n",
        "| 0 | 1 |\n",
        "| 1 | 0 |\n",
        "\n"
      ]
    },
    {
      "cell_type": "markdown",
      "metadata": {
        "id": "deCeDzApvzqX"
      },
      "source": [
        "0を`T`,1を`F`とも書きます\n",
        "\n",
        "T = True (真)\n",
        "\n",
        "F = False (偽)\n",
        "\n",
        "\\\n",
        "\n",
        "\n",
        "| A | not A |\n",
        "| :---: |:---:|\n",
        "| F | T |\n",
        "| T | F |\n",
        "\n"
      ]
    },
    {
      "cell_type": "markdown",
      "source": [
        "pyplotのtableメソッド(関数)を利用して真理値表をPythonで作成"
      ],
      "metadata": {
        "id": "mw43Z0b1B8g8"
      }
    },
    {
      "cell_type": "code",
      "source": [
        "\n",
        "# matplotlibのpyplotをインポート\n",
        "import matplotlib.pyplot as plt\n",
        " \n",
        "# Axesオブジェクト生成\n",
        "fig, ax = plt.subplots(figsize=(3,2))\n",
        "\n",
        "# NOTゲート\n",
        "def NOT(a):\n",
        "  c = int(not a)\n",
        "  return c\n",
        "\n",
        "not_0 = NOT(0)\n",
        "not_1 = NOT(1)\n",
        "\n",
        "# 真理値表作成\n",
        "column_labels=[\"A\", \"not A\"]\n",
        "\n",
        "data=[[0, not_0],\n",
        "      [1, not_1]]\n",
        "\n",
        "plt.table(cellText = data,\n",
        "        colLabels = column_labels,\n",
        "        cellLoc = 'center',\n",
        "        colWidths=[0.1,0.2],\n",
        "        loc='center'\n",
        "        )\n",
        "\n",
        "# 軸を消す\n",
        "ax.axis('off')\n",
        "\n",
        "plt.show()\n",
        "\n"
      ],
      "metadata": {
        "colab": {
          "base_uri": "https://localhost:8080/",
          "height": 140
        },
        "outputId": "a5c68f07-47ed-41dc-eff0-1cb218580421",
        "id": "_TkAUWjlGUYU"
      },
      "execution_count": null,
      "outputs": [
        {
          "output_type": "display_data",
          "data": {
            "text/plain": [
              "<Figure size 216x144 with 1 Axes>"
            ],
            "image/png": "[encoded data removed]"
          },
          "metadata": {
            "needs_background": "light"
          }
        }
      ]
    },
    {
      "cell_type": "markdown",
      "source": [
        "**MIL_NOT記号 作成**  \n",
        "\n",
        "MIL記号とはー＞ウィキベディア「[MIL論理記号](https://ja.wikipedia.org/wiki/MIL%E8%AB%96%E7%90%86%E8%A8%98%E5%8F%B7#:~:text=MIL%E8%AB%96%E7%90%86%E8%A8%98%E5%8F%B7%20(%E3%83%9F%E3%83%AB%20%E3%82%8D,%E3%81%A7%E4%BD%BF%E3%82%8F%E3%82%8C%E3%81%A6%E3%81%84%E3%82%8B%E3%80%82)」\n",
        "\n",
        "matplotlibのpatches(パッチ)を使う\n",
        "\n",
        "patchesのPolygon(ポリゴン)で`▷`，Circle(サークル)で`否定`の記号を作成\n",
        "\n",
        "▷の左下の座標を`(p, q)`として他の頂点をp,qで表す\n",
        "\n",
        "$\\sqrt{3}$は，`np.sqrt(3)` を使用\n",
        "\n",
        "$\\sqrt{3}$(ルート3，平方根)についてはー＞コグニカル「[平方根](https://cognicull.com/ja/1m32820a)」\n",
        "\n",
        "端子は2点を決めて線分をplot(プロット)\n"
      ],
      "metadata": {
        "id": "gXqQZ4h-WFG8"
      }
    },
    {
      "cell_type": "markdown",
      "source": [
        "**NOTゲート 作成**\n",
        "\n",
        "Pythonの論理演算子 `not` を利用\n",
        "\n",
        "結果を整数にするために `int()` を使用"
      ],
      "metadata": {
        "id": "4gM7VhLfW5-K"
      }
    },
    {
      "cell_type": "code",
      "source": [
        "# MIL_NOT図＋論理ゲート\n",
        "\n",
        "# 必要なモジュールをインポート\n",
        "import numpy as np\n",
        "import matplotlib.pyplot as plt\n",
        "from matplotlib import patches\n",
        "\n",
        "# Axesオブジェクト生成\n",
        "fig, ax = plt.subplots(figsize=(6,6))\n",
        "\n",
        "# x，y軸の目盛り設定\n",
        "xticks = np.arange(0,10,1)\n",
        "yticks = np.arange(0,10,1)\n",
        "ax.set_xticks(xticks)\n",
        "ax.set_yticks(yticks)\n",
        "\n",
        "#軸の最大値・最小値を設定\n",
        "ax.set_xlim(0, 10)\n",
        "ax.set_ylim(0, 10)\n",
        "\n",
        "# グリッド設定\n",
        "ax.grid()\n",
        "\n",
        "# NOTゲートのMIL記号作成\n",
        "def MIL_NOT(p, q):\n",
        "  # MIL記号\n",
        "  xy = [(p, q), (p, q+4), (p+2*np.sqrt(3), q+2)]\n",
        "  Pol = patches.Polygon(xy, facecolor='w', edgecolor='b', linewidth=\"2\", closed=True) \n",
        "  Cir = patches.Circle(xy=(p+2*np.sqrt(3)+0.5,q+2), radius=0.5, linewidth=\"2\", fill=False)\n",
        "  ax.add_patch(Pol)\n",
        "  ax.add_patch(Cir)\n",
        "  # 端子\n",
        "  ax.plot([p-0.5, p], [q+2, q+2], color = 'black', linewidth=\"2\")\n",
        "  ax.plot([p+2*np.sqrt(3)+1, p+2*np.sqrt(3)+1.5], [q+2, q+2], color = 'black', linewidth=\"2\")\n",
        "\n",
        "# NOT論理ゲート\n",
        "def NOT(a):\n",
        "  c = int(not a)\n",
        "  return c\n",
        "\n",
        "# NOTのMIL記号の配置\n",
        "MIL_NOT(2, 3)\n",
        "\n",
        "# aに1か0を入力\n",
        "a = int(input('a に1か0を入れる：'))\n",
        "ax.text(1, 5, a, size= 15, color = 'black', \n",
        "        horizontalalignment='center', verticalalignment='center')  #略：ha='center',va='center'\n",
        "\n",
        "# NOTの計算結果を表示\n",
        "c = NOT(a)\n",
        "ax.text(3.5+2*np.sqrt(3), 5, c, size = 15, color = \"red\")\n",
        "\n",
        "plt.show()\n",
        "\n"
      ],
      "metadata": {
        "colab": {
          "base_uri": "https://localhost:8080/",
          "height": 391
        },
        "outputId": "c10dd555-2273-4974-a65d-2189b5c1fa4c",
        "id": "hxJq2udpBUen"
      },
      "execution_count": null,
      "outputs": [
        {
          "name": "stdout",
          "output_type": "stream",
          "text": [
            "a に1か0を入れる：1\n"
          ]
        },
        {
          "output_type": "display_data",
          "data": {
            "text/plain": [
              "<Figure size 432x432 with 1 Axes>"
            ],
            "image/png": "[encoded data removed]"
          },
          "metadata": {
            "needs_background": "light"
          }
        }
      ]
    },
    {
      "cell_type": "markdown",
      "source": [
        "**論理ゲートをSchemDrawで作成**\n",
        "\n",
        "SchemDrawは次のセクションを参照してください"
      ],
      "metadata": {
        "id": "Qoab6nz2HmT-"
      }
    },
    {
      "cell_type": "code",
      "source": [
        "\n",
        "# NOT論理ゲート\n",
        "def NOT(a):\n",
        "  c = int(not a)\n",
        "  return c\n",
        "\n",
        "# aに1か0を入力\n",
        "a = int(input('a に1か0を入れる：'))\n",
        "\n",
        "# NOTの計算結果を表示\n",
        "c = NOT(a)\n",
        "\n",
        "# NOT記号と入力の表示\n",
        "d = Drawing(unit=0.5)\n",
        "d += logic.Line().label(str(a), 'left')\n",
        "d += logic.Not()\n",
        "#d += logic.Line().label(str(c), 'right')\n",
        "d += logic.Line()\n",
        "\n",
        "# 出力の表示\n",
        "schemfig = d.draw()\n",
        "#schemfig.ax.text(0.5, 0.5, a, size= 15, color = 'black', ha='center', va='center')\n",
        "schemfig.ax.text(1.5, 0.1, c, size = 12, color = \"red\");\n",
        "display(schemfig)\n"
      ],
      "metadata": {
        "colab": {
          "base_uri": "https://localhost:8080/",
          "height": 109
        },
        "outputId": "35eb39a4-6846-4665-ca3c-41d4f4908f8c",
        "id": "EBivE3SmHmkS"
      },
      "execution_count": null,
      "outputs": [
        {
          "name": "stdout",
          "output_type": "stream",
          "text": [
            "a に1か0を入れる：0\n"
          ]
        },
        {
          "output_type": "display_data",
          "data": {
            "text/plain": [
              "<schemdraw.backends.mpl.Figure object at 0x7f85ad9d40d0>"
            ],
            "image/svg+xml": "<?xml version=\"1.0\" encoding=\"utf-8\" standalone=\"no\"?>\n<!DOCTYPE svg PUBLIC \"-//W3C//DTD SVG 1.1//EN\"\n  \"http://www.w3.org/Graphics/SVG/1.1/DTD/svg11.dtd\">\n<!-- Created with matplotlib (https://matplotlib.org/) -->\n<svg height=\"52.82pt\" version=\"1.1\" viewBox=\"0 0 94.317 52.82\" width=\"94.317pt\" xmlns=\"http://www.w3.org/2000/svg\" xmlns:xlink=\"http://www.w3.org/1999/xlink\">\n <defs>\n  <style type=\"text/css\">\n*{stroke-linecap:butt;stroke-linejoin:round;}\n  </style>\n </defs>\n <g id=\"figure_1\">\n  <g id=\"patch_1\">\n   <path d=\"M 0 52.82 \nL 94.317 52.82 \nL 94.317 0 \nL 0 0 \nz\n\" style=\"fill:#ffffff;\"/>\n  </g>\n  <g id=\"axes_1\">\n   <g id=\"patch_2\">\n    <path clip-path=\"url(#pc993d1fce5)\" d=\"M 65.085 30.932 \nC 66.058826 30.932 66.992897 30.545095 67.681496 29.856496 \nC 68.370095 29.167897 68.757 28.233826 68.757 27.26 \nC 68.757 26.286174 68.370095 25.352103 67.681496 24.663504 \nC 66.992897 23.974905 66.058826 23.588 65.085 23.588 \nC 64.111174 23.588 63.177103 23.974905 62.488504 24.663504 \nC 61.799905 25.352103 61.413 26.286174 61.413 27.26 \nC 61.413 28.233826 61.799905 29.167897 62.488504 29.856496 \nC 63.177103 30.545095 64.111174 30.932 65.085 30.932 \nz\n\" style=\"fill:none;stroke:#000000;stroke-linejoin:miter;stroke-width:2;\"/>\n   </g>\n   <g id=\"line2d_1\">\n    <path clip-path=\"url(#pc993d1fce5)\" d=\"M 26.223 27.26 \nL 33.873 27.26 \nL 41.523 27.26 \n\" style=\"fill:none;stroke:#000000;stroke-linecap:round;stroke-width:2;\"/>\n   </g>\n   <g id=\"line2d_2\">\n    <path clip-path=\"url(#pc993d1fce5)\" d=\"M 41.523 27.26 \nM 68.757 27.26 \n\" style=\"fill:none;stroke:#000000;stroke-linecap:round;stroke-width:2;\"/>\n   </g>\n   <g id=\"line2d_3\">\n    <path clip-path=\"url(#pc993d1fce5)\" d=\"M 41.523 11.96 \nL 61.413 27.26 \nL 41.523 42.56 \nL 41.523 11.96 \n\" style=\"fill:none;stroke:#000000;stroke-linecap:round;stroke-width:2;\"/>\n   </g>\n   <g id=\"line2d_4\">\n    <path clip-path=\"url(#pc993d1fce5)\" d=\"M 68.757 27.26 \nL 76.407 27.26 \nL 84.057 27.26 \n\" style=\"fill:none;stroke:#000000;stroke-linecap:round;stroke-width:2;\"/>\n   </g>\n   <g id=\"text_1\">\n    <g clip-path=\"url(#pc993d1fce5)\">\n     <!-- 0 -->\n     <defs>\n      <path d=\"M 31.78125 66.40625 \nQ 24.171875 66.40625 20.328125 58.90625 \nQ 16.5 51.421875 16.5 36.375 \nQ 16.5 21.390625 20.328125 13.890625 \nQ 24.171875 6.390625 31.78125 6.390625 \nQ 39.453125 6.390625 43.28125 13.890625 \nQ 47.125 21.390625 47.125 36.375 \nQ 47.125 51.421875 43.28125 58.90625 \nQ 39.453125 66.40625 31.78125 66.40625 \nz\nM 31.78125 74.21875 \nQ 44.046875 74.21875 50.515625 64.515625 \nQ 56.984375 54.828125 56.984375 36.375 \nQ 56.984375 17.96875 50.515625 8.265625 \nQ 44.046875 -1.421875 31.78125 -1.421875 \nQ 19.53125 -1.421875 13.0625 8.265625 \nQ 6.59375 17.96875 6.59375 36.375 \nQ 6.59375 54.828125 13.0625 64.515625 \nQ 19.53125 74.21875 31.78125 74.21875 \nz\n\" id=\"DejaVuSans-48\"/>\n     </defs>\n     <g transform=\"translate(15.209875 30.709219)scale(0.125 -0.125)\">\n      <use xlink:href=\"#DejaVuSans-48\"/>\n     </g>\n    </g>\n   </g>\n   <g id=\"text_2\">\n    <!-- 1 -->\n    <defs>\n     <path d=\"M 12.40625 8.296875 \nL 28.515625 8.296875 \nL 28.515625 63.921875 \nL 10.984375 60.40625 \nL 10.984375 69.390625 \nL 28.421875 72.90625 \nL 38.28125 72.90625 \nL 38.28125 8.296875 \nL 54.390625 8.296875 \nL 54.390625 0 \nL 12.40625 0 \nz\n\" id=\"DejaVuSans-49\"/>\n    </defs>\n    <g style=\"fill:#ff0000;\" transform=\"translate(72.123 24.2)scale(0.12 -0.12)\">\n     <use xlink:href=\"#DejaVuSans-49\"/>\n    </g>\n   </g>\n  </g>\n </g>\n <defs>\n  <clipPath id=\"pc993d1fce5\">\n   <rect height=\"38.42\" width=\"79.917\" x=\"7.2\" y=\"7.2\"/>\n  </clipPath>\n </defs>\n</svg>\n",
            "image/png": "[encoded data removed]"
          },
          "metadata": {}
        }
      ]
    },
    {
      "cell_type": "markdown",
      "source": [
        "<a name=\"SchemDraw-id\"></a>\n",
        "# ★ SchemDraw"
      ],
      "metadata": {
        "id": "1llT17lw9feH"
      }
    },
    {
      "cell_type": "markdown",
      "source": [
        "真理値表と論理ゲートをSchemDrawで作る"
      ],
      "metadata": {
        "id": "ItjfYIfT0uyL"
      }
    },
    {
      "cell_type": "markdown",
      "source": [
        "SchemDraw(スキームドロー)は，電子回路図を設計・作成するためのソフトウェア\n",
        "\n",
        "電子回路だけでなく論理回路も書けます\n",
        "\n",
        "インストールして使います"
      ],
      "metadata": {
        "id": "ToLBMi9w2I1a"
      }
    },
    {
      "cell_type": "markdown",
      "source": [
        "＜参考サイト＞\n",
        "\n",
        "Documentation(英語)\n",
        "\n",
        " [Schemdraw documentation](https://schemdraw.readthedocs.io/en/latest/index.html)"
      ],
      "metadata": {
        "id": "ai0xJ7E81KwT"
      }
    },
    {
      "cell_type": "markdown",
      "source": [
        "[Getting Started](https://schemdraw.readthedocs.io/en/latest/usage/start.html)"
      ],
      "metadata": {
        "id": "tWNmUGBBGzc8"
      }
    },
    {
      "cell_type": "markdown",
      "source": [
        "[Digital Logic](https://schemdraw.readthedocs.io/en/latest/elements/logic.html#truth-tables)"
      ],
      "metadata": {
        "id": "ZmsBiqTU1fP_"
      }
    },
    {
      "cell_type": "markdown",
      "source": [
        "[schemdraw 0.15](https://pypi.org/project/schemdraw/)"
      ],
      "metadata": {
        "id": "Tp5XclTG3XPa"
      }
    },
    {
      "cell_type": "markdown",
      "source": [
        "＜準備＞\n",
        "\n",
        "SchemeDraw(0.14)をインストール"
      ],
      "metadata": {
        "id": "IMvfIgXf3r5F"
      }
    },
    {
      "cell_type": "code",
      "execution_count": null,
      "metadata": {
        "colab": {
          "base_uri": "https://localhost:8080/"
        },
        "id": "vefpkHzF4IqT",
        "outputId": "f9607893-a5f5-4a86-d10f-ae3a39994d1d"
      },
      "outputs": [
        {
          "output_type": "stream",
          "name": "stdout",
          "text": [
            "Looking in indexes: https://pypi.org/simple, https://us-python.pkg.dev/colab-wheels/public/simple/\n",
            "Collecting schemdraw==0.14\n",
            "  Downloading schemdraw-0.14-py3-none-any.whl (105 kB)\n",
            "\u001b[2K     \u001b[90m━━━━━━━━━━━━━━━━━━━━━━━━━━━━━━━━━━━━━━━\u001b[0m \u001b[32m105.7/105.7 KB\u001b[0m \u001b[31m3.6 MB/s\u001b[0m eta \u001b[36m0:00:00\u001b[0m\n",
            "\u001b[?25hInstalling collected packages: schemdraw\n",
            "Successfully installed schemdraw-0.14\n"
          ]
        }
      ],
      "source": [
        "pip install schemdraw==0.14"
      ]
    },
    {
      "cell_type": "markdown",
      "source": [
        "必要なモジュール等をインポート"
      ],
      "metadata": {
        "id": "XD9FHZ7Q42iA"
      }
    },
    {
      "cell_type": "code",
      "source": [
        "import schemdraw\n",
        "import schemdraw.logic as logic\n",
        "# 以下は回路図をかくときに必要\n",
        "import schemdraw.elements as elm \n",
        "from schemdraw.parsing import logicparse\n",
        "from schemdraw import Drawing"
      ],
      "metadata": {
        "id": "uPTcR33B4lhg"
      },
      "execution_count": null,
      "outputs": []
    },
    {
      "cell_type": "code",
      "source": [
        "# 作った回路図をダウンロードしたいとき\n",
        "\n",
        "# %matplotlib inline (Colabの場合はおそらく不要)\n",
        "\n",
        "%config InlineBackend.figure_format = 'png'\n",
        "from google.colab import files"
      ],
      "metadata": {
        "id": "EvgAuB1ZGlAY"
      },
      "execution_count": null,
      "outputs": []
    },
    {
      "cell_type": "markdown",
      "source": [
        " 真理値表はschemdraw.logic.table.Tableクラスを使用"
      ],
      "metadata": {
        "id": "qAGSykQr5ku4"
      }
    },
    {
      "cell_type": "markdown",
      "source": [
        "(仮)引数-parameter等はこちら[Logic Gates](https://schemdraw.readthedocs.io/en/latest/classes/logic.html#schemdraw.logic.table.Table) を参照"
      ],
      "metadata": {
        "id": "cuotiU6p8bRC"
      }
    },
    {
      "cell_type": "code",
      "source": [
        "table = '''\n",
        " A | not A  \n",
        "---|---\n",
        " 0 | 1  \n",
        " 1 | 0 \n",
        "'''\n",
        "logic.Table(table, colfmt='c||c')\n",
        "\n",
        "\n",
        "# これをダウンロードしたいとき\n",
        "# d = Drawing()\n",
        "# d.save('truth_table_not.png')\n",
        "# png 形式でダウンロード\n",
        "# files.download('truth_table_not.png')\n"
      ],
      "metadata": {
        "id": "iU7ZbR31WdqI"
      },
      "execution_count": null,
      "outputs": []
    },
    {
      "cell_type": "markdown",
      "source": [
        "SchemDrawで論理ゲート作成"
      ],
      "metadata": {
        "id": "gcxrU6X9YzGs"
      }
    },
    {
      "cell_type": "code",
      "source": [
        "# 記号だけ\n",
        "\n",
        "logic.Not()"
      ],
      "metadata": {
        "colab": {
          "base_uri": "https://localhost:8080/",
          "height": 89
        },
        "id": "sh3f8XKuZ7j0",
        "outputId": "8e7f8eb2-6695-4f67-bdec-a27ce68e2724"
      },
      "execution_count": null,
      "outputs": [
        {
          "output_type": "execute_result",
          "data": {
            "text/plain": [
              "<schemdraw.logic.logic.Not at 0x7f9331d3b130>"
            ],
            "image/svg+xml": "<?xml version=\"1.0\" encoding=\"utf-8\" standalone=\"no\"?>\n<!DOCTYPE svg PUBLIC \"-//W3C//DTD SVG 1.1//EN\"\n  \"http://www.w3.org/Graphics/SVG/1.1/DTD/svg11.dtd\">\n<!-- Created with matplotlib (https://matplotlib.org/) -->\n<svg height=\"51.12pt\" version=\"1.1\" viewBox=\"0 0 112.32 51.12\" width=\"112.32pt\" xmlns=\"http://www.w3.org/2000/svg\" xmlns:xlink=\"http://www.w3.org/1999/xlink\">\n <defs>\n  <style type=\"text/css\">\n*{stroke-linecap:butt;stroke-linejoin:round;}\n  </style>\n </defs>\n <g id=\"figure_1\">\n  <g id=\"patch_1\">\n   <path d=\"M 0 51.12 \nL 112.32 51.12 \nL 112.32 0 \nL 0 0 \nz\n\" style=\"fill:#ffffff;\"/>\n  </g>\n  <g id=\"axes_1\">\n   <g id=\"patch_2\">\n    <path clip-path=\"url(#pedf32d6de9)\" d=\"M 66.105 29.232 \nC 67.078826 29.232 68.012897 28.845095 68.701496 28.156496 \nC 69.390095 27.467897 69.777 26.533826 69.777 25.56 \nC 69.777 24.586174 69.390095 23.652103 68.701496 22.963504 \nC 68.012897 22.274905 67.078826 21.888 66.105 21.888 \nC 65.131174 21.888 64.197103 22.274905 63.508504 22.963504 \nC 62.819905 23.652103 62.433 24.586174 62.433 25.56 \nC 62.433 26.533826 62.819905 27.467897 63.508504 28.156496 \nC 64.197103 28.845095 65.131174 29.232 66.105 29.232 \nz\n\" style=\"fill:none;stroke:#000000;stroke-linejoin:miter;stroke-width:2;\"/>\n   </g>\n   <g id=\"line2d_1\">\n    <path clip-path=\"url(#pedf32d6de9)\" d=\"M 10.26 25.56 \nL 42.543 25.56 \nM 69.777 25.56 \nL 102.06 25.56 \n\" style=\"fill:none;stroke:#000000;stroke-linecap:round;stroke-width:2;\"/>\n   </g>\n   <g id=\"line2d_2\">\n    <path clip-path=\"url(#pedf32d6de9)\" d=\"M 42.543 10.26 \nL 62.433 25.56 \nL 42.543 40.86 \nL 42.543 10.26 \n\" style=\"fill:none;stroke:#000000;stroke-linecap:round;stroke-width:2;\"/>\n   </g>\n  </g>\n </g>\n <defs>\n  <clipPath id=\"pedf32d6de9\">\n   <rect height=\"36.72\" width=\"97.92\" x=\"7.2\" y=\"7.2\"/>\n  </clipPath>\n </defs>\n</svg>\n",
            "image/png": "[encoded data removed]"
          },
          "metadata": {},
          "execution_count": 24
        }
      ]
    },
    {
      "cell_type": "code",
      "execution_count": null,
      "metadata": {
        "tags": [
          "hide-input"
        ],
        "outputId": "ae2b874e-b9d0-48e1-a96a-1f500ccc84bd",
        "colab": {
          "base_uri": "https://localhost:8080/",
          "height": 91
        },
        "id": "d1--xEeyZ8DS"
      },
      "outputs": [
        {
          "output_type": "execute_result",
          "data": {
            "text/plain": [
              "<schemdraw.schemdraw.Drawing at 0x7f9331e1a0d0>"
            ],
            "image/svg+xml": "<?xml version=\"1.0\" encoding=\"utf-8\" standalone=\"no\"?>\n<!DOCTYPE svg PUBLIC \"-//W3C//DTD SVG 1.1//EN\"\n  \"http://www.w3.org/Graphics/SVG/1.1/DTD/svg11.dtd\">\n<!-- Created with matplotlib (https://matplotlib.org/) -->\n<svg height=\"52.82pt\" version=\"1.1\" viewBox=\"0 0 141.9714 52.82\" width=\"141.9714pt\" xmlns=\"http://www.w3.org/2000/svg\" xmlns:xlink=\"http://www.w3.org/1999/xlink\">\n <defs>\n  <style type=\"text/css\">\n*{stroke-linecap:butt;stroke-linejoin:round;}\n  </style>\n </defs>\n <g id=\"figure_1\">\n  <g id=\"patch_1\">\n   <path d=\"M 0 52.82 \nL 141.9714 52.82 \nL 141.9714 0 \nL 0 0 \nz\n\" style=\"fill:#ffffff;\"/>\n  </g>\n  <g id=\"axes_1\">\n   <g id=\"patch_2\">\n    <path clip-path=\"url(#peb33e486b9)\" d=\"M 67.9818 30.932 \nC 68.955626 30.932 69.889697 30.545095 70.578296 29.856496 \nC 71.266895 29.167897 71.6538 28.233826 71.6538 27.26 \nC 71.6538 26.286174 71.266895 25.352103 70.578296 24.663504 \nC 69.889697 23.974905 68.955626 23.588 67.9818 23.588 \nC 67.007974 23.588 66.073903 23.974905 65.385304 24.663504 \nC 64.696705 25.352103 64.3098 26.286174 64.3098 27.26 \nC 64.3098 28.233826 64.696705 29.167897 65.385304 29.856496 \nC 66.073903 30.545095 67.007974 30.932 67.9818 30.932 \nz\n\" style=\"fill:none;stroke:#000000;stroke-linejoin:miter;stroke-width:2;\"/>\n   </g>\n   <g id=\"line2d_1\">\n    <path clip-path=\"url(#peb33e486b9)\" d=\"M 27.4368 27.26 \nL 44.4198 27.26 \nM 71.6538 27.26 \nL 88.6368 27.26 \n\" style=\"fill:none;stroke:#000000;stroke-linecap:round;stroke-width:2;\"/>\n   </g>\n   <g id=\"line2d_2\">\n    <path clip-path=\"url(#peb33e486b9)\" d=\"M 44.4198 11.96 \nL 64.3098 27.26 \nL 44.4198 42.56 \nL 44.4198 11.96 \n\" style=\"fill:none;stroke:#000000;stroke-linecap:round;stroke-width:2;\"/>\n   </g>\n   <g id=\"text_1\">\n    <g clip-path=\"url(#peb33e486b9)\">\n     <!-- $not A$ -->\n     <defs>\n      <path d=\"M 55.71875 33.015625 \nL 49.3125 0 \nL 40.28125 0 \nL 46.6875 32.671875 \nQ 47.125 34.96875 47.359375 36.71875 \nQ 47.609375 38.484375 47.609375 39.5 \nQ 47.609375 43.609375 45.015625 45.890625 \nQ 42.4375 48.1875 37.796875 48.1875 \nQ 30.5625 48.1875 25.34375 43.375 \nQ 20.125 38.578125 18.5 30.328125 \nL 12.5 0 \nL 3.515625 0 \nL 14.109375 54.6875 \nL 23.09375 54.6875 \nL 21.296875 46.09375 \nQ 25.046875 50.828125 30.3125 53.40625 \nQ 35.59375 56 41.40625 56 \nQ 48.640625 56 52.609375 52.09375 \nQ 56.59375 48.1875 56.59375 41.109375 \nQ 56.59375 39.359375 56.375 37.359375 \nQ 56.15625 35.359375 55.71875 33.015625 \nz\n\" id=\"DejaVuSans-Oblique-110\"/>\n      <path d=\"M 25.390625 -1.421875 \nQ 15.765625 -1.421875 10.171875 4.515625 \nQ 4.59375 10.453125 4.59375 20.703125 \nQ 4.59375 26.65625 6.515625 32.828125 \nQ 8.453125 39.015625 11.53125 43.21875 \nQ 16.359375 49.75 22.3125 52.875 \nQ 28.265625 56 35.796875 56 \nQ 45.125 56 50.859375 50.1875 \nQ 56.59375 44.390625 56.59375 35.015625 \nQ 56.59375 28.515625 54.6875 22.0625 \nQ 52.78125 15.625 49.703125 11.375 \nQ 44.921875 4.828125 38.96875 1.703125 \nQ 33.015625 -1.421875 25.390625 -1.421875 \nz\nM 13.921875 21 \nQ 13.921875 13.578125 17.015625 9.890625 \nQ 20.125 6.203125 26.421875 6.203125 \nQ 35.453125 6.203125 41.375 14.078125 \nQ 47.3125 21.96875 47.3125 34.078125 \nQ 47.3125 41.15625 44.140625 44.765625 \nQ 40.96875 48.390625 34.8125 48.390625 \nQ 29.734375 48.390625 25.78125 46.015625 \nQ 21.828125 43.65625 18.703125 38.8125 \nQ 16.40625 35.203125 15.15625 30.5625 \nQ 13.921875 25.921875 13.921875 21 \nz\n\" id=\"DejaVuSans-Oblique-111\"/>\n      <path d=\"M 42.28125 54.6875 \nL 40.921875 47.703125 \nL 23 47.703125 \nL 17.1875 18.015625 \nQ 16.890625 16.359375 16.75 15.234375 \nQ 16.609375 14.109375 16.609375 13.484375 \nQ 16.609375 10.359375 18.484375 8.9375 \nQ 20.359375 7.515625 24.515625 7.515625 \nL 33.59375 7.515625 \nL 32.078125 0 \nL 23.484375 0 \nQ 15.484375 0 11.546875 3.125 \nQ 7.625 6.25 7.625 12.59375 \nQ 7.625 13.71875 7.765625 15.0625 \nQ 7.90625 16.40625 8.203125 18.015625 \nL 14.015625 47.703125 \nL 6.390625 47.703125 \nL 7.8125 54.6875 \nL 15.28125 54.6875 \nL 18.3125 70.21875 \nL 27.296875 70.21875 \nL 24.3125 54.6875 \nz\n\" id=\"DejaVuSans-Oblique-116\"/>\n      <path d=\"M 36.8125 72.90625 \nL 48 72.90625 \nL 61.53125 0 \nL 51.21875 0 \nL 48.1875 18.703125 \nL 15.375 18.703125 \nL 5.078125 0 \nL -5.328125 0 \nz\nM 40.375 63.1875 \nL 19.921875 26.90625 \nL 46.6875 26.90625 \nz\n\" id=\"DejaVuSans-Oblique-65\"/>\n     </defs>\n     <g transform=\"translate(91.6968 30.709219)scale(0.125 -0.125)\">\n      <use transform=\"translate(0 0.09375)\" xlink:href=\"#DejaVuSans-Oblique-110\"/>\n      <use transform=\"translate(63.378906 0.09375)\" xlink:href=\"#DejaVuSans-Oblique-111\"/>\n      <use transform=\"translate(124.560547 0.09375)\" xlink:href=\"#DejaVuSans-Oblique-116\"/>\n      <use transform=\"translate(163.769531 0.09375)\" xlink:href=\"#DejaVuSans-Oblique-65\"/>\n     </g>\n    </g>\n   </g>\n   <g id=\"text_2\">\n    <g clip-path=\"url(#peb33e486b9)\">\n     <!-- $A$ -->\n     <g transform=\"translate(15.7518 30.709219)scale(0.125 -0.125)\">\n      <use transform=\"translate(0 0.09375)\" xlink:href=\"#DejaVuSans-Oblique-65\"/>\n     </g>\n    </g>\n   </g>\n  </g>\n </g>\n <defs>\n  <clipPath id=\"peb33e486b9\">\n   <rect height=\"38.42\" width=\"127.5714\" x=\"7.2\" y=\"7.2\"/>\n  </clipPath>\n </defs>\n</svg>\n",
            "image/png": "[encoded data removed]"
          },
          "metadata": {},
          "execution_count": 26
        }
      ],
      "source": [
        "# 入力＋出力\n",
        "\n",
        "logicparse('not $A$', outlabel='$notA$')"
      ]
    },
    {
      "cell_type": "code",
      "execution_count": null,
      "metadata": {
        "tags": [
          "hide-input"
        ],
        "outputId": "fd307ffe-3aa2-4dcf-fa04-255a82593442",
        "colab": {
          "base_uri": "https://localhost:8080/",
          "height": 109
        },
        "id": "m1I8ttiPoDPZ"
      },
      "outputs": [
        {
          "name": "stdout",
          "output_type": "stream",
          "text": [
            "a に1か0を入れる：0\n"
          ]
        },
        {
          "output_type": "execute_result",
          "data": {
            "text/plain": [
              "<schemdraw.backends.mpl.Figure object at 0x7fee496ffd90>"
            ],
            "image/svg+xml": "<?xml version=\"1.0\" encoding=\"utf-8\" standalone=\"no\"?>\n<!DOCTYPE svg PUBLIC \"-//W3C//DTD SVG 1.1//EN\"\n  \"http://www.w3.org/Graphics/SVG/1.1/DTD/svg11.dtd\">\n<!-- Created with matplotlib (https://matplotlib.org/) -->\n<svg height=\"52.82pt\" version=\"1.1\" viewBox=\"0 0 116.4 52.82\" width=\"116.4pt\" xmlns=\"http://www.w3.org/2000/svg\" xmlns:xlink=\"http://www.w3.org/1999/xlink\">\n <defs>\n  <style type=\"text/css\">\n*{stroke-linecap:butt;stroke-linejoin:round;}\n  </style>\n </defs>\n <g id=\"figure_1\">\n  <g id=\"patch_1\">\n   <path d=\"M 0 52.82 \nL 116.4 52.82 \nL 116.4 0 \nL 0 0 \nz\n\" style=\"fill:#ffffff;\"/>\n  </g>\n  <g id=\"axes_1\">\n   <g id=\"patch_2\">\n    <path clip-path=\"url(#p29c33d01de)\" d=\"M 65.085 30.932 \nC 66.058826 30.932 66.992897 30.545095 67.681496 29.856496 \nC 68.370095 29.167897 68.757 28.233826 68.757 27.26 \nC 68.757 26.286174 68.370095 25.352103 67.681496 24.663504 \nC 66.992897 23.974905 66.058826 23.588 65.085 23.588 \nC 64.111174 23.588 63.177103 23.974905 62.488504 24.663504 \nC 61.799905 25.352103 61.413 26.286174 61.413 27.26 \nC 61.413 28.233826 61.799905 29.167897 62.488504 29.856496 \nC 63.177103 30.545095 64.111174 30.932 65.085 30.932 \nz\n\" style=\"fill:none;stroke:#000000;stroke-linejoin:miter;stroke-width:2;\"/>\n   </g>\n   <g id=\"line2d_1\">\n    <path clip-path=\"url(#p29c33d01de)\" d=\"M 26.223 27.26 \nL 33.873 27.26 \nL 41.523 27.26 \n\" style=\"fill:none;stroke:#000000;stroke-linecap:round;stroke-width:2;\"/>\n   </g>\n   <g id=\"line2d_2\">\n    <path clip-path=\"url(#p29c33d01de)\" d=\"M 41.523 27.26 \nM 68.757 27.26 \n\" style=\"fill:none;stroke:#000000;stroke-linecap:round;stroke-width:2;\"/>\n   </g>\n   <g id=\"line2d_3\">\n    <path clip-path=\"url(#p29c33d01de)\" d=\"M 41.523 11.96 \nL 61.413 27.26 \nL 41.523 42.56 \nL 41.523 11.96 \n\" style=\"fill:none;stroke:#000000;stroke-linecap:round;stroke-width:2;\"/>\n   </g>\n   <g id=\"line2d_4\">\n    <path clip-path=\"url(#p29c33d01de)\" d=\"M 68.757 27.26 \nL 76.407 27.26 \nL 84.057 27.26 \n\" style=\"fill:none;stroke:#000000;stroke-linecap:round;stroke-width:2;\"/>\n   </g>\n   <g id=\"text_1\">\n    <g clip-path=\"url(#p29c33d01de)\">\n     <text style=\"font-family:DejaVu Sans;font-size:12.5px;font-style:normal;font-weight:normal;text-anchor:end;\" transform=\"rotate(-0, 23.163, 30.709219)\" x=\"23.163\" y=\"30.709219\">0</text>\n    </g>\n   </g>\n   <g id=\"text_2\">\n    <g clip-path=\"url(#p29c33d01de)\">\n     <text style=\"font-family:DejaVu Sans;font-size:12.5px;font-style:normal;font-weight:normal;text-anchor:start;\" transform=\"rotate(-0, 87.117, 30.709219)\" x=\"87.117\" y=\"30.709219\">1</text>\n    </g>\n   </g>\n  </g>\n </g>\n <defs>\n  <clipPath id=\"p29c33d01de\">\n   <rect height=\"38.42\" width=\"102\" x=\"7.2\" y=\"7.2\"/>\n  </clipPath>\n </defs>\n</svg>\n",
            "image/png": "[encoded data removed]"
          },
          "metadata": {},
          "execution_count": 52
        }
      ],
      "source": [
        "# inputして論理演算の結果を表示\n",
        "\n",
        "\n",
        "# NOT論理ゲート\n",
        "def NOT(a):\n",
        "  c = int(not a)\n",
        "  return c\n",
        "\n",
        "# aに1か0を入力\n",
        "a = int(input('a に1か0を入れる：'))\n",
        "\n",
        "# NOTの計算結果を表示\n",
        "c = NOT(a)\n",
        "\n",
        "d = Drawing(unit=0.5)\n",
        "d += logic.Line().label(str(a), 'left')\n",
        "d += logic.Not()\n",
        "d += logic.Line().label(str(c), 'right')\n",
        "\n",
        "d.draw()"
      ]
    },
    {
      "cell_type": "markdown",
      "source": [
        "SchemeDrawの図にMatplotlibでテキスト追加\n",
        "\n",
        "参考：[Customizing Elements](https://schemdraw.readthedocs.io/en/latest/usage/customizing.html#matplotlib-axis) "
      ],
      "metadata": {
        "id": "fmtU0bgKCPhy"
      }
    },
    {
      "cell_type": "code",
      "source": [
        "\n",
        "# NOT論理ゲート\n",
        "def NOT(a):\n",
        "  c = int(not a)\n",
        "  return c\n",
        "\n",
        "# aに1か0を入力\n",
        "a = int(input('a に1か0を入れる：'))\n",
        "\n",
        "# NOTの計算結果を表示\n",
        "c = NOT(a)\n",
        "\n",
        "# NOT記号と入力の表示\n",
        "d = Drawing(unit=0.5)\n",
        "d += logic.Line().label(str(a), 'left')\n",
        "d += logic.Not()\n",
        "d += logic.Line()\n",
        "\n",
        "# 出力の表示\n",
        "schemfig = d.draw()\n",
        "schemfig.ax.text(1.5, 0.1, c, size = 12, color = \"red\");\n",
        "display(schemfig)\n"
      ],
      "metadata": {
        "colab": {
          "base_uri": "https://localhost:8080/",
          "height": 109
        },
        "outputId": "35eb39a4-6846-4665-ca3c-41d4f4908f8c",
        "id": "2H11bc4-_MN1"
      },
      "execution_count": null,
      "outputs": [
        {
          "name": "stdout",
          "output_type": "stream",
          "text": [
            "a に1か0を入れる：0\n"
          ]
        },
        {
          "output_type": "display_data",
          "data": {
            "text/plain": [
              "<schemdraw.backends.mpl.Figure object at 0x7f85ad9d40d0>"
            ],
            "image/svg+xml": "<?xml version=\"1.0\" encoding=\"utf-8\" standalone=\"no\"?>\n<!DOCTYPE svg PUBLIC \"-//W3C//DTD SVG 1.1//EN\"\n  \"http://www.w3.org/Graphics/SVG/1.1/DTD/svg11.dtd\">\n<!-- Created with matplotlib (https://matplotlib.org/) -->\n<svg height=\"52.82pt\" version=\"1.1\" viewBox=\"0 0 94.317 52.82\" width=\"94.317pt\" xmlns=\"http://www.w3.org/2000/svg\" xmlns:xlink=\"http://www.w3.org/1999/xlink\">\n <defs>\n  <style type=\"text/css\">\n*{stroke-linecap:butt;stroke-linejoin:round;}\n  </style>\n </defs>\n <g id=\"figure_1\">\n  <g id=\"patch_1\">\n   <path d=\"M 0 52.82 \nL 94.317 52.82 \nL 94.317 0 \nL 0 0 \nz\n\" style=\"fill:#ffffff;\"/>\n  </g>\n  <g id=\"axes_1\">\n   <g id=\"patch_2\">\n    <path clip-path=\"url(#pc993d1fce5)\" d=\"M 65.085 30.932 \nC 66.058826 30.932 66.992897 30.545095 67.681496 29.856496 \nC 68.370095 29.167897 68.757 28.233826 68.757 27.26 \nC 68.757 26.286174 68.370095 25.352103 67.681496 24.663504 \nC 66.992897 23.974905 66.058826 23.588 65.085 23.588 \nC 64.111174 23.588 63.177103 23.974905 62.488504 24.663504 \nC 61.799905 25.352103 61.413 26.286174 61.413 27.26 \nC 61.413 28.233826 61.799905 29.167897 62.488504 29.856496 \nC 63.177103 30.545095 64.111174 30.932 65.085 30.932 \nz\n\" style=\"fill:none;stroke:#000000;stroke-linejoin:miter;stroke-width:2;\"/>\n   </g>\n   <g id=\"line2d_1\">\n    <path clip-path=\"url(#pc993d1fce5)\" d=\"M 26.223 27.26 \nL 33.873 27.26 \nL 41.523 27.26 \n\" style=\"fill:none;stroke:#000000;stroke-linecap:round;stroke-width:2;\"/>\n   </g>\n   <g id=\"line2d_2\">\n    <path clip-path=\"url(#pc993d1fce5)\" d=\"M 41.523 27.26 \nM 68.757 27.26 \n\" style=\"fill:none;stroke:#000000;stroke-linecap:round;stroke-width:2;\"/>\n   </g>\n   <g id=\"line2d_3\">\n    <path clip-path=\"url(#pc993d1fce5)\" d=\"M 41.523 11.96 \nL 61.413 27.26 \nL 41.523 42.56 \nL 41.523 11.96 \n\" style=\"fill:none;stroke:#000000;stroke-linecap:round;stroke-width:2;\"/>\n   </g>\n   <g id=\"line2d_4\">\n    <path clip-path=\"url(#pc993d1fce5)\" d=\"M 68.757 27.26 \nL 76.407 27.26 \nL 84.057 27.26 \n\" style=\"fill:none;stroke:#000000;stroke-linecap:round;stroke-width:2;\"/>\n   </g>\n   <g id=\"text_1\">\n    <g clip-path=\"url(#pc993d1fce5)\">\n     <!-- 0 -->\n     <defs>\n      <path d=\"M 31.78125 66.40625 \nQ 24.171875 66.40625 20.328125 58.90625 \nQ 16.5 51.421875 16.5 36.375 \nQ 16.5 21.390625 20.328125 13.890625 \nQ 24.171875 6.390625 31.78125 6.390625 \nQ 39.453125 6.390625 43.28125 13.890625 \nQ 47.125 21.390625 47.125 36.375 \nQ 47.125 51.421875 43.28125 58.90625 \nQ 39.453125 66.40625 31.78125 66.40625 \nz\nM 31.78125 74.21875 \nQ 44.046875 74.21875 50.515625 64.515625 \nQ 56.984375 54.828125 56.984375 36.375 \nQ 56.984375 17.96875 50.515625 8.265625 \nQ 44.046875 -1.421875 31.78125 -1.421875 \nQ 19.53125 -1.421875 13.0625 8.265625 \nQ 6.59375 17.96875 6.59375 36.375 \nQ 6.59375 54.828125 13.0625 64.515625 \nQ 19.53125 74.21875 31.78125 74.21875 \nz\n\" id=\"DejaVuSans-48\"/>\n     </defs>\n     <g transform=\"translate(15.209875 30.709219)scale(0.125 -0.125)\">\n      <use xlink:href=\"#DejaVuSans-48\"/>\n     </g>\n    </g>\n   </g>\n   <g id=\"text_2\">\n    <!-- 1 -->\n    <defs>\n     <path d=\"M 12.40625 8.296875 \nL 28.515625 8.296875 \nL 28.515625 63.921875 \nL 10.984375 60.40625 \nL 10.984375 69.390625 \nL 28.421875 72.90625 \nL 38.28125 72.90625 \nL 38.28125 8.296875 \nL 54.390625 8.296875 \nL 54.390625 0 \nL 12.40625 0 \nz\n\" id=\"DejaVuSans-49\"/>\n    </defs>\n    <g style=\"fill:#ff0000;\" transform=\"translate(72.123 24.2)scale(0.12 -0.12)\">\n     <use xlink:href=\"#DejaVuSans-49\"/>\n    </g>\n   </g>\n  </g>\n </g>\n <defs>\n  <clipPath id=\"pc993d1fce5\">\n   <rect height=\"38.42\" width=\"79.917\" x=\"7.2\" y=\"7.2\"/>\n  </clipPath>\n </defs>\n</svg>\n",
            "image/png": "[encoded data removed]"
          },
          "metadata": {}
        }
      ]
    },
    {
      "cell_type": "markdown",
      "source": [
        "# ★ AND"
      ],
      "metadata": {
        "id": "UCZKtbrawD1f"
      }
    },
    {
      "cell_type": "markdown",
      "metadata": {
        "id": "I0vbP38S08mD"
      },
      "source": [
        "**論理積の真理値表**\n",
        "\n",
        "| A | B | A and B  |\n",
        "| :---: |:-----:|:---:|\n",
        "| 0 | 0 | 0 |\n",
        "| 0 | 1 | 0 |\n",
        "| 1 | 0 | 0 |\n",
        "| 1 | 1 | 1 |\n",
        "\n"
      ]
    },
    {
      "cell_type": "markdown",
      "source": [
        "SchemDrawで真理値表\n",
        "\n",
        "(SchemDrawの準備必要) ([SchemDraw](#SchemDraw-id))"
      ],
      "metadata": {
        "id": "VqMOUJ9y-S1o"
      }
    },
    {
      "cell_type": "code",
      "source": [
        "table = '''\n",
        " A | B | A and B\n",
        "---|---|---\n",
        " 0 | 0 | 0\n",
        " 0 | 1 | 0\n",
        " 1 | 0 | 0\n",
        " 1 | 1 | 1\n",
        "'''\n",
        "logic.Table(table, colfmt='c|c||c')"
      ],
      "metadata": {
        "colab": {
          "base_uri": "https://localhost:8080/",
          "height": 176
        },
        "outputId": "0b3234d5-8c1b-47e2-f704-88f4d85dad64",
        "id": "pXTfaloY-TMp"
      },
      "execution_count": null,
      "outputs": [
        {
          "output_type": "execute_result",
          "data": {
            "text/plain": [
              "<schemdraw.logic.table.Table at 0x7f9331e1a700>"
            ],
            "image/svg+xml": "<?xml version=\"1.0\" encoding=\"utf-8\" standalone=\"no\"?>\n<!DOCTYPE svg PUBLIC \"-//W3C//DTD SVG 1.1//EN\"\n  \"http://www.w3.org/Graphics/SVG/1.1/DTD/svg11.dtd\">\n<!-- Created with matplotlib (https://matplotlib.org/) -->\n<svg height=\"116.4pt\" version=\"1.1\" viewBox=\"0 0 112.7484 116.4\" width=\"112.7484pt\" xmlns=\"http://www.w3.org/2000/svg\" xmlns:xlink=\"http://www.w3.org/1999/xlink\">\n <defs>\n  <style type=\"text/css\">\n*{stroke-linecap:butt;stroke-linejoin:round;}\n  </style>\n </defs>\n <g id=\"figure_1\">\n  <g id=\"patch_1\">\n   <path d=\"M 0 116.4 \nL 112.7484 116.4 \nL 112.7484 0 \nL 0 0 \nz\n\" style=\"fill:#ffffff;\"/>\n  </g>\n  <g id=\"axes_1\">\n   <g id=\"line2d_1\">\n    <path clip-path=\"url(#pf5015cb1bb)\" d=\"M 29.3544 13.32 \nL 29.3544 100.02 \n\" style=\"fill:none;stroke:#000000;stroke-linecap:round;\"/>\n   </g>\n   <g id=\"line2d_2\">\n    <path clip-path=\"url(#pf5015cb1bb)\" d=\"M 47.5308 13.32 \nL 47.5308 100.02 \n\" style=\"fill:none;stroke:#000000;stroke-linecap:round;\"/>\n   </g>\n   <g id=\"line2d_3\">\n    <path clip-path=\"url(#pf5015cb1bb)\" d=\"M 49.3668 13.32 \nL 49.3668 100.02 \n\" style=\"fill:none;stroke:#000000;stroke-linecap:round;\"/>\n   </g>\n   <g id=\"line2d_4\">\n    <path clip-path=\"url(#pf5015cb1bb)\" d=\"M 10.26 30.66 \nL 96.3684 30.66 \n\" style=\"fill:none;stroke:#000000;stroke-linecap:round;\"/>\n   </g>\n   <g id=\"text_1\">\n    <g clip-path=\"url(#pf5015cb1bb)\">\n     <!-- A -->\n     <defs>\n      <path d=\"M 34.1875 63.1875 \nL 20.796875 26.90625 \nL 47.609375 26.90625 \nz\nM 28.609375 72.90625 \nL 39.796875 72.90625 \nL 67.578125 0 \nL 57.328125 0 \nL 50.6875 18.703125 \nL 17.828125 18.703125 \nL 11.1875 0 \nL 0.78125 0 \nz\n\" id=\"DejaVuSans-65\"/>\n     </defs>\n     <g transform=\"translate(16.215872 28.476328)scale(0.105 -0.105)\">\n      <use xlink:href=\"#DejaVuSans-65\"/>\n     </g>\n    </g>\n   </g>\n   <g id=\"text_2\">\n    <g clip-path=\"url(#pf5015cb1bb)\">\n     <!-- B -->\n     <defs>\n      <path d=\"M 19.671875 34.8125 \nL 19.671875 8.109375 \nL 35.5 8.109375 \nQ 43.453125 8.109375 47.28125 11.40625 \nQ 51.125 14.703125 51.125 21.484375 \nQ 51.125 28.328125 47.28125 31.5625 \nQ 43.453125 34.8125 35.5 34.8125 \nz\nM 19.671875 64.796875 \nL 19.671875 42.828125 \nL 34.28125 42.828125 \nQ 41.5 42.828125 45.03125 45.53125 \nQ 48.578125 48.25 48.578125 53.8125 \nQ 48.578125 59.328125 45.03125 62.0625 \nQ 41.5 64.796875 34.28125 64.796875 \nz\nM 9.8125 72.90625 \nL 35.015625 72.90625 \nQ 46.296875 72.90625 52.390625 68.21875 \nQ 58.5 63.53125 58.5 54.890625 \nQ 58.5 48.1875 55.375 44.234375 \nQ 52.25 40.28125 46.1875 39.3125 \nQ 53.46875 37.75 57.5 32.78125 \nQ 61.53125 27.828125 61.53125 20.40625 \nQ 61.53125 10.640625 54.890625 5.3125 \nQ 48.25 0 35.984375 0 \nL 9.8125 0 \nz\n\" id=\"DejaVuSans-66\"/>\n     </defs>\n     <g transform=\"translate(35.299608 28.476328)scale(0.105 -0.105)\">\n      <use xlink:href=\"#DejaVuSans-66\"/>\n     </g>\n    </g>\n   </g>\n   <g id=\"text_3\">\n    <g clip-path=\"url(#pf5015cb1bb)\">\n     <!-- A and B -->\n     <defs>\n      <path id=\"DejaVuSans-32\"/>\n      <path d=\"M 34.28125 27.484375 \nQ 23.390625 27.484375 19.1875 25 \nQ 14.984375 22.515625 14.984375 16.5 \nQ 14.984375 11.71875 18.140625 8.90625 \nQ 21.296875 6.109375 26.703125 6.109375 \nQ 34.1875 6.109375 38.703125 11.40625 \nQ 43.21875 16.703125 43.21875 25.484375 \nL 43.21875 27.484375 \nz\nM 52.203125 31.203125 \nL 52.203125 0 \nL 43.21875 0 \nL 43.21875 8.296875 \nQ 40.140625 3.328125 35.546875 0.953125 \nQ 30.953125 -1.421875 24.3125 -1.421875 \nQ 15.921875 -1.421875 10.953125 3.296875 \nQ 6 8.015625 6 15.921875 \nQ 6 25.140625 12.171875 29.828125 \nQ 18.359375 34.515625 30.609375 34.515625 \nL 43.21875 34.515625 \nL 43.21875 35.40625 \nQ 43.21875 41.609375 39.140625 45 \nQ 35.0625 48.390625 27.6875 48.390625 \nQ 23 48.390625 18.546875 47.265625 \nQ 14.109375 46.140625 10.015625 43.890625 \nL 10.015625 52.203125 \nQ 14.9375 54.109375 19.578125 55.046875 \nQ 24.21875 56 28.609375 56 \nQ 40.484375 56 46.34375 49.84375 \nQ 52.203125 43.703125 52.203125 31.203125 \nz\n\" id=\"DejaVuSans-97\"/>\n      <path d=\"M 54.890625 33.015625 \nL 54.890625 0 \nL 45.90625 0 \nL 45.90625 32.71875 \nQ 45.90625 40.484375 42.875 44.328125 \nQ 39.84375 48.1875 33.796875 48.1875 \nQ 26.515625 48.1875 22.3125 43.546875 \nQ 18.109375 38.921875 18.109375 30.90625 \nL 18.109375 0 \nL 9.078125 0 \nL 9.078125 54.6875 \nL 18.109375 54.6875 \nL 18.109375 46.1875 \nQ 21.34375 51.125 25.703125 53.5625 \nQ 30.078125 56 35.796875 56 \nQ 45.21875 56 50.046875 50.171875 \nQ 54.890625 44.34375 54.890625 33.015625 \nz\n\" id=\"DejaVuSans-110\"/>\n      <path d=\"M 45.40625 46.390625 \nL 45.40625 75.984375 \nL 54.390625 75.984375 \nL 54.390625 0 \nL 45.40625 0 \nL 45.40625 8.203125 \nQ 42.578125 3.328125 38.25 0.953125 \nQ 33.9375 -1.421875 27.875 -1.421875 \nQ 17.96875 -1.421875 11.734375 6.484375 \nQ 5.515625 14.40625 5.515625 27.296875 \nQ 5.515625 40.1875 11.734375 48.09375 \nQ 17.96875 56 27.875 56 \nQ 33.9375 56 38.25 53.625 \nQ 42.578125 51.265625 45.40625 46.390625 \nz\nM 14.796875 27.296875 \nQ 14.796875 17.390625 18.875 11.75 \nQ 22.953125 6.109375 30.078125 6.109375 \nQ 37.203125 6.109375 41.296875 11.75 \nQ 45.40625 17.390625 45.40625 27.296875 \nQ 45.40625 37.203125 41.296875 42.84375 \nQ 37.203125 48.484375 30.078125 48.484375 \nQ 22.953125 48.484375 18.875 42.84375 \nQ 14.796875 37.203125 14.796875 27.296875 \nz\n\" id=\"DejaVuSans-100\"/>\n     </defs>\n     <g transform=\"translate(52.000866 28.476328)scale(0.105 -0.105)\">\n      <use xlink:href=\"#DejaVuSans-65\"/>\n      <use x=\"68.408203\" xlink:href=\"#DejaVuSans-32\"/>\n      <use x=\"100.195312\" xlink:href=\"#DejaVuSans-97\"/>\n      <use x=\"161.474609\" xlink:href=\"#DejaVuSans-110\"/>\n      <use x=\"224.853516\" xlink:href=\"#DejaVuSans-100\"/>\n      <use x=\"288.330078\" xlink:href=\"#DejaVuSans-32\"/>\n      <use x=\"320.117188\" xlink:href=\"#DejaVuSans-66\"/>\n     </g>\n    </g>\n   </g>\n   <g id=\"text_4\">\n    <g clip-path=\"url(#pf5015cb1bb)\">\n     <!-- 0 -->\n     <defs>\n      <path d=\"M 31.78125 66.40625 \nQ 24.171875 66.40625 20.328125 58.90625 \nQ 16.5 51.421875 16.5 36.375 \nQ 16.5 21.390625 20.328125 13.890625 \nQ 24.171875 6.390625 31.78125 6.390625 \nQ 39.453125 6.390625 43.28125 13.890625 \nQ 47.125 21.390625 47.125 36.375 \nQ 47.125 51.421875 43.28125 58.90625 \nQ 39.453125 66.40625 31.78125 66.40625 \nz\nM 31.78125 74.21875 \nQ 44.046875 74.21875 50.515625 64.515625 \nQ 56.984375 54.828125 56.984375 36.375 \nQ 56.984375 17.96875 50.515625 8.265625 \nQ 44.046875 -1.421875 31.78125 -1.421875 \nQ 19.53125 -1.421875 13.0625 8.265625 \nQ 6.59375 17.96875 6.59375 36.375 \nQ 6.59375 54.828125 13.0625 64.515625 \nQ 19.53125 74.21875 31.78125 74.21875 \nz\n\" id=\"DejaVuSans-48\"/>\n     </defs>\n     <g transform=\"translate(16.466888 45.816328)scale(0.105 -0.105)\">\n      <use xlink:href=\"#DejaVuSans-48\"/>\n     </g>\n    </g>\n   </g>\n   <g id=\"text_5\">\n    <g clip-path=\"url(#pf5015cb1bb)\">\n     <!-- 0 -->\n     <g transform=\"translate(35.561287 45.816328)scale(0.105 -0.105)\">\n      <use xlink:href=\"#DejaVuSans-48\"/>\n     </g>\n    </g>\n   </g>\n   <g id=\"text_6\">\n    <g clip-path=\"url(#pf5015cb1bb)\">\n     <!-- 0 -->\n     <g transform=\"translate(69.068287 45.816328)scale(0.105 -0.105)\">\n      <use xlink:href=\"#DejaVuSans-48\"/>\n     </g>\n    </g>\n   </g>\n   <g id=\"text_7\">\n    <g clip-path=\"url(#pf5015cb1bb)\">\n     <!-- 0 -->\n     <g transform=\"translate(16.466888 63.156328)scale(0.105 -0.105)\">\n      <use xlink:href=\"#DejaVuSans-48\"/>\n     </g>\n    </g>\n   </g>\n   <g id=\"text_8\">\n    <g clip-path=\"url(#pf5015cb1bb)\">\n     <!-- 1 -->\n     <defs>\n      <path d=\"M 12.40625 8.296875 \nL 28.515625 8.296875 \nL 28.515625 63.921875 \nL 10.984375 60.40625 \nL 10.984375 69.390625 \nL 28.421875 72.90625 \nL 38.28125 72.90625 \nL 38.28125 8.296875 \nL 54.390625 8.296875 \nL 54.390625 0 \nL 12.40625 0 \nz\n\" id=\"DejaVuSans-49\"/>\n     </defs>\n     <g transform=\"translate(35.561287 63.156328)scale(0.105 -0.105)\">\n      <use xlink:href=\"#DejaVuSans-49\"/>\n     </g>\n    </g>\n   </g>\n   <g id=\"text_9\">\n    <g clip-path=\"url(#pf5015cb1bb)\">\n     <!-- 0 -->\n     <g transform=\"translate(69.068287 63.156328)scale(0.105 -0.105)\">\n      <use xlink:href=\"#DejaVuSans-48\"/>\n     </g>\n    </g>\n   </g>\n   <g id=\"text_10\">\n    <g clip-path=\"url(#pf5015cb1bb)\">\n     <!-- 1 -->\n     <g transform=\"translate(16.466888 80.496328)scale(0.105 -0.105)\">\n      <use xlink:href=\"#DejaVuSans-49\"/>\n     </g>\n    </g>\n   </g>\n   <g id=\"text_11\">\n    <g clip-path=\"url(#pf5015cb1bb)\">\n     <!-- 0 -->\n     <g transform=\"translate(35.561287 80.496328)scale(0.105 -0.105)\">\n      <use xlink:href=\"#DejaVuSans-48\"/>\n     </g>\n    </g>\n   </g>\n   <g id=\"text_12\">\n    <g clip-path=\"url(#pf5015cb1bb)\">\n     <!-- 0 -->\n     <g transform=\"translate(69.068287 80.496328)scale(0.105 -0.105)\">\n      <use xlink:href=\"#DejaVuSans-48\"/>\n     </g>\n    </g>\n   </g>\n   <g id=\"text_13\">\n    <g clip-path=\"url(#pf5015cb1bb)\">\n     <!-- 1 -->\n     <g transform=\"translate(16.466888 97.836328)scale(0.105 -0.105)\">\n      <use xlink:href=\"#DejaVuSans-49\"/>\n     </g>\n    </g>\n   </g>\n   <g id=\"text_14\">\n    <g clip-path=\"url(#pf5015cb1bb)\">\n     <!-- 1 -->\n     <g transform=\"translate(35.561287 97.836328)scale(0.105 -0.105)\">\n      <use xlink:href=\"#DejaVuSans-49\"/>\n     </g>\n    </g>\n   </g>\n   <g id=\"text_15\">\n    <g clip-path=\"url(#pf5015cb1bb)\">\n     <!-- 1 -->\n     <g transform=\"translate(69.068287 97.836328)scale(0.105 -0.105)\">\n      <use xlink:href=\"#DejaVuSans-49\"/>\n     </g>\n    </g>\n   </g>\n  </g>\n </g>\n <defs>\n  <clipPath id=\"pf5015cb1bb\">\n   <rect height=\"102\" width=\"98.3484\" x=\"7.2\" y=\"7.2\"/>\n  </clipPath>\n </defs>\n</svg>\n",
            "image/png": "[encoded data removed]"
          },
          "metadata": {},
          "execution_count": 9
        }
      ]
    },
    {
      "cell_type": "markdown",
      "source": [
        "pyplotのtableメソッド(関数)を利用して真理値表をPythonで作成"
      ],
      "metadata": {
        "id": "nMAsaz2hTYJh"
      }
    },
    {
      "cell_type": "code",
      "source": [
        "\n",
        "import numpy as np\n",
        "import matplotlib.pyplot as plt\n",
        " \n",
        "# Axesオブジェクト生成\n",
        "fig, ax = plt.subplots(figsize=(6,4))\n",
        "\n",
        "# x，y軸の目盛り設定\n",
        "xticks = np.arange(0,5,1)\n",
        "yticks = np.arange(0,4,1)\n",
        "ax.set_xticks(xticks)\n",
        "ax.set_yticks(yticks)\n",
        "\n",
        "# ANDゲート\n",
        "def AND(a, b):\n",
        "  c = int(a and b)\n",
        "  return c\n",
        "\n",
        "and_00 = AND(0,0)\n",
        "and_01 = AND(0,1)\n",
        "and_10 = AND(1,0)\n",
        "and_11 = AND(1,1)\n",
        "\n",
        "# 真理値表作成\n",
        "column_labels=[\"A\", \"B\", \"A and B\"]\n",
        "\n",
        "data=[[0,0,and_00],\n",
        "     [1,0,and_10],\n",
        "     [0,1,and_01],\n",
        "     [1,1,and_11]]\n",
        "\n",
        "plt.table(cellText = data,\n",
        "        colLabels = column_labels,\n",
        "        cellLoc = 'center',\n",
        "        colWidths=[0.1,0.1,0.2],\n",
        "        loc='center'\n",
        "        )\n",
        "\n",
        "# コメント挿入\n",
        "ax.text(2, 2.5, 'A * B と同じ結果', size= 10, color = 'black', \n",
        "        ha='center', va='center')\n",
        "\n",
        "\n",
        "# 軸を消す\n",
        "ax.axis('off')\n",
        "\n",
        "plt.show()\n"
      ],
      "metadata": {
        "colab": {
          "base_uri": "https://localhost:8080/",
          "height": 248
        },
        "outputId": "01405a9d-8905-4d6d-a6a5-83bcfa015a83",
        "id": "jTibnnKUEK7B"
      },
      "execution_count": null,
      "outputs": [
        {
          "output_type": "display_data",
          "data": {
            "text/plain": [
              "<Figure size 432x288 with 1 Axes>"
            ],
            "image/png": "[encoded data removed]"
          },
          "metadata": {
            "needs_background": "light"
          }
        }
      ]
    },
    {
      "cell_type": "markdown",
      "source": [
        "**MIL_AND記号作成**\n",
        "\n",
        "matplotlibのpatchesを使う\n",
        "\n",
        "patchesのPolygonとArcでMIL記号を作成\n",
        "\n",
        "MIL記号の左下の座標を(p, q)として他の頂点をp,qで表す\n",
        "\n",
        "端子は2点を決めて線分をplot\n"
      ],
      "metadata": {
        "id": "bpRO5SY4jjnn"
      }
    },
    {
      "cell_type": "markdown",
      "source": [
        "**ANDゲート**\n",
        "\n",
        "Pythonの論理演算子 `and` を利用\n",
        "\n",
        "結果を整数にするために `int()` を使用"
      ],
      "metadata": {
        "id": "tqSDFFMwjy-F"
      }
    },
    {
      "cell_type": "code",
      "source": [
        "\n",
        "import numpy as np\n",
        "import matplotlib.pyplot as plt\n",
        "from matplotlib import patches\n",
        " \n",
        "# Axesオブジェクト生成\n",
        "fig, ax = plt.subplots(figsize=(6,6))\n",
        "\n",
        "# x，y軸の目盛り設定\n",
        "xticks = np.arange(0,10,1)\n",
        "yticks = np.arange(0,10,1)\n",
        "ax.set_xticks(xticks)\n",
        "ax.set_yticks(yticks)\n",
        "\n",
        " #軸の最大値・最小値を設定\n",
        "ax.set_xlim(0, 10)\n",
        "ax.set_ylim(0, 10)\n",
        "\n",
        "# グリッド設定\n",
        "ax.grid()\n",
        "\n",
        "# ANDゲートのMIL記号作成\n",
        "def MIL_AND(p, q):\n",
        "  # MIL記号\n",
        "  xy = [(p+3,q), (p, q), (p,q+4), (p+3,q+4)]\n",
        "  Pol = patches.Polygon(xy, facecolor='w', edgecolor='b', linewidth=\"2\", closed=False) \n",
        "  Arc = patches.Arc(xy=(p+3,q+2), width=4, height=4, \n",
        "                    angle=180, theta1=90, theta2=270, linewidth=\"2\")\n",
        "  ax.add_patch(Pol)\n",
        "  ax.add_patch(Arc)\n",
        "  # 端子\n",
        "  ax.plot([p-0.5, p], [q+1, q+1], color = 'black', linewidth=\"2\")\n",
        "  ax.plot([p-0.5, p], [q+3, q+3], color = 'black', linewidth=\"2\")\n",
        "  ax.plot([p+5, p+5.5], [q+2, q+2], color = 'black', linewidth=\"2\")\n",
        "\n",
        "# AND論理ゲート\n",
        "def AND(a, b):\n",
        "  c = int(a and b)\n",
        "  return c\n",
        "\n",
        "# ANDのMIL記号の配置\n",
        "MIL_AND(2, 3)\n",
        "\n",
        "# a, bに0か１を入れる\n",
        "a,b=(int(x) for x in input('a b にそれぞれ1か0を入れる：').split())\n",
        "ax.text(0.5,6, a, size= 15, color = 'black', \n",
        "        horizontalalignment='center', verticalalignment='center')  #略：ha='center',va='center'\n",
        "ax.text(0.5,4, b, size= 15, color = 'black', \n",
        "        horizontalalignment='center', verticalalignment='center')\n",
        "\n",
        "# ANDの計算結果を表示\n",
        "c = AND(a,b)\n",
        "ax.text(7.5, 5.2, c, size = 15, color = \"red\")\n",
        "\n",
        "plt.show()\n"
      ],
      "metadata": {
        "colab": {
          "base_uri": "https://localhost:8080/",
          "height": 392
        },
        "outputId": "4f685af7-e105-4900-b3dc-6eb2bdc1330a",
        "id": "9trOChwJjcFQ"
      },
      "execution_count": null,
      "outputs": [
        {
          "name": "stdout",
          "output_type": "stream",
          "text": [
            "a b にそれぞれ1か0を入れる：1 1\n"
          ]
        },
        {
          "output_type": "display_data",
          "data": {
            "text/plain": [
              "<Figure size 432x432 with 1 Axes>"
            ],
            "image/png": "[encoded data removed]"
          },
          "metadata": {
            "needs_background": "light"
          }
        }
      ]
    },
    {
      "cell_type": "markdown",
      "source": [
        "SchemDrawで論理ゲート作成"
      ],
      "metadata": {
        "id": "9S7EWR7YcMDL"
      }
    },
    {
      "cell_type": "code",
      "source": [
        "# 記号だけ\n",
        "\n",
        "logic.And()"
      ],
      "metadata": {
        "colab": {
          "base_uri": "https://localhost:8080/",
          "height": 89
        },
        "outputId": "2d7b5595-6236-4952-8e98-0635354a615b",
        "id": "YwRZg7YxceY6"
      },
      "execution_count": null,
      "outputs": [
        {
          "output_type": "execute_result",
          "data": {
            "text/plain": [
              "<schemdraw.logic.logic.And at 0x7f9331f3f130>"
            ],
            "image/svg+xml": "<?xml version=\"1.0\" encoding=\"utf-8\" standalone=\"no\"?>\n<!DOCTYPE svg PUBLIC \"-//W3C//DTD SVG 1.1//EN\"\n  \"http://www.w3.org/Graphics/SVG/1.1/DTD/svg11.dtd\">\n<!-- Created with matplotlib (https://matplotlib.org/) -->\n<svg height=\"51.12pt\" version=\"1.1\" viewBox=\"0 0 77.13 51.12\" width=\"77.13pt\" xmlns=\"http://www.w3.org/2000/svg\" xmlns:xlink=\"http://www.w3.org/1999/xlink\">\n <defs>\n  <style type=\"text/css\">\n*{stroke-linecap:butt;stroke-linejoin:round;}\n  </style>\n </defs>\n <g id=\"figure_1\">\n  <g id=\"patch_1\">\n   <path d=\"M 0 51.12 \nL 77.13 51.12 \nL 77.13 0 \nL 0 0 \nz\n\" style=\"fill:#ffffff;\"/>\n  </g>\n  <g id=\"axes_1\">\n   <g id=\"line2d_1\">\n    <path clip-path=\"url(#pf4b9fa2694)\" d=\"M 40.86 40.86 \nL 41.840274 40.828565 \nL 42.816521 40.734387 \nL 43.784727 40.577855 \nL 44.740915 40.359611 \nL 45.681156 40.080553 \nL 46.601585 39.741826 \nL 47.498421 39.344824 \nL 48.367979 38.891176 \nL 49.206684 38.382748 \nL 50.011091 37.821628 \nL 50.777894 37.210123 \nL 51.503943 36.550745 \nL 52.186253 35.846204 \nL 52.822022 35.099394 \nL 53.408635 34.313385 \nL 53.943684 33.491406 \nL 54.424969 32.636836 \nL 54.850513 31.753185 \nL 55.218567 30.844085 \nL 55.527618 29.913272 \nL 55.776397 28.96457 \nL 55.963881 28.001878 \nL 56.0893 27.029152 \nL 56.152139 26.050389 \nL 56.152139 25.069611 \nL 56.0893 24.090848 \nL 55.963881 23.118122 \nL 55.776397 22.15543 \nL 55.527618 21.206728 \nL 55.218567 20.275915 \nL 54.850513 19.366815 \nL 54.424969 18.483164 \nL 53.943684 17.628594 \nL 53.408635 16.806615 \nL 52.822022 16.020606 \nL 52.186253 15.273796 \nL 51.503943 14.569255 \nL 50.777894 13.909877 \nL 50.011091 13.298372 \nL 49.206684 12.737252 \nL 48.367979 12.228824 \nL 47.498421 11.775176 \nL 46.601585 11.378174 \nL 45.681156 11.039447 \nL 44.740915 10.760389 \nL 43.784727 10.542145 \nL 42.816521 10.385613 \nL 41.840274 10.291435 \nL 40.86 10.26 \nL 40.86 10.26 \nL 20.97 10.26 \nL 20.97 25.56 \nL 20.97 40.86 \nL 40.86 40.86 \n\" style=\"fill:none;stroke:#000000;stroke-linecap:round;stroke-width:2;\"/>\n   </g>\n   <g id=\"line2d_2\">\n    <path clip-path=\"url(#pf4b9fa2694)\" d=\"M 10.26 33.21 \nL 20.97 33.21 \n\" style=\"fill:none;stroke:#000000;stroke-linecap:round;stroke-width:2;\"/>\n   </g>\n   <g id=\"line2d_3\">\n    <path clip-path=\"url(#pf4b9fa2694)\" d=\"M 10.26 17.91 \nL 20.97 17.91 \n\" style=\"fill:none;stroke:#000000;stroke-linecap:round;stroke-width:2;\"/>\n   </g>\n   <g id=\"line2d_4\">\n    <path clip-path=\"url(#pf4b9fa2694)\" d=\"M 56.16 25.56 \nL 66.87 25.56 \n\" style=\"fill:none;stroke:#000000;stroke-linecap:round;stroke-width:2;\"/>\n   </g>\n  </g>\n </g>\n <defs>\n  <clipPath id=\"pf4b9fa2694\">\n   <rect height=\"36.72\" width=\"62.73\" x=\"7.2\" y=\"7.2\"/>\n  </clipPath>\n </defs>\n</svg>\n",
            "image/png": "[encoded data removed]"
          },
          "metadata": {},
          "execution_count": 28
        }
      ]
    },
    {
      "cell_type": "code",
      "execution_count": null,
      "metadata": {
        "tags": [
          "hide-input"
        ],
        "outputId": "6326845e-38d6-48b8-8f1f-c5a44257ce7a",
        "colab": {
          "base_uri": "https://localhost:8080/",
          "height": 106
        },
        "id": "oub4QQvUcYg2"
      },
      "outputs": [
        {
          "output_type": "execute_result",
          "data": {
            "text/plain": [
              "<schemdraw.schemdraw.Drawing at 0x7f9331d75f70>"
            ],
            "image/svg+xml": "<?xml version=\"1.0\" encoding=\"utf-8\" standalone=\"no\"?>\n<!DOCTYPE svg PUBLIC \"-//W3C//DTD SVG 1.1//EN\"\n  \"http://www.w3.org/Graphics/SVG/1.1/DTD/svg11.dtd\">\n<!-- Created with matplotlib (https://matplotlib.org/) -->\n<svg height=\"63.7pt\" version=\"1.1\" viewBox=\"0 0 151.233 63.7\" width=\"151.233pt\" xmlns=\"http://www.w3.org/2000/svg\" xmlns:xlink=\"http://www.w3.org/1999/xlink\">\n <defs>\n  <style type=\"text/css\">\n*{stroke-linecap:butt;stroke-linejoin:round;}\n  </style>\n </defs>\n <g id=\"figure_1\">\n  <g id=\"patch_1\">\n   <path d=\"M 0 63.7 \nL 151.233 63.7 \nL 151.233 0 \nL 0 0 \nz\n\" style=\"fill:#ffffff;\"/>\n  </g>\n  <g id=\"axes_1\">\n   <g id=\"line2d_1\">\n    <path clip-path=\"url(#pd042d2ea88)\" d=\"M 58.0368 50.21 \nL 59.017074 50.178565 \nL 59.993321 50.084387 \nL 60.961527 49.927855 \nL 61.917715 49.709611 \nL 62.857956 49.430553 \nL 63.778385 49.091826 \nL 64.675221 48.694824 \nL 65.544779 48.241176 \nL 66.383484 47.732748 \nL 67.187891 47.171628 \nL 67.954694 46.560123 \nL 68.680743 45.900745 \nL 69.363053 45.196204 \nL 69.998822 44.449394 \nL 70.585435 43.663385 \nL 71.120484 42.841406 \nL 71.601769 41.986836 \nL 72.027313 41.103185 \nL 72.395367 40.194085 \nL 72.704418 39.263272 \nL 72.953197 38.31457 \nL 73.140681 37.351878 \nL 73.2661 36.379152 \nL 73.328939 35.400389 \nL 73.328939 34.419611 \nL 73.2661 33.440848 \nL 73.140681 32.468122 \nL 72.953197 31.50543 \nL 72.704418 30.556728 \nL 72.395367 29.625915 \nL 72.027313 28.716815 \nL 71.601769 27.833164 \nL 71.120484 26.978594 \nL 70.585435 26.156615 \nL 69.998822 25.370606 \nL 69.363053 24.623796 \nL 68.680743 23.919255 \nL 67.954694 23.259877 \nL 67.187891 22.648372 \nL 66.383484 22.087252 \nL 65.544779 21.578824 \nL 64.675221 21.125176 \nL 63.778385 20.728174 \nL 62.857956 20.389447 \nL 61.917715 20.110389 \nL 60.961527 19.892145 \nL 59.993321 19.735613 \nL 59.017074 19.641435 \nL 58.0368 19.61 \nL 58.0368 19.61 \nL 38.1468 19.61 \nL 38.1468 34.91 \nL 38.1468 50.21 \nL 58.0368 50.21 \n\" style=\"fill:none;stroke:#000000;stroke-linecap:round;stroke-width:2;\"/>\n   </g>\n   <g id=\"line2d_2\">\n    <path clip-path=\"url(#pd042d2ea88)\" d=\"M 27.4368 42.56 \nL 38.1468 42.56 \n\" style=\"fill:none;stroke:#000000;stroke-linecap:round;stroke-width:2;\"/>\n   </g>\n   <g id=\"line2d_3\">\n    <path clip-path=\"url(#pd042d2ea88)\" d=\"M 27.4368 27.26 \nL 38.1468 27.26 \n\" style=\"fill:none;stroke:#000000;stroke-linecap:round;stroke-width:2;\"/>\n   </g>\n   <g id=\"line2d_4\">\n    <path clip-path=\"url(#pd042d2ea88)\" d=\"M 73.3368 34.91 \nL 84.0468 34.91 \n\" style=\"fill:none;stroke:#000000;stroke-linecap:round;stroke-width:2;\"/>\n   </g>\n   <g id=\"text_1\">\n    <g clip-path=\"url(#pd042d2ea88)\">\n     <!-- $A and B$ -->\n     <defs>\n      <path d=\"M 36.8125 72.90625 \nL 48 72.90625 \nL 61.53125 0 \nL 51.21875 0 \nL 48.1875 18.703125 \nL 15.375 18.703125 \nL 5.078125 0 \nL -5.328125 0 \nz\nM 40.375 63.1875 \nL 19.921875 26.90625 \nL 46.6875 26.90625 \nz\n\" id=\"DejaVuSans-Oblique-65\"/>\n      <path d=\"M 53.71875 31.203125 \nL 47.609375 0 \nL 38.625 0 \nL 40.28125 8.296875 \nQ 36.328125 3.421875 31.265625 1 \nQ 26.21875 -1.421875 20.015625 -1.421875 \nQ 13.03125 -1.421875 8.5625 2.84375 \nQ 4.109375 7.125 4.109375 13.8125 \nQ 4.109375 23.390625 11.75 28.953125 \nQ 19.390625 34.515625 32.8125 34.515625 \nL 45.3125 34.515625 \nL 45.796875 36.921875 \nQ 45.90625 37.3125 45.953125 37.765625 \nQ 46 38.234375 46 39.203125 \nQ 46 43.5625 42.453125 45.96875 \nQ 38.921875 48.390625 32.515625 48.390625 \nQ 28.125 48.390625 23.5 47.265625 \nQ 18.890625 46.140625 14.015625 43.890625 \nL 15.578125 52.203125 \nQ 20.65625 54.109375 25.515625 55.046875 \nQ 30.375 56 34.90625 56 \nQ 44.578125 56 49.625 51.796875 \nQ 54.6875 47.609375 54.6875 39.59375 \nQ 54.6875 37.984375 54.4375 35.8125 \nQ 54.203125 33.640625 53.71875 31.203125 \nz\nM 44 27.484375 \nL 35.015625 27.484375 \nQ 23.96875 27.484375 18.671875 24.53125 \nQ 13.375 21.578125 13.375 15.375 \nQ 13.375 11.078125 16.078125 8.640625 \nQ 18.796875 6.203125 23.578125 6.203125 \nQ 30.90625 6.203125 36.375 11.453125 \nQ 41.84375 16.703125 43.609375 25.484375 \nz\n\" id=\"DejaVuSans-Oblique-97\"/>\n      <path d=\"M 55.71875 33.015625 \nL 49.3125 0 \nL 40.28125 0 \nL 46.6875 32.671875 \nQ 47.125 34.96875 47.359375 36.71875 \nQ 47.609375 38.484375 47.609375 39.5 \nQ 47.609375 43.609375 45.015625 45.890625 \nQ 42.4375 48.1875 37.796875 48.1875 \nQ 30.5625 48.1875 25.34375 43.375 \nQ 20.125 38.578125 18.5 30.328125 \nL 12.5 0 \nL 3.515625 0 \nL 14.109375 54.6875 \nL 23.09375 54.6875 \nL 21.296875 46.09375 \nQ 25.046875 50.828125 30.3125 53.40625 \nQ 35.59375 56 41.40625 56 \nQ 48.640625 56 52.609375 52.09375 \nQ 56.59375 48.1875 56.59375 41.109375 \nQ 56.59375 39.359375 56.375 37.359375 \nQ 56.15625 35.359375 55.71875 33.015625 \nz\n\" id=\"DejaVuSans-Oblique-110\"/>\n      <path d=\"M 41.796875 8.203125 \nQ 38.1875 3.46875 33.25 1.015625 \nQ 28.328125 -1.421875 22.3125 -1.421875 \nQ 14.109375 -1.421875 9.34375 4.171875 \nQ 4.59375 9.765625 4.59375 19.484375 \nQ 4.59375 27.59375 7.46875 34.9375 \nQ 10.359375 42.28125 15.828125 48.09375 \nQ 19.4375 51.953125 23.96875 53.96875 \nQ 28.515625 56 33.5 56 \nQ 38.765625 56 42.796875 53.453125 \nQ 46.828125 50.921875 49.03125 46.1875 \nL 54.890625 75.984375 \nL 63.921875 75.984375 \nL 49.125 0 \nL 40.09375 0 \nz\nM 13.921875 21.09375 \nQ 13.921875 14.015625 17.109375 10.0625 \nQ 20.3125 6.109375 25.984375 6.109375 \nQ 30.171875 6.109375 33.765625 8.125 \nQ 37.359375 10.15625 40.09375 14.109375 \nQ 42.96875 18.21875 44.625 23.578125 \nQ 46.296875 28.953125 46.296875 34.1875 \nQ 46.296875 40.96875 43.09375 44.765625 \nQ 39.890625 48.578125 34.28125 48.578125 \nQ 30.03125 48.578125 26.359375 46.578125 \nQ 22.703125 44.578125 20.125 40.828125 \nQ 17.28125 36.765625 15.59375 31.390625 \nQ 13.921875 26.03125 13.921875 21.09375 \nz\n\" id=\"DejaVuSans-Oblique-100\"/>\n      <path d=\"M 16.890625 72.90625 \nL 42.09375 72.90625 \nQ 52.34375 72.90625 57.421875 69.09375 \nQ 62.5 65.28125 62.5 57.625 \nQ 62.5 50.59375 58.125 45.484375 \nQ 53.765625 40.375 46.6875 39.3125 \nQ 52.734375 37.9375 55.765625 34.078125 \nQ 58.796875 30.21875 58.796875 23.78125 \nQ 58.796875 12.796875 50.65625 6.390625 \nQ 42.53125 0 28.421875 0 \nL 2.6875 0 \nz\nM 19.28125 34.8125 \nL 14.109375 8.109375 \nL 29.984375 8.109375 \nQ 38.921875 8.109375 43.75 12.203125 \nQ 48.578125 16.3125 48.578125 23.78125 \nQ 48.578125 29.546875 45.375 32.171875 \nQ 42.1875 34.8125 35.109375 34.8125 \nz\nM 25.09375 64.796875 \nL 20.796875 42.828125 \nL 35.5 42.828125 \nQ 43.359375 42.828125 47.78125 46.234375 \nQ 52.203125 49.65625 52.203125 55.71875 \nQ 52.203125 60.453125 49.21875 62.625 \nQ 46.234375 64.796875 39.703125 64.796875 \nz\n\" id=\"DejaVuSans-Oblique-66\"/>\n     </defs>\n     <g transform=\"translate(87.1068 38.359219)scale(0.125 -0.125)\">\n      <use transform=\"translate(0 0.015625)\" xlink:href=\"#DejaVuSans-Oblique-65\"/>\n      <use transform=\"translate(68.408203 0.015625)\" xlink:href=\"#DejaVuSans-Oblique-97\"/>\n      <use transform=\"translate(129.6875 0.015625)\" xlink:href=\"#DejaVuSans-Oblique-110\"/>\n      <use transform=\"translate(193.066406 0.015625)\" xlink:href=\"#DejaVuSans-Oblique-100\"/>\n      <use transform=\"translate(256.542969 0.015625)\" xlink:href=\"#DejaVuSans-Oblique-66\"/>\n     </g>\n    </g>\n   </g>\n   <g id=\"text_2\">\n    <g clip-path=\"url(#pd042d2ea88)\">\n     <!-- $A$ -->\n     <g transform=\"translate(15.7518 30.709219)scale(0.125 -0.125)\">\n      <use transform=\"translate(0 0.09375)\" xlink:href=\"#DejaVuSans-Oblique-65\"/>\n     </g>\n    </g>\n   </g>\n   <g id=\"text_3\">\n    <g clip-path=\"url(#pd042d2ea88)\">\n     <!-- $B$ -->\n     <g transform=\"translate(15.7518 46.009219)scale(0.125 -0.125)\">\n      <use transform=\"translate(0 0.09375)\" xlink:href=\"#DejaVuSans-Oblique-66\"/>\n     </g>\n    </g>\n   </g>\n  </g>\n </g>\n <defs>\n  <clipPath id=\"pd042d2ea88\">\n   <rect height=\"49.3\" width=\"136.833\" x=\"7.2\" y=\"7.2\"/>\n  </clipPath>\n </defs>\n</svg>\n",
            "image/png": "[encoded data removed]"
          },
          "metadata": {},
          "execution_count": 29
        }
      ],
      "source": [
        "# 入力＋出力\n",
        "\n",
        "logicparse('$A$ and $B$', outlabel='$A and B$')"
      ]
    },
    {
      "cell_type": "code",
      "source": [],
      "metadata": {
        "id": "7LI45NB3EWeH"
      },
      "execution_count": null,
      "outputs": []
    },
    {
      "cell_type": "markdown",
      "source": [
        "inputして論理演算の結果を表示"
      ],
      "metadata": {
        "id": "MtIChlh05Jpf"
      }
    },
    {
      "cell_type": "code",
      "source": [
        "\n",
        "# AND論理ゲート\n",
        "def AND(a, b):\n",
        "  c = int(a and b)\n",
        "  return c\n",
        "\n",
        "# a, bに0か１を入れる\n",
        "a,b=(int(x) for x in input('a b にそれぞれ1か0を入れる：').split())\n",
        "\n",
        "# SchemeDraw表記\n",
        "d = Drawing(unit=.5)\n",
        "d += (AD := logic.And())\n",
        "d += logic.Line().left().at(AD.in1).label(str(a), 'left')\n",
        "d += logic.Line().left().at(AD.in2).label(str(b), 'left')\n",
        "\n",
        "\n",
        "# ANDの計算結果をcに代入\n",
        "c = AND(a,b)\n",
        "\n",
        "# 出力の表示\n",
        "schemfig = d.draw()\n",
        "schemfig.ax.text(1.6, 0.1, c, size = 12, color = \"red\");\n",
        "display(schemfig)\n"
      ],
      "metadata": {
        "colab": {
          "base_uri": "https://localhost:8080/",
          "height": 124
        },
        "outputId": "c2b24d85-46c3-49da-8ae7-2b3b9d0e9313",
        "id": "tCIjI-3EKPlB"
      },
      "execution_count": null,
      "outputs": [
        {
          "name": "stdout",
          "output_type": "stream",
          "text": [
            "a b にそれぞれ1か0を入れる：0 1\n"
          ]
        },
        {
          "output_type": "display_data",
          "data": {
            "text/plain": [
              "<schemdraw.backends.mpl.Figure object at 0x7f4364a279d0>"
            ],
            "image/svg+xml": "<?xml version=\"1.0\" encoding=\"utf-8\" standalone=\"no\"?>\n<!DOCTYPE svg PUBLIC \"-//W3C//DTD SVG 1.1//EN\"\n  \"http://www.w3.org/Graphics/SVG/1.1/DTD/svg11.dtd\">\n<!-- Created with matplotlib (https://matplotlib.org/) -->\n<svg height=\"63.7pt\" version=\"1.1\" viewBox=\"0 0 108.393 63.7\" width=\"108.393pt\" xmlns=\"http://www.w3.org/2000/svg\" xmlns:xlink=\"http://www.w3.org/1999/xlink\">\n <defs>\n  <style type=\"text/css\">\n*{stroke-linecap:butt;stroke-linejoin:round;}\n  </style>\n </defs>\n <g id=\"figure_1\">\n  <g id=\"patch_1\">\n   <path d=\"M 0 63.7 \nL 108.393 63.7 \nL 108.393 -0 \nL 0 -0 \nz\n\" style=\"fill:#ffffff;\"/>\n  </g>\n  <g id=\"axes_1\">\n   <g id=\"line2d_1\">\n    <path clip-path=\"url(#p5984fced85)\" d=\"M 72.123 50.21 \nL 73.103274 50.178565 \nL 74.079521 50.084387 \nL 75.047727 49.927855 \nL 76.003915 49.709611 \nL 76.944156 49.430553 \nL 77.864585 49.091826 \nL 78.761421 48.694824 \nL 79.630979 48.241176 \nL 80.469684 47.732748 \nL 81.274091 47.171628 \nL 82.040894 46.560123 \nL 82.766943 45.900745 \nL 83.449253 45.196204 \nL 84.085022 44.449394 \nL 84.671635 43.663385 \nL 85.206684 42.841406 \nL 85.687969 41.986836 \nL 86.113513 41.103185 \nL 86.481567 40.194085 \nL 86.790618 39.263272 \nL 87.039397 38.31457 \nL 87.226881 37.351878 \nL 87.3523 36.379152 \nL 87.415139 35.400389 \nL 87.415139 34.419611 \nL 87.3523 33.440848 \nL 87.226881 32.468122 \nL 87.039397 31.50543 \nL 86.790618 30.556728 \nL 86.481567 29.625915 \nL 86.113513 28.716815 \nL 85.687969 27.833164 \nL 85.206684 26.978594 \nL 84.671635 26.156615 \nL 84.085022 25.370606 \nL 83.449253 24.623796 \nL 82.766943 23.919255 \nL 82.040894 23.259877 \nL 81.274091 22.648372 \nL 80.469684 22.087252 \nL 79.630979 21.578824 \nL 78.761421 21.125176 \nL 77.864585 20.728174 \nL 76.944156 20.389447 \nL 76.003915 20.110389 \nL 75.047727 19.892145 \nL 74.079521 19.735613 \nL 73.103274 19.641435 \nL 72.123 19.61 \nL 72.123 19.61 \nL 52.233 19.61 \nL 52.233 34.91 \nL 52.233 50.21 \nL 72.123 50.21 \n\" style=\"fill:none;stroke:#000000;stroke-linecap:round;stroke-width:2;\"/>\n   </g>\n   <g id=\"line2d_2\">\n    <path clip-path=\"url(#p5984fced85)\" d=\"M 41.523 42.56 \nL 52.233 42.56 \n\" style=\"fill:none;stroke:#000000;stroke-linecap:round;stroke-width:2;\"/>\n   </g>\n   <g id=\"line2d_3\">\n    <path clip-path=\"url(#p5984fced85)\" d=\"M 41.523 27.26 \nL 52.233 27.26 \n\" style=\"fill:none;stroke:#000000;stroke-linecap:round;stroke-width:2;\"/>\n   </g>\n   <g id=\"line2d_4\">\n    <path clip-path=\"url(#p5984fced85)\" d=\"M 87.423 34.91 \nL 98.133 34.91 \n\" style=\"fill:none;stroke:#000000;stroke-linecap:round;stroke-width:2;\"/>\n   </g>\n   <g id=\"line2d_5\">\n    <path clip-path=\"url(#p5984fced85)\" d=\"M 41.523 27.26 \nL 33.873 27.26 \nL 26.223 27.26 \n\" style=\"fill:none;stroke:#000000;stroke-linecap:round;stroke-width:2;\"/>\n   </g>\n   <g id=\"line2d_6\">\n    <path clip-path=\"url(#p5984fced85)\" d=\"M 41.523 42.56 \nL 33.873 42.56 \nL 26.223 42.56 \n\" style=\"fill:none;stroke:#000000;stroke-linecap:round;stroke-width:2;\"/>\n   </g>\n   <g id=\"text_1\">\n    <g clip-path=\"url(#p5984fced85)\">\n     <!-- 0 -->\n     <defs>\n      <path d=\"M 31.78125 66.40625 \nQ 24.171875 66.40625 20.328125 58.90625 \nQ 16.5 51.421875 16.5 36.375 \nQ 16.5 21.390625 20.328125 13.890625 \nQ 24.171875 6.390625 31.78125 6.390625 \nQ 39.453125 6.390625 43.28125 13.890625 \nQ 47.125 21.390625 47.125 36.375 \nQ 47.125 51.421875 43.28125 58.90625 \nQ 39.453125 66.40625 31.78125 66.40625 \nz\nM 31.78125 74.21875 \nQ 44.046875 74.21875 50.515625 64.515625 \nQ 56.984375 54.828125 56.984375 36.375 \nQ 56.984375 17.96875 50.515625 8.265625 \nQ 44.046875 -1.421875 31.78125 -1.421875 \nQ 19.53125 -1.421875 13.0625 8.265625 \nQ 6.59375 17.96875 6.59375 36.375 \nQ 6.59375 54.828125 13.0625 64.515625 \nQ 19.53125 74.21875 31.78125 74.21875 \nz\n\" id=\"DejaVuSans-48\"/>\n     </defs>\n     <g transform=\"translate(15.209875 30.709219)scale(0.125 -0.125)\">\n      <use xlink:href=\"#DejaVuSans-48\"/>\n     </g>\n    </g>\n   </g>\n   <g id=\"text_2\">\n    <g clip-path=\"url(#p5984fced85)\">\n     <!-- 1 -->\n     <defs>\n      <path d=\"M 12.40625 8.296875 \nL 28.515625 8.296875 \nL 28.515625 63.921875 \nL 10.984375 60.40625 \nL 10.984375 69.390625 \nL 28.421875 72.90625 \nL 38.28125 72.90625 \nL 38.28125 8.296875 \nL 54.390625 8.296875 \nL 54.390625 0 \nL 12.40625 0 \nz\n\" id=\"DejaVuSans-49\"/>\n     </defs>\n     <g transform=\"translate(15.209875 46.009219)scale(0.125 -0.125)\">\n      <use xlink:href=\"#DejaVuSans-49\"/>\n     </g>\n    </g>\n   </g>\n   <g id=\"text_3\">\n    <!-- 0 -->\n    <g style=\"fill:#ff0000;\" transform=\"translate(90.483 31.85)scale(0.12 -0.12)\">\n     <use xlink:href=\"#DejaVuSans-48\"/>\n    </g>\n   </g>\n  </g>\n </g>\n <defs>\n  <clipPath id=\"p5984fced85\">\n   <rect height=\"49.3\" width=\"93.993\" x=\"7.2\" y=\"7.2\"/>\n  </clipPath>\n </defs>\n</svg>\n",
            "image/png": "[encoded data removed]"
          },
          "metadata": {}
        }
      ]
    },
    {
      "cell_type": "markdown",
      "source": [
        "# ★ OR"
      ],
      "metadata": {
        "id": "oDjwUifqwH0b"
      }
    },
    {
      "cell_type": "markdown",
      "metadata": {
        "id": "6ZJCMmUS08mJ"
      },
      "source": [
        "**論理和の真理値表**\n",
        "\n",
        "| A | B | A or B |\n",
        "| :---: |:-----:|:---:|\n",
        "| 0 | 0 | 0 |\n",
        "| 0 | 1 | 1 |\n",
        "| 1 | 0 | 1 |\n",
        "| 1 | 1 | 1 |\n"
      ]
    },
    {
      "cell_type": "markdown",
      "source": [
        "SchemDrawで真理値表\n",
        "\n",
        "(SchemDrawの準備必要) ([SchemDraw](#SchemDraw-id))"
      ],
      "metadata": {
        "id": "jg9VkY414bcO"
      }
    },
    {
      "cell_type": "code",
      "source": [
        "table = '''\n",
        " A | B | A or B\n",
        "---|---|---\n",
        " 0 | 0 | 0\n",
        " 0 | 1 | 1\n",
        " 1 | 0 | 1\n",
        " 1 | 1 | 1\n",
        "'''\n",
        "logic.Table(table, colfmt='c|c||c')"
      ],
      "metadata": {
        "colab": {
          "base_uri": "https://localhost:8080/",
          "height": 176
        },
        "outputId": "f47d3edb-65c4-479f-9c5e-4b7874801400",
        "id": "wAKJjKI-YTk7"
      },
      "execution_count": null,
      "outputs": [
        {
          "output_type": "execute_result",
          "data": {
            "text/plain": [
              "<schemdraw.logic.table.Table at 0x7fa9fff46a00>"
            ],
            "image/svg+xml": "<?xml version=\"1.0\" encoding=\"utf-8\" standalone=\"no\"?>\n<!DOCTYPE svg PUBLIC \"-//W3C//DTD SVG 1.1//EN\"\n  \"http://www.w3.org/Graphics/SVG/1.1/DTD/svg11.dtd\">\n<!-- Created with matplotlib (https://matplotlib.org/) -->\n<svg height=\"116.4pt\" version=\"1.1\" viewBox=\"0 0 104.7924 116.4\" width=\"104.7924pt\" xmlns=\"http://www.w3.org/2000/svg\" xmlns:xlink=\"http://www.w3.org/1999/xlink\">\n <defs>\n  <style type=\"text/css\">\n*{stroke-linecap:butt;stroke-linejoin:round;}\n  </style>\n </defs>\n <g id=\"figure_1\">\n  <g id=\"patch_1\">\n   <path d=\"M 0 116.4 \nL 104.7924 116.4 \nL 104.7924 0 \nL 0 0 \nz\n\" style=\"fill:#ffffff;\"/>\n  </g>\n  <g id=\"axes_1\">\n   <g id=\"line2d_1\">\n    <path clip-path=\"url(#p5511549368)\" d=\"M 29.3544 13.32 \nL 29.3544 100.02 \n\" style=\"fill:none;stroke:#000000;stroke-linecap:round;\"/>\n   </g>\n   <g id=\"line2d_2\">\n    <path clip-path=\"url(#p5511549368)\" d=\"M 47.5308 13.32 \nL 47.5308 100.02 \n\" style=\"fill:none;stroke:#000000;stroke-linecap:round;\"/>\n   </g>\n   <g id=\"line2d_3\">\n    <path clip-path=\"url(#p5511549368)\" d=\"M 49.3668 13.32 \nL 49.3668 100.02 \n\" style=\"fill:none;stroke:#000000;stroke-linecap:round;\"/>\n   </g>\n   <g id=\"line2d_4\">\n    <path clip-path=\"url(#p5511549368)\" d=\"M 10.26 30.66 \nL 88.4124 30.66 \n\" style=\"fill:none;stroke:#000000;stroke-linecap:round;\"/>\n   </g>\n   <g id=\"text_1\">\n    <g clip-path=\"url(#p5511549368)\">\n     <!-- A -->\n     <defs>\n      <path d=\"M 34.1875 63.1875 \nL 20.796875 26.90625 \nL 47.609375 26.90625 \nz\nM 28.609375 72.90625 \nL 39.796875 72.90625 \nL 67.578125 0 \nL 57.328125 0 \nL 50.6875 18.703125 \nL 17.828125 18.703125 \nL 11.1875 0 \nL 0.78125 0 \nz\n\" id=\"DejaVuSans-65\"/>\n     </defs>\n     <g transform=\"translate(16.215872 28.476328)scale(0.105 -0.105)\">\n      <use xlink:href=\"#DejaVuSans-65\"/>\n     </g>\n    </g>\n   </g>\n   <g id=\"text_2\">\n    <g clip-path=\"url(#p5511549368)\">\n     <!-- B -->\n     <defs>\n      <path d=\"M 19.671875 34.8125 \nL 19.671875 8.109375 \nL 35.5 8.109375 \nQ 43.453125 8.109375 47.28125 11.40625 \nQ 51.125 14.703125 51.125 21.484375 \nQ 51.125 28.328125 47.28125 31.5625 \nQ 43.453125 34.8125 35.5 34.8125 \nz\nM 19.671875 64.796875 \nL 19.671875 42.828125 \nL 34.28125 42.828125 \nQ 41.5 42.828125 45.03125 45.53125 \nQ 48.578125 48.25 48.578125 53.8125 \nQ 48.578125 59.328125 45.03125 62.0625 \nQ 41.5 64.796875 34.28125 64.796875 \nz\nM 9.8125 72.90625 \nL 35.015625 72.90625 \nQ 46.296875 72.90625 52.390625 68.21875 \nQ 58.5 63.53125 58.5 54.890625 \nQ 58.5 48.1875 55.375 44.234375 \nQ 52.25 40.28125 46.1875 39.3125 \nQ 53.46875 37.75 57.5 32.78125 \nQ 61.53125 27.828125 61.53125 20.40625 \nQ 61.53125 10.640625 54.890625 5.3125 \nQ 48.25 0 35.984375 0 \nL 9.8125 0 \nz\n\" id=\"DejaVuSans-66\"/>\n     </defs>\n     <g transform=\"translate(35.299608 28.476328)scale(0.105 -0.105)\">\n      <use xlink:href=\"#DejaVuSans-66\"/>\n     </g>\n    </g>\n   </g>\n   <g id=\"text_3\">\n    <g clip-path=\"url(#p5511549368)\">\n     <!-- A or B -->\n     <defs>\n      <path id=\"DejaVuSans-32\"/>\n      <path d=\"M 30.609375 48.390625 \nQ 23.390625 48.390625 19.1875 42.75 \nQ 14.984375 37.109375 14.984375 27.296875 \nQ 14.984375 17.484375 19.15625 11.84375 \nQ 23.34375 6.203125 30.609375 6.203125 \nQ 37.796875 6.203125 41.984375 11.859375 \nQ 46.1875 17.53125 46.1875 27.296875 \nQ 46.1875 37.015625 41.984375 42.703125 \nQ 37.796875 48.390625 30.609375 48.390625 \nz\nM 30.609375 56 \nQ 42.328125 56 49.015625 48.375 \nQ 55.71875 40.765625 55.71875 27.296875 \nQ 55.71875 13.875 49.015625 6.21875 \nQ 42.328125 -1.421875 30.609375 -1.421875 \nQ 18.84375 -1.421875 12.171875 6.21875 \nQ 5.515625 13.875 5.515625 27.296875 \nQ 5.515625 40.765625 12.171875 48.375 \nQ 18.84375 56 30.609375 56 \nz\n\" id=\"DejaVuSans-111\"/>\n      <path d=\"M 41.109375 46.296875 \nQ 39.59375 47.171875 37.8125 47.578125 \nQ 36.03125 48 33.890625 48 \nQ 26.265625 48 22.1875 43.046875 \nQ 18.109375 38.09375 18.109375 28.8125 \nL 18.109375 0 \nL 9.078125 0 \nL 9.078125 54.6875 \nL 18.109375 54.6875 \nL 18.109375 46.1875 \nQ 20.953125 51.171875 25.484375 53.578125 \nQ 30.03125 56 36.53125 56 \nQ 37.453125 56 38.578125 55.875 \nQ 39.703125 55.765625 41.0625 55.515625 \nz\n\" id=\"DejaVuSans-114\"/>\n     </defs>\n     <g transform=\"translate(52.529663 28.476328)scale(0.105 -0.105)\">\n      <use xlink:href=\"#DejaVuSans-65\"/>\n      <use x=\"68.408203\" xlink:href=\"#DejaVuSans-32\"/>\n      <use x=\"100.195312\" xlink:href=\"#DejaVuSans-111\"/>\n      <use x=\"161.376953\" xlink:href=\"#DejaVuSans-114\"/>\n      <use x=\"202.490234\" xlink:href=\"#DejaVuSans-32\"/>\n      <use x=\"234.277344\" xlink:href=\"#DejaVuSans-66\"/>\n     </g>\n    </g>\n   </g>\n   <g id=\"text_4\">\n    <g clip-path=\"url(#p5511549368)\">\n     <!-- 0 -->\n     <defs>\n      <path d=\"M 31.78125 66.40625 \nQ 24.171875 66.40625 20.328125 58.90625 \nQ 16.5 51.421875 16.5 36.375 \nQ 16.5 21.390625 20.328125 13.890625 \nQ 24.171875 6.390625 31.78125 6.390625 \nQ 39.453125 6.390625 43.28125 13.890625 \nQ 47.125 21.390625 47.125 36.375 \nQ 47.125 51.421875 43.28125 58.90625 \nQ 39.453125 66.40625 31.78125 66.40625 \nz\nM 31.78125 74.21875 \nQ 44.046875 74.21875 50.515625 64.515625 \nQ 56.984375 54.828125 56.984375 36.375 \nQ 56.984375 17.96875 50.515625 8.265625 \nQ 44.046875 -1.421875 31.78125 -1.421875 \nQ 19.53125 -1.421875 13.0625 8.265625 \nQ 6.59375 17.96875 6.59375 36.375 \nQ 6.59375 54.828125 13.0625 64.515625 \nQ 19.53125 74.21875 31.78125 74.21875 \nz\n\" id=\"DejaVuSans-48\"/>\n     </defs>\n     <g transform=\"translate(16.466888 45.816328)scale(0.105 -0.105)\">\n      <use xlink:href=\"#DejaVuSans-48\"/>\n     </g>\n    </g>\n   </g>\n   <g id=\"text_5\">\n    <g clip-path=\"url(#p5511549368)\">\n     <!-- 0 -->\n     <g transform=\"translate(35.561288 45.816328)scale(0.105 -0.105)\">\n      <use xlink:href=\"#DejaVuSans-48\"/>\n     </g>\n    </g>\n   </g>\n   <g id=\"text_6\">\n    <g clip-path=\"url(#p5511549368)\">\n     <!-- 0 -->\n     <g transform=\"translate(65.090288 45.816328)scale(0.105 -0.105)\">\n      <use xlink:href=\"#DejaVuSans-48\"/>\n     </g>\n    </g>\n   </g>\n   <g id=\"text_7\">\n    <g clip-path=\"url(#p5511549368)\">\n     <!-- 0 -->\n     <g transform=\"translate(16.466888 63.156328)scale(0.105 -0.105)\">\n      <use xlink:href=\"#DejaVuSans-48\"/>\n     </g>\n    </g>\n   </g>\n   <g id=\"text_8\">\n    <g clip-path=\"url(#p5511549368)\">\n     <!-- 1 -->\n     <defs>\n      <path d=\"M 12.40625 8.296875 \nL 28.515625 8.296875 \nL 28.515625 63.921875 \nL 10.984375 60.40625 \nL 10.984375 69.390625 \nL 28.421875 72.90625 \nL 38.28125 72.90625 \nL 38.28125 8.296875 \nL 54.390625 8.296875 \nL 54.390625 0 \nL 12.40625 0 \nz\n\" id=\"DejaVuSans-49\"/>\n     </defs>\n     <g transform=\"translate(35.561288 63.156328)scale(0.105 -0.105)\">\n      <use xlink:href=\"#DejaVuSans-49\"/>\n     </g>\n    </g>\n   </g>\n   <g id=\"text_9\">\n    <g clip-path=\"url(#p5511549368)\">\n     <!-- 1 -->\n     <g transform=\"translate(65.090288 63.156328)scale(0.105 -0.105)\">\n      <use xlink:href=\"#DejaVuSans-49\"/>\n     </g>\n    </g>\n   </g>\n   <g id=\"text_10\">\n    <g clip-path=\"url(#p5511549368)\">\n     <!-- 1 -->\n     <g transform=\"translate(16.466888 80.496328)scale(0.105 -0.105)\">\n      <use xlink:href=\"#DejaVuSans-49\"/>\n     </g>\n    </g>\n   </g>\n   <g id=\"text_11\">\n    <g clip-path=\"url(#p5511549368)\">\n     <!-- 0 -->\n     <g transform=\"translate(35.561288 80.496328)scale(0.105 -0.105)\">\n      <use xlink:href=\"#DejaVuSans-48\"/>\n     </g>\n    </g>\n   </g>\n   <g id=\"text_12\">\n    <g clip-path=\"url(#p5511549368)\">\n     <!-- 1 -->\n     <g transform=\"translate(65.090288 80.496328)scale(0.105 -0.105)\">\n      <use xlink:href=\"#DejaVuSans-49\"/>\n     </g>\n    </g>\n   </g>\n   <g id=\"text_13\">\n    <g clip-path=\"url(#p5511549368)\">\n     <!-- 1 -->\n     <g transform=\"translate(16.466888 97.836328)scale(0.105 -0.105)\">\n      <use xlink:href=\"#DejaVuSans-49\"/>\n     </g>\n    </g>\n   </g>\n   <g id=\"text_14\">\n    <g clip-path=\"url(#p5511549368)\">\n     <!-- 1 -->\n     <g transform=\"translate(35.561288 97.836328)scale(0.105 -0.105)\">\n      <use xlink:href=\"#DejaVuSans-49\"/>\n     </g>\n    </g>\n   </g>\n   <g id=\"text_15\">\n    <g clip-path=\"url(#p5511549368)\">\n     <!-- 1 -->\n     <g transform=\"translate(65.090288 97.836328)scale(0.105 -0.105)\">\n      <use xlink:href=\"#DejaVuSans-49\"/>\n     </g>\n    </g>\n   </g>\n  </g>\n </g>\n <defs>\n  <clipPath id=\"p5511549368\">\n   <rect height=\"102\" width=\"90.3924\" x=\"7.2\" y=\"7.2\"/>\n  </clipPath>\n </defs>\n</svg>\n",
            "image/png": "[encoded data removed]"
          },
          "metadata": {},
          "execution_count": 5
        }
      ]
    },
    {
      "cell_type": "markdown",
      "source": [
        "pyplotのtableメソッド(関数)を利用して真理値表をPythonで作成"
      ],
      "metadata": {
        "id": "6MUNtMEGnMm1"
      }
    },
    {
      "cell_type": "code",
      "source": [
        "\n",
        "import numpy as np\n",
        "import matplotlib.pyplot as plt\n",
        " \n",
        "# Axesオブジェクト生成\n",
        "fig, ax = plt.subplots(figsize=(6,4))\n",
        "\n",
        "# x，y軸の目盛り設定\n",
        "xticks = np.arange(0,5,1)\n",
        "yticks = np.arange(0,4,1)\n",
        "ax.set_xticks(xticks)\n",
        "ax.set_yticks(yticks)\n",
        "\n",
        "# ORゲート\n",
        "def OR(a, b):\n",
        "  c = int(a or b)\n",
        "  return c\n",
        "\n",
        "or_00 = OR(0,0)\n",
        "or_01 = OR(0,1)\n",
        "or_10 = OR(1,0)\n",
        "or_11 = OR(1,1)\n",
        "\n",
        "# 真理値表作成\n",
        "column_labels=[\"A\", \"B\", \"A or B\"]\n",
        "\n",
        "data=[[0,0,or_00],\n",
        "     [1,0,or_10],\n",
        "     [0,1,or_01],\n",
        "     [1,1,or_11]]\n",
        "\n",
        "plt.table(cellText = data,\n",
        "        colLabels = column_labels,\n",
        "        cellLoc = 'center',\n",
        "        colWidths=[0.1,0.1,0.2],\n",
        "        loc='center'\n",
        "        )\n",
        "\n",
        "# コメント挿入\n",
        "ax.text(2, 2.5, '1 + 1 だけは A + B と結果が違う', size= 10, color = 'black', \n",
        "        ha='center', va='center')\n",
        "\n",
        "# 軸を消す\n",
        "ax.axis('off')\n",
        "\n",
        "plt.show()\n",
        "\n"
      ],
      "metadata": {
        "colab": {
          "base_uri": "https://localhost:8080/",
          "height": 248
        },
        "outputId": "18dac73b-c601-4d45-e66e-9304484015b9",
        "id": "kPx7XW4KnMm1"
      },
      "execution_count": null,
      "outputs": [
        {
          "output_type": "display_data",
          "data": {
            "text/plain": [
              "<Figure size 432x288 with 1 Axes>"
            ],
            "image/png": "[encoded data removed]"
          },
          "metadata": {
            "needs_background": "light"
          }
        }
      ]
    },
    {
      "cell_type": "markdown",
      "source": [
        "**MIL_OR記号作成**\n",
        "\n",
        "matplotlibのpatchesを使う\n",
        "\n",
        "patchesのArcの弧と線分plotでMIL記号を作成\n",
        "\n",
        "MIL記号の左下の座標を(p, q)として他の頂点をp,qで表す\n",
        "\n",
        "端子は2点を決めて線分をplot\n"
      ],
      "metadata": {
        "id": "Od2_l1YwnMm2"
      }
    },
    {
      "cell_type": "markdown",
      "source": [
        "**ORゲート**\n",
        "\n",
        "Pythonの論理演算子 `or` を利用\n",
        "\n",
        "結果を整数にするために `int()` を使用"
      ],
      "metadata": {
        "id": "B17P6BnbnMm2"
      }
    },
    {
      "cell_type": "code",
      "source": [
        "\n",
        "import numpy as np\n",
        "import matplotlib.pyplot as plt\n",
        "from matplotlib import patches\n",
        " \n",
        "# Axesオブジェクト生成\n",
        "fig, ax = plt.subplots(figsize=(6,6))\n",
        "\n",
        "# x，y軸の目盛り設定\n",
        "xticks = np.arange(0,10,1)\n",
        "yticks = np.arange(0,10,1)\n",
        "ax.set_xticks(xticks)\n",
        "ax.set_yticks(yticks)\n",
        "\n",
        " #軸の最大値・最小値を設定\n",
        "ax.set_xlim(0, 10)\n",
        "ax.set_ylim(0, 10)\n",
        "\n",
        "# グリッド設定\n",
        "ax.grid()\n",
        "\n",
        "# ORゲートのMIL記号作成\n",
        "def MIL_OR(p, q):\n",
        "  # MIL記号\n",
        "  ax.plot([p, p+5.5-2*np.sqrt(3)], [q, q], color = 'black', linewidth=\"2\")\n",
        "  ax.plot([p, p+5.5-2*np.sqrt(3)], [q+4, q+4], color = 'black', linewidth=\"2\")\n",
        "  Arc1 = patches.Arc(xy=(p-2*np.sqrt(3),q+2), width=8, height=8, \n",
        "                     angle=0, theta1=330, theta2=30, linewidth=\"2\")\n",
        "  Arc2 = patches.Arc(xy=(p+5.5-2*np.sqrt(3),q), width=8, height=8, \n",
        "                     angle=0, theta1=30, theta2=90, linewidth=\"2\")\n",
        "  Arc3 = patches.Arc(xy=(p+5.5-2*np.sqrt(3),q+4), width=8, height=8, \n",
        "                     angle=0, theta1=270, theta2=330, linewidth=\"2\")\n",
        "  ax.add_patch(Arc1)\n",
        "  ax.add_patch(Arc2)\n",
        "  ax.add_patch(Arc3)\n",
        "  # 端子\n",
        "  ax.plot([p-0.5, p+0.4], [q+1, q+1], color = 'black', linewidth=\"2\")\n",
        "  ax.plot([p-0.5, p+0.4], [q+3, q+3], color = 'black', linewidth=\"2\")\n",
        "  ax.plot([p+5.5, p+6], [q+2, q+2], color = 'black', linewidth=\"2\")\n",
        "\n",
        "# OR倫理ゲート\n",
        "def OR(a, b):\n",
        "  c = int(a or b)\n",
        "  return c\n",
        "\n",
        "# ORのMIL記号の配置\n",
        "MIL_OR(3, 3)\n",
        "\n",
        "# a, bに0か１を入れる\n",
        "a,b=(int(x) for x in input('a b にそれぞれ1か0を入れる：').split())\n",
        "ax.text(1.5,6, a, size= 15, color = 'black', \n",
        "        horizontalalignment='center', verticalalignment='center')  #略：ha='center',va='center'\n",
        "ax.text(1.5,4, b, size= 15, color = 'black', \n",
        "        horizontalalignment='center', verticalalignment='center')\n",
        "\n",
        "# ORの計算結果を表示\n",
        "c = OR(a,b)\n",
        "ax.text(9, 5.2, c, size = 15, color = \"red\")\n",
        "\n",
        "plt.show()\n"
      ],
      "metadata": {
        "colab": {
          "base_uri": "https://localhost:8080/",
          "height": 392
        },
        "outputId": "32dbe92c-d996-498f-d3bf-67d98d5c0deb",
        "id": "rXCMlU7ynMm2"
      },
      "execution_count": null,
      "outputs": [
        {
          "name": "stdout",
          "output_type": "stream",
          "text": [
            "a b にそれぞれ1か0を入れる：0 1\n"
          ]
        },
        {
          "output_type": "display_data",
          "data": {
            "text/plain": [
              "<Figure size 432x432 with 1 Axes>"
            ],
            "image/png": "[encoded data removed]"
          },
          "metadata": {
            "needs_background": "light"
          }
        }
      ]
    },
    {
      "cell_type": "markdown",
      "source": [
        "SchemDrawで論理ゲート作成"
      ],
      "metadata": {
        "id": "IrSqlT0Zc0Ib"
      }
    },
    {
      "cell_type": "code",
      "source": [
        "# 記号だけ\n",
        "\n",
        "logic.Or()"
      ],
      "metadata": {
        "colab": {
          "base_uri": "https://localhost:8080/",
          "height": 88
        },
        "outputId": "a99041c5-b95b-4e33-9ea1-7e475c4691cf",
        "id": "1LjNGF4cc0Ib"
      },
      "execution_count": null,
      "outputs": [
        {
          "output_type": "execute_result",
          "data": {
            "text/plain": [
              "<schemdraw.logic.logic.Or at 0x7f4364a274c0>"
            ],
            "image/svg+xml": "<?xml version=\"1.0\" encoding=\"utf-8\" standalone=\"no\"?>\n<!DOCTYPE svg PUBLIC \"-//W3C//DTD SVG 1.1//EN\"\n  \"http://www.w3.org/Graphics/SVG/1.1/DTD/svg11.dtd\">\n<!-- Created with matplotlib (https://matplotlib.org/) -->\n<svg height=\"50.508pt\" version=\"1.1\" viewBox=\"0 0 78.66 50.508\" width=\"78.66pt\" xmlns=\"http://www.w3.org/2000/svg\" xmlns:xlink=\"http://www.w3.org/1999/xlink\">\n <defs>\n  <style type=\"text/css\">\n*{stroke-linecap:butt;stroke-linejoin:round;}\n  </style>\n </defs>\n <g id=\"figure_1\">\n  <g id=\"patch_1\">\n   <path d=\"M 0 50.508 \nL 78.66 50.508 \nL 78.66 0 \nL 0 0 \nz\n\" style=\"fill:#ffffff;\"/>\n  </g>\n  <g id=\"axes_1\">\n   <g id=\"line2d_1\">\n    <path clip-path=\"url(#p35afa28f38)\" d=\"M 20.97 40.248 \nL 38.018571 40.148082 \nL 39.767143 39.848327 \nL 41.515714 39.348735 \nL 43.264286 38.649306 \nL 45.012857 37.750041 \nL 47.198571 36.344939 \nL 49.384286 34.627592 \nL 51.57 32.598 \nL 53.755714 30.256163 \nL 55.941429 27.602082 \nL 57.69 25.254 \nL 57.69 25.254 \nL 55.067143 21.806816 \nL 52.881429 19.277633 \nL 50.695714 17.060694 \nL 48.51 15.156 \nL 46.324286 13.563551 \nL 44.138571 12.283347 \nL 42.39 11.484 \nL 40.641429 10.88449 \nL 38.892857 10.484816 \nL 37.144286 10.28498 \nL 36.27 10.26 \nL 20.97 10.26 \nL 20.97 10.26 \nL 23.1732 12.708 \nL 24.56856 14.544 \nL 25.7436 16.38 \nL 26.69832 18.216 \nL 27.43272 20.052 \nL 27.9468 21.888 \nL 28.24056 23.724 \nL 28.314 25.56 \nL 28.16712 27.396 \nL 27.79992 29.232 \nL 27.2124 31.068 \nL 26.40456 32.904 \nL 25.3764 34.74 \nL 24.12792 36.576 \nL 22.65912 38.412 \nL 20.97 40.248 \nL 20.97 40.248 \n\" style=\"fill:none;stroke:#000000;stroke-linecap:round;stroke-width:2;\"/>\n   </g>\n   <g id=\"line2d_2\">\n    <path clip-path=\"url(#p35afa28f38)\" d=\"M 10.26 32.904 \nL 26.40456 32.904 \n\" style=\"fill:none;stroke:#000000;stroke-linecap:round;stroke-width:2;\"/>\n   </g>\n   <g id=\"line2d_3\">\n    <path clip-path=\"url(#p35afa28f38)\" d=\"M 10.26 17.604 \nL 26.40456 17.604 \n\" style=\"fill:none;stroke:#000000;stroke-linecap:round;stroke-width:2;\"/>\n   </g>\n   <g id=\"line2d_4\">\n    <path clip-path=\"url(#p35afa28f38)\" d=\"M 57.69 25.254 \nL 68.4 25.254 \n\" style=\"fill:none;stroke:#000000;stroke-linecap:round;stroke-width:2;\"/>\n   </g>\n  </g>\n </g>\n <defs>\n  <clipPath id=\"p35afa28f38\">\n   <rect height=\"36.108\" width=\"64.26\" x=\"7.2\" y=\"7.2\"/>\n  </clipPath>\n </defs>\n</svg>\n",
            "image/png": "[encoded data removed]"
          },
          "metadata": {},
          "execution_count": 22
        }
      ]
    },
    {
      "cell_type": "code",
      "execution_count": null,
      "metadata": {
        "tags": [
          "hide-input"
        ],
        "outputId": "615d1ffa-9d76-41df-e274-30f934083413",
        "colab": {
          "base_uri": "https://localhost:8080/",
          "height": 106
        },
        "id": "Uf4Ts7Owc0Ib"
      },
      "outputs": [
        {
          "output_type": "execute_result",
          "data": {
            "text/plain": [
              "<schemdraw.schemdraw.Drawing at 0x7fa9fddd0be0>"
            ],
            "image/svg+xml": "<?xml version=\"1.0\" encoding=\"utf-8\" standalone=\"no\"?>\n<!DOCTYPE svg PUBLIC \"-//W3C//DTD SVG 1.1//EN\"\n  \"http://www.w3.org/Graphics/SVG/1.1/DTD/svg11.dtd\">\n<!-- Created with matplotlib (https://matplotlib.org/) -->\n<svg height=\"63.7pt\" version=\"1.1\" viewBox=\"0 0 143.481 63.7\" width=\"143.481pt\" xmlns=\"http://www.w3.org/2000/svg\" xmlns:xlink=\"http://www.w3.org/1999/xlink\">\n <defs>\n  <style type=\"text/css\">\n*{stroke-linecap:butt;stroke-linejoin:round;}\n  </style>\n </defs>\n <g id=\"figure_1\">\n  <g id=\"patch_1\">\n   <path d=\"M 0 63.7 \nL 143.481 63.7 \nL 143.481 0 \nL 0 0 \nz\n\" style=\"fill:#ffffff;\"/>\n  </g>\n  <g id=\"axes_1\">\n   <g id=\"line2d_1\">\n    <path clip-path=\"url(#p7fd6312b92)\" d=\"M 38.1468 49.904 \nL 55.195371 49.804082 \nL 56.943943 49.504327 \nL 58.692514 49.004735 \nL 60.441086 48.305306 \nL 62.189657 47.406041 \nL 64.375371 46.000939 \nL 66.561086 44.283592 \nL 68.7468 42.254 \nL 70.932514 39.912163 \nL 73.118229 37.258082 \nL 74.8668 34.91 \nL 74.8668 34.91 \nL 72.243943 31.462816 \nL 70.058229 28.933633 \nL 67.872514 26.716694 \nL 65.6868 24.812 \nL 63.501086 23.219551 \nL 61.315371 21.939347 \nL 59.5668 21.14 \nL 57.818229 20.54049 \nL 56.069657 20.140816 \nL 54.321086 19.94098 \nL 53.4468 19.916 \nL 38.1468 19.916 \nL 38.1468 19.916 \nL 40.35 22.364 \nL 41.74536 24.2 \nL 42.9204 26.036 \nL 43.87512 27.872 \nL 44.60952 29.708 \nL 45.1236 31.544 \nL 45.41736 33.38 \nL 45.4908 35.216 \nL 45.34392 37.052 \nL 44.97672 38.888 \nL 44.3892 40.724 \nL 43.58136 42.56 \nL 42.5532 44.396 \nL 41.30472 46.232 \nL 39.83592 48.068 \nL 38.1468 49.904 \nL 38.1468 49.904 \n\" style=\"fill:none;stroke:#000000;stroke-linecap:round;stroke-width:2;\"/>\n   </g>\n   <g id=\"line2d_2\">\n    <path clip-path=\"url(#p7fd6312b92)\" d=\"M 27.4368 42.56 \nL 43.58136 42.56 \n\" style=\"fill:none;stroke:#000000;stroke-linecap:round;stroke-width:2;\"/>\n   </g>\n   <g id=\"line2d_3\">\n    <path clip-path=\"url(#p7fd6312b92)\" d=\"M 27.4368 27.26 \nL 43.58136 27.26 \n\" style=\"fill:none;stroke:#000000;stroke-linecap:round;stroke-width:2;\"/>\n   </g>\n   <g id=\"line2d_4\">\n    <path clip-path=\"url(#p7fd6312b92)\" d=\"M 74.8668 34.91 \nL 85.5768 34.91 \n\" style=\"fill:none;stroke:#000000;stroke-linecap:round;stroke-width:2;\"/>\n   </g>\n   <g id=\"text_1\">\n    <g clip-path=\"url(#p7fd6312b92)\">\n     <!-- $A or B$ -->\n     <defs>\n      <path d=\"M 36.8125 72.90625 \nL 48 72.90625 \nL 61.53125 0 \nL 51.21875 0 \nL 48.1875 18.703125 \nL 15.375 18.703125 \nL 5.078125 0 \nL -5.328125 0 \nz\nM 40.375 63.1875 \nL 19.921875 26.90625 \nL 46.6875 26.90625 \nz\n\" id=\"DejaVuSans-Oblique-65\"/>\n      <path d=\"M 25.390625 -1.421875 \nQ 15.765625 -1.421875 10.171875 4.515625 \nQ 4.59375 10.453125 4.59375 20.703125 \nQ 4.59375 26.65625 6.515625 32.828125 \nQ 8.453125 39.015625 11.53125 43.21875 \nQ 16.359375 49.75 22.3125 52.875 \nQ 28.265625 56 35.796875 56 \nQ 45.125 56 50.859375 50.1875 \nQ 56.59375 44.390625 56.59375 35.015625 \nQ 56.59375 28.515625 54.6875 22.0625 \nQ 52.78125 15.625 49.703125 11.375 \nQ 44.921875 4.828125 38.96875 1.703125 \nQ 33.015625 -1.421875 25.390625 -1.421875 \nz\nM 13.921875 21 \nQ 13.921875 13.578125 17.015625 9.890625 \nQ 20.125 6.203125 26.421875 6.203125 \nQ 35.453125 6.203125 41.375 14.078125 \nQ 47.3125 21.96875 47.3125 34.078125 \nQ 47.3125 41.15625 44.140625 44.765625 \nQ 40.96875 48.390625 34.8125 48.390625 \nQ 29.734375 48.390625 25.78125 46.015625 \nQ 21.828125 43.65625 18.703125 38.8125 \nQ 16.40625 35.203125 15.15625 30.5625 \nQ 13.921875 25.921875 13.921875 21 \nz\n\" id=\"DejaVuSans-Oblique-111\"/>\n      <path d=\"M 44.578125 46.390625 \nQ 43.21875 47.125 41.453125 47.515625 \nQ 39.703125 47.90625 37.703125 47.90625 \nQ 30.515625 47.90625 25.140625 42.453125 \nQ 19.78125 37.015625 18.015625 27.875 \nL 12.5 0 \nL 3.515625 0 \nL 14.203125 54.6875 \nL 23.1875 54.6875 \nL 21.484375 46.1875 \nQ 25.046875 50.921875 30 53.453125 \nQ 34.96875 56 40.578125 56 \nQ 42.046875 56 43.453125 55.828125 \nQ 44.875 55.671875 46.296875 55.28125 \nz\n\" id=\"DejaVuSans-Oblique-114\"/>\n      <path d=\"M 16.890625 72.90625 \nL 42.09375 72.90625 \nQ 52.34375 72.90625 57.421875 69.09375 \nQ 62.5 65.28125 62.5 57.625 \nQ 62.5 50.59375 58.125 45.484375 \nQ 53.765625 40.375 46.6875 39.3125 \nQ 52.734375 37.9375 55.765625 34.078125 \nQ 58.796875 30.21875 58.796875 23.78125 \nQ 58.796875 12.796875 50.65625 6.390625 \nQ 42.53125 0 28.421875 0 \nL 2.6875 0 \nz\nM 19.28125 34.8125 \nL 14.109375 8.109375 \nL 29.984375 8.109375 \nQ 38.921875 8.109375 43.75 12.203125 \nQ 48.578125 16.3125 48.578125 23.78125 \nQ 48.578125 29.546875 45.375 32.171875 \nQ 42.1875 34.8125 35.109375 34.8125 \nz\nM 25.09375 64.796875 \nL 20.796875 42.828125 \nL 35.5 42.828125 \nQ 43.359375 42.828125 47.78125 46.234375 \nQ 52.203125 49.65625 52.203125 55.71875 \nQ 52.203125 60.453125 49.21875 62.625 \nQ 46.234375 64.796875 39.703125 64.796875 \nz\n\" id=\"DejaVuSans-Oblique-66\"/>\n     </defs>\n     <g transform=\"translate(88.6368 38.359219)scale(0.125 -0.125)\">\n      <use transform=\"translate(0 0.09375)\" xlink:href=\"#DejaVuSans-Oblique-65\"/>\n      <use transform=\"translate(68.408203 0.09375)\" xlink:href=\"#DejaVuSans-Oblique-111\"/>\n      <use transform=\"translate(129.589844 0.09375)\" xlink:href=\"#DejaVuSans-Oblique-114\"/>\n      <use transform=\"translate(170.703125 0.09375)\" xlink:href=\"#DejaVuSans-Oblique-66\"/>\n     </g>\n    </g>\n   </g>\n   <g id=\"text_2\">\n    <g clip-path=\"url(#p7fd6312b92)\">\n     <!-- $A$ -->\n     <g transform=\"translate(15.7518 30.709219)scale(0.125 -0.125)\">\n      <use transform=\"translate(0 0.09375)\" xlink:href=\"#DejaVuSans-Oblique-65\"/>\n     </g>\n    </g>\n   </g>\n   <g id=\"text_3\">\n    <g clip-path=\"url(#p7fd6312b92)\">\n     <!-- $B$ -->\n     <g transform=\"translate(15.7518 46.009219)scale(0.125 -0.125)\">\n      <use transform=\"translate(0 0.09375)\" xlink:href=\"#DejaVuSans-Oblique-66\"/>\n     </g>\n    </g>\n   </g>\n  </g>\n </g>\n <defs>\n  <clipPath id=\"p7fd6312b92\">\n   <rect height=\"49.3\" width=\"129.081\" x=\"7.2\" y=\"7.2\"/>\n  </clipPath>\n </defs>\n</svg>\n",
            "image/png": "[encoded data removed]"
          },
          "metadata": {},
          "execution_count": 6
        }
      ],
      "source": [
        "# 入力＋出力\n",
        "\n",
        "logicparse('$A$ or $B$', outlabel='$A or B$')"
      ]
    },
    {
      "cell_type": "markdown",
      "source": [
        "inputして論理演算の結果を表示"
      ],
      "metadata": {
        "id": "wFmUzwQq5P48"
      }
    },
    {
      "cell_type": "code",
      "source": [
        "\n",
        "# OR論理ゲート\n",
        "def OR(a, b):\n",
        "  c = int(a or b)\n",
        "  return c\n",
        "\n",
        "# a, bに0か１を入れる\n",
        "a,b=(int(x) for x in input('a b にそれぞれ1か0を入れる：').split())\n",
        "\n",
        "# SchemeDraw表記\n",
        "d = Drawing(unit=.5)\n",
        "d += (O := logic.Or())\n",
        "d += logic.Line().left().at(O.in1).label(str(a), 'left')\n",
        "d += logic.Line().left().at(O.in2).label(str(b), 'left')\n",
        "\n",
        "# 出力の表示\n",
        "# OR()の計算結果をcに代入\n",
        "c = OR(a,b)\n",
        "\n",
        "schemfig = d.draw()\n",
        "schemfig.ax.text(1.6, 0.1, c, size = 12, color = \"red\");\n",
        "display(schemfig)\n"
      ],
      "metadata": {
        "colab": {
          "base_uri": "https://localhost:8080/",
          "height": 124
        },
        "outputId": "f345e2d0-b43b-4cae-fda5-63b01fc200bb",
        "id": "2NNIjJI1MKfa"
      },
      "execution_count": null,
      "outputs": [
        {
          "name": "stdout",
          "output_type": "stream",
          "text": [
            "a b にそれぞれ1か0を入れる：0 1\n"
          ]
        },
        {
          "output_type": "display_data",
          "data": {
            "text/plain": [
              "<schemdraw.backends.mpl.Figure object at 0x7f4364c42bb0>"
            ],
            "image/svg+xml": "<?xml version=\"1.0\" encoding=\"utf-8\" standalone=\"no\"?>\n<!DOCTYPE svg PUBLIC \"-//W3C//DTD SVG 1.1//EN\"\n  \"http://www.w3.org/Graphics/SVG/1.1/DTD/svg11.dtd\">\n<!-- Created with matplotlib (https://matplotlib.org/) -->\n<svg height=\"63.7pt\" version=\"1.1\" viewBox=\"0 0 109.923 63.7\" width=\"109.923pt\" xmlns=\"http://www.w3.org/2000/svg\" xmlns:xlink=\"http://www.w3.org/1999/xlink\">\n <defs>\n  <style type=\"text/css\">\n*{stroke-linecap:butt;stroke-linejoin:round;}\n  </style>\n </defs>\n <g id=\"figure_1\">\n  <g id=\"patch_1\">\n   <path d=\"M 0 63.7 \nL 109.923 63.7 \nL 109.923 -0 \nL 0 -0 \nz\n\" style=\"fill:#ffffff;\"/>\n  </g>\n  <g id=\"axes_1\">\n   <g id=\"line2d_1\">\n    <path clip-path=\"url(#p7c4379fa2d)\" d=\"M 52.233 49.904 \nL 69.281571 49.804082 \nL 71.030143 49.504327 \nL 72.778714 49.004735 \nL 74.527286 48.305306 \nL 76.275857 47.406041 \nL 78.461571 46.000939 \nL 80.647286 44.283592 \nL 82.833 42.254 \nL 85.018714 39.912163 \nL 87.204429 37.258082 \nL 88.953 34.91 \nL 88.953 34.91 \nL 86.330143 31.462816 \nL 84.144429 28.933633 \nL 81.958714 26.716694 \nL 79.773 24.812 \nL 77.587286 23.219551 \nL 75.401571 21.939347 \nL 73.653 21.14 \nL 71.904429 20.54049 \nL 70.155857 20.140816 \nL 68.407286 19.94098 \nL 67.533 19.916 \nL 52.233 19.916 \nL 52.233 19.916 \nL 54.4362 22.364 \nL 55.83156 24.2 \nL 57.0066 26.036 \nL 57.96132 27.872 \nL 58.69572 29.708 \nL 59.2098 31.544 \nL 59.50356 33.38 \nL 59.577 35.216 \nL 59.43012 37.052 \nL 59.06292 38.888 \nL 58.4754 40.724 \nL 57.66756 42.56 \nL 56.6394 44.396 \nL 55.39092 46.232 \nL 53.92212 48.068 \nL 52.233 49.904 \nL 52.233 49.904 \n\" style=\"fill:none;stroke:#000000;stroke-linecap:round;stroke-width:2;\"/>\n   </g>\n   <g id=\"line2d_2\">\n    <path clip-path=\"url(#p7c4379fa2d)\" d=\"M 41.523 42.56 \nL 57.66756 42.56 \n\" style=\"fill:none;stroke:#000000;stroke-linecap:round;stroke-width:2;\"/>\n   </g>\n   <g id=\"line2d_3\">\n    <path clip-path=\"url(#p7c4379fa2d)\" d=\"M 41.523 27.26 \nL 57.66756 27.26 \n\" style=\"fill:none;stroke:#000000;stroke-linecap:round;stroke-width:2;\"/>\n   </g>\n   <g id=\"line2d_4\">\n    <path clip-path=\"url(#p7c4379fa2d)\" d=\"M 88.953 34.91 \nL 99.663 34.91 \n\" style=\"fill:none;stroke:#000000;stroke-linecap:round;stroke-width:2;\"/>\n   </g>\n   <g id=\"line2d_5\">\n    <path clip-path=\"url(#p7c4379fa2d)\" d=\"M 41.523 27.26 \nL 33.873 27.26 \nL 26.223 27.26 \n\" style=\"fill:none;stroke:#000000;stroke-linecap:round;stroke-width:2;\"/>\n   </g>\n   <g id=\"line2d_6\">\n    <path clip-path=\"url(#p7c4379fa2d)\" d=\"M 41.523 42.56 \nL 33.873 42.56 \nL 26.223 42.56 \n\" style=\"fill:none;stroke:#000000;stroke-linecap:round;stroke-width:2;\"/>\n   </g>\n   <g id=\"text_1\">\n    <g clip-path=\"url(#p7c4379fa2d)\">\n     <!-- 0 -->\n     <defs>\n      <path d=\"M 31.78125 66.40625 \nQ 24.171875 66.40625 20.328125 58.90625 \nQ 16.5 51.421875 16.5 36.375 \nQ 16.5 21.390625 20.328125 13.890625 \nQ 24.171875 6.390625 31.78125 6.390625 \nQ 39.453125 6.390625 43.28125 13.890625 \nQ 47.125 21.390625 47.125 36.375 \nQ 47.125 51.421875 43.28125 58.90625 \nQ 39.453125 66.40625 31.78125 66.40625 \nz\nM 31.78125 74.21875 \nQ 44.046875 74.21875 50.515625 64.515625 \nQ 56.984375 54.828125 56.984375 36.375 \nQ 56.984375 17.96875 50.515625 8.265625 \nQ 44.046875 -1.421875 31.78125 -1.421875 \nQ 19.53125 -1.421875 13.0625 8.265625 \nQ 6.59375 17.96875 6.59375 36.375 \nQ 6.59375 54.828125 13.0625 64.515625 \nQ 19.53125 74.21875 31.78125 74.21875 \nz\n\" id=\"DejaVuSans-48\"/>\n     </defs>\n     <g transform=\"translate(15.209875 30.709219)scale(0.125 -0.125)\">\n      <use xlink:href=\"#DejaVuSans-48\"/>\n     </g>\n    </g>\n   </g>\n   <g id=\"text_2\">\n    <g clip-path=\"url(#p7c4379fa2d)\">\n     <!-- 1 -->\n     <defs>\n      <path d=\"M 12.40625 8.296875 \nL 28.515625 8.296875 \nL 28.515625 63.921875 \nL 10.984375 60.40625 \nL 10.984375 69.390625 \nL 28.421875 72.90625 \nL 38.28125 72.90625 \nL 38.28125 8.296875 \nL 54.390625 8.296875 \nL 54.390625 0 \nL 12.40625 0 \nz\n\" id=\"DejaVuSans-49\"/>\n     </defs>\n     <g transform=\"translate(15.209875 46.009219)scale(0.125 -0.125)\">\n      <use xlink:href=\"#DejaVuSans-49\"/>\n     </g>\n    </g>\n   </g>\n   <g id=\"text_3\">\n    <!-- 1 -->\n    <g style=\"fill:#ff0000;\" transform=\"translate(90.483 31.85)scale(0.12 -0.12)\">\n     <use xlink:href=\"#DejaVuSans-49\"/>\n    </g>\n   </g>\n  </g>\n </g>\n <defs>\n  <clipPath id=\"p7c4379fa2d\">\n   <rect height=\"49.3\" width=\"95.523\" x=\"7.2\" y=\"7.2\"/>\n  </clipPath>\n </defs>\n</svg>\n",
            "image/png": "[encoded data removed]"
          },
          "metadata": {}
        }
      ]
    },
    {
      "cell_type": "markdown",
      "source": [
        "# ★ NAND"
      ],
      "metadata": {
        "id": "rcHmFLuuwI3L"
      }
    },
    {
      "cell_type": "markdown",
      "source": [
        "＜参考＞\n",
        "\n",
        "**NANDゲートの完全性**\n",
        "\n",
        "NOT,AND,OR,NOR などの基本論理回路や，\n",
        "\n",
        "加算器，デコーダ，エンコーダ，フリップフロップなどの複雑な組み合わせ回路を\n",
        "\n",
        "NANDゲートだけで作ることができる"
      ],
      "metadata": {
        "id": "EFY0vye9quEV"
      }
    },
    {
      "cell_type": "markdown",
      "metadata": {
        "id": "PzFs2DZb08mS"
      },
      "source": [
        "**否定論理積の真理値表**\n",
        "\n",
        "| A | B | A nand B |\n",
        "| :---: |:-----:|:---:|\n",
        "| 0 | 0 | 1 |\n",
        "| 0 | 1 | 1 |\n",
        "| 1 | 0 | 1 |\n",
        "| 1 | 1 | 0 |\n"
      ]
    },
    {
      "cell_type": "markdown",
      "source": [
        "SchemDrawで真理値表\n",
        "\n",
        "(SchemDrawの準備必要) ([SchemDraw](#SchemDraw-id))"
      ],
      "metadata": {
        "id": "LRzNMvdg4evS"
      }
    },
    {
      "cell_type": "code",
      "source": [
        "table = '''\n",
        " A | B | A nand B\n",
        "---|---|---\n",
        " 0 | 0 | 1\n",
        " 0 | 1 | 1\n",
        " 1 | 0 | 1\n",
        " 1 | 1 | 0\n",
        "'''\n",
        "logic.Table(table, colfmt='c|c||c')"
      ],
      "metadata": {
        "colab": {
          "base_uri": "https://localhost:8080/",
          "height": 176
        },
        "outputId": "e62c9ef0-f094-4575-8a79-85441d9ec17b",
        "id": "nRUabuX_YYK2"
      },
      "execution_count": null,
      "outputs": [
        {
          "output_type": "execute_result",
          "data": {
            "text/plain": [
              "<schemdraw.logic.table.Table at 0x7fa9fdd60bb0>"
            ],
            "image/svg+xml": "<?xml version=\"1.0\" encoding=\"utf-8\" standalone=\"no\"?>\n<!DOCTYPE svg PUBLIC \"-//W3C//DTD SVG 1.1//EN\"\n  \"http://www.w3.org/Graphics/SVG/1.1/DTD/svg11.dtd\">\n<!-- Created with matplotlib (https://matplotlib.org/) -->\n<svg height=\"116.4pt\" version=\"1.1\" viewBox=\"0 0 118.5624 116.4\" width=\"118.5624pt\" xmlns=\"http://www.w3.org/2000/svg\" xmlns:xlink=\"http://www.w3.org/1999/xlink\">\n <defs>\n  <style type=\"text/css\">\n*{stroke-linecap:butt;stroke-linejoin:round;}\n  </style>\n </defs>\n <g id=\"figure_1\">\n  <g id=\"patch_1\">\n   <path d=\"M -0 116.4 \nL 118.5624 116.4 \nL 118.5624 0 \nL -0 0 \nz\n\" style=\"fill:#ffffff;\"/>\n  </g>\n  <g id=\"axes_1\">\n   <g id=\"line2d_1\">\n    <path clip-path=\"url(#pd57ee3a2c4)\" d=\"M 29.3544 13.32 \nL 29.3544 100.02 \n\" style=\"fill:none;stroke:#000000;stroke-linecap:round;\"/>\n   </g>\n   <g id=\"line2d_2\">\n    <path clip-path=\"url(#pd57ee3a2c4)\" d=\"M 47.5308 13.32 \nL 47.5308 100.02 \n\" style=\"fill:none;stroke:#000000;stroke-linecap:round;\"/>\n   </g>\n   <g id=\"line2d_3\">\n    <path clip-path=\"url(#pd57ee3a2c4)\" d=\"M 49.3668 13.32 \nL 49.3668 100.02 \n\" style=\"fill:none;stroke:#000000;stroke-linecap:round;\"/>\n   </g>\n   <g id=\"line2d_4\">\n    <path clip-path=\"url(#pd57ee3a2c4)\" d=\"M 10.26 30.66 \nL 102.1824 30.66 \n\" style=\"fill:none;stroke:#000000;stroke-linecap:round;\"/>\n   </g>\n   <g id=\"text_1\">\n    <g clip-path=\"url(#pd57ee3a2c4)\">\n     <!-- A -->\n     <defs>\n      <path d=\"M 34.1875 63.1875 \nL 20.796875 26.90625 \nL 47.609375 26.90625 \nz\nM 28.609375 72.90625 \nL 39.796875 72.90625 \nL 67.578125 0 \nL 57.328125 0 \nL 50.6875 18.703125 \nL 17.828125 18.703125 \nL 11.1875 0 \nL 0.78125 0 \nz\n\" id=\"DejaVuSans-65\"/>\n     </defs>\n     <g transform=\"translate(16.215872 28.476328)scale(0.105 -0.105)\">\n      <use xlink:href=\"#DejaVuSans-65\"/>\n     </g>\n    </g>\n   </g>\n   <g id=\"text_2\">\n    <g clip-path=\"url(#pd57ee3a2c4)\">\n     <!-- B -->\n     <defs>\n      <path d=\"M 19.671875 34.8125 \nL 19.671875 8.109375 \nL 35.5 8.109375 \nQ 43.453125 8.109375 47.28125 11.40625 \nQ 51.125 14.703125 51.125 21.484375 \nQ 51.125 28.328125 47.28125 31.5625 \nQ 43.453125 34.8125 35.5 34.8125 \nz\nM 19.671875 64.796875 \nL 19.671875 42.828125 \nL 34.28125 42.828125 \nQ 41.5 42.828125 45.03125 45.53125 \nQ 48.578125 48.25 48.578125 53.8125 \nQ 48.578125 59.328125 45.03125 62.0625 \nQ 41.5 64.796875 34.28125 64.796875 \nz\nM 9.8125 72.90625 \nL 35.015625 72.90625 \nQ 46.296875 72.90625 52.390625 68.21875 \nQ 58.5 63.53125 58.5 54.890625 \nQ 58.5 48.1875 55.375 44.234375 \nQ 52.25 40.28125 46.1875 39.3125 \nQ 53.46875 37.75 57.5 32.78125 \nQ 61.53125 27.828125 61.53125 20.40625 \nQ 61.53125 10.640625 54.890625 5.3125 \nQ 48.25 0 35.984375 0 \nL 9.8125 0 \nz\n\" id=\"DejaVuSans-66\"/>\n     </defs>\n     <g transform=\"translate(35.299608 28.476328)scale(0.105 -0.105)\">\n      <use xlink:href=\"#DejaVuSans-66\"/>\n     </g>\n    </g>\n   </g>\n   <g id=\"text_3\">\n    <g clip-path=\"url(#pd57ee3a2c4)\">\n     <!-- A nand B -->\n     <defs>\n      <path id=\"DejaVuSans-32\"/>\n      <path d=\"M 54.890625 33.015625 \nL 54.890625 0 \nL 45.90625 0 \nL 45.90625 32.71875 \nQ 45.90625 40.484375 42.875 44.328125 \nQ 39.84375 48.1875 33.796875 48.1875 \nQ 26.515625 48.1875 22.3125 43.546875 \nQ 18.109375 38.921875 18.109375 30.90625 \nL 18.109375 0 \nL 9.078125 0 \nL 9.078125 54.6875 \nL 18.109375 54.6875 \nL 18.109375 46.1875 \nQ 21.34375 51.125 25.703125 53.5625 \nQ 30.078125 56 35.796875 56 \nQ 45.21875 56 50.046875 50.171875 \nQ 54.890625 44.34375 54.890625 33.015625 \nz\n\" id=\"DejaVuSans-110\"/>\n      <path d=\"M 34.28125 27.484375 \nQ 23.390625 27.484375 19.1875 25 \nQ 14.984375 22.515625 14.984375 16.5 \nQ 14.984375 11.71875 18.140625 8.90625 \nQ 21.296875 6.109375 26.703125 6.109375 \nQ 34.1875 6.109375 38.703125 11.40625 \nQ 43.21875 16.703125 43.21875 25.484375 \nL 43.21875 27.484375 \nz\nM 52.203125 31.203125 \nL 52.203125 0 \nL 43.21875 0 \nL 43.21875 8.296875 \nQ 40.140625 3.328125 35.546875 0.953125 \nQ 30.953125 -1.421875 24.3125 -1.421875 \nQ 15.921875 -1.421875 10.953125 3.296875 \nQ 6 8.015625 6 15.921875 \nQ 6 25.140625 12.171875 29.828125 \nQ 18.359375 34.515625 30.609375 34.515625 \nL 43.21875 34.515625 \nL 43.21875 35.40625 \nQ 43.21875 41.609375 39.140625 45 \nQ 35.0625 48.390625 27.6875 48.390625 \nQ 23 48.390625 18.546875 47.265625 \nQ 14.109375 46.140625 10.015625 43.890625 \nL 10.015625 52.203125 \nQ 14.9375 54.109375 19.578125 55.046875 \nQ 24.21875 56 28.609375 56 \nQ 40.484375 56 46.34375 49.84375 \nQ 52.203125 43.703125 52.203125 31.203125 \nz\n\" id=\"DejaVuSans-97\"/>\n      <path d=\"M 45.40625 46.390625 \nL 45.40625 75.984375 \nL 54.390625 75.984375 \nL 54.390625 0 \nL 45.40625 0 \nL 45.40625 8.203125 \nQ 42.578125 3.328125 38.25 0.953125 \nQ 33.9375 -1.421875 27.875 -1.421875 \nQ 17.96875 -1.421875 11.734375 6.484375 \nQ 5.515625 14.40625 5.515625 27.296875 \nQ 5.515625 40.1875 11.734375 48.09375 \nQ 17.96875 56 27.875 56 \nQ 33.9375 56 38.25 53.625 \nQ 42.578125 51.265625 45.40625 46.390625 \nz\nM 14.796875 27.296875 \nQ 14.796875 17.390625 18.875 11.75 \nQ 22.953125 6.109375 30.078125 6.109375 \nQ 37.203125 6.109375 41.296875 11.75 \nQ 45.40625 17.390625 45.40625 27.296875 \nQ 45.40625 37.203125 41.296875 42.84375 \nQ 37.203125 48.484375 30.078125 48.484375 \nQ 22.953125 48.484375 18.875 42.84375 \nQ 14.796875 37.203125 14.796875 27.296875 \nz\n\" id=\"DejaVuSans-100\"/>\n     </defs>\n     <g transform=\"translate(51.580678 28.476328)scale(0.105 -0.105)\">\n      <use xlink:href=\"#DejaVuSans-65\"/>\n      <use x=\"68.408203\" xlink:href=\"#DejaVuSans-32\"/>\n      <use x=\"100.195312\" xlink:href=\"#DejaVuSans-110\"/>\n      <use x=\"163.574219\" xlink:href=\"#DejaVuSans-97\"/>\n      <use x=\"224.853516\" xlink:href=\"#DejaVuSans-110\"/>\n      <use x=\"288.232422\" xlink:href=\"#DejaVuSans-100\"/>\n      <use x=\"351.708984\" xlink:href=\"#DejaVuSans-32\"/>\n      <use x=\"383.496094\" xlink:href=\"#DejaVuSans-66\"/>\n     </g>\n    </g>\n   </g>\n   <g id=\"text_4\">\n    <g clip-path=\"url(#pd57ee3a2c4)\">\n     <!-- 0 -->\n     <defs>\n      <path d=\"M 31.78125 66.40625 \nQ 24.171875 66.40625 20.328125 58.90625 \nQ 16.5 51.421875 16.5 36.375 \nQ 16.5 21.390625 20.328125 13.890625 \nQ 24.171875 6.390625 31.78125 6.390625 \nQ 39.453125 6.390625 43.28125 13.890625 \nQ 47.125 21.390625 47.125 36.375 \nQ 47.125 51.421875 43.28125 58.90625 \nQ 39.453125 66.40625 31.78125 66.40625 \nz\nM 31.78125 74.21875 \nQ 44.046875 74.21875 50.515625 64.515625 \nQ 56.984375 54.828125 56.984375 36.375 \nQ 56.984375 17.96875 50.515625 8.265625 \nQ 44.046875 -1.421875 31.78125 -1.421875 \nQ 19.53125 -1.421875 13.0625 8.265625 \nQ 6.59375 17.96875 6.59375 36.375 \nQ 6.59375 54.828125 13.0625 64.515625 \nQ 19.53125 74.21875 31.78125 74.21875 \nz\n\" id=\"DejaVuSans-48\"/>\n     </defs>\n     <g transform=\"translate(16.466888 45.816328)scale(0.105 -0.105)\">\n      <use xlink:href=\"#DejaVuSans-48\"/>\n     </g>\n    </g>\n   </g>\n   <g id=\"text_5\">\n    <g clip-path=\"url(#pd57ee3a2c4)\">\n     <!-- 0 -->\n     <g transform=\"translate(35.561287 45.816328)scale(0.105 -0.105)\">\n      <use xlink:href=\"#DejaVuSans-48\"/>\n     </g>\n    </g>\n   </g>\n   <g id=\"text_6\">\n    <g clip-path=\"url(#pd57ee3a2c4)\">\n     <!-- 1 -->\n     <defs>\n      <path d=\"M 12.40625 8.296875 \nL 28.515625 8.296875 \nL 28.515625 63.921875 \nL 10.984375 60.40625 \nL 10.984375 69.390625 \nL 28.421875 72.90625 \nL 38.28125 72.90625 \nL 38.28125 8.296875 \nL 54.390625 8.296875 \nL 54.390625 0 \nL 12.40625 0 \nz\n\" id=\"DejaVuSans-49\"/>\n     </defs>\n     <g transform=\"translate(71.975288 45.816328)scale(0.105 -0.105)\">\n      <use xlink:href=\"#DejaVuSans-49\"/>\n     </g>\n    </g>\n   </g>\n   <g id=\"text_7\">\n    <g clip-path=\"url(#pd57ee3a2c4)\">\n     <!-- 0 -->\n     <g transform=\"translate(16.466888 63.156328)scale(0.105 -0.105)\">\n      <use xlink:href=\"#DejaVuSans-48\"/>\n     </g>\n    </g>\n   </g>\n   <g id=\"text_8\">\n    <g clip-path=\"url(#pd57ee3a2c4)\">\n     <!-- 1 -->\n     <g transform=\"translate(35.561287 63.156328)scale(0.105 -0.105)\">\n      <use xlink:href=\"#DejaVuSans-49\"/>\n     </g>\n    </g>\n   </g>\n   <g id=\"text_9\">\n    <g clip-path=\"url(#pd57ee3a2c4)\">\n     <!-- 1 -->\n     <g transform=\"translate(71.975288 63.156328)scale(0.105 -0.105)\">\n      <use xlink:href=\"#DejaVuSans-49\"/>\n     </g>\n    </g>\n   </g>\n   <g id=\"text_10\">\n    <g clip-path=\"url(#pd57ee3a2c4)\">\n     <!-- 1 -->\n     <g transform=\"translate(16.466888 80.496328)scale(0.105 -0.105)\">\n      <use xlink:href=\"#DejaVuSans-49\"/>\n     </g>\n    </g>\n   </g>\n   <g id=\"text_11\">\n    <g clip-path=\"url(#pd57ee3a2c4)\">\n     <!-- 0 -->\n     <g transform=\"translate(35.561287 80.496328)scale(0.105 -0.105)\">\n      <use xlink:href=\"#DejaVuSans-48\"/>\n     </g>\n    </g>\n   </g>\n   <g id=\"text_12\">\n    <g clip-path=\"url(#pd57ee3a2c4)\">\n     <!-- 1 -->\n     <g transform=\"translate(71.975288 80.496328)scale(0.105 -0.105)\">\n      <use xlink:href=\"#DejaVuSans-49\"/>\n     </g>\n    </g>\n   </g>\n   <g id=\"text_13\">\n    <g clip-path=\"url(#pd57ee3a2c4)\">\n     <!-- 1 -->\n     <g transform=\"translate(16.466888 97.836328)scale(0.105 -0.105)\">\n      <use xlink:href=\"#DejaVuSans-49\"/>\n     </g>\n    </g>\n   </g>\n   <g id=\"text_14\">\n    <g clip-path=\"url(#pd57ee3a2c4)\">\n     <!-- 1 -->\n     <g transform=\"translate(35.561287 97.836328)scale(0.105 -0.105)\">\n      <use xlink:href=\"#DejaVuSans-49\"/>\n     </g>\n    </g>\n   </g>\n   <g id=\"text_15\">\n    <g clip-path=\"url(#pd57ee3a2c4)\">\n     <!-- 0 -->\n     <g transform=\"translate(71.975288 97.836328)scale(0.105 -0.105)\">\n      <use xlink:href=\"#DejaVuSans-48\"/>\n     </g>\n    </g>\n   </g>\n  </g>\n </g>\n <defs>\n  <clipPath id=\"pd57ee3a2c4\">\n   <rect height=\"102\" width=\"104.1624\" x=\"7.2\" y=\"7.2\"/>\n  </clipPath>\n </defs>\n</svg>\n",
            "image/png": "[encoded data removed]"
          },
          "metadata": {},
          "execution_count": 7
        }
      ]
    },
    {
      "cell_type": "markdown",
      "source": [
        "pyplotのtableメソッド(関数)を利用して真理値表をPythonで作成"
      ],
      "metadata": {
        "id": "P6bkZiUVrsGt"
      }
    },
    {
      "cell_type": "code",
      "source": [
        "#Not AND,否定論理積＝ANDの結果を否定\n",
        "\n",
        "def NAND(a, b):\n",
        "  c = not(a and b)\n",
        "  return c\n",
        "\n",
        "\n",
        "# 別の書き方\n",
        "def NAND(a,b):\n",
        "    c = AND(a,b)\n",
        "    d = NOT(c)\n",
        "    return d\n"
      ],
      "metadata": {
        "id": "xY8SFM_g7pLs"
      },
      "execution_count": null,
      "outputs": []
    },
    {
      "cell_type": "code",
      "source": [
        "\n",
        "import numpy as np\n",
        "import matplotlib.pyplot as plt\n",
        " \n",
        "# Axesオブジェクト生成\n",
        "fig, ax = plt.subplots(figsize=(6,4))\n",
        "\n",
        "# x，y軸の目盛り設定\n",
        "xticks = np.arange(0,5,1)\n",
        "yticks = np.arange(0,4,1)\n",
        "ax.set_xticks(xticks)\n",
        "ax.set_yticks(yticks)\n",
        "\n",
        "# NANDゲート\n",
        "def NAND(a, b):\n",
        "  c = int(not(a and b))\n",
        "  return c\n",
        "\n",
        "nand_00 = NAND(0,0)\n",
        "nand_01 = NAND(0,1)\n",
        "nand_10 = NAND(1,0)\n",
        "nand_11 = NAND(1,1)\n",
        "\n",
        "# 真理値表作成\n",
        "column_labels=[\"A\", \"B\", \"A nand B\"]\n",
        "\n",
        "data=[[0,0,nand_00],\n",
        "     [1,0,nand_10],\n",
        "     [0,1,nand_01],\n",
        "     [1,1,nand_11]]\n",
        "\n",
        "plt.table(cellText = data,\n",
        "        colLabels = column_labels,\n",
        "        cellLoc = 'center',\n",
        "        colWidths=[0.1,0.1,0.2],\n",
        "        loc='center'\n",
        "        )\n",
        "\n",
        "# コメント挿入\n",
        "ax.text(2, 2.5, 'A and B と逆の結果', size= 10, color = 'black', \n",
        "        ha='center', va='center')\n",
        "\n",
        "\n",
        "# 軸を消す\n",
        "ax.axis('off')\n",
        "\n",
        "plt.show()\n"
      ],
      "metadata": {
        "colab": {
          "base_uri": "https://localhost:8080/",
          "height": 248
        },
        "outputId": "552e4ff4-9523-48b7-e8e1-84f4276e5259",
        "id": "ZJFQn3KmrsGu"
      },
      "execution_count": null,
      "outputs": [
        {
          "output_type": "display_data",
          "data": {
            "text/plain": [
              "<Figure size 432x288 with 1 Axes>"
            ],
            "image/png": "[encoded data removed]"
          },
          "metadata": {
            "needs_background": "light"
          }
        }
      ]
    },
    {
      "cell_type": "markdown",
      "source": [
        "**MIL_NAND記号作成**\n",
        "\n",
        "matplotlibのpatchesを使う\n",
        "\n",
        "AND記号と同じMIL記号を作成\n",
        "\n",
        "否定の〇記号をつける\n",
        "\n",
        "MIL記号の左下の座標を(p, q)として他の頂点をp,qで表す\n",
        "\n",
        "端子は2点を決めて線分をplot\n"
      ],
      "metadata": {
        "id": "4Obr9sxtrsGv"
      }
    },
    {
      "cell_type": "markdown",
      "source": [
        "**NANDゲート**\n",
        "\n",
        "Pythonの論理演算子 `not`と `and` を利用\n",
        "\n",
        "結果を整数にするために `int()` を使用"
      ],
      "metadata": {
        "id": "vxNbxIQersGw"
      }
    },
    {
      "cell_type": "code",
      "source": [
        "\n",
        "import numpy as np\n",
        "import matplotlib.pyplot as plt\n",
        "from matplotlib import patches\n",
        " \n",
        "# Axesオブジェクト生成\n",
        "fig, ax = plt.subplots(figsize=(6,6))\n",
        "\n",
        "# x，y軸の目盛り設定\n",
        "xticks = np.arange(0,10,1)\n",
        "yticks = np.arange(0,10,1)\n",
        "ax.set_xticks(xticks)\n",
        "ax.set_yticks(yticks)\n",
        "\n",
        " #軸の最大値・最小値を設定\n",
        "ax.set_xlim(0, 10)\n",
        "ax.set_ylim(0, 10)\n",
        "\n",
        "# グリッド設定\n",
        "ax.grid()\n",
        "\n",
        "# NANDゲートのMIL記号作成\n",
        "def MIL_NAND(p, q):\n",
        "  # MIL記号\n",
        "  xy = [(p+3,q), (p, q), (p,q+4), (p+3,q+4)]\n",
        "  Pol = patches.Polygon(xy, facecolor='w', edgecolor='b', linewidth=\"2\", closed=False) \n",
        "  Arc = patches.Arc(xy=(p+3,q+2), width=4, height=4, \n",
        "                    angle=180, theta1=90, theta2=270, linewidth=\"2\")\n",
        "  # 否定の〇記号\n",
        "  Cir = patches.Circle(xy=(p+5.5,q+2), radius=0.5, linewidth=\"2\", fill=False)\n",
        "   \n",
        "  ax.add_patch(Pol)\n",
        "  ax.add_patch(Arc)\n",
        "  ax.add_patch(Cir)\n",
        "\n",
        "  # 端子\n",
        "  ax.plot([p-0.5, p], [q+1, q+1], color = 'black', linewidth=\"2\")\n",
        "  ax.plot([p-0.5, p], [q+3, q+3], color = 'black', linewidth=\"2\")\n",
        "  ax.plot([p+6, p+6.5], [q+2, q+2], color = 'black', linewidth=\"2\")\n",
        "\n",
        "# NAND論理ゲート\n",
        "def NAND(a, b):\n",
        "  c = int(not(a and b))\n",
        "  return c\n",
        "\n",
        "# NANDのMIL記号の配置\n",
        "MIL_NAND(2, 3)\n",
        "\n",
        "# a, bに0か１を入れる\n",
        "a,b=(int(x) for x in input('a b にそれぞれ1か0を入れる：').split())\n",
        "ax.text(0.5,6, a, size= 15, color = 'black', \n",
        "        horizontalalignment='center', verticalalignment='center')  #略：ha='center',va='center'\n",
        "ax.text(0.5,4, b, size= 15, color = 'black', \n",
        "        horizontalalignment='center', verticalalignment='center')\n",
        "\n",
        "# NANDの計算結果を表示\n",
        "c = NAND(a,b)\n",
        "ax.text(8.5, 5.2, c, size = 15, color = \"red\")\n",
        "\n",
        "plt.show()\n"
      ],
      "metadata": {
        "colab": {
          "base_uri": "https://localhost:8080/",
          "height": 391
        },
        "outputId": "1e015257-1599-4318-f391-4f7c3966047c",
        "id": "8i0tE12arsGw"
      },
      "execution_count": null,
      "outputs": [
        {
          "name": "stdout",
          "output_type": "stream",
          "text": [
            "a b にそれぞれ1か0を入れる：0 1\n"
          ]
        },
        {
          "output_type": "display_data",
          "data": {
            "text/plain": [
              "<Figure size 432x432 with 1 Axes>"
            ],
            "image/png": "[encoded data removed]"
          },
          "metadata": {
            "needs_background": "light"
          }
        }
      ]
    },
    {
      "cell_type": "markdown",
      "source": [
        "SchemDrawで論理ゲート作成"
      ],
      "metadata": {
        "id": "9qhv0YxVc3zt"
      }
    },
    {
      "cell_type": "code",
      "source": [
        "# 記号だけ\n",
        "\n",
        "logic.Nand()"
      ],
      "metadata": {
        "colab": {
          "base_uri": "https://localhost:8080/",
          "height": 89
        },
        "outputId": "9dce034e-bde9-4f89-d387-ee8a6c8fc868",
        "id": "NmJaWphAc3zt"
      },
      "execution_count": null,
      "outputs": [
        {
          "output_type": "execute_result",
          "data": {
            "text/plain": [
              "<schemdraw.logic.logic.And at 0x7fa9fdc46100>"
            ],
            "image/svg+xml": "<?xml version=\"1.0\" encoding=\"utf-8\" standalone=\"no\"?>\n<!DOCTYPE svg PUBLIC \"-//W3C//DTD SVG 1.1//EN\"\n  \"http://www.w3.org/Graphics/SVG/1.1/DTD/svg11.dtd\">\n<!-- Created with matplotlib (https://matplotlib.org/) -->\n<svg height=\"51.12pt\" version=\"1.1\" viewBox=\"0 0 77.13 51.12\" width=\"77.13pt\" xmlns=\"http://www.w3.org/2000/svg\" xmlns:xlink=\"http://www.w3.org/1999/xlink\">\n <defs>\n  <style type=\"text/css\">\n*{stroke-linecap:butt;stroke-linejoin:round;}\n  </style>\n </defs>\n <g id=\"figure_1\">\n  <g id=\"patch_1\">\n   <path d=\"M 0 51.12 \nL 77.13 51.12 \nL 77.13 0 \nL 0 0 \nz\n\" style=\"fill:#ffffff;\"/>\n  </g>\n  <g id=\"axes_1\">\n   <g id=\"patch_2\">\n    <path clip-path=\"url(#p677f44aa4c)\" d=\"M 59.832 29.232 \nC 60.805826 29.232 61.739897 28.845095 62.428496 28.156496 \nC 63.117095 27.467897 63.504 26.533826 63.504 25.56 \nC 63.504 24.586174 63.117095 23.652103 62.428496 22.963504 \nC 61.739897 22.274905 60.805826 21.888 59.832 21.888 \nC 58.858174 21.888 57.924103 22.274905 57.235504 22.963504 \nC 56.546905 23.652103 56.16 24.586174 56.16 25.56 \nC 56.16 26.533826 56.546905 27.467897 57.235504 28.156496 \nC 57.924103 28.845095 58.858174 29.232 59.832 29.232 \nz\n\" style=\"fill:none;stroke:#000000;stroke-linejoin:miter;stroke-width:2;\"/>\n   </g>\n   <g id=\"line2d_1\">\n    <path clip-path=\"url(#p677f44aa4c)\" d=\"M 40.86 40.86 \nL 41.840274 40.828565 \nL 42.816521 40.734387 \nL 43.784727 40.577855 \nL 44.740915 40.359611 \nL 45.681156 40.080553 \nL 46.601585 39.741826 \nL 47.498421 39.344824 \nL 48.367979 38.891176 \nL 49.206684 38.382748 \nL 50.011091 37.821628 \nL 50.777894 37.210123 \nL 51.503943 36.550745 \nL 52.186253 35.846204 \nL 52.822022 35.099394 \nL 53.408635 34.313385 \nL 53.943684 33.491406 \nL 54.424969 32.636836 \nL 54.850513 31.753185 \nL 55.218567 30.844085 \nL 55.527618 29.913272 \nL 55.776397 28.96457 \nL 55.963881 28.001878 \nL 56.0893 27.029152 \nL 56.152139 26.050389 \nL 56.152139 25.069611 \nL 56.0893 24.090848 \nL 55.963881 23.118122 \nL 55.776397 22.15543 \nL 55.527618 21.206728 \nL 55.218567 20.275915 \nL 54.850513 19.366815 \nL 54.424969 18.483164 \nL 53.943684 17.628594 \nL 53.408635 16.806615 \nL 52.822022 16.020606 \nL 52.186253 15.273796 \nL 51.503943 14.569255 \nL 50.777894 13.909877 \nL 50.011091 13.298372 \nL 49.206684 12.737252 \nL 48.367979 12.228824 \nL 47.498421 11.775176 \nL 46.601585 11.378174 \nL 45.681156 11.039447 \nL 44.740915 10.760389 \nL 43.784727 10.542145 \nL 42.816521 10.385613 \nL 41.840274 10.291435 \nL 40.86 10.26 \nL 40.86 10.26 \nL 20.97 10.26 \nL 20.97 25.56 \nL 20.97 40.86 \nL 40.86 40.86 \n\" style=\"fill:none;stroke:#000000;stroke-linecap:round;stroke-width:2;\"/>\n   </g>\n   <g id=\"line2d_2\">\n    <path clip-path=\"url(#p677f44aa4c)\" d=\"M 10.26 33.21 \nL 20.97 33.21 \n\" style=\"fill:none;stroke:#000000;stroke-linecap:round;stroke-width:2;\"/>\n   </g>\n   <g id=\"line2d_3\">\n    <path clip-path=\"url(#p677f44aa4c)\" d=\"M 10.26 17.91 \nL 20.97 17.91 \n\" style=\"fill:none;stroke:#000000;stroke-linecap:round;stroke-width:2;\"/>\n   </g>\n   <g id=\"line2d_4\">\n    <path clip-path=\"url(#p677f44aa4c)\" d=\"M 63.504 25.56 \nL 66.87 25.56 \n\" style=\"fill:none;stroke:#000000;stroke-linecap:round;stroke-width:2;\"/>\n   </g>\n  </g>\n </g>\n <defs>\n  <clipPath id=\"p677f44aa4c\">\n   <rect height=\"36.72\" width=\"62.73\" x=\"7.2\" y=\"7.2\"/>\n  </clipPath>\n </defs>\n</svg>\n",
            "image/png": "[encoded data removed]"
          },
          "metadata": {},
          "execution_count": 8
        }
      ]
    },
    {
      "cell_type": "code",
      "execution_count": null,
      "metadata": {
        "tags": [
          "hide-input"
        ],
        "outputId": "b080844c-53c3-4481-e61f-266371ac39c7",
        "colab": {
          "base_uri": "https://localhost:8080/",
          "height": 106
        },
        "id": "x1UK12yOc3zu"
      },
      "outputs": [
        {
          "output_type": "execute_result",
          "data": {
            "text/plain": [
              "<schemdraw.schemdraw.Drawing at 0x7fa9fdc3ce80>"
            ],
            "image/svg+xml": "<?xml version=\"1.0\" encoding=\"utf-8\" standalone=\"no\"?>\n<!DOCTYPE svg PUBLIC \"-//W3C//DTD SVG 1.1//EN\"\n  \"http://www.w3.org/Graphics/SVG/1.1/DTD/svg11.dtd\">\n<!-- Created with matplotlib (https://matplotlib.org/) -->\n<svg height=\"63.7pt\" version=\"1.1\" viewBox=\"0 0 158.016 63.7\" width=\"158.016pt\" xmlns=\"http://www.w3.org/2000/svg\" xmlns:xlink=\"http://www.w3.org/1999/xlink\">\n <defs>\n  <style type=\"text/css\">\n*{stroke-linecap:butt;stroke-linejoin:round;}\n  </style>\n </defs>\n <g id=\"figure_1\">\n  <g id=\"patch_1\">\n   <path d=\"M 0 63.7 \nL 158.016 63.7 \nL 158.016 0 \nL 0 0 \nz\n\" style=\"fill:#ffffff;\"/>\n  </g>\n  <g id=\"axes_1\">\n   <g id=\"patch_2\">\n    <path clip-path=\"url(#p2bd67590a7)\" d=\"M 77.0088 38.582 \nC 77.982626 38.582 78.916697 38.195095 79.605296 37.506496 \nC 80.293895 36.817897 80.6808 35.883826 80.6808 34.91 \nC 80.6808 33.936174 80.293895 33.002103 79.605296 32.313504 \nC 78.916697 31.624905 77.982626 31.238 77.0088 31.238 \nC 76.034974 31.238 75.100903 31.624905 74.412304 32.313504 \nC 73.723705 33.002103 73.3368 33.936174 73.3368 34.91 \nC 73.3368 35.883826 73.723705 36.817897 74.412304 37.506496 \nC 75.100903 38.195095 76.034974 38.582 77.0088 38.582 \nz\n\" style=\"fill:none;stroke:#000000;stroke-linejoin:miter;stroke-width:2;\"/>\n   </g>\n   <g id=\"line2d_1\">\n    <path clip-path=\"url(#p2bd67590a7)\" d=\"M 58.0368 50.21 \nL 59.017074 50.178565 \nL 59.993321 50.084387 \nL 60.961527 49.927855 \nL 61.917715 49.709611 \nL 62.857956 49.430553 \nL 63.778385 49.091826 \nL 64.675221 48.694824 \nL 65.544779 48.241176 \nL 66.383484 47.732748 \nL 67.187891 47.171628 \nL 67.954694 46.560123 \nL 68.680743 45.900745 \nL 69.363053 45.196204 \nL 69.998822 44.449394 \nL 70.585435 43.663385 \nL 71.120484 42.841406 \nL 71.601769 41.986836 \nL 72.027313 41.103185 \nL 72.395367 40.194085 \nL 72.704418 39.263272 \nL 72.953197 38.31457 \nL 73.140681 37.351878 \nL 73.2661 36.379152 \nL 73.328939 35.400389 \nL 73.328939 34.419611 \nL 73.2661 33.440848 \nL 73.140681 32.468122 \nL 72.953197 31.50543 \nL 72.704418 30.556728 \nL 72.395367 29.625915 \nL 72.027313 28.716815 \nL 71.601769 27.833164 \nL 71.120484 26.978594 \nL 70.585435 26.156615 \nL 69.998822 25.370606 \nL 69.363053 24.623796 \nL 68.680743 23.919255 \nL 67.954694 23.259877 \nL 67.187891 22.648372 \nL 66.383484 22.087252 \nL 65.544779 21.578824 \nL 64.675221 21.125176 \nL 63.778385 20.728174 \nL 62.857956 20.389447 \nL 61.917715 20.110389 \nL 60.961527 19.892145 \nL 59.993321 19.735613 \nL 59.017074 19.641435 \nL 58.0368 19.61 \nL 58.0368 19.61 \nL 38.1468 19.61 \nL 38.1468 34.91 \nL 38.1468 50.21 \nL 58.0368 50.21 \n\" style=\"fill:none;stroke:#000000;stroke-linecap:round;stroke-width:2;\"/>\n   </g>\n   <g id=\"line2d_2\">\n    <path clip-path=\"url(#p2bd67590a7)\" d=\"M 27.4368 42.56 \nL 38.1468 42.56 \n\" style=\"fill:none;stroke:#000000;stroke-linecap:round;stroke-width:2;\"/>\n   </g>\n   <g id=\"line2d_3\">\n    <path clip-path=\"url(#p2bd67590a7)\" d=\"M 27.4368 27.26 \nL 38.1468 27.26 \n\" style=\"fill:none;stroke:#000000;stroke-linecap:round;stroke-width:2;\"/>\n   </g>\n   <g id=\"line2d_4\">\n    <path clip-path=\"url(#p2bd67590a7)\" d=\"M 80.6808 34.91 \nL 84.0468 34.91 \n\" style=\"fill:none;stroke:#000000;stroke-linecap:round;stroke-width:2;\"/>\n   </g>\n   <g id=\"text_1\">\n    <g clip-path=\"url(#p2bd67590a7)\">\n     <!-- $A nand B$ -->\n     <defs>\n      <path d=\"M 36.8125 72.90625 \nL 48 72.90625 \nL 61.53125 0 \nL 51.21875 0 \nL 48.1875 18.703125 \nL 15.375 18.703125 \nL 5.078125 0 \nL -5.328125 0 \nz\nM 40.375 63.1875 \nL 19.921875 26.90625 \nL 46.6875 26.90625 \nz\n\" id=\"DejaVuSans-Oblique-65\"/>\n      <path d=\"M 55.71875 33.015625 \nL 49.3125 0 \nL 40.28125 0 \nL 46.6875 32.671875 \nQ 47.125 34.96875 47.359375 36.71875 \nQ 47.609375 38.484375 47.609375 39.5 \nQ 47.609375 43.609375 45.015625 45.890625 \nQ 42.4375 48.1875 37.796875 48.1875 \nQ 30.5625 48.1875 25.34375 43.375 \nQ 20.125 38.578125 18.5 30.328125 \nL 12.5 0 \nL 3.515625 0 \nL 14.109375 54.6875 \nL 23.09375 54.6875 \nL 21.296875 46.09375 \nQ 25.046875 50.828125 30.3125 53.40625 \nQ 35.59375 56 41.40625 56 \nQ 48.640625 56 52.609375 52.09375 \nQ 56.59375 48.1875 56.59375 41.109375 \nQ 56.59375 39.359375 56.375 37.359375 \nQ 56.15625 35.359375 55.71875 33.015625 \nz\n\" id=\"DejaVuSans-Oblique-110\"/>\n      <path d=\"M 53.71875 31.203125 \nL 47.609375 0 \nL 38.625 0 \nL 40.28125 8.296875 \nQ 36.328125 3.421875 31.265625 1 \nQ 26.21875 -1.421875 20.015625 -1.421875 \nQ 13.03125 -1.421875 8.5625 2.84375 \nQ 4.109375 7.125 4.109375 13.8125 \nQ 4.109375 23.390625 11.75 28.953125 \nQ 19.390625 34.515625 32.8125 34.515625 \nL 45.3125 34.515625 \nL 45.796875 36.921875 \nQ 45.90625 37.3125 45.953125 37.765625 \nQ 46 38.234375 46 39.203125 \nQ 46 43.5625 42.453125 45.96875 \nQ 38.921875 48.390625 32.515625 48.390625 \nQ 28.125 48.390625 23.5 47.265625 \nQ 18.890625 46.140625 14.015625 43.890625 \nL 15.578125 52.203125 \nQ 20.65625 54.109375 25.515625 55.046875 \nQ 30.375 56 34.90625 56 \nQ 44.578125 56 49.625 51.796875 \nQ 54.6875 47.609375 54.6875 39.59375 \nQ 54.6875 37.984375 54.4375 35.8125 \nQ 54.203125 33.640625 53.71875 31.203125 \nz\nM 44 27.484375 \nL 35.015625 27.484375 \nQ 23.96875 27.484375 18.671875 24.53125 \nQ 13.375 21.578125 13.375 15.375 \nQ 13.375 11.078125 16.078125 8.640625 \nQ 18.796875 6.203125 23.578125 6.203125 \nQ 30.90625 6.203125 36.375 11.453125 \nQ 41.84375 16.703125 43.609375 25.484375 \nz\n\" id=\"DejaVuSans-Oblique-97\"/>\n      <path d=\"M 41.796875 8.203125 \nQ 38.1875 3.46875 33.25 1.015625 \nQ 28.328125 -1.421875 22.3125 -1.421875 \nQ 14.109375 -1.421875 9.34375 4.171875 \nQ 4.59375 9.765625 4.59375 19.484375 \nQ 4.59375 27.59375 7.46875 34.9375 \nQ 10.359375 42.28125 15.828125 48.09375 \nQ 19.4375 51.953125 23.96875 53.96875 \nQ 28.515625 56 33.5 56 \nQ 38.765625 56 42.796875 53.453125 \nQ 46.828125 50.921875 49.03125 46.1875 \nL 54.890625 75.984375 \nL 63.921875 75.984375 \nL 49.125 0 \nL 40.09375 0 \nz\nM 13.921875 21.09375 \nQ 13.921875 14.015625 17.109375 10.0625 \nQ 20.3125 6.109375 25.984375 6.109375 \nQ 30.171875 6.109375 33.765625 8.125 \nQ 37.359375 10.15625 40.09375 14.109375 \nQ 42.96875 18.21875 44.625 23.578125 \nQ 46.296875 28.953125 46.296875 34.1875 \nQ 46.296875 40.96875 43.09375 44.765625 \nQ 39.890625 48.578125 34.28125 48.578125 \nQ 30.03125 48.578125 26.359375 46.578125 \nQ 22.703125 44.578125 20.125 40.828125 \nQ 17.28125 36.765625 15.59375 31.390625 \nQ 13.921875 26.03125 13.921875 21.09375 \nz\n\" id=\"DejaVuSans-Oblique-100\"/>\n      <path d=\"M 16.890625 72.90625 \nL 42.09375 72.90625 \nQ 52.34375 72.90625 57.421875 69.09375 \nQ 62.5 65.28125 62.5 57.625 \nQ 62.5 50.59375 58.125 45.484375 \nQ 53.765625 40.375 46.6875 39.3125 \nQ 52.734375 37.9375 55.765625 34.078125 \nQ 58.796875 30.21875 58.796875 23.78125 \nQ 58.796875 12.796875 50.65625 6.390625 \nQ 42.53125 0 28.421875 0 \nL 2.6875 0 \nz\nM 19.28125 34.8125 \nL 14.109375 8.109375 \nL 29.984375 8.109375 \nQ 38.921875 8.109375 43.75 12.203125 \nQ 48.578125 16.3125 48.578125 23.78125 \nQ 48.578125 29.546875 45.375 32.171875 \nQ 42.1875 34.8125 35.109375 34.8125 \nz\nM 25.09375 64.796875 \nL 20.796875 42.828125 \nL 35.5 42.828125 \nQ 43.359375 42.828125 47.78125 46.234375 \nQ 52.203125 49.65625 52.203125 55.71875 \nQ 52.203125 60.453125 49.21875 62.625 \nQ 46.234375 64.796875 39.703125 64.796875 \nz\n\" id=\"DejaVuSans-Oblique-66\"/>\n     </defs>\n     <g transform=\"translate(87.1068 38.359219)scale(0.125 -0.125)\">\n      <use transform=\"translate(0 0.015625)\" xlink:href=\"#DejaVuSans-Oblique-65\"/>\n      <use transform=\"translate(68.408203 0.015625)\" xlink:href=\"#DejaVuSans-Oblique-110\"/>\n      <use transform=\"translate(131.787109 0.015625)\" xlink:href=\"#DejaVuSans-Oblique-97\"/>\n      <use transform=\"translate(193.066406 0.015625)\" xlink:href=\"#DejaVuSans-Oblique-110\"/>\n      <use transform=\"translate(256.445312 0.015625)\" xlink:href=\"#DejaVuSans-Oblique-100\"/>\n      <use transform=\"translate(319.921875 0.015625)\" xlink:href=\"#DejaVuSans-Oblique-66\"/>\n     </g>\n    </g>\n   </g>\n   <g id=\"text_2\">\n    <g clip-path=\"url(#p2bd67590a7)\">\n     <!-- $A$ -->\n     <g transform=\"translate(15.7518 30.709219)scale(0.125 -0.125)\">\n      <use transform=\"translate(0 0.09375)\" xlink:href=\"#DejaVuSans-Oblique-65\"/>\n     </g>\n    </g>\n   </g>\n   <g id=\"text_3\">\n    <g clip-path=\"url(#p2bd67590a7)\">\n     <!-- $B$ -->\n     <g transform=\"translate(15.7518 46.009219)scale(0.125 -0.125)\">\n      <use transform=\"translate(0 0.09375)\" xlink:href=\"#DejaVuSans-Oblique-66\"/>\n     </g>\n    </g>\n   </g>\n  </g>\n </g>\n <defs>\n  <clipPath id=\"p2bd67590a7\">\n   <rect height=\"49.3\" width=\"143.616\" x=\"7.2\" y=\"7.2\"/>\n  </clipPath>\n </defs>\n</svg>\n",
            "image/png": "[encoded data removed]"
          },
          "metadata": {},
          "execution_count": 9
        }
      ],
      "source": [
        "# 入力＋出力\n",
        "\n",
        "logicparse('$A$ nand $B$', outlabel='$A nand B$')"
      ]
    },
    {
      "cell_type": "markdown",
      "source": [
        "inputして論理演算の結果を表示"
      ],
      "metadata": {
        "id": "zt-bbv595UEa"
      }
    },
    {
      "cell_type": "code",
      "source": [
        "\n",
        "# NAND論理ゲート\n",
        "def NAND(a, b):\n",
        "  c = int(not(a and b))\n",
        "  return c\n",
        "\n",
        "# a, bに0か１を入れる\n",
        "a,b=(int(x) for x in input('a b にそれぞれ1か0を入れる：').split())\n",
        "\n",
        "# SchemeDraw表記\n",
        "d = Drawing(unit=.5)\n",
        "d += (NA := logic.Nand())\n",
        "d += logic.Line().left().at(NA.in1).label(str(a), 'left')\n",
        "d += logic.Line().left().at(NA.in2).label(str(b), 'left')\n",
        "d += logic.Line().right().at(NA.end)\n",
        "\n",
        "# 出力の表示\n",
        "# NAND()の計算結果をcに代入\n",
        "c = NAND(a,b)\n",
        "\n",
        "schemfig = d.draw()\n",
        "schemfig.ax.text(1.9, 0.1, c, size = 12, color = \"red\");\n",
        "display(schemfig)\n"
      ],
      "metadata": {
        "colab": {
          "base_uri": "https://localhost:8080/",
          "height": 124
        },
        "outputId": "448815c8-b866-434b-d3fc-7d4e65bb454c",
        "id": "NaD5WgRROIGI"
      },
      "execution_count": null,
      "outputs": [
        {
          "name": "stdout",
          "output_type": "stream",
          "text": [
            "a b にそれぞれ1か0を入れる：0 1\n"
          ]
        },
        {
          "output_type": "display_data",
          "data": {
            "text/plain": [
              "<schemdraw.backends.mpl.Figure object at 0x7f4364cdd5b0>"
            ],
            "image/svg+xml": "<?xml version=\"1.0\" encoding=\"utf-8\" standalone=\"no\"?>\n<!DOCTYPE svg PUBLIC \"-//W3C//DTD SVG 1.1//EN\"\n  \"http://www.w3.org/Graphics/SVG/1.1/DTD/svg11.dtd\">\n<!-- Created with matplotlib (https://matplotlib.org/) -->\n<svg height=\"63.7pt\" version=\"1.1\" viewBox=\"0 0 123.693 63.7\" width=\"123.693pt\" xmlns=\"http://www.w3.org/2000/svg\" xmlns:xlink=\"http://www.w3.org/1999/xlink\">\n <defs>\n  <style type=\"text/css\">\n*{stroke-linecap:butt;stroke-linejoin:round;}\n  </style>\n </defs>\n <g id=\"figure_1\">\n  <g id=\"patch_1\">\n   <path d=\"M 0 63.7 \nL 123.693 63.7 \nL 123.693 -0 \nL 0 -0 \nz\n\" style=\"fill:#ffffff;\"/>\n  </g>\n  <g id=\"axes_1\">\n   <g id=\"patch_2\">\n    <path clip-path=\"url(#p41355de23f)\" d=\"M 91.095 38.582 \nC 92.068826 38.582 93.002897 38.195095 93.691496 37.506496 \nC 94.380095 36.817897 94.767 35.883826 94.767 34.91 \nC 94.767 33.936174 94.380095 33.002103 93.691496 32.313504 \nC 93.002897 31.624905 92.068826 31.238 91.095 31.238 \nC 90.121174 31.238 89.187103 31.624905 88.498504 32.313504 \nC 87.809905 33.002103 87.423 33.936174 87.423 34.91 \nC 87.423 35.883826 87.809905 36.817897 88.498504 37.506496 \nC 89.187103 38.195095 90.121174 38.582 91.095 38.582 \nz\n\" style=\"fill:none;stroke:#000000;stroke-linejoin:miter;stroke-width:2;\"/>\n   </g>\n   <g id=\"line2d_1\">\n    <path clip-path=\"url(#p41355de23f)\" d=\"M 72.123 50.21 \nL 73.103274 50.178565 \nL 74.079521 50.084387 \nL 75.047727 49.927855 \nL 76.003915 49.709611 \nL 76.944156 49.430553 \nL 77.864585 49.091826 \nL 78.761421 48.694824 \nL 79.630979 48.241176 \nL 80.469684 47.732748 \nL 81.274091 47.171628 \nL 82.040894 46.560123 \nL 82.766943 45.900745 \nL 83.449253 45.196204 \nL 84.085022 44.449394 \nL 84.671635 43.663385 \nL 85.206684 42.841406 \nL 85.687969 41.986836 \nL 86.113513 41.103185 \nL 86.481567 40.194085 \nL 86.790618 39.263272 \nL 87.039397 38.31457 \nL 87.226881 37.351878 \nL 87.3523 36.379152 \nL 87.415139 35.400389 \nL 87.415139 34.419611 \nL 87.3523 33.440848 \nL 87.226881 32.468122 \nL 87.039397 31.50543 \nL 86.790618 30.556728 \nL 86.481567 29.625915 \nL 86.113513 28.716815 \nL 85.687969 27.833164 \nL 85.206684 26.978594 \nL 84.671635 26.156615 \nL 84.085022 25.370606 \nL 83.449253 24.623796 \nL 82.766943 23.919255 \nL 82.040894 23.259877 \nL 81.274091 22.648372 \nL 80.469684 22.087252 \nL 79.630979 21.578824 \nL 78.761421 21.125176 \nL 77.864585 20.728174 \nL 76.944156 20.389447 \nL 76.003915 20.110389 \nL 75.047727 19.892145 \nL 74.079521 19.735613 \nL 73.103274 19.641435 \nL 72.123 19.61 \nL 72.123 19.61 \nL 52.233 19.61 \nL 52.233 34.91 \nL 52.233 50.21 \nL 72.123 50.21 \n\" style=\"fill:none;stroke:#000000;stroke-linecap:round;stroke-width:2;\"/>\n   </g>\n   <g id=\"line2d_2\">\n    <path clip-path=\"url(#p41355de23f)\" d=\"M 41.523 42.56 \nL 52.233 42.56 \n\" style=\"fill:none;stroke:#000000;stroke-linecap:round;stroke-width:2;\"/>\n   </g>\n   <g id=\"line2d_3\">\n    <path clip-path=\"url(#p41355de23f)\" d=\"M 41.523 27.26 \nL 52.233 27.26 \n\" style=\"fill:none;stroke:#000000;stroke-linecap:round;stroke-width:2;\"/>\n   </g>\n   <g id=\"line2d_4\">\n    <path clip-path=\"url(#p41355de23f)\" d=\"M 94.767 34.91 \nL 98.133 34.91 \n\" style=\"fill:none;stroke:#000000;stroke-linecap:round;stroke-width:2;\"/>\n   </g>\n   <g id=\"line2d_5\">\n    <path clip-path=\"url(#p41355de23f)\" d=\"M 41.523 27.26 \nL 33.873 27.26 \nL 26.223 27.26 \n\" style=\"fill:none;stroke:#000000;stroke-linecap:round;stroke-width:2;\"/>\n   </g>\n   <g id=\"line2d_6\">\n    <path clip-path=\"url(#p41355de23f)\" d=\"M 41.523 42.56 \nL 33.873 42.56 \nL 26.223 42.56 \n\" style=\"fill:none;stroke:#000000;stroke-linecap:round;stroke-width:2;\"/>\n   </g>\n   <g id=\"line2d_7\">\n    <path clip-path=\"url(#p41355de23f)\" d=\"M 98.133 34.91 \nL 105.783 34.91 \nL 113.433 34.91 \n\" style=\"fill:none;stroke:#000000;stroke-linecap:round;stroke-width:2;\"/>\n   </g>\n   <g id=\"text_1\">\n    <g clip-path=\"url(#p41355de23f)\">\n     <!-- 0 -->\n     <defs>\n      <path d=\"M 31.78125 66.40625 \nQ 24.171875 66.40625 20.328125 58.90625 \nQ 16.5 51.421875 16.5 36.375 \nQ 16.5 21.390625 20.328125 13.890625 \nQ 24.171875 6.390625 31.78125 6.390625 \nQ 39.453125 6.390625 43.28125 13.890625 \nQ 47.125 21.390625 47.125 36.375 \nQ 47.125 51.421875 43.28125 58.90625 \nQ 39.453125 66.40625 31.78125 66.40625 \nz\nM 31.78125 74.21875 \nQ 44.046875 74.21875 50.515625 64.515625 \nQ 56.984375 54.828125 56.984375 36.375 \nQ 56.984375 17.96875 50.515625 8.265625 \nQ 44.046875 -1.421875 31.78125 -1.421875 \nQ 19.53125 -1.421875 13.0625 8.265625 \nQ 6.59375 17.96875 6.59375 36.375 \nQ 6.59375 54.828125 13.0625 64.515625 \nQ 19.53125 74.21875 31.78125 74.21875 \nz\n\" id=\"DejaVuSans-48\"/>\n     </defs>\n     <g transform=\"translate(15.209875 30.709219)scale(0.125 -0.125)\">\n      <use xlink:href=\"#DejaVuSans-48\"/>\n     </g>\n    </g>\n   </g>\n   <g id=\"text_2\">\n    <g clip-path=\"url(#p41355de23f)\">\n     <!-- 1 -->\n     <defs>\n      <path d=\"M 12.40625 8.296875 \nL 28.515625 8.296875 \nL 28.515625 63.921875 \nL 10.984375 60.40625 \nL 10.984375 69.390625 \nL 28.421875 72.90625 \nL 38.28125 72.90625 \nL 38.28125 8.296875 \nL 54.390625 8.296875 \nL 54.390625 0 \nL 12.40625 0 \nz\n\" id=\"DejaVuSans-49\"/>\n     </defs>\n     <g transform=\"translate(15.209875 46.009219)scale(0.125 -0.125)\">\n      <use xlink:href=\"#DejaVuSans-49\"/>\n     </g>\n    </g>\n   </g>\n   <g id=\"text_3\">\n    <!-- 1 -->\n    <g style=\"fill:#ff0000;\" transform=\"translate(99.663 31.85)scale(0.12 -0.12)\">\n     <use xlink:href=\"#DejaVuSans-49\"/>\n    </g>\n   </g>\n  </g>\n </g>\n <defs>\n  <clipPath id=\"p41355de23f\">\n   <rect height=\"49.3\" width=\"109.293\" x=\"7.2\" y=\"7.2\"/>\n  </clipPath>\n </defs>\n</svg>\n",
            "image/png": "[encoded data removed]"
          },
          "metadata": {}
        }
      ]
    },
    {
      "cell_type": "markdown",
      "source": [
        "# ★ NOR"
      ],
      "metadata": {
        "id": "3XFpG9YHwTdV"
      }
    },
    {
      "cell_type": "markdown",
      "metadata": {
        "id": "zEainDt1yqNA"
      },
      "source": [
        "**否定論理和の真理値表**\n",
        "\n",
        "| A | B | A nor B |\n",
        "| :---: |:-----:|:---:|\n",
        "| 0 | 0 | 1 |\n",
        "| 0 | 1 | 0 |\n",
        "| 1 | 0 | 0 |\n",
        "| 1 | 1 | 0 |\n"
      ]
    },
    {
      "cell_type": "markdown",
      "source": [
        "SchemDrawで真理値表\n",
        "\n",
        "(SchemDrawの準備必要) ([SchemDraw](#SchemDraw-id))"
      ],
      "metadata": {
        "id": "P534rtrn4g-D"
      }
    },
    {
      "cell_type": "code",
      "source": [
        "table = '''\n",
        " A | B | A nor B\n",
        "---|---|---\n",
        " 0 | 0 | 1\n",
        " 0 | 1 | 0\n",
        " 1 | 0 | 0\n",
        " 1 | 1 | 0\n",
        "'''\n",
        "logic.Table(table, colfmt='c|c||c')"
      ],
      "metadata": {
        "colab": {
          "base_uri": "https://localhost:8080/",
          "height": 176
        },
        "outputId": "e492517c-9e3b-4551-e53f-eef1d2390513",
        "id": "HAPmLK8zYbvR"
      },
      "execution_count": null,
      "outputs": [
        {
          "output_type": "execute_result",
          "data": {
            "text/plain": [
              "<schemdraw.logic.table.Table at 0x7fa9fdc5c5b0>"
            ],
            "image/svg+xml": "<?xml version=\"1.0\" encoding=\"utf-8\" standalone=\"no\"?>\n<!DOCTYPE svg PUBLIC \"-//W3C//DTD SVG 1.1//EN\"\n  \"http://www.w3.org/Graphics/SVG/1.1/DTD/svg11.dtd\">\n<!-- Created with matplotlib (https://matplotlib.org/) -->\n<svg height=\"116.4pt\" version=\"1.1\" viewBox=\"0 0 110.6064 116.4\" width=\"110.6064pt\" xmlns=\"http://www.w3.org/2000/svg\" xmlns:xlink=\"http://www.w3.org/1999/xlink\">\n <defs>\n  <style type=\"text/css\">\n*{stroke-linecap:butt;stroke-linejoin:round;}\n  </style>\n </defs>\n <g id=\"figure_1\">\n  <g id=\"patch_1\">\n   <path d=\"M 0 116.4 \nL 110.6064 116.4 \nL 110.6064 0 \nL 0 0 \nz\n\" style=\"fill:#ffffff;\"/>\n  </g>\n  <g id=\"axes_1\">\n   <g id=\"line2d_1\">\n    <path clip-path=\"url(#p8e3013e235)\" d=\"M 29.3544 13.32 \nL 29.3544 100.02 \n\" style=\"fill:none;stroke:#000000;stroke-linecap:round;\"/>\n   </g>\n   <g id=\"line2d_2\">\n    <path clip-path=\"url(#p8e3013e235)\" d=\"M 47.5308 13.32 \nL 47.5308 100.02 \n\" style=\"fill:none;stroke:#000000;stroke-linecap:round;\"/>\n   </g>\n   <g id=\"line2d_3\">\n    <path clip-path=\"url(#p8e3013e235)\" d=\"M 49.3668 13.32 \nL 49.3668 100.02 \n\" style=\"fill:none;stroke:#000000;stroke-linecap:round;\"/>\n   </g>\n   <g id=\"line2d_4\">\n    <path clip-path=\"url(#p8e3013e235)\" d=\"M 10.26 30.66 \nL 94.2264 30.66 \n\" style=\"fill:none;stroke:#000000;stroke-linecap:round;\"/>\n   </g>\n   <g id=\"text_1\">\n    <g clip-path=\"url(#p8e3013e235)\">\n     <!-- A -->\n     <defs>\n      <path d=\"M 34.1875 63.1875 \nL 20.796875 26.90625 \nL 47.609375 26.90625 \nz\nM 28.609375 72.90625 \nL 39.796875 72.90625 \nL 67.578125 0 \nL 57.328125 0 \nL 50.6875 18.703125 \nL 17.828125 18.703125 \nL 11.1875 0 \nL 0.78125 0 \nz\n\" id=\"DejaVuSans-65\"/>\n     </defs>\n     <g transform=\"translate(16.215872 28.476328)scale(0.105 -0.105)\">\n      <use xlink:href=\"#DejaVuSans-65\"/>\n     </g>\n    </g>\n   </g>\n   <g id=\"text_2\">\n    <g clip-path=\"url(#p8e3013e235)\">\n     <!-- B -->\n     <defs>\n      <path d=\"M 19.671875 34.8125 \nL 19.671875 8.109375 \nL 35.5 8.109375 \nQ 43.453125 8.109375 47.28125 11.40625 \nQ 51.125 14.703125 51.125 21.484375 \nQ 51.125 28.328125 47.28125 31.5625 \nQ 43.453125 34.8125 35.5 34.8125 \nz\nM 19.671875 64.796875 \nL 19.671875 42.828125 \nL 34.28125 42.828125 \nQ 41.5 42.828125 45.03125 45.53125 \nQ 48.578125 48.25 48.578125 53.8125 \nQ 48.578125 59.328125 45.03125 62.0625 \nQ 41.5 64.796875 34.28125 64.796875 \nz\nM 9.8125 72.90625 \nL 35.015625 72.90625 \nQ 46.296875 72.90625 52.390625 68.21875 \nQ 58.5 63.53125 58.5 54.890625 \nQ 58.5 48.1875 55.375 44.234375 \nQ 52.25 40.28125 46.1875 39.3125 \nQ 53.46875 37.75 57.5 32.78125 \nQ 61.53125 27.828125 61.53125 20.40625 \nQ 61.53125 10.640625 54.890625 5.3125 \nQ 48.25 0 35.984375 0 \nL 9.8125 0 \nz\n\" id=\"DejaVuSans-66\"/>\n     </defs>\n     <g transform=\"translate(35.299608 28.476328)scale(0.105 -0.105)\">\n      <use xlink:href=\"#DejaVuSans-66\"/>\n     </g>\n    </g>\n   </g>\n   <g id=\"text_3\">\n    <g clip-path=\"url(#p8e3013e235)\">\n     <!-- A nor B -->\n     <defs>\n      <path id=\"DejaVuSans-32\"/>\n      <path d=\"M 54.890625 33.015625 \nL 54.890625 0 \nL 45.90625 0 \nL 45.90625 32.71875 \nQ 45.90625 40.484375 42.875 44.328125 \nQ 39.84375 48.1875 33.796875 48.1875 \nQ 26.515625 48.1875 22.3125 43.546875 \nQ 18.109375 38.921875 18.109375 30.90625 \nL 18.109375 0 \nL 9.078125 0 \nL 9.078125 54.6875 \nL 18.109375 54.6875 \nL 18.109375 46.1875 \nQ 21.34375 51.125 25.703125 53.5625 \nQ 30.078125 56 35.796875 56 \nQ 45.21875 56 50.046875 50.171875 \nQ 54.890625 44.34375 54.890625 33.015625 \nz\n\" id=\"DejaVuSans-110\"/>\n      <path d=\"M 30.609375 48.390625 \nQ 23.390625 48.390625 19.1875 42.75 \nQ 14.984375 37.109375 14.984375 27.296875 \nQ 14.984375 17.484375 19.15625 11.84375 \nQ 23.34375 6.203125 30.609375 6.203125 \nQ 37.796875 6.203125 41.984375 11.859375 \nQ 46.1875 17.53125 46.1875 27.296875 \nQ 46.1875 37.015625 41.984375 42.703125 \nQ 37.796875 48.390625 30.609375 48.390625 \nz\nM 30.609375 56 \nQ 42.328125 56 49.015625 48.375 \nQ 55.71875 40.765625 55.71875 27.296875 \nQ 55.71875 13.875 49.015625 6.21875 \nQ 42.328125 -1.421875 30.609375 -1.421875 \nQ 18.84375 -1.421875 12.171875 6.21875 \nQ 5.515625 13.875 5.515625 27.296875 \nQ 5.515625 40.765625 12.171875 48.375 \nQ 18.84375 56 30.609375 56 \nz\n\" id=\"DejaVuSans-111\"/>\n      <path d=\"M 41.109375 46.296875 \nQ 39.59375 47.171875 37.8125 47.578125 \nQ 36.03125 48 33.890625 48 \nQ 26.265625 48 22.1875 43.046875 \nQ 18.109375 38.09375 18.109375 28.8125 \nL 18.109375 0 \nL 9.078125 0 \nL 9.078125 54.6875 \nL 18.109375 54.6875 \nL 18.109375 46.1875 \nQ 20.953125 51.171875 25.484375 53.578125 \nQ 30.03125 56 36.53125 56 \nQ 37.453125 56 38.578125 55.875 \nQ 39.703125 55.765625 41.0625 55.515625 \nz\n\" id=\"DejaVuSans-114\"/>\n     </defs>\n     <g transform=\"translate(52.109475 28.476328)scale(0.105 -0.105)\">\n      <use xlink:href=\"#DejaVuSans-65\"/>\n      <use x=\"68.408203\" xlink:href=\"#DejaVuSans-32\"/>\n      <use x=\"100.195312\" xlink:href=\"#DejaVuSans-110\"/>\n      <use x=\"163.574219\" xlink:href=\"#DejaVuSans-111\"/>\n      <use x=\"224.755859\" xlink:href=\"#DejaVuSans-114\"/>\n      <use x=\"265.869141\" xlink:href=\"#DejaVuSans-32\"/>\n      <use x=\"297.65625\" xlink:href=\"#DejaVuSans-66\"/>\n     </g>\n    </g>\n   </g>\n   <g id=\"text_4\">\n    <g clip-path=\"url(#p8e3013e235)\">\n     <!-- 0 -->\n     <defs>\n      <path d=\"M 31.78125 66.40625 \nQ 24.171875 66.40625 20.328125 58.90625 \nQ 16.5 51.421875 16.5 36.375 \nQ 16.5 21.390625 20.328125 13.890625 \nQ 24.171875 6.390625 31.78125 6.390625 \nQ 39.453125 6.390625 43.28125 13.890625 \nQ 47.125 21.390625 47.125 36.375 \nQ 47.125 51.421875 43.28125 58.90625 \nQ 39.453125 66.40625 31.78125 66.40625 \nz\nM 31.78125 74.21875 \nQ 44.046875 74.21875 50.515625 64.515625 \nQ 56.984375 54.828125 56.984375 36.375 \nQ 56.984375 17.96875 50.515625 8.265625 \nQ 44.046875 -1.421875 31.78125 -1.421875 \nQ 19.53125 -1.421875 13.0625 8.265625 \nQ 6.59375 17.96875 6.59375 36.375 \nQ 6.59375 54.828125 13.0625 64.515625 \nQ 19.53125 74.21875 31.78125 74.21875 \nz\n\" id=\"DejaVuSans-48\"/>\n     </defs>\n     <g transform=\"translate(16.466888 45.816328)scale(0.105 -0.105)\">\n      <use xlink:href=\"#DejaVuSans-48\"/>\n     </g>\n    </g>\n   </g>\n   <g id=\"text_5\">\n    <g clip-path=\"url(#p8e3013e235)\">\n     <!-- 0 -->\n     <g transform=\"translate(35.561287 45.816328)scale(0.105 -0.105)\">\n      <use xlink:href=\"#DejaVuSans-48\"/>\n     </g>\n    </g>\n   </g>\n   <g id=\"text_6\">\n    <g clip-path=\"url(#p8e3013e235)\">\n     <!-- 1 -->\n     <defs>\n      <path d=\"M 12.40625 8.296875 \nL 28.515625 8.296875 \nL 28.515625 63.921875 \nL 10.984375 60.40625 \nL 10.984375 69.390625 \nL 28.421875 72.90625 \nL 38.28125 72.90625 \nL 38.28125 8.296875 \nL 54.390625 8.296875 \nL 54.390625 0 \nL 12.40625 0 \nz\n\" id=\"DejaVuSans-49\"/>\n     </defs>\n     <g transform=\"translate(67.997288 45.816328)scale(0.105 -0.105)\">\n      <use xlink:href=\"#DejaVuSans-49\"/>\n     </g>\n    </g>\n   </g>\n   <g id=\"text_7\">\n    <g clip-path=\"url(#p8e3013e235)\">\n     <!-- 0 -->\n     <g transform=\"translate(16.466888 63.156328)scale(0.105 -0.105)\">\n      <use xlink:href=\"#DejaVuSans-48\"/>\n     </g>\n    </g>\n   </g>\n   <g id=\"text_8\">\n    <g clip-path=\"url(#p8e3013e235)\">\n     <!-- 1 -->\n     <g transform=\"translate(35.561287 63.156328)scale(0.105 -0.105)\">\n      <use xlink:href=\"#DejaVuSans-49\"/>\n     </g>\n    </g>\n   </g>\n   <g id=\"text_9\">\n    <g clip-path=\"url(#p8e3013e235)\">\n     <!-- 0 -->\n     <g transform=\"translate(67.997288 63.156328)scale(0.105 -0.105)\">\n      <use xlink:href=\"#DejaVuSans-48\"/>\n     </g>\n    </g>\n   </g>\n   <g id=\"text_10\">\n    <g clip-path=\"url(#p8e3013e235)\">\n     <!-- 1 -->\n     <g transform=\"translate(16.466888 80.496328)scale(0.105 -0.105)\">\n      <use xlink:href=\"#DejaVuSans-49\"/>\n     </g>\n    </g>\n   </g>\n   <g id=\"text_11\">\n    <g clip-path=\"url(#p8e3013e235)\">\n     <!-- 0 -->\n     <g transform=\"translate(35.561287 80.496328)scale(0.105 -0.105)\">\n      <use xlink:href=\"#DejaVuSans-48\"/>\n     </g>\n    </g>\n   </g>\n   <g id=\"text_12\">\n    <g clip-path=\"url(#p8e3013e235)\">\n     <!-- 0 -->\n     <g transform=\"translate(67.997288 80.496328)scale(0.105 -0.105)\">\n      <use xlink:href=\"#DejaVuSans-48\"/>\n     </g>\n    </g>\n   </g>\n   <g id=\"text_13\">\n    <g clip-path=\"url(#p8e3013e235)\">\n     <!-- 1 -->\n     <g transform=\"translate(16.466888 97.836328)scale(0.105 -0.105)\">\n      <use xlink:href=\"#DejaVuSans-49\"/>\n     </g>\n    </g>\n   </g>\n   <g id=\"text_14\">\n    <g clip-path=\"url(#p8e3013e235)\">\n     <!-- 1 -->\n     <g transform=\"translate(35.561287 97.836328)scale(0.105 -0.105)\">\n      <use xlink:href=\"#DejaVuSans-49\"/>\n     </g>\n    </g>\n   </g>\n   <g id=\"text_15\">\n    <g clip-path=\"url(#p8e3013e235)\">\n     <!-- 0 -->\n     <g transform=\"translate(67.997288 97.836328)scale(0.105 -0.105)\">\n      <use xlink:href=\"#DejaVuSans-48\"/>\n     </g>\n    </g>\n   </g>\n  </g>\n </g>\n <defs>\n  <clipPath id=\"p8e3013e235\">\n   <rect height=\"102\" width=\"96.2064\" x=\"7.2\" y=\"7.2\"/>\n  </clipPath>\n </defs>\n</svg>\n",
            "image/png": "[encoded data removed]"
          },
          "metadata": {},
          "execution_count": 10
        }
      ]
    },
    {
      "cell_type": "markdown",
      "source": [
        "pyplotのtableメソッド(関数)を利用して真理値表をPythonで作成"
      ],
      "metadata": {
        "id": "wa0gvLhsrQ0J"
      }
    },
    {
      "cell_type": "code",
      "source": [
        "#Not OR,否定論理和＝ORの結果を否定\n",
        "\n",
        "def NOR(a, b):\n",
        "  c = not(a or b)\n",
        "  return c\n",
        "\n",
        "# 別の書き方(ただし，別にOR(),NOT()関数作成が必要)\n",
        "def NOR(a,b):\n",
        "    c = OR(a,b)\n",
        "    d = NOT(c)\n",
        "    return d\n"
      ],
      "metadata": {
        "id": "3vK_ynvE7in0"
      },
      "execution_count": null,
      "outputs": []
    },
    {
      "cell_type": "code",
      "source": [
        "\n",
        "import numpy as np\n",
        "import matplotlib.pyplot as plt\n",
        " \n",
        "# Axesオブジェクト生成\n",
        "fig, ax = plt.subplots(figsize=(6,4))\n",
        "\n",
        "# x，y軸の目盛り設定\n",
        "xticks = np.arange(0,5,1)\n",
        "yticks = np.arange(0,4,1)\n",
        "ax.set_xticks(xticks)\n",
        "ax.set_yticks(yticks)\n",
        "\n",
        "# NORゲート\n",
        "def NOR(a, b):\n",
        "  c = int(not(a or b))\n",
        "  return c\n",
        "\n",
        "nor_00 = NOR(0,0)\n",
        "nor_01 = NOR(0,1)\n",
        "nor_10 = NOR(1,0)\n",
        "nor_11 = NOR(1,1)\n",
        "\n",
        "# 真理値表作成\n",
        "column_labels=[\"A\", \"B\", \"A nor B\"]\n",
        "\n",
        "data=[[0,0,nor_00],\n",
        "     [1,0,nor_10],\n",
        "     [0,1,nor_01],\n",
        "     [1,1,nor_11]]\n",
        "\n",
        "plt.table(cellText = data,\n",
        "        colLabels = column_labels,\n",
        "        cellLoc = 'center',\n",
        "        colWidths=[0.1,0.1,0.2],\n",
        "        loc='center'\n",
        "        )\n",
        "\n",
        "# コメント挿入\n",
        "ax.text(2, 2.5, 'A or B と逆の結果', size= 10, color = 'black', \n",
        "        ha='center', va='center')\n",
        "\n",
        "# 軸を消す\n",
        "ax.axis('off')\n",
        "\n",
        "plt.show()\n"
      ],
      "metadata": {
        "colab": {
          "base_uri": "https://localhost:8080/",
          "height": 248
        },
        "outputId": "45814cf3-00a9-45e9-b077-f129dcfed3a1",
        "id": "j55m3wkjrQ0K"
      },
      "execution_count": null,
      "outputs": [
        {
          "output_type": "display_data",
          "data": {
            "text/plain": [
              "<Figure size 432x288 with 1 Axes>"
            ],
            "image/png": "[encoded data removed]"
          },
          "metadata": {
            "needs_background": "light"
          }
        }
      ]
    },
    {
      "cell_type": "markdown",
      "source": [
        "**MIL_NOR記号作成**\n",
        "\n",
        "matplotlibのpatchesを使う\n",
        "\n",
        "OR記号と同じMIL記号を作成\n",
        "\n",
        "否定の〇記号をつける\n",
        "\n",
        "MIL記号の左下の座標を(p, q)として他の頂点をp,qで表す\n",
        "\n",
        "端子は2点を決めて線分をplot\n"
      ],
      "metadata": {
        "id": "RPr4me8frQ0K"
      }
    },
    {
      "cell_type": "markdown",
      "source": [
        "**NORゲート**\n",
        "\n",
        "Pythonの論理演算子 `not`と`or` を利用\n",
        "\n",
        "結果を整数にするために `int()` を使用"
      ],
      "metadata": {
        "id": "Q6tWeqWUrQ0L"
      }
    },
    {
      "cell_type": "code",
      "source": [
        "\n",
        "import numpy as np\n",
        "import matplotlib.pyplot as plt\n",
        "from matplotlib import patches\n",
        " \n",
        "# Axesオブジェクト生成\n",
        "fig, ax = plt.subplots(figsize=(6,6))\n",
        "\n",
        "# x，y軸の目盛り設定\n",
        "xticks = np.arange(0,10,1)\n",
        "yticks = np.arange(0,10,1)\n",
        "ax.set_xticks(xticks)\n",
        "ax.set_yticks(yticks)\n",
        "\n",
        " #軸の最大値・最小値を設定\n",
        "ax.set_xlim(0, 10)\n",
        "ax.set_ylim(0, 10)\n",
        "\n",
        "# グリッド設定\n",
        "ax.grid()\n",
        "\n",
        "# NORゲートのMIL記号作成\n",
        "def MIL_NOR(p, q):\n",
        "  # MIL記号\n",
        "  ax.plot([p, p+5.5-2*np.sqrt(3)], [q, q], color = 'black', linewidth=\"2\")\n",
        "  ax.plot([p, p+5.5-2*np.sqrt(3)], [q+4, q+4], color = 'black', linewidth=\"2\")\n",
        "  Arc1 = patches.Arc(xy=(p-2*np.sqrt(3),q+2), width=8, height=8, \n",
        "                     angle=0, theta1=330, theta2=30, linewidth=\"2\")\n",
        "  Arc2 = patches.Arc(xy=(p+5.5-2*np.sqrt(3),q), width=8, height=8, \n",
        "                     angle=0, theta1=30, theta2=90, linewidth=\"2\")\n",
        "  Arc3 = patches.Arc(xy=(p+5.5-2*np.sqrt(3),q+4), width=8, height=8, \n",
        "                     angle=0, theta1=270, theta2=330, linewidth=\"2\")\n",
        "  # 否定の〇記号\n",
        "  Cir = patches.Circle(xy=(p+6,q+2), radius=0.5, linewidth=\"2\", fill=False)\n",
        "   \n",
        "  ax.add_patch(Arc1)\n",
        "  ax.add_patch(Arc2)\n",
        "  ax.add_patch(Arc3)\n",
        "  ax.add_patch(Cir)\n",
        "  # 端子\n",
        "  ax.plot([p-0.5, p+0.4], [q+1, q+1], color = 'black', linewidth=\"2\")\n",
        "  ax.plot([p-0.5, p+0.4], [q+3, q+3], color = 'black', linewidth=\"2\")\n",
        "  ax.plot([p+6.5, p+7], [q+2, q+2], color = 'black', linewidth=\"2\")\n",
        "\n",
        "# NORゲート\n",
        "def NOR(a, b):\n",
        "  c = int(not(a or b))\n",
        "  return c\n",
        "\n",
        "# NORのMIL記号の配置\n",
        "MIL_NOR(2, 3)\n",
        "\n",
        "# a, bに0か１を入れる\n",
        "a,b=(int(x) for x in input('a b にそれぞれ1か0を入れる：').split())\n",
        "ax.text(1,6, a, size= 15, color = 'black', \n",
        "        horizontalalignment='center', verticalalignment='center')  #略：ha='center',va='center'\n",
        "ax.text(1,4, b, size= 15, color = 'black', \n",
        "        horizontalalignment='center', verticalalignment='center')\n",
        "\n",
        "# NORの計算結果を表示\n",
        "c = NOR(a,b)\n",
        "ax.text(9, 5.2, c, size = 15, color = \"red\")\n",
        "\n",
        "plt.show()\n"
      ],
      "metadata": {
        "colab": {
          "base_uri": "https://localhost:8080/",
          "height": 391
        },
        "outputId": "f38e4a43-9f53-40a1-ce2c-044f5600c3dc",
        "id": "s3F74rprrQ0L"
      },
      "execution_count": null,
      "outputs": [
        {
          "name": "stdout",
          "output_type": "stream",
          "text": [
            "a b にそれぞれ1か0を入れる：0 1\n"
          ]
        },
        {
          "output_type": "display_data",
          "data": {
            "text/plain": [
              "<Figure size 432x432 with 1 Axes>"
            ],
            "image/png": "[encoded data removed]"
          },
          "metadata": {
            "needs_background": "light"
          }
        }
      ]
    },
    {
      "cell_type": "markdown",
      "source": [
        "SchemDrawで論理ゲート作成"
      ],
      "metadata": {
        "id": "XpMeo8yEc8pg"
      }
    },
    {
      "cell_type": "code",
      "source": [
        "# 記号だけ\n",
        "\n",
        "logic.Nor()"
      ],
      "metadata": {
        "colab": {
          "base_uri": "https://localhost:8080/",
          "height": 88
        },
        "outputId": "2601659d-7de7-4a44-e296-59abfb2e0dfb",
        "id": "vaE_937Vc8pg"
      },
      "execution_count": null,
      "outputs": [
        {
          "output_type": "execute_result",
          "data": {
            "text/plain": [
              "<schemdraw.logic.logic.Or at 0x7fa9fdd603a0>"
            ],
            "image/svg+xml": "<?xml version=\"1.0\" encoding=\"utf-8\" standalone=\"no\"?>\n<!DOCTYPE svg PUBLIC \"-//W3C//DTD SVG 1.1//EN\"\n  \"http://www.w3.org/Graphics/SVG/1.1/DTD/svg11.dtd\">\n<!-- Created with matplotlib (https://matplotlib.org/) -->\n<svg height=\"50.508pt\" version=\"1.1\" viewBox=\"0 0 78.66 50.508\" width=\"78.66pt\" xmlns=\"http://www.w3.org/2000/svg\" xmlns:xlink=\"http://www.w3.org/1999/xlink\">\n <defs>\n  <style type=\"text/css\">\n*{stroke-linecap:butt;stroke-linejoin:round;}\n  </style>\n </defs>\n <g id=\"figure_1\">\n  <g id=\"patch_1\">\n   <path d=\"M 0 50.508 \nL 78.66 50.508 \nL 78.66 0 \nL 0 0 \nz\n\" style=\"fill:#ffffff;\"/>\n  </g>\n  <g id=\"axes_1\">\n   <g id=\"patch_2\">\n    <path clip-path=\"url(#p2df640a006)\" d=\"M 61.362 28.926 \nC 62.335826 28.926 63.269897 28.539095 63.958496 27.850496 \nC 64.647095 27.161897 65.034 26.227826 65.034 25.254 \nC 65.034 24.280174 64.647095 23.346103 63.958496 22.657504 \nC 63.269897 21.968905 62.335826 21.582 61.362 21.582 \nC 60.388174 21.582 59.454103 21.968905 58.765504 22.657504 \nC 58.076905 23.346103 57.69 24.280174 57.69 25.254 \nC 57.69 26.227826 58.076905 27.161897 58.765504 27.850496 \nC 59.454103 28.539095 60.388174 28.926 61.362 28.926 \nz\n\" style=\"fill:none;stroke:#000000;stroke-linejoin:miter;stroke-width:2;\"/>\n   </g>\n   <g id=\"line2d_1\">\n    <path clip-path=\"url(#p2df640a006)\" d=\"M 20.97 40.248 \nL 38.018571 40.148082 \nL 39.767143 39.848327 \nL 41.515714 39.348735 \nL 43.264286 38.649306 \nL 45.012857 37.750041 \nL 47.198571 36.344939 \nL 49.384286 34.627592 \nL 51.57 32.598 \nL 53.755714 30.256163 \nL 55.941429 27.602082 \nL 57.69 25.254 \nL 57.69 25.254 \nL 55.067143 21.806816 \nL 52.881429 19.277633 \nL 50.695714 17.060694 \nL 48.51 15.156 \nL 46.324286 13.563551 \nL 44.138571 12.283347 \nL 42.39 11.484 \nL 40.641429 10.88449 \nL 38.892857 10.484816 \nL 37.144286 10.28498 \nL 36.27 10.26 \nL 20.97 10.26 \nL 20.97 10.26 \nL 23.1732 12.708 \nL 24.56856 14.544 \nL 25.7436 16.38 \nL 26.69832 18.216 \nL 27.43272 20.052 \nL 27.9468 21.888 \nL 28.24056 23.724 \nL 28.314 25.56 \nL 28.16712 27.396 \nL 27.79992 29.232 \nL 27.2124 31.068 \nL 26.40456 32.904 \nL 25.3764 34.74 \nL 24.12792 36.576 \nL 22.65912 38.412 \nL 20.97 40.248 \nL 20.97 40.248 \n\" style=\"fill:none;stroke:#000000;stroke-linecap:round;stroke-width:2;\"/>\n   </g>\n   <g id=\"line2d_2\">\n    <path clip-path=\"url(#p2df640a006)\" d=\"M 10.26 32.904 \nL 26.40456 32.904 \n\" style=\"fill:none;stroke:#000000;stroke-linecap:round;stroke-width:2;\"/>\n   </g>\n   <g id=\"line2d_3\">\n    <path clip-path=\"url(#p2df640a006)\" d=\"M 10.26 17.604 \nL 26.40456 17.604 \n\" style=\"fill:none;stroke:#000000;stroke-linecap:round;stroke-width:2;\"/>\n   </g>\n   <g id=\"line2d_4\">\n    <path clip-path=\"url(#p2df640a006)\" d=\"M 65.034 25.254 \nL 68.4 25.254 \n\" style=\"fill:none;stroke:#000000;stroke-linecap:round;stroke-width:2;\"/>\n   </g>\n  </g>\n </g>\n <defs>\n  <clipPath id=\"p2df640a006\">\n   <rect height=\"36.108\" width=\"64.26\" x=\"7.2\" y=\"7.2\"/>\n  </clipPath>\n </defs>\n</svg>\n",
            "image/png": "[encoded data removed]"
          },
          "metadata": {},
          "execution_count": 11
        }
      ]
    },
    {
      "cell_type": "code",
      "execution_count": null,
      "metadata": {
        "tags": [
          "hide-input"
        ],
        "outputId": "87053589-a164-4de0-9361-c9cdca80d015",
        "colab": {
          "base_uri": "https://localhost:8080/",
          "height": 106
        },
        "id": "gaD_evt2c8pg"
      },
      "outputs": [
        {
          "output_type": "execute_result",
          "data": {
            "text/plain": [
              "<schemdraw.schemdraw.Drawing at 0x7fa9fdd03a30>"
            ],
            "image/svg+xml": "<?xml version=\"1.0\" encoding=\"utf-8\" standalone=\"no\"?>\n<!DOCTYPE svg PUBLIC \"-//W3C//DTD SVG 1.1//EN\"\n  \"http://www.w3.org/Graphics/SVG/1.1/DTD/svg11.dtd\">\n<!-- Created with matplotlib (https://matplotlib.org/) -->\n<svg height=\"63.7pt\" version=\"1.1\" viewBox=\"0 0 150.264 63.7\" width=\"150.264pt\" xmlns=\"http://www.w3.org/2000/svg\" xmlns:xlink=\"http://www.w3.org/1999/xlink\">\n <defs>\n  <style type=\"text/css\">\n*{stroke-linecap:butt;stroke-linejoin:round;}\n  </style>\n </defs>\n <g id=\"figure_1\">\n  <g id=\"patch_1\">\n   <path d=\"M 0 63.7 \nL 150.264 63.7 \nL 150.264 0 \nL 0 0 \nz\n\" style=\"fill:#ffffff;\"/>\n  </g>\n  <g id=\"axes_1\">\n   <g id=\"patch_2\">\n    <path clip-path=\"url(#p530bd5ba97)\" d=\"M 78.5388 38.582 \nC 79.512626 38.582 80.446697 38.195095 81.135296 37.506496 \nC 81.823895 36.817897 82.2108 35.883826 82.2108 34.91 \nC 82.2108 33.936174 81.823895 33.002103 81.135296 32.313504 \nC 80.446697 31.624905 79.512626 31.238 78.5388 31.238 \nC 77.564974 31.238 76.630903 31.624905 75.942304 32.313504 \nC 75.253705 33.002103 74.8668 33.936174 74.8668 34.91 \nC 74.8668 35.883826 75.253705 36.817897 75.942304 37.506496 \nC 76.630903 38.195095 77.564974 38.582 78.5388 38.582 \nz\n\" style=\"fill:none;stroke:#000000;stroke-linejoin:miter;stroke-width:2;\"/>\n   </g>\n   <g id=\"line2d_1\">\n    <path clip-path=\"url(#p530bd5ba97)\" d=\"M 38.1468 49.904 \nL 55.195371 49.804082 \nL 56.943943 49.504327 \nL 58.692514 49.004735 \nL 60.441086 48.305306 \nL 62.189657 47.406041 \nL 64.375371 46.000939 \nL 66.561086 44.283592 \nL 68.7468 42.254 \nL 70.932514 39.912163 \nL 73.118229 37.258082 \nL 74.8668 34.91 \nL 74.8668 34.91 \nL 72.243943 31.462816 \nL 70.058229 28.933633 \nL 67.872514 26.716694 \nL 65.6868 24.812 \nL 63.501086 23.219551 \nL 61.315371 21.939347 \nL 59.5668 21.14 \nL 57.818229 20.54049 \nL 56.069657 20.140816 \nL 54.321086 19.94098 \nL 53.4468 19.916 \nL 38.1468 19.916 \nL 38.1468 19.916 \nL 40.35 22.364 \nL 41.74536 24.2 \nL 42.9204 26.036 \nL 43.87512 27.872 \nL 44.60952 29.708 \nL 45.1236 31.544 \nL 45.41736 33.38 \nL 45.4908 35.216 \nL 45.34392 37.052 \nL 44.97672 38.888 \nL 44.3892 40.724 \nL 43.58136 42.56 \nL 42.5532 44.396 \nL 41.30472 46.232 \nL 39.83592 48.068 \nL 38.1468 49.904 \nL 38.1468 49.904 \n\" style=\"fill:none;stroke:#000000;stroke-linecap:round;stroke-width:2;\"/>\n   </g>\n   <g id=\"line2d_2\">\n    <path clip-path=\"url(#p530bd5ba97)\" d=\"M 27.4368 42.56 \nL 43.58136 42.56 \n\" style=\"fill:none;stroke:#000000;stroke-linecap:round;stroke-width:2;\"/>\n   </g>\n   <g id=\"line2d_3\">\n    <path clip-path=\"url(#p530bd5ba97)\" d=\"M 27.4368 27.26 \nL 43.58136 27.26 \n\" style=\"fill:none;stroke:#000000;stroke-linecap:round;stroke-width:2;\"/>\n   </g>\n   <g id=\"line2d_4\">\n    <path clip-path=\"url(#p530bd5ba97)\" d=\"M 82.2108 34.91 \nL 85.5768 34.91 \n\" style=\"fill:none;stroke:#000000;stroke-linecap:round;stroke-width:2;\"/>\n   </g>\n   <g id=\"text_1\">\n    <g clip-path=\"url(#p530bd5ba97)\">\n     <!-- $A nor B$ -->\n     <defs>\n      <path d=\"M 36.8125 72.90625 \nL 48 72.90625 \nL 61.53125 0 \nL 51.21875 0 \nL 48.1875 18.703125 \nL 15.375 18.703125 \nL 5.078125 0 \nL -5.328125 0 \nz\nM 40.375 63.1875 \nL 19.921875 26.90625 \nL 46.6875 26.90625 \nz\n\" id=\"DejaVuSans-Oblique-65\"/>\n      <path d=\"M 55.71875 33.015625 \nL 49.3125 0 \nL 40.28125 0 \nL 46.6875 32.671875 \nQ 47.125 34.96875 47.359375 36.71875 \nQ 47.609375 38.484375 47.609375 39.5 \nQ 47.609375 43.609375 45.015625 45.890625 \nQ 42.4375 48.1875 37.796875 48.1875 \nQ 30.5625 48.1875 25.34375 43.375 \nQ 20.125 38.578125 18.5 30.328125 \nL 12.5 0 \nL 3.515625 0 \nL 14.109375 54.6875 \nL 23.09375 54.6875 \nL 21.296875 46.09375 \nQ 25.046875 50.828125 30.3125 53.40625 \nQ 35.59375 56 41.40625 56 \nQ 48.640625 56 52.609375 52.09375 \nQ 56.59375 48.1875 56.59375 41.109375 \nQ 56.59375 39.359375 56.375 37.359375 \nQ 56.15625 35.359375 55.71875 33.015625 \nz\n\" id=\"DejaVuSans-Oblique-110\"/>\n      <path d=\"M 25.390625 -1.421875 \nQ 15.765625 -1.421875 10.171875 4.515625 \nQ 4.59375 10.453125 4.59375 20.703125 \nQ 4.59375 26.65625 6.515625 32.828125 \nQ 8.453125 39.015625 11.53125 43.21875 \nQ 16.359375 49.75 22.3125 52.875 \nQ 28.265625 56 35.796875 56 \nQ 45.125 56 50.859375 50.1875 \nQ 56.59375 44.390625 56.59375 35.015625 \nQ 56.59375 28.515625 54.6875 22.0625 \nQ 52.78125 15.625 49.703125 11.375 \nQ 44.921875 4.828125 38.96875 1.703125 \nQ 33.015625 -1.421875 25.390625 -1.421875 \nz\nM 13.921875 21 \nQ 13.921875 13.578125 17.015625 9.890625 \nQ 20.125 6.203125 26.421875 6.203125 \nQ 35.453125 6.203125 41.375 14.078125 \nQ 47.3125 21.96875 47.3125 34.078125 \nQ 47.3125 41.15625 44.140625 44.765625 \nQ 40.96875 48.390625 34.8125 48.390625 \nQ 29.734375 48.390625 25.78125 46.015625 \nQ 21.828125 43.65625 18.703125 38.8125 \nQ 16.40625 35.203125 15.15625 30.5625 \nQ 13.921875 25.921875 13.921875 21 \nz\n\" id=\"DejaVuSans-Oblique-111\"/>\n      <path d=\"M 44.578125 46.390625 \nQ 43.21875 47.125 41.453125 47.515625 \nQ 39.703125 47.90625 37.703125 47.90625 \nQ 30.515625 47.90625 25.140625 42.453125 \nQ 19.78125 37.015625 18.015625 27.875 \nL 12.5 0 \nL 3.515625 0 \nL 14.203125 54.6875 \nL 23.1875 54.6875 \nL 21.484375 46.1875 \nQ 25.046875 50.921875 30 53.453125 \nQ 34.96875 56 40.578125 56 \nQ 42.046875 56 43.453125 55.828125 \nQ 44.875 55.671875 46.296875 55.28125 \nz\n\" id=\"DejaVuSans-Oblique-114\"/>\n      <path d=\"M 16.890625 72.90625 \nL 42.09375 72.90625 \nQ 52.34375 72.90625 57.421875 69.09375 \nQ 62.5 65.28125 62.5 57.625 \nQ 62.5 50.59375 58.125 45.484375 \nQ 53.765625 40.375 46.6875 39.3125 \nQ 52.734375 37.9375 55.765625 34.078125 \nQ 58.796875 30.21875 58.796875 23.78125 \nQ 58.796875 12.796875 50.65625 6.390625 \nQ 42.53125 0 28.421875 0 \nL 2.6875 0 \nz\nM 19.28125 34.8125 \nL 14.109375 8.109375 \nL 29.984375 8.109375 \nQ 38.921875 8.109375 43.75 12.203125 \nQ 48.578125 16.3125 48.578125 23.78125 \nQ 48.578125 29.546875 45.375 32.171875 \nQ 42.1875 34.8125 35.109375 34.8125 \nz\nM 25.09375 64.796875 \nL 20.796875 42.828125 \nL 35.5 42.828125 \nQ 43.359375 42.828125 47.78125 46.234375 \nQ 52.203125 49.65625 52.203125 55.71875 \nQ 52.203125 60.453125 49.21875 62.625 \nQ 46.234375 64.796875 39.703125 64.796875 \nz\n\" id=\"DejaVuSans-Oblique-66\"/>\n     </defs>\n     <g transform=\"translate(88.6368 38.359219)scale(0.125 -0.125)\">\n      <use transform=\"translate(0 0.09375)\" xlink:href=\"#DejaVuSans-Oblique-65\"/>\n      <use transform=\"translate(68.408203 0.09375)\" xlink:href=\"#DejaVuSans-Oblique-110\"/>\n      <use transform=\"translate(131.787109 0.09375)\" xlink:href=\"#DejaVuSans-Oblique-111\"/>\n      <use transform=\"translate(192.96875 0.09375)\" xlink:href=\"#DejaVuSans-Oblique-114\"/>\n      <use transform=\"translate(234.082031 0.09375)\" xlink:href=\"#DejaVuSans-Oblique-66\"/>\n     </g>\n    </g>\n   </g>\n   <g id=\"text_2\">\n    <g clip-path=\"url(#p530bd5ba97)\">\n     <!-- $A$ -->\n     <g transform=\"translate(15.7518 30.709219)scale(0.125 -0.125)\">\n      <use transform=\"translate(0 0.09375)\" xlink:href=\"#DejaVuSans-Oblique-65\"/>\n     </g>\n    </g>\n   </g>\n   <g id=\"text_3\">\n    <g clip-path=\"url(#p530bd5ba97)\">\n     <!-- $B$ -->\n     <g transform=\"translate(15.7518 46.009219)scale(0.125 -0.125)\">\n      <use transform=\"translate(0 0.09375)\" xlink:href=\"#DejaVuSans-Oblique-66\"/>\n     </g>\n    </g>\n   </g>\n  </g>\n </g>\n <defs>\n  <clipPath id=\"p530bd5ba97\">\n   <rect height=\"49.3\" width=\"135.864\" x=\"7.2\" y=\"7.2\"/>\n  </clipPath>\n </defs>\n</svg>\n",
            "image/png": "[encoded data removed]"
          },
          "metadata": {},
          "execution_count": 12
        }
      ],
      "source": [
        "# 入力＋出力\n",
        "\n",
        "logicparse('$A$ nor $B$', outlabel='$A nor B$')"
      ]
    },
    {
      "cell_type": "markdown",
      "source": [
        "inputして論理演算の結果を表示"
      ],
      "metadata": {
        "id": "nbapk9NA5WS5"
      }
    },
    {
      "cell_type": "code",
      "source": [
        "\n",
        "# NOR論理ゲート\n",
        "def NOR(a, b):\n",
        "  c = int(not(a or b))\n",
        "  return c\n",
        "\n",
        "# a, bに0か１を入れる\n",
        "a,b=(int(x) for x in input('a b にそれぞれ1か0を入れる：').split())\n",
        "\n",
        "# SchemeDraw表記\n",
        "d = Drawing(unit=.5)\n",
        "d += (NO := logic.Nor())\n",
        "d += logic.Line().left().at(NO.in1).label(str(a), 'left')\n",
        "d += logic.Line().left().at(NO.in2).label(str(b), 'left')\n",
        "d += logic.Line().right().at(NO.end)\n",
        "\n",
        "# 出力の表示\n",
        "# NOR()の計算結果をcに代入\n",
        "c = NOR(a,b)\n",
        "\n",
        "schemfig = d.draw()\n",
        "schemfig.ax.text(1.9, 0.1, c, size = 12, color = \"red\");\n",
        "display(schemfig)\n"
      ],
      "metadata": {
        "colab": {
          "base_uri": "https://localhost:8080/",
          "height": 124
        },
        "outputId": "4bae5d16-1e24-4451-afe1-6d3ef834e32b",
        "id": "x5QDAgNWP3jy"
      },
      "execution_count": null,
      "outputs": [
        {
          "name": "stdout",
          "output_type": "stream",
          "text": [
            "a b にそれぞれ1か0を入れる：0 1\n"
          ]
        },
        {
          "output_type": "display_data",
          "data": {
            "text/plain": [
              "<schemdraw.backends.mpl.Figure object at 0x7f4364e0c9d0>"
            ],
            "image/svg+xml": "<?xml version=\"1.0\" encoding=\"utf-8\" standalone=\"no\"?>\n<!DOCTYPE svg PUBLIC \"-//W3C//DTD SVG 1.1//EN\"\n  \"http://www.w3.org/Graphics/SVG/1.1/DTD/svg11.dtd\">\n<!-- Created with matplotlib (https://matplotlib.org/) -->\n<svg height=\"63.7pt\" version=\"1.1\" viewBox=\"0 0 125.223 63.7\" width=\"125.223pt\" xmlns=\"http://www.w3.org/2000/svg\" xmlns:xlink=\"http://www.w3.org/1999/xlink\">\n <defs>\n  <style type=\"text/css\">\n*{stroke-linecap:butt;stroke-linejoin:round;}\n  </style>\n </defs>\n <g id=\"figure_1\">\n  <g id=\"patch_1\">\n   <path d=\"M 0 63.7 \nL 125.223 63.7 \nL 125.223 -0 \nL 0 -0 \nz\n\" style=\"fill:#ffffff;\"/>\n  </g>\n  <g id=\"axes_1\">\n   <g id=\"patch_2\">\n    <path clip-path=\"url(#p8b906bd788)\" d=\"M 92.625 38.582 \nC 93.598826 38.582 94.532897 38.195095 95.221496 37.506496 \nC 95.910095 36.817897 96.297 35.883826 96.297 34.91 \nC 96.297 33.936174 95.910095 33.002103 95.221496 32.313504 \nC 94.532897 31.624905 93.598826 31.238 92.625 31.238 \nC 91.651174 31.238 90.717103 31.624905 90.028504 32.313504 \nC 89.339905 33.002103 88.953 33.936174 88.953 34.91 \nC 88.953 35.883826 89.339905 36.817897 90.028504 37.506496 \nC 90.717103 38.195095 91.651174 38.582 92.625 38.582 \nz\n\" style=\"fill:none;stroke:#000000;stroke-linejoin:miter;stroke-width:2;\"/>\n   </g>\n   <g id=\"line2d_1\">\n    <path clip-path=\"url(#p8b906bd788)\" d=\"M 52.233 49.904 \nL 69.281571 49.804082 \nL 71.030143 49.504327 \nL 72.778714 49.004735 \nL 74.527286 48.305306 \nL 76.275857 47.406041 \nL 78.461571 46.000939 \nL 80.647286 44.283592 \nL 82.833 42.254 \nL 85.018714 39.912163 \nL 87.204429 37.258082 \nL 88.953 34.91 \nL 88.953 34.91 \nL 86.330143 31.462816 \nL 84.144429 28.933633 \nL 81.958714 26.716694 \nL 79.773 24.812 \nL 77.587286 23.219551 \nL 75.401571 21.939347 \nL 73.653 21.14 \nL 71.904429 20.54049 \nL 70.155857 20.140816 \nL 68.407286 19.94098 \nL 67.533 19.916 \nL 52.233 19.916 \nL 52.233 19.916 \nL 54.4362 22.364 \nL 55.83156 24.2 \nL 57.0066 26.036 \nL 57.96132 27.872 \nL 58.69572 29.708 \nL 59.2098 31.544 \nL 59.50356 33.38 \nL 59.577 35.216 \nL 59.43012 37.052 \nL 59.06292 38.888 \nL 58.4754 40.724 \nL 57.66756 42.56 \nL 56.6394 44.396 \nL 55.39092 46.232 \nL 53.92212 48.068 \nL 52.233 49.904 \nL 52.233 49.904 \n\" style=\"fill:none;stroke:#000000;stroke-linecap:round;stroke-width:2;\"/>\n   </g>\n   <g id=\"line2d_2\">\n    <path clip-path=\"url(#p8b906bd788)\" d=\"M 41.523 42.56 \nL 57.66756 42.56 \n\" style=\"fill:none;stroke:#000000;stroke-linecap:round;stroke-width:2;\"/>\n   </g>\n   <g id=\"line2d_3\">\n    <path clip-path=\"url(#p8b906bd788)\" d=\"M 41.523 27.26 \nL 57.66756 27.26 \n\" style=\"fill:none;stroke:#000000;stroke-linecap:round;stroke-width:2;\"/>\n   </g>\n   <g id=\"line2d_4\">\n    <path clip-path=\"url(#p8b906bd788)\" d=\"M 96.297 34.91 \nL 99.663 34.91 \n\" style=\"fill:none;stroke:#000000;stroke-linecap:round;stroke-width:2;\"/>\n   </g>\n   <g id=\"line2d_5\">\n    <path clip-path=\"url(#p8b906bd788)\" d=\"M 41.523 27.26 \nL 33.873 27.26 \nL 26.223 27.26 \n\" style=\"fill:none;stroke:#000000;stroke-linecap:round;stroke-width:2;\"/>\n   </g>\n   <g id=\"line2d_6\">\n    <path clip-path=\"url(#p8b906bd788)\" d=\"M 41.523 42.56 \nL 33.873 42.56 \nL 26.223 42.56 \n\" style=\"fill:none;stroke:#000000;stroke-linecap:round;stroke-width:2;\"/>\n   </g>\n   <g id=\"line2d_7\">\n    <path clip-path=\"url(#p8b906bd788)\" d=\"M 99.663 34.91 \nL 107.313 34.91 \nL 114.963 34.91 \n\" style=\"fill:none;stroke:#000000;stroke-linecap:round;stroke-width:2;\"/>\n   </g>\n   <g id=\"text_1\">\n    <g clip-path=\"url(#p8b906bd788)\">\n     <!-- 0 -->\n     <defs>\n      <path d=\"M 31.78125 66.40625 \nQ 24.171875 66.40625 20.328125 58.90625 \nQ 16.5 51.421875 16.5 36.375 \nQ 16.5 21.390625 20.328125 13.890625 \nQ 24.171875 6.390625 31.78125 6.390625 \nQ 39.453125 6.390625 43.28125 13.890625 \nQ 47.125 21.390625 47.125 36.375 \nQ 47.125 51.421875 43.28125 58.90625 \nQ 39.453125 66.40625 31.78125 66.40625 \nz\nM 31.78125 74.21875 \nQ 44.046875 74.21875 50.515625 64.515625 \nQ 56.984375 54.828125 56.984375 36.375 \nQ 56.984375 17.96875 50.515625 8.265625 \nQ 44.046875 -1.421875 31.78125 -1.421875 \nQ 19.53125 -1.421875 13.0625 8.265625 \nQ 6.59375 17.96875 6.59375 36.375 \nQ 6.59375 54.828125 13.0625 64.515625 \nQ 19.53125 74.21875 31.78125 74.21875 \nz\n\" id=\"DejaVuSans-48\"/>\n     </defs>\n     <g transform=\"translate(15.209875 30.709219)scale(0.125 -0.125)\">\n      <use xlink:href=\"#DejaVuSans-48\"/>\n     </g>\n    </g>\n   </g>\n   <g id=\"text_2\">\n    <g clip-path=\"url(#p8b906bd788)\">\n     <!-- 1 -->\n     <defs>\n      <path d=\"M 12.40625 8.296875 \nL 28.515625 8.296875 \nL 28.515625 63.921875 \nL 10.984375 60.40625 \nL 10.984375 69.390625 \nL 28.421875 72.90625 \nL 38.28125 72.90625 \nL 38.28125 8.296875 \nL 54.390625 8.296875 \nL 54.390625 0 \nL 12.40625 0 \nz\n\" id=\"DejaVuSans-49\"/>\n     </defs>\n     <g transform=\"translate(15.209875 46.009219)scale(0.125 -0.125)\">\n      <use xlink:href=\"#DejaVuSans-49\"/>\n     </g>\n    </g>\n   </g>\n   <g id=\"text_3\">\n    <!-- 0 -->\n    <g style=\"fill:#ff0000;\" transform=\"translate(99.663 31.85)scale(0.12 -0.12)\">\n     <use xlink:href=\"#DejaVuSans-48\"/>\n    </g>\n   </g>\n  </g>\n </g>\n <defs>\n  <clipPath id=\"p8b906bd788\">\n   <rect height=\"49.3\" width=\"110.823\" x=\"7.2\" y=\"7.2\"/>\n  </clipPath>\n </defs>\n</svg>\n",
            "image/png": "[encoded data removed]"
          },
          "metadata": {}
        }
      ]
    },
    {
      "cell_type": "markdown",
      "source": [
        "# ★ XOR"
      ],
      "metadata": {
        "id": "ZAMgxl8sw5lt"
      }
    },
    {
      "cell_type": "markdown",
      "metadata": {
        "id": "j34Is0wS08mV"
      },
      "source": [
        "**排他的論理和の真理値表**\n",
        "\n",
        "| A | B | A xor B |\n",
        "| :---: |:-----:|:---:|\n",
        "| 0 | 0 | 0 |\n",
        "| 0 | 1 | 1 |\n",
        "| 1 | 0 | 1 |\n",
        "| 1 | 1 | 0 |\n",
        "\n",
        "論理和との差は、`A = 1, B = 1` のときに `AxorB = 0` となる点\n",
        "\n",
        "両方の入力が等しいときに `0`，異なるときに `1` を返すことから「排他的」と呼ばれる\n"
      ]
    },
    {
      "cell_type": "markdown",
      "source": [
        "SchemDrawで真理値表\n",
        "\n",
        "(SchemDrawの準備必要) ([SchemDraw](#SchemDraw-id))"
      ],
      "metadata": {
        "id": "mCm5qOmu4i7f"
      }
    },
    {
      "cell_type": "code",
      "source": [
        "table = '''\n",
        " A | B | A xor B\n",
        "---|---|---\n",
        " 0 | 0 | 0\n",
        " 0 | 1 | 1\n",
        " 1 | 0 | 1\n",
        " 1 | 1 | 0\n",
        "'''\n",
        "logic.Table(table, colfmt='c|c||c')"
      ],
      "metadata": {
        "colab": {
          "base_uri": "https://localhost:8080/",
          "height": 176
        },
        "outputId": "bb8759aa-c9b2-49a5-ed12-999be6586b16",
        "id": "SEARmyedYfAG"
      },
      "execution_count": null,
      "outputs": [
        {
          "output_type": "execute_result",
          "data": {
            "text/plain": [
              "<schemdraw.logic.table.Table at 0x7fa9fdcacc40>"
            ],
            "image/svg+xml": "<?xml version=\"1.0\" encoding=\"utf-8\" standalone=\"no\"?>\n<!DOCTYPE svg PUBLIC \"-//W3C//DTD SVG 1.1//EN\"\n  \"http://www.w3.org/Graphics/SVG/1.1/DTD/svg11.dtd\">\n<!-- Created with matplotlib (https://matplotlib.org/) -->\n<svg height=\"116.4pt\" version=\"1.1\" viewBox=\"0 0 109.9944 116.4\" width=\"109.9944pt\" xmlns=\"http://www.w3.org/2000/svg\" xmlns:xlink=\"http://www.w3.org/1999/xlink\">\n <defs>\n  <style type=\"text/css\">\n*{stroke-linecap:butt;stroke-linejoin:round;}\n  </style>\n </defs>\n <g id=\"figure_1\">\n  <g id=\"patch_1\">\n   <path d=\"M 0 116.4 \nL 109.9944 116.4 \nL 109.9944 0 \nL 0 0 \nz\n\" style=\"fill:#ffffff;\"/>\n  </g>\n  <g id=\"axes_1\">\n   <g id=\"line2d_1\">\n    <path clip-path=\"url(#p4d8eb8f957)\" d=\"M 29.3544 13.32 \nL 29.3544 100.02 \n\" style=\"fill:none;stroke:#000000;stroke-linecap:round;\"/>\n   </g>\n   <g id=\"line2d_2\">\n    <path clip-path=\"url(#p4d8eb8f957)\" d=\"M 47.5308 13.32 \nL 47.5308 100.02 \n\" style=\"fill:none;stroke:#000000;stroke-linecap:round;\"/>\n   </g>\n   <g id=\"line2d_3\">\n    <path clip-path=\"url(#p4d8eb8f957)\" d=\"M 49.3668 13.32 \nL 49.3668 100.02 \n\" style=\"fill:none;stroke:#000000;stroke-linecap:round;\"/>\n   </g>\n   <g id=\"line2d_4\">\n    <path clip-path=\"url(#p4d8eb8f957)\" d=\"M 10.26 30.66 \nL 93.6144 30.66 \n\" style=\"fill:none;stroke:#000000;stroke-linecap:round;\"/>\n   </g>\n   <g id=\"text_1\">\n    <g clip-path=\"url(#p4d8eb8f957)\">\n     <!-- A -->\n     <defs>\n      <path d=\"M 34.1875 63.1875 \nL 20.796875 26.90625 \nL 47.609375 26.90625 \nz\nM 28.609375 72.90625 \nL 39.796875 72.90625 \nL 67.578125 0 \nL 57.328125 0 \nL 50.6875 18.703125 \nL 17.828125 18.703125 \nL 11.1875 0 \nL 0.78125 0 \nz\n\" id=\"DejaVuSans-65\"/>\n     </defs>\n     <g transform=\"translate(16.215872 28.476328)scale(0.105 -0.105)\">\n      <use xlink:href=\"#DejaVuSans-65\"/>\n     </g>\n    </g>\n   </g>\n   <g id=\"text_2\">\n    <g clip-path=\"url(#p4d8eb8f957)\">\n     <!-- B -->\n     <defs>\n      <path d=\"M 19.671875 34.8125 \nL 19.671875 8.109375 \nL 35.5 8.109375 \nQ 43.453125 8.109375 47.28125 11.40625 \nQ 51.125 14.703125 51.125 21.484375 \nQ 51.125 28.328125 47.28125 31.5625 \nQ 43.453125 34.8125 35.5 34.8125 \nz\nM 19.671875 64.796875 \nL 19.671875 42.828125 \nL 34.28125 42.828125 \nQ 41.5 42.828125 45.03125 45.53125 \nQ 48.578125 48.25 48.578125 53.8125 \nQ 48.578125 59.328125 45.03125 62.0625 \nQ 41.5 64.796875 34.28125 64.796875 \nz\nM 9.8125 72.90625 \nL 35.015625 72.90625 \nQ 46.296875 72.90625 52.390625 68.21875 \nQ 58.5 63.53125 58.5 54.890625 \nQ 58.5 48.1875 55.375 44.234375 \nQ 52.25 40.28125 46.1875 39.3125 \nQ 53.46875 37.75 57.5 32.78125 \nQ 61.53125 27.828125 61.53125 20.40625 \nQ 61.53125 10.640625 54.890625 5.3125 \nQ 48.25 0 35.984375 0 \nL 9.8125 0 \nz\n\" id=\"DejaVuSans-66\"/>\n     </defs>\n     <g transform=\"translate(35.299608 28.476328)scale(0.105 -0.105)\">\n      <use xlink:href=\"#DejaVuSans-66\"/>\n     </g>\n    </g>\n   </g>\n   <g id=\"text_3\">\n    <g clip-path=\"url(#p4d8eb8f957)\">\n     <!-- A xor B -->\n     <defs>\n      <path id=\"DejaVuSans-32\"/>\n      <path d=\"M 54.890625 54.6875 \nL 35.109375 28.078125 \nL 55.90625 0 \nL 45.3125 0 \nL 29.390625 21.484375 \nL 13.484375 0 \nL 2.875 0 \nL 24.125 28.609375 \nL 4.6875 54.6875 \nL 15.28125 54.6875 \nL 29.78125 35.203125 \nL 44.28125 54.6875 \nz\n\" id=\"DejaVuSans-120\"/>\n      <path d=\"M 30.609375 48.390625 \nQ 23.390625 48.390625 19.1875 42.75 \nQ 14.984375 37.109375 14.984375 27.296875 \nQ 14.984375 17.484375 19.15625 11.84375 \nQ 23.34375 6.203125 30.609375 6.203125 \nQ 37.796875 6.203125 41.984375 11.859375 \nQ 46.1875 17.53125 46.1875 27.296875 \nQ 46.1875 37.015625 41.984375 42.703125 \nQ 37.796875 48.390625 30.609375 48.390625 \nz\nM 30.609375 56 \nQ 42.328125 56 49.015625 48.375 \nQ 55.71875 40.765625 55.71875 27.296875 \nQ 55.71875 13.875 49.015625 6.21875 \nQ 42.328125 -1.421875 30.609375 -1.421875 \nQ 18.84375 -1.421875 12.171875 6.21875 \nQ 5.515625 13.875 5.515625 27.296875 \nQ 5.515625 40.765625 12.171875 48.375 \nQ 18.84375 56 30.609375 56 \nz\n\" id=\"DejaVuSans-111\"/>\n      <path d=\"M 41.109375 46.296875 \nQ 39.59375 47.171875 37.8125 47.578125 \nQ 36.03125 48 33.890625 48 \nQ 26.265625 48 22.1875 43.046875 \nQ 18.109375 38.09375 18.109375 28.8125 \nL 18.109375 0 \nL 9.078125 0 \nL 9.078125 54.6875 \nL 18.109375 54.6875 \nL 18.109375 46.1875 \nQ 20.953125 51.171875 25.484375 53.578125 \nQ 30.03125 56 36.53125 56 \nQ 37.453125 56 38.578125 55.875 \nQ 39.703125 55.765625 41.0625 55.515625 \nz\n\" id=\"DejaVuSans-114\"/>\n     </defs>\n     <g transform=\"translate(52.187381 28.476328)scale(0.105 -0.105)\">\n      <use xlink:href=\"#DejaVuSans-65\"/>\n      <use x=\"68.408203\" xlink:href=\"#DejaVuSans-32\"/>\n      <use x=\"100.195312\" xlink:href=\"#DejaVuSans-120\"/>\n      <use x=\"156.25\" xlink:href=\"#DejaVuSans-111\"/>\n      <use x=\"217.431641\" xlink:href=\"#DejaVuSans-114\"/>\n      <use x=\"258.544922\" xlink:href=\"#DejaVuSans-32\"/>\n      <use x=\"290.332031\" xlink:href=\"#DejaVuSans-66\"/>\n     </g>\n    </g>\n   </g>\n   <g id=\"text_4\">\n    <g clip-path=\"url(#p4d8eb8f957)\">\n     <!-- 0 -->\n     <defs>\n      <path d=\"M 31.78125 66.40625 \nQ 24.171875 66.40625 20.328125 58.90625 \nQ 16.5 51.421875 16.5 36.375 \nQ 16.5 21.390625 20.328125 13.890625 \nQ 24.171875 6.390625 31.78125 6.390625 \nQ 39.453125 6.390625 43.28125 13.890625 \nQ 47.125 21.390625 47.125 36.375 \nQ 47.125 51.421875 43.28125 58.90625 \nQ 39.453125 66.40625 31.78125 66.40625 \nz\nM 31.78125 74.21875 \nQ 44.046875 74.21875 50.515625 64.515625 \nQ 56.984375 54.828125 56.984375 36.375 \nQ 56.984375 17.96875 50.515625 8.265625 \nQ 44.046875 -1.421875 31.78125 -1.421875 \nQ 19.53125 -1.421875 13.0625 8.265625 \nQ 6.59375 17.96875 6.59375 36.375 \nQ 6.59375 54.828125 13.0625 64.515625 \nQ 19.53125 74.21875 31.78125 74.21875 \nz\n\" id=\"DejaVuSans-48\"/>\n     </defs>\n     <g transform=\"translate(16.466888 45.816328)scale(0.105 -0.105)\">\n      <use xlink:href=\"#DejaVuSans-48\"/>\n     </g>\n    </g>\n   </g>\n   <g id=\"text_5\">\n    <g clip-path=\"url(#p4d8eb8f957)\">\n     <!-- 0 -->\n     <g transform=\"translate(35.561287 45.816328)scale(0.105 -0.105)\">\n      <use xlink:href=\"#DejaVuSans-48\"/>\n     </g>\n    </g>\n   </g>\n   <g id=\"text_6\">\n    <g clip-path=\"url(#p4d8eb8f957)\">\n     <!-- 0 -->\n     <g transform=\"translate(67.691288 45.816328)scale(0.105 -0.105)\">\n      <use xlink:href=\"#DejaVuSans-48\"/>\n     </g>\n    </g>\n   </g>\n   <g id=\"text_7\">\n    <g clip-path=\"url(#p4d8eb8f957)\">\n     <!-- 0 -->\n     <g transform=\"translate(16.466888 63.156328)scale(0.105 -0.105)\">\n      <use xlink:href=\"#DejaVuSans-48\"/>\n     </g>\n    </g>\n   </g>\n   <g id=\"text_8\">\n    <g clip-path=\"url(#p4d8eb8f957)\">\n     <!-- 1 -->\n     <defs>\n      <path d=\"M 12.40625 8.296875 \nL 28.515625 8.296875 \nL 28.515625 63.921875 \nL 10.984375 60.40625 \nL 10.984375 69.390625 \nL 28.421875 72.90625 \nL 38.28125 72.90625 \nL 38.28125 8.296875 \nL 54.390625 8.296875 \nL 54.390625 0 \nL 12.40625 0 \nz\n\" id=\"DejaVuSans-49\"/>\n     </defs>\n     <g transform=\"translate(35.561287 63.156328)scale(0.105 -0.105)\">\n      <use xlink:href=\"#DejaVuSans-49\"/>\n     </g>\n    </g>\n   </g>\n   <g id=\"text_9\">\n    <g clip-path=\"url(#p4d8eb8f957)\">\n     <!-- 1 -->\n     <g transform=\"translate(67.691288 63.156328)scale(0.105 -0.105)\">\n      <use xlink:href=\"#DejaVuSans-49\"/>\n     </g>\n    </g>\n   </g>\n   <g id=\"text_10\">\n    <g clip-path=\"url(#p4d8eb8f957)\">\n     <!-- 1 -->\n     <g transform=\"translate(16.466888 80.496328)scale(0.105 -0.105)\">\n      <use xlink:href=\"#DejaVuSans-49\"/>\n     </g>\n    </g>\n   </g>\n   <g id=\"text_11\">\n    <g clip-path=\"url(#p4d8eb8f957)\">\n     <!-- 0 -->\n     <g transform=\"translate(35.561287 80.496328)scale(0.105 -0.105)\">\n      <use xlink:href=\"#DejaVuSans-48\"/>\n     </g>\n    </g>\n   </g>\n   <g id=\"text_12\">\n    <g clip-path=\"url(#p4d8eb8f957)\">\n     <!-- 1 -->\n     <g transform=\"translate(67.691288 80.496328)scale(0.105 -0.105)\">\n      <use xlink:href=\"#DejaVuSans-49\"/>\n     </g>\n    </g>\n   </g>\n   <g id=\"text_13\">\n    <g clip-path=\"url(#p4d8eb8f957)\">\n     <!-- 1 -->\n     <g transform=\"translate(16.466888 97.836328)scale(0.105 -0.105)\">\n      <use xlink:href=\"#DejaVuSans-49\"/>\n     </g>\n    </g>\n   </g>\n   <g id=\"text_14\">\n    <g clip-path=\"url(#p4d8eb8f957)\">\n     <!-- 1 -->\n     <g transform=\"translate(35.561287 97.836328)scale(0.105 -0.105)\">\n      <use xlink:href=\"#DejaVuSans-49\"/>\n     </g>\n    </g>\n   </g>\n   <g id=\"text_15\">\n    <g clip-path=\"url(#p4d8eb8f957)\">\n     <!-- 0 -->\n     <g transform=\"translate(67.691288 97.836328)scale(0.105 -0.105)\">\n      <use xlink:href=\"#DejaVuSans-48\"/>\n     </g>\n    </g>\n   </g>\n  </g>\n </g>\n <defs>\n  <clipPath id=\"p4d8eb8f957\">\n   <rect height=\"102\" width=\"95.5944\" x=\"7.2\" y=\"7.2\"/>\n  </clipPath>\n </defs>\n</svg>\n",
            "image/png": "[encoded data removed]"
          },
          "metadata": {},
          "execution_count": 13
        }
      ]
    },
    {
      "cell_type": "markdown",
      "source": [
        "真理値表(NOT, AND, OR, NAND, NOR, XOR)をPythonで作成"
      ],
      "metadata": {
        "id": "M83DLtsY012m"
      }
    },
    {
      "cell_type": "code",
      "source": [
        "#eXclusive-OR,排他的論理和\n",
        "#二つの値が一致しないときに1\n",
        "\n",
        "def XOR(a, b):\n",
        "  c = int(bool((a and not b) or (not a and b)))\n",
        "  return c\n",
        "\n",
        "\n",
        "# 別の書き方(ただし，別にAND(),NOR()関数作成が必要)\n",
        "\n",
        "def XOR(a,b):\n",
        "    c = AND(a,b)\n",
        "    d = NOR(a,b)\n",
        "    e = NOR(c,d)\n",
        "    return e\n"
      ],
      "metadata": {
        "id": "OeAz9wjC8Tai"
      },
      "execution_count": null,
      "outputs": []
    },
    {
      "cell_type": "code",
      "source": [
        "\n",
        "import numpy as np\n",
        "import matplotlib.pyplot as plt\n",
        " \n",
        "# Axesオブジェクト生成\n",
        "fig, ax = plt.subplots(figsize=(6,4))\n",
        "\n",
        "# x，y軸の目盛り設定\n",
        "xticks = np.arange(0,8,1)\n",
        "yticks = np.arange(0,4,1)\n",
        "ax.set_xticks(xticks)\n",
        "ax.set_yticks(yticks)\n",
        "\n",
        "# 各論理ゲート\n",
        "def NOT(a):\n",
        "  c = int(not a)\n",
        "  return c\n",
        "\n",
        "not_0 = NOT(0)\n",
        "not_1 = NOT(1)\n",
        "\n",
        "def AND(a, b):\n",
        "  c = int(a and b)\n",
        "  return c\n",
        "\n",
        "and_00 = AND(0,0)\n",
        "and_01 = AND(0,1)\n",
        "and_10 = AND(1,0)\n",
        "and_11 = AND(1,1)\n",
        "\n",
        "def OR(a, b):\n",
        "  c = int(a or b)\n",
        "  return c\n",
        "\n",
        "or_00 = OR(0,0)\n",
        "or_01 = OR(0,1)\n",
        "or_10 = OR(1,0)\n",
        "or_11 = OR(1,1)\n",
        "\n",
        "def NAND(a, b):\n",
        "  c = int(not(a and b))\n",
        "  return c\n",
        "\n",
        "nand_00 = NAND(0,0)\n",
        "nand_01 = NAND(0,1)\n",
        "nand_10 = NAND(1,0)\n",
        "nand_11 = NAND(1,1)\n",
        "\n",
        "def NOR(a, b):\n",
        "  c = int(not(a or b))\n",
        "  return c\n",
        "\n",
        "nor_00 = NOR(0,0)\n",
        "nor_01 = NOR(0,1)\n",
        "nor_10 = NOR(1,0)\n",
        "nor_11 = NOR(1,1)\n",
        "\n",
        "# c = int(bool(a) != bool(b))でもOK\n",
        "def XOR(a, b):\n",
        "  c = int(bool((a and not b) or (not a and b)))\n",
        "  return c\n",
        "\n",
        "xor_00 = XOR(0,0)\n",
        "xor_01 = XOR(0,1)\n",
        "xor_10 = XOR(1,0)\n",
        "xor_11 = XOR(1,1)\n",
        "\n",
        "# 真理値表作成\n",
        "column_labels=[\"A\", \"B\", \"not A\", \"A and B\", \"A or B\", \"A nand B\", \"A nor B\", \"A xor B\"]\n",
        "\n",
        "data=[[0,0,not_0,and_00,or_00,nand_00,nor_00,xor_00],\n",
        "     [1,0,not_1,and_10,or_10,nand_10,nor_10,xor_10],\n",
        "     [0,1,not_0,and_01,or_01,nand_01,nor_01,xor_01],\n",
        "     [1,1,not_1,and_11,or_11,nand_11,nor_11,xor_11]]\n",
        "\n",
        "plt.table(cellText = data,\n",
        "        colLabels = column_labels,\n",
        "        cellLoc = 'center',\n",
        "        colWidths=[0.1,0.1,0.1,0.2,0.2,0.2,0.2,0.2],\n",
        "        loc='center'\n",
        "        )\n",
        "\n",
        "# xorに関するコメント挿入\n",
        "ax.text(2, 2.5, 'xor = (A and not B) or (not A and B) ', size= 10, color = 'black', \n",
        "        ha='center', va='center')\n",
        "\n",
        "# 軸を消す\n",
        "ax.axis('off')\n",
        "\n",
        "plt.show()\n",
        "\n"
      ],
      "metadata": {
        "colab": {
          "base_uri": "https://localhost:8080/",
          "height": 248
        },
        "outputId": "66141805-8ecc-45c6-f3d4-bd15dad8559f",
        "id": "7PMRqYxMERSX"
      },
      "execution_count": null,
      "outputs": [
        {
          "output_type": "display_data",
          "data": {
            "text/plain": [
              "<Figure size 432x288 with 1 Axes>"
            ],
            "image/png": "[encoded data removed]"
          },
          "metadata": {
            "needs_background": "light"
          }
        }
      ]
    },
    {
      "cell_type": "markdown",
      "source": [
        "＜参考＞\n",
        "\n",
        "Python の operator モジュールに xor() メソッドがある\n",
        "\n",
        "ここでは使わずにコード作成"
      ],
      "metadata": {
        "id": "1zxm3Psc9-Ey"
      }
    },
    {
      "cell_type": "markdown",
      "source": [
        "**MIL_XOR記号作成**\n",
        "\n",
        "matplotlibのpatchesを使う\n",
        "\n",
        "patchesのArcの弧と線分plotでMIL記号を作成\n",
        "\n",
        "MIL記号の左下の座標を(p, q)として他の頂点をp,qで表す\n",
        "\n",
        "端子は2点を決めて線分をplot\n"
      ],
      "metadata": {
        "id": "CBAb5EJ74Vi-"
      }
    },
    {
      "cell_type": "markdown",
      "source": [
        "**XORゲート**\n",
        "\n",
        "Pythonの論理演算子 `and`,`or`,`not` を利用\n",
        "\n",
        "結果を整数にするために `int()` を使用"
      ],
      "metadata": {
        "id": "SWLO2u9V4aE5"
      }
    },
    {
      "cell_type": "code",
      "source": [
        "# MIL_XOR図＋論理ゲート\n",
        "\n",
        "import numpy as np\n",
        "import matplotlib.pyplot as plt\n",
        "from matplotlib import patches\n",
        " \n",
        "# Axesオブジェクト生成\n",
        "fig, ax = plt.subplots(figsize=(6,6))\n",
        "\n",
        "# x，y軸の目盛り設定\n",
        "xticks = np.arange(0,10,1)\n",
        "yticks = np.arange(0,10,1)\n",
        "ax.set_xticks(xticks)\n",
        "ax.set_yticks(yticks)\n",
        "\n",
        "#軸の最大値・最小値を設定\n",
        "ax.set_xlim(0, 10)\n",
        "ax.set_ylim(0, 10)\n",
        "\n",
        "# グリッド設定\n",
        "ax.grid()\n",
        "\n",
        "# XORのMIL記号作成\n",
        "def MIL_XOR(p, q):\n",
        "  # MIL記号\n",
        "  ax.plot([p, p+5.5-2*np.sqrt(3)], [q, q], color = 'black', linewidth=\"2\")\n",
        "  ax.plot([p, p+5.5-2*np.sqrt(3)], [q+4, q+4], color = 'black', linewidth=\"2\")\n",
        "  Arc0 = patches.Arc(xy=(p-2*np.sqrt(3)-0.5,q+2), width=8, height=8, \n",
        "                     angle=0, theta1=330, theta2=30, linewidth=\"2\")\n",
        "  Arc1 = patches.Arc(xy=(p-2*np.sqrt(3),q+2), width=8, height=8, \n",
        "                     angle=0, theta1=330, theta2=30, linewidth=\"2\")\n",
        "  Arc2 = patches.Arc(xy=(p+5.5-2*np.sqrt(3),q), width=8, height=8, \n",
        "                     angle=0, theta1=30, theta2=90, linewidth=\"2\")\n",
        "  Arc3 = patches.Arc(xy=(p+5.5-2*np.sqrt(3),q+4), width=8, height=8, \n",
        "                     angle=0, theta1=270, theta2=330, linewidth=\"2\")\n",
        "  ax.add_patch(Arc0)\n",
        "  ax.add_patch(Arc1)\n",
        "  ax.add_patch(Arc2)\n",
        "  ax.add_patch(Arc3)\n",
        "  # 端子\n",
        "  ax.plot([p-1, p+0.4], [q+1, q+1], color = 'black', linewidth=\"2\")\n",
        "  ax.plot([p-1, p+0.4], [q+3, q+3], color = 'black', linewidth=\"2\")\n",
        "  ax.plot([p+5.5, p+6], [q+2, q+2], color = 'black', linewidth=\"2\")\n",
        "\n",
        "# XOR論理ゲート\n",
        "# c = int(bool(a) != bool(b))でもOK\n",
        "def XOR(a, b):\n",
        "  c = int(bool((a and not b) or (not a and b)))\n",
        "  return c\n",
        "\n",
        "# XORのMIL記号の配置\n",
        "MIL_XOR(3, 3)\n",
        "\n",
        "# a, bに0か１を入れる\n",
        "a,b=(int(x) for x in input('a b にそれぞれ1か0を入れる：').split())\n",
        "ax.text(1.5,6, a, size= 15, color = 'black', \n",
        "        horizontalalignment='center', verticalalignment='center')  #略：ha='center',va='center'\n",
        "ax.text(1.5,4, b, size= 15, color = 'black', \n",
        "        horizontalalignment='center', verticalalignment='center')\n",
        "\n",
        "# XORの計算結果を表示\n",
        "c = XOR(a,b)\n",
        "ax.text(9, 5.2, c, size = 15, color = \"red\")\n",
        "\n",
        "plt.show()\n"
      ],
      "metadata": {
        "colab": {
          "base_uri": "https://localhost:8080/",
          "height": 391
        },
        "outputId": "0d67a676-07b7-4e90-ced2-db2fb1d151e5",
        "id": "_FyXmALj54jl"
      },
      "execution_count": null,
      "outputs": [
        {
          "name": "stdout",
          "output_type": "stream",
          "text": [
            "a b にそれぞれ1か0を入れる：0 1\n"
          ]
        },
        {
          "output_type": "display_data",
          "data": {
            "text/plain": [
              "<Figure size 432x432 with 1 Axes>"
            ],
            "image/png": "[encoded data removed]"
          },
          "metadata": {
            "needs_background": "light"
          }
        }
      ]
    },
    {
      "cell_type": "markdown",
      "source": [
        "SchemDrawで論理ゲート作成"
      ],
      "metadata": {
        "id": "Trn-cHIDdBfn"
      }
    },
    {
      "cell_type": "code",
      "source": [
        "# 記号だけ\n",
        "\n",
        "logic.Xor()"
      ],
      "metadata": {
        "colab": {
          "base_uri": "https://localhost:8080/",
          "height": 88
        },
        "outputId": "c2f94f2a-ea0f-4b3d-fa85-680dd09b57e3",
        "id": "flAo2QWQdBfn"
      },
      "execution_count": null,
      "outputs": [
        {
          "output_type": "execute_result",
          "data": {
            "text/plain": [
              "<schemdraw.logic.logic.Or at 0x7fa9fe3204f0>"
            ],
            "image/svg+xml": "<?xml version=\"1.0\" encoding=\"utf-8\" standalone=\"no\"?>\n<!DOCTYPE svg PUBLIC \"-//W3C//DTD SVG 1.1//EN\"\n  \"http://www.w3.org/Graphics/SVG/1.1/DTD/svg11.dtd\">\n<!-- Created with matplotlib (https://matplotlib.org/) -->\n<svg height=\"50.508pt\" version=\"1.1\" viewBox=\"0 0 83.25 50.508\" width=\"83.25pt\" xmlns=\"http://www.w3.org/2000/svg\" xmlns:xlink=\"http://www.w3.org/1999/xlink\">\n <defs>\n  <style type=\"text/css\">\n*{stroke-linecap:butt;stroke-linejoin:round;}\n  </style>\n </defs>\n <g id=\"figure_1\">\n  <g id=\"patch_1\">\n   <path d=\"M 0 50.508 \nL 83.25 50.508 \nL 83.25 0 \nL 0 0 \nz\n\" style=\"fill:#ffffff;\"/>\n  </g>\n  <g id=\"axes_1\">\n   <g id=\"line2d_1\">\n    <path clip-path=\"url(#p34c6757786)\" d=\"M 25.56 40.248 \nL 42.608571 40.148082 \nL 44.357143 39.848327 \nL 46.105714 39.348735 \nL 47.854286 38.649306 \nL 49.602857 37.750041 \nL 51.788571 36.344939 \nL 53.974286 34.627592 \nL 56.16 32.598 \nL 58.345714 30.256163 \nL 60.531429 27.602082 \nL 62.28 25.254 \nL 62.28 25.254 \nL 59.657143 21.806816 \nL 57.471429 19.277633 \nL 55.285714 17.060694 \nL 53.1 15.156 \nL 50.914286 13.563551 \nL 48.728571 12.283347 \nL 46.98 11.484 \nL 45.231429 10.88449 \nL 43.482857 10.484816 \nL 41.734286 10.28498 \nL 40.86 10.26 \nL 25.56 10.26 \nL 25.56 10.26 \nL 27.7632 12.708 \nL 29.15856 14.544 \nL 30.3336 16.38 \nL 31.28832 18.216 \nL 32.02272 20.052 \nL 32.5368 21.888 \nL 32.83056 23.724 \nL 32.904 25.56 \nL 32.75712 27.396 \nL 32.38992 29.232 \nL 31.8024 31.068 \nL 30.99456 32.904 \nL 29.9664 34.74 \nL 28.71792 36.576 \nL 27.24912 38.412 \nL 25.56 40.248 \nL 25.56 40.248 \n\" style=\"fill:none;stroke:#000000;stroke-linecap:round;stroke-width:2;\"/>\n   </g>\n   <g id=\"line2d_2\">\n    <path clip-path=\"url(#p34c6757786)\" d=\"M 20.97 40.248 \nL 21.55752 39.636 \nL 22.12056 39.024 \nL 22.65912 38.412 \nL 23.1732 37.8 \nL 23.6628 37.188 \nL 24.12792 36.576 \nL 24.56856 35.964 \nL 24.98472 35.352 \nL 25.3764 34.74 \nL 25.7436 34.128 \nL 26.08632 33.516 \nL 26.40456 32.904 \nL 26.69832 32.292 \nL 26.9676 31.68 \nL 27.2124 31.068 \nL 27.43272 30.456 \nL 27.62856 29.844 \nL 27.79992 29.232 \nL 27.9468 28.62 \nL 28.0692 28.008 \nL 28.16712 27.396 \nL 28.24056 26.784 \nL 28.28952 26.172 \nL 28.314 25.56 \nL 28.314 24.948 \nL 28.28952 24.336 \nL 28.24056 23.724 \nL 28.16712 23.112 \nL 28.0692 22.5 \nL 27.9468 21.888 \nL 27.79992 21.276 \nL 27.62856 20.664 \nL 27.43272 20.052 \nL 27.2124 19.44 \nL 26.9676 18.828 \nL 26.69832 18.216 \nL 26.40456 17.604 \nL 26.08632 16.992 \nL 25.7436 16.38 \nL 25.3764 15.768 \nL 24.98472 15.156 \nL 24.56856 14.544 \nL 24.12792 13.932 \nL 23.6628 13.32 \nL 23.1732 12.708 \nL 22.65912 12.096 \nL 22.12056 11.484 \nL 21.55752 10.872 \nL 20.97 10.26 \n\" style=\"fill:none;stroke:#000000;stroke-linecap:round;stroke-width:2;\"/>\n   </g>\n   <g id=\"line2d_3\">\n    <path clip-path=\"url(#p34c6757786)\" d=\"M 10.26 32.904 \nL 26.40456 32.904 \n\" style=\"fill:none;stroke:#000000;stroke-linecap:round;stroke-width:2;\"/>\n   </g>\n   <g id=\"line2d_4\">\n    <path clip-path=\"url(#p34c6757786)\" d=\"M 10.26 17.604 \nL 26.40456 17.604 \n\" style=\"fill:none;stroke:#000000;stroke-linecap:round;stroke-width:2;\"/>\n   </g>\n   <g id=\"line2d_5\">\n    <path clip-path=\"url(#p34c6757786)\" d=\"M 62.28 25.254 \nL 72.99 25.254 \n\" style=\"fill:none;stroke:#000000;stroke-linecap:round;stroke-width:2;\"/>\n   </g>\n  </g>\n </g>\n <defs>\n  <clipPath id=\"p34c6757786\">\n   <rect height=\"36.108\" width=\"68.85\" x=\"7.2\" y=\"7.2\"/>\n  </clipPath>\n </defs>\n</svg>\n",
            "image/png": "[encoded data removed]"
          },
          "metadata": {},
          "execution_count": 14
        }
      ]
    },
    {
      "cell_type": "code",
      "execution_count": null,
      "metadata": {
        "tags": [
          "hide-input"
        ],
        "outputId": "122d3696-595a-441c-ab6e-30422671703b",
        "colab": {
          "base_uri": "https://localhost:8080/",
          "height": 106
        },
        "id": "U2Kw1W2tdBfn"
      },
      "outputs": [
        {
          "output_type": "execute_result",
          "data": {
            "text/plain": [
              "<schemdraw.schemdraw.Drawing at 0x7fa9fdc1fe20>"
            ],
            "image/svg+xml": "<?xml version=\"1.0\" encoding=\"utf-8\" standalone=\"no\"?>\n<!DOCTYPE svg PUBLIC \"-//W3C//DTD SVG 1.1//EN\"\n  \"http://www.w3.org/Graphics/SVG/1.1/DTD/svg11.dtd\">\n<!-- Created with matplotlib (https://matplotlib.org/) -->\n<svg height=\"63.7pt\" version=\"1.1\" viewBox=\"0 0 154.14 63.7\" width=\"154.14pt\" xmlns=\"http://www.w3.org/2000/svg\" xmlns:xlink=\"http://www.w3.org/1999/xlink\">\n <defs>\n  <style type=\"text/css\">\n*{stroke-linecap:butt;stroke-linejoin:round;}\n  </style>\n </defs>\n <g id=\"figure_1\">\n  <g id=\"patch_1\">\n   <path d=\"M 0 63.7 \nL 154.14 63.7 \nL 154.14 0 \nL 0 0 \nz\n\" style=\"fill:#ffffff;\"/>\n  </g>\n  <g id=\"axes_1\">\n   <g id=\"line2d_1\">\n    <path clip-path=\"url(#p6d42d04356)\" d=\"M 42.7368 49.904 \nL 59.785371 49.804082 \nL 61.533943 49.504327 \nL 63.282514 49.004735 \nL 65.031086 48.305306 \nL 66.779657 47.406041 \nL 68.965371 46.000939 \nL 71.151086 44.283592 \nL 73.3368 42.254 \nL 75.522514 39.912163 \nL 77.708229 37.258082 \nL 79.4568 34.91 \nL 79.4568 34.91 \nL 76.833943 31.462816 \nL 74.648229 28.933633 \nL 72.462514 26.716694 \nL 70.2768 24.812 \nL 68.091086 23.219551 \nL 65.905371 21.939347 \nL 64.1568 21.14 \nL 62.408229 20.54049 \nL 60.659657 20.140816 \nL 58.911086 19.94098 \nL 58.0368 19.916 \nL 42.7368 19.916 \nL 42.7368 19.916 \nL 44.94 22.364 \nL 46.33536 24.2 \nL 47.5104 26.036 \nL 48.46512 27.872 \nL 49.19952 29.708 \nL 49.7136 31.544 \nL 50.00736 33.38 \nL 50.0808 35.216 \nL 49.93392 37.052 \nL 49.56672 38.888 \nL 48.9792 40.724 \nL 48.17136 42.56 \nL 47.1432 44.396 \nL 45.89472 46.232 \nL 44.42592 48.068 \nL 42.7368 49.904 \nL 42.7368 49.904 \n\" style=\"fill:none;stroke:#000000;stroke-linecap:round;stroke-width:2;\"/>\n   </g>\n   <g id=\"line2d_2\">\n    <path clip-path=\"url(#p6d42d04356)\" d=\"M 38.1468 49.904 \nL 38.73432 49.292 \nL 39.29736 48.68 \nL 39.83592 48.068 \nL 40.35 47.456 \nL 40.8396 46.844 \nL 41.30472 46.232 \nL 41.74536 45.62 \nL 42.16152 45.008 \nL 42.5532 44.396 \nL 42.9204 43.784 \nL 43.26312 43.172 \nL 43.58136 42.56 \nL 43.87512 41.948 \nL 44.1444 41.336 \nL 44.3892 40.724 \nL 44.60952 40.112 \nL 44.80536 39.5 \nL 44.97672 38.888 \nL 45.1236 38.276 \nL 45.246 37.664 \nL 45.34392 37.052 \nL 45.41736 36.44 \nL 45.46632 35.828 \nL 45.4908 35.216 \nL 45.4908 34.604 \nL 45.46632 33.992 \nL 45.41736 33.38 \nL 45.34392 32.768 \nL 45.246 32.156 \nL 45.1236 31.544 \nL 44.97672 30.932 \nL 44.80536 30.32 \nL 44.60952 29.708 \nL 44.3892 29.096 \nL 44.1444 28.484 \nL 43.87512 27.872 \nL 43.58136 27.26 \nL 43.26312 26.648 \nL 42.9204 26.036 \nL 42.5532 25.424 \nL 42.16152 24.812 \nL 41.74536 24.2 \nL 41.30472 23.588 \nL 40.8396 22.976 \nL 40.35 22.364 \nL 39.83592 21.752 \nL 39.29736 21.14 \nL 38.73432 20.528 \nL 38.1468 19.916 \n\" style=\"fill:none;stroke:#000000;stroke-linecap:round;stroke-width:2;\"/>\n   </g>\n   <g id=\"line2d_3\">\n    <path clip-path=\"url(#p6d42d04356)\" d=\"M 27.4368 42.56 \nL 43.58136 42.56 \n\" style=\"fill:none;stroke:#000000;stroke-linecap:round;stroke-width:2;\"/>\n   </g>\n   <g id=\"line2d_4\">\n    <path clip-path=\"url(#p6d42d04356)\" d=\"M 27.4368 27.26 \nL 43.58136 27.26 \n\" style=\"fill:none;stroke:#000000;stroke-linecap:round;stroke-width:2;\"/>\n   </g>\n   <g id=\"line2d_5\">\n    <path clip-path=\"url(#p6d42d04356)\" d=\"M 79.4568 34.91 \nL 90.1668 34.91 \n\" style=\"fill:none;stroke:#000000;stroke-linecap:round;stroke-width:2;\"/>\n   </g>\n   <g id=\"text_1\">\n    <g clip-path=\"url(#p6d42d04356)\">\n     <!-- $A xor B$ -->\n     <defs>\n      <path d=\"M 36.8125 72.90625 \nL 48 72.90625 \nL 61.53125 0 \nL 51.21875 0 \nL 48.1875 18.703125 \nL 15.375 18.703125 \nL 5.078125 0 \nL -5.328125 0 \nz\nM 40.375 63.1875 \nL 19.921875 26.90625 \nL 46.6875 26.90625 \nz\n\" id=\"DejaVuSans-Oblique-65\"/>\n      <path d=\"M 60.015625 54.6875 \nL 34.90625 27.875 \nL 50.296875 0 \nL 39.984375 0 \nL 28.421875 21.6875 \nL 8.296875 0 \nL -2.59375 0 \nL 24.3125 28.8125 \nL 10.015625 54.6875 \nL 20.3125 54.6875 \nL 30.8125 34.90625 \nL 49.125 54.6875 \nz\n\" id=\"DejaVuSans-Oblique-120\"/>\n      <path d=\"M 25.390625 -1.421875 \nQ 15.765625 -1.421875 10.171875 4.515625 \nQ 4.59375 10.453125 4.59375 20.703125 \nQ 4.59375 26.65625 6.515625 32.828125 \nQ 8.453125 39.015625 11.53125 43.21875 \nQ 16.359375 49.75 22.3125 52.875 \nQ 28.265625 56 35.796875 56 \nQ 45.125 56 50.859375 50.1875 \nQ 56.59375 44.390625 56.59375 35.015625 \nQ 56.59375 28.515625 54.6875 22.0625 \nQ 52.78125 15.625 49.703125 11.375 \nQ 44.921875 4.828125 38.96875 1.703125 \nQ 33.015625 -1.421875 25.390625 -1.421875 \nz\nM 13.921875 21 \nQ 13.921875 13.578125 17.015625 9.890625 \nQ 20.125 6.203125 26.421875 6.203125 \nQ 35.453125 6.203125 41.375 14.078125 \nQ 47.3125 21.96875 47.3125 34.078125 \nQ 47.3125 41.15625 44.140625 44.765625 \nQ 40.96875 48.390625 34.8125 48.390625 \nQ 29.734375 48.390625 25.78125 46.015625 \nQ 21.828125 43.65625 18.703125 38.8125 \nQ 16.40625 35.203125 15.15625 30.5625 \nQ 13.921875 25.921875 13.921875 21 \nz\n\" id=\"DejaVuSans-Oblique-111\"/>\n      <path d=\"M 44.578125 46.390625 \nQ 43.21875 47.125 41.453125 47.515625 \nQ 39.703125 47.90625 37.703125 47.90625 \nQ 30.515625 47.90625 25.140625 42.453125 \nQ 19.78125 37.015625 18.015625 27.875 \nL 12.5 0 \nL 3.515625 0 \nL 14.203125 54.6875 \nL 23.1875 54.6875 \nL 21.484375 46.1875 \nQ 25.046875 50.921875 30 53.453125 \nQ 34.96875 56 40.578125 56 \nQ 42.046875 56 43.453125 55.828125 \nQ 44.875 55.671875 46.296875 55.28125 \nz\n\" id=\"DejaVuSans-Oblique-114\"/>\n      <path d=\"M 16.890625 72.90625 \nL 42.09375 72.90625 \nQ 52.34375 72.90625 57.421875 69.09375 \nQ 62.5 65.28125 62.5 57.625 \nQ 62.5 50.59375 58.125 45.484375 \nQ 53.765625 40.375 46.6875 39.3125 \nQ 52.734375 37.9375 55.765625 34.078125 \nQ 58.796875 30.21875 58.796875 23.78125 \nQ 58.796875 12.796875 50.65625 6.390625 \nQ 42.53125 0 28.421875 0 \nL 2.6875 0 \nz\nM 19.28125 34.8125 \nL 14.109375 8.109375 \nL 29.984375 8.109375 \nQ 38.921875 8.109375 43.75 12.203125 \nQ 48.578125 16.3125 48.578125 23.78125 \nQ 48.578125 29.546875 45.375 32.171875 \nQ 42.1875 34.8125 35.109375 34.8125 \nz\nM 25.09375 64.796875 \nL 20.796875 42.828125 \nL 35.5 42.828125 \nQ 43.359375 42.828125 47.78125 46.234375 \nQ 52.203125 49.65625 52.203125 55.71875 \nQ 52.203125 60.453125 49.21875 62.625 \nQ 46.234375 64.796875 39.703125 64.796875 \nz\n\" id=\"DejaVuSans-Oblique-66\"/>\n     </defs>\n     <g transform=\"translate(93.2268 38.359219)scale(0.125 -0.125)\">\n      <use transform=\"translate(0 0.09375)\" xlink:href=\"#DejaVuSans-Oblique-65\"/>\n      <use transform=\"translate(68.408203 0.09375)\" xlink:href=\"#DejaVuSans-Oblique-120\"/>\n      <use transform=\"translate(127.587891 0.09375)\" xlink:href=\"#DejaVuSans-Oblique-111\"/>\n      <use transform=\"translate(188.769531 0.09375)\" xlink:href=\"#DejaVuSans-Oblique-114\"/>\n      <use transform=\"translate(229.882812 0.09375)\" xlink:href=\"#DejaVuSans-Oblique-66\"/>\n     </g>\n    </g>\n   </g>\n   <g id=\"text_2\">\n    <g clip-path=\"url(#p6d42d04356)\">\n     <!-- $A$ -->\n     <g transform=\"translate(15.7518 30.709219)scale(0.125 -0.125)\">\n      <use transform=\"translate(0 0.09375)\" xlink:href=\"#DejaVuSans-Oblique-65\"/>\n     </g>\n    </g>\n   </g>\n   <g id=\"text_3\">\n    <g clip-path=\"url(#p6d42d04356)\">\n     <!-- $B$ -->\n     <g transform=\"translate(15.7518 46.009219)scale(0.125 -0.125)\">\n      <use transform=\"translate(0 0.09375)\" xlink:href=\"#DejaVuSans-Oblique-66\"/>\n     </g>\n    </g>\n   </g>\n  </g>\n </g>\n <defs>\n  <clipPath id=\"p6d42d04356\">\n   <rect height=\"49.3\" width=\"139.74\" x=\"7.2\" y=\"7.2\"/>\n  </clipPath>\n </defs>\n</svg>\n",
            "image/png": "[encoded data removed]"
          },
          "metadata": {},
          "execution_count": 15
        }
      ],
      "source": [
        "# 入力＋出力\n",
        "\n",
        "logicparse('$A$ xor $B$', outlabel='$A xor B$')"
      ]
    },
    {
      "cell_type": "markdown",
      "source": [
        "inputして論理演算の結果を表示"
      ],
      "metadata": {
        "id": "S5q8_kDG-qyM"
      }
    },
    {
      "cell_type": "code",
      "source": [
        "\n",
        "# XOR論理ゲート\n",
        "def XOR(a, b):\n",
        "  c = int(bool((a and not b) or (not a and b)))\n",
        "  return c\n",
        "\n",
        "# a, bに0か１を入れる\n",
        "a,b=(int(x) for x in input('a b にそれぞれ1か0を入れる：').split())\n",
        "\n",
        "# SchemeDraw表記\n",
        "d = Drawing(unit=.5)\n",
        "d += (XO := logic.Xor())\n",
        "d += logic.Line().left().at(XO.in1).label(str(a), 'left')\n",
        "d += logic.Line().left().at(XO.in2).label(str(b), 'left')\n",
        "d += logic.Line().right().at(XO.end)\n",
        "\n",
        "# 出力の表示\n",
        "# XOR()の計算結果をcに代入\n",
        "c = XOR(a,b)\n",
        "\n",
        "schemfig = d.draw()\n",
        "schemfig.ax.text(1.9, 0.1, c, size = 12, color = \"red\");\n",
        "display(schemfig)\n"
      ],
      "metadata": {
        "colab": {
          "base_uri": "https://localhost:8080/",
          "height": 124
        },
        "outputId": "eb31a730-62b1-4bb7-c054-fcacae458fa4",
        "id": "6VBz4jHYRBDb"
      },
      "execution_count": null,
      "outputs": [
        {
          "name": "stdout",
          "output_type": "stream",
          "text": [
            "a b にそれぞれ1か0を入れる：0 1\n"
          ]
        },
        {
          "output_type": "display_data",
          "data": {
            "text/plain": [
              "<schemdraw.backends.mpl.Figure object at 0x7ff5dcbd64c0>"
            ],
            "image/svg+xml": "<?xml version=\"1.0\" encoding=\"utf-8\" standalone=\"no\"?>\n<!DOCTYPE svg PUBLIC \"-//W3C//DTD SVG 1.1//EN\"\n  \"http://www.w3.org/Graphics/SVG/1.1/DTD/svg11.dtd\">\n<!-- Created with matplotlib (https://matplotlib.org/) -->\n<svg height=\"63.7pt\" version=\"1.1\" viewBox=\"0 0 129.813 63.7\" width=\"129.813pt\" xmlns=\"http://www.w3.org/2000/svg\" xmlns:xlink=\"http://www.w3.org/1999/xlink\">\n <defs>\n  <style type=\"text/css\">\n*{stroke-linecap:butt;stroke-linejoin:round;}\n  </style>\n </defs>\n <g id=\"figure_1\">\n  <g id=\"patch_1\">\n   <path d=\"M 0 63.7 \nL 129.813 63.7 \nL 129.813 -0 \nL 0 -0 \nz\n\" style=\"fill:#ffffff;\"/>\n  </g>\n  <g id=\"axes_1\">\n   <g id=\"line2d_1\">\n    <path clip-path=\"url(#p879b137fbb)\" d=\"M 56.823 49.904 \nL 73.871571 49.804082 \nL 75.620143 49.504327 \nL 77.368714 49.004735 \nL 79.117286 48.305306 \nL 80.865857 47.406041 \nL 83.051571 46.000939 \nL 85.237286 44.283592 \nL 87.423 42.254 \nL 89.608714 39.912163 \nL 91.794429 37.258082 \nL 93.543 34.91 \nL 93.543 34.91 \nL 90.920143 31.462816 \nL 88.734429 28.933633 \nL 86.548714 26.716694 \nL 84.363 24.812 \nL 82.177286 23.219551 \nL 79.991571 21.939347 \nL 78.243 21.14 \nL 76.494429 20.54049 \nL 74.745857 20.140816 \nL 72.997286 19.94098 \nL 72.123 19.916 \nL 56.823 19.916 \nL 56.823 19.916 \nL 59.0262 22.364 \nL 60.42156 24.2 \nL 61.5966 26.036 \nL 62.55132 27.872 \nL 63.28572 29.708 \nL 63.7998 31.544 \nL 64.09356 33.38 \nL 64.167 35.216 \nL 64.02012 37.052 \nL 63.65292 38.888 \nL 63.0654 40.724 \nL 62.25756 42.56 \nL 61.2294 44.396 \nL 59.98092 46.232 \nL 58.51212 48.068 \nL 56.823 49.904 \nL 56.823 49.904 \n\" style=\"fill:none;stroke:#000000;stroke-linecap:round;stroke-width:2;\"/>\n   </g>\n   <g id=\"line2d_2\">\n    <path clip-path=\"url(#p879b137fbb)\" d=\"M 52.233 49.904 \nL 52.82052 49.292 \nL 53.38356 48.68 \nL 53.92212 48.068 \nL 54.4362 47.456 \nL 54.9258 46.844 \nL 55.39092 46.232 \nL 55.83156 45.62 \nL 56.24772 45.008 \nL 56.6394 44.396 \nL 57.0066 43.784 \nL 57.34932 43.172 \nL 57.66756 42.56 \nL 57.96132 41.948 \nL 58.2306 41.336 \nL 58.4754 40.724 \nL 58.69572 40.112 \nL 58.89156 39.5 \nL 59.06292 38.888 \nL 59.2098 38.276 \nL 59.3322 37.664 \nL 59.43012 37.052 \nL 59.50356 36.44 \nL 59.55252 35.828 \nL 59.577 35.216 \nL 59.577 34.604 \nL 59.55252 33.992 \nL 59.50356 33.38 \nL 59.43012 32.768 \nL 59.3322 32.156 \nL 59.2098 31.544 \nL 59.06292 30.932 \nL 58.89156 30.32 \nL 58.69572 29.708 \nL 58.4754 29.096 \nL 58.2306 28.484 \nL 57.96132 27.872 \nL 57.66756 27.26 \nL 57.34932 26.648 \nL 57.0066 26.036 \nL 56.6394 25.424 \nL 56.24772 24.812 \nL 55.83156 24.2 \nL 55.39092 23.588 \nL 54.9258 22.976 \nL 54.4362 22.364 \nL 53.92212 21.752 \nL 53.38356 21.14 \nL 52.82052 20.528 \nL 52.233 19.916 \n\" style=\"fill:none;stroke:#000000;stroke-linecap:round;stroke-width:2;\"/>\n   </g>\n   <g id=\"line2d_3\">\n    <path clip-path=\"url(#p879b137fbb)\" d=\"M 41.523 42.56 \nL 57.66756 42.56 \n\" style=\"fill:none;stroke:#000000;stroke-linecap:round;stroke-width:2;\"/>\n   </g>\n   <g id=\"line2d_4\">\n    <path clip-path=\"url(#p879b137fbb)\" d=\"M 41.523 27.26 \nL 57.66756 27.26 \n\" style=\"fill:none;stroke:#000000;stroke-linecap:round;stroke-width:2;\"/>\n   </g>\n   <g id=\"line2d_5\">\n    <path clip-path=\"url(#p879b137fbb)\" d=\"M 93.543 34.91 \nL 104.253 34.91 \n\" style=\"fill:none;stroke:#000000;stroke-linecap:round;stroke-width:2;\"/>\n   </g>\n   <g id=\"line2d_6\">\n    <path clip-path=\"url(#p879b137fbb)\" d=\"M 41.523 27.26 \nL 33.873 27.26 \nL 26.223 27.26 \n\" style=\"fill:none;stroke:#000000;stroke-linecap:round;stroke-width:2;\"/>\n   </g>\n   <g id=\"line2d_7\">\n    <path clip-path=\"url(#p879b137fbb)\" d=\"M 41.523 42.56 \nL 33.873 42.56 \nL 26.223 42.56 \n\" style=\"fill:none;stroke:#000000;stroke-linecap:round;stroke-width:2;\"/>\n   </g>\n   <g id=\"line2d_8\">\n    <path clip-path=\"url(#p879b137fbb)\" d=\"M 104.253 34.91 \nL 111.903 34.91 \nL 119.553 34.91 \n\" style=\"fill:none;stroke:#000000;stroke-linecap:round;stroke-width:2;\"/>\n   </g>\n   <g id=\"text_1\">\n    <g clip-path=\"url(#p879b137fbb)\">\n     <!-- 0 -->\n     <defs>\n      <path d=\"M 31.78125 66.40625 \nQ 24.171875 66.40625 20.328125 58.90625 \nQ 16.5 51.421875 16.5 36.375 \nQ 16.5 21.390625 20.328125 13.890625 \nQ 24.171875 6.390625 31.78125 6.390625 \nQ 39.453125 6.390625 43.28125 13.890625 \nQ 47.125 21.390625 47.125 36.375 \nQ 47.125 51.421875 43.28125 58.90625 \nQ 39.453125 66.40625 31.78125 66.40625 \nz\nM 31.78125 74.21875 \nQ 44.046875 74.21875 50.515625 64.515625 \nQ 56.984375 54.828125 56.984375 36.375 \nQ 56.984375 17.96875 50.515625 8.265625 \nQ 44.046875 -1.421875 31.78125 -1.421875 \nQ 19.53125 -1.421875 13.0625 8.265625 \nQ 6.59375 17.96875 6.59375 36.375 \nQ 6.59375 54.828125 13.0625 64.515625 \nQ 19.53125 74.21875 31.78125 74.21875 \nz\n\" id=\"DejaVuSans-48\"/>\n     </defs>\n     <g transform=\"translate(15.209875 30.709219)scale(0.125 -0.125)\">\n      <use xlink:href=\"#DejaVuSans-48\"/>\n     </g>\n    </g>\n   </g>\n   <g id=\"text_2\">\n    <g clip-path=\"url(#p879b137fbb)\">\n     <!-- 1 -->\n     <defs>\n      <path d=\"M 12.40625 8.296875 \nL 28.515625 8.296875 \nL 28.515625 63.921875 \nL 10.984375 60.40625 \nL 10.984375 69.390625 \nL 28.421875 72.90625 \nL 38.28125 72.90625 \nL 38.28125 8.296875 \nL 54.390625 8.296875 \nL 54.390625 0 \nL 12.40625 0 \nz\n\" id=\"DejaVuSans-49\"/>\n     </defs>\n     <g transform=\"translate(15.209875 46.009219)scale(0.125 -0.125)\">\n      <use xlink:href=\"#DejaVuSans-49\"/>\n     </g>\n    </g>\n   </g>\n   <g id=\"text_3\">\n    <!-- 1 -->\n    <g style=\"fill:#ff0000;\" transform=\"translate(99.663 31.85)scale(0.12 -0.12)\">\n     <use xlink:href=\"#DejaVuSans-49\"/>\n    </g>\n   </g>\n  </g>\n </g>\n <defs>\n  <clipPath id=\"p879b137fbb\">\n   <rect height=\"49.3\" width=\"115.413\" x=\"7.2\" y=\"7.2\"/>\n  </clipPath>\n </defs>\n</svg>\n",
            "image/png": "[encoded data removed]"
          },
          "metadata": {}
        }
      ]
    },
    {
      "cell_type": "markdown",
      "source": [
        "# ★ XORは基本3回路で表せる"
      ],
      "metadata": {
        "id": "mJcbszPmJb8i"
      }
    },
    {
      "cell_type": "markdown",
      "source": [
        "SchemDrawで回路作成\n",
        "\n",
        "(SchemDrawの準備必要) ([SchemDraw](#SchemDraw-id))"
      ],
      "metadata": {
        "id": "iixqerHE4plF"
      }
    },
    {
      "cell_type": "markdown",
      "source": [
        "inputして論理演算の結果を表示\n",
        "\n",
        "次のセルで作成順序サンプルを表示"
      ],
      "metadata": {
        "id": "vl-DQtoq5bPi"
      }
    },
    {
      "cell_type": "code",
      "execution_count": null,
      "metadata": {
        "tags": [
          "hide-input"
        ],
        "colab": {
          "base_uri": "https://localhost:8080/",
          "height": 232
        },
        "outputId": "573d5735-41ce-44ba-e674-1518b7deda2d",
        "id": "6WgG1OxGgihO"
      },
      "outputs": [
        {
          "name": "stdout",
          "output_type": "stream",
          "text": [
            "a b にそれぞれ1か0を入れる：0 1\n"
          ]
        },
        {
          "output_type": "display_data",
          "data": {
            "text/plain": [
              "<schemdraw.backends.mpl.Figure object at 0x7fa6d8eb23a0>"
            ],
            "image/svg+xml": "<?xml version=\"1.0\" encoding=\"utf-8\" standalone=\"no\"?>\n<!DOCTYPE svg PUBLIC \"-//W3C//DTD SVG 1.1//EN\"\n  \"http://www.w3.org/Graphics/SVG/1.1/DTD/svg11.dtd\">\n<!-- Created with matplotlib (https://matplotlib.org/) -->\n<svg height=\"144.62pt\" version=\"1.1\" viewBox=\"0 0 285.567 144.62\" width=\"285.567pt\" xmlns=\"http://www.w3.org/2000/svg\" xmlns:xlink=\"http://www.w3.org/1999/xlink\">\n <defs>\n  <style type=\"text/css\">\n*{stroke-linecap:butt;stroke-linejoin:round;}\n  </style>\n </defs>\n <g id=\"figure_1\">\n  <g id=\"patch_1\">\n   <path d=\"M 0 144.62 \nL 285.567 144.62 \nL 285.567 0 \nL 0 0 \nz\n\" style=\"fill:#ffffff;\"/>\n  </g>\n  <g id=\"axes_1\">\n   <g id=\"patch_2\">\n    <path clip-path=\"url(#p85442d02ca)\" d=\"M 95.685 30.932 \nC 96.658826 30.932 97.592897 30.545095 98.281496 29.856496 \nC 98.970095 29.167897 99.357 28.233826 99.357 27.26 \nC 99.357 26.286174 98.970095 25.352103 98.281496 24.663504 \nC 97.592897 23.974905 96.658826 23.588 95.685 23.588 \nC 94.711174 23.588 93.777103 23.974905 93.088504 24.663504 \nC 92.399905 25.352103 92.013 26.286174 92.013 27.26 \nC 92.013 28.233826 92.399905 29.167897 93.088504 29.856496 \nC 93.777103 30.545095 94.711174 30.932 95.685 30.932 \nz\n\" style=\"fill:none;stroke:#000000;stroke-linejoin:miter;stroke-width:2;\"/>\n   </g>\n   <g id=\"patch_3\">\n    <path clip-path=\"url(#p85442d02ca)\" d=\"M 99.051 122.732 \nC 100.024826 122.732 100.958897 122.345095 101.647496 121.656496 \nC 102.336095 120.967897 102.723 120.033826 102.723 119.06 \nC 102.723 118.086174 102.336095 117.152103 101.647496 116.463504 \nC 100.958897 115.774905 100.024826 115.388 99.051 115.388 \nC 98.077174 115.388 97.143103 115.774905 96.454504 116.463504 \nC 95.765905 117.152103 95.379 118.086174 95.379 119.06 \nC 95.379 120.033826 95.765905 120.967897 96.454504 121.656496 \nC 97.143103 122.345095 98.077174 122.732 99.051 122.732 \nz\n\" style=\"fill:none;stroke:#000000;stroke-linejoin:miter;stroke-width:2;\"/>\n   </g>\n   <g id=\"patch_4\">\n    <path clip-path=\"url(#p85442d02ca)\" d=\"M 95.685 30.932 \nC 96.658826 30.932 97.592897 30.545095 98.281496 29.856496 \nC 98.970095 29.167897 99.357 28.233826 99.357 27.26 \nC 99.357 26.286174 98.970095 25.352103 98.281496 24.663504 \nC 97.592897 23.974905 96.658826 23.588 95.685 23.588 \nC 94.711174 23.588 93.777103 23.974905 93.088504 24.663504 \nC 92.399905 25.352103 92.013 26.286174 92.013 27.26 \nC 92.013 28.233826 92.399905 29.167897 93.088504 29.856496 \nC 93.777103 30.545095 94.711174 30.932 95.685 30.932 \nz\n\" style=\"fill:none;stroke:#000000;stroke-linejoin:miter;stroke-width:2;\"/>\n   </g>\n   <g id=\"patch_5\">\n    <path clip-path=\"url(#p85442d02ca)\" d=\"M 99.051 122.732 \nC 100.024826 122.732 100.958897 122.345095 101.647496 121.656496 \nC 102.336095 120.967897 102.723 120.033826 102.723 119.06 \nC 102.723 118.086174 102.336095 117.152103 101.647496 116.463504 \nC 100.958897 115.774905 100.024826 115.388 99.051 115.388 \nC 98.077174 115.388 97.143103 115.774905 96.454504 116.463504 \nC 95.765905 117.152103 95.379 118.086174 95.379 119.06 \nC 95.379 120.033826 95.765905 120.967897 96.454504 121.656496 \nC 97.143103 122.345095 98.077174 122.732 99.051 122.732 \nz\n\" style=\"fill:none;stroke:#000000;stroke-linejoin:miter;stroke-width:2;\"/>\n   </g>\n   <g id=\"line2d_1\">\n    <path clip-path=\"url(#p85442d02ca)\" d=\"M 26.223 27.26 \nL 41.523 27.26 \nL 56.823 27.26 \n\" style=\"fill:none;stroke:#000000;stroke-linecap:round;stroke-width:2;\"/>\n   </g>\n   <g id=\"line2d_2\">\n    <path clip-path=\"url(#p85442d02ca)\" d=\"M 56.823 27.26 \nL 64.473 27.26 \nL 72.123 27.26 \n\" style=\"fill:none;stroke:#000000;stroke-linecap:round;stroke-width:2;\"/>\n   </g>\n   <g id=\"line2d_3\">\n    <path clip-path=\"url(#p85442d02ca)\" d=\"M 72.123 27.26 \nM 99.357 27.26 \n\" style=\"fill:none;stroke:#000000;stroke-linecap:round;stroke-width:2;\"/>\n   </g>\n   <g id=\"line2d_4\">\n    <path clip-path=\"url(#p85442d02ca)\" d=\"M 72.123 11.96 \nL 92.013 27.26 \nL 72.123 42.56 \nL 72.123 11.96 \n\" style=\"fill:none;stroke:#000000;stroke-linecap:round;stroke-width:2;\"/>\n   </g>\n   <g id=\"line2d_5\">\n    <path clip-path=\"url(#p85442d02ca)\" d=\"M 99.357 27.26 \nL 107.007 27.26 \nL 114.657 27.26 \n\" style=\"fill:none;stroke:#000000;stroke-linecap:round;stroke-width:2;\"/>\n   </g>\n   <g id=\"line2d_6\">\n    <path clip-path=\"url(#p85442d02ca)\" d=\"M 114.657 27.26 \nL 114.657 34.91 \nL 114.657 42.56 \n\" style=\"fill:none;stroke:#000000;stroke-linecap:round;stroke-width:2;\"/>\n   </g>\n   <g id=\"line2d_7\">\n    <path clip-path=\"url(#p85442d02ca)\" d=\"M 114.657 42.56 \nL 122.307 42.56 \nL 129.957 42.56 \n\" style=\"fill:none;stroke:#000000;stroke-linecap:round;stroke-width:2;\"/>\n   </g>\n   <g id=\"line2d_8\">\n    <path clip-path=\"url(#p85442d02ca)\" d=\"M 160.557 65.51 \nL 161.537274 65.478565 \nL 162.513521 65.384387 \nL 163.481727 65.227855 \nL 164.437915 65.009611 \nL 165.378156 64.730553 \nL 166.298585 64.391826 \nL 167.195421 63.994824 \nL 168.064979 63.541176 \nL 168.903684 63.032748 \nL 169.708091 62.471628 \nL 170.474894 61.860123 \nL 171.200943 61.200745 \nL 171.883253 60.496204 \nL 172.519022 59.749394 \nL 173.105635 58.963385 \nL 173.640684 58.141406 \nL 174.121969 57.286836 \nL 174.547513 56.403185 \nL 174.915567 55.494085 \nL 175.224618 54.563272 \nL 175.473397 53.61457 \nL 175.660881 52.651878 \nL 175.7863 51.679152 \nL 175.849139 50.700389 \nL 175.849139 49.719611 \nL 175.7863 48.740848 \nL 175.660881 47.768122 \nL 175.473397 46.80543 \nL 175.224618 45.856728 \nL 174.915567 44.925915 \nL 174.547513 44.016815 \nL 174.121969 43.133164 \nL 173.640684 42.278594 \nL 173.105635 41.456615 \nL 172.519022 40.670606 \nL 171.883253 39.923796 \nL 171.200943 39.219255 \nL 170.474894 38.559877 \nL 169.708091 37.948372 \nL 168.903684 37.387252 \nL 168.064979 36.878824 \nL 167.195421 36.425176 \nL 166.298585 36.028174 \nL 165.378156 35.689447 \nL 164.437915 35.410389 \nL 163.481727 35.192145 \nL 162.513521 35.035613 \nL 161.537274 34.941435 \nL 160.557 34.91 \nL 160.557 34.91 \nL 140.667 34.91 \nL 140.667 50.21 \nL 140.667 65.51 \nL 160.557 65.51 \n\" style=\"fill:none;stroke:#000000;stroke-linecap:round;stroke-width:2;\"/>\n   </g>\n   <g id=\"line2d_9\">\n    <path clip-path=\"url(#p85442d02ca)\" d=\"M 129.957 57.86 \nL 140.667 57.86 \n\" style=\"fill:none;stroke:#000000;stroke-linecap:round;stroke-width:2;\"/>\n   </g>\n   <g id=\"line2d_10\">\n    <path clip-path=\"url(#p85442d02ca)\" d=\"M 129.957 42.56 \nL 140.667 42.56 \n\" style=\"fill:none;stroke:#000000;stroke-linecap:round;stroke-width:2;\"/>\n   </g>\n   <g id=\"line2d_11\">\n    <path clip-path=\"url(#p85442d02ca)\" d=\"M 175.857 50.21 \nL 186.567 50.21 \n\" style=\"fill:none;stroke:#000000;stroke-linecap:round;stroke-width:2;\"/>\n   </g>\n   <g id=\"line2d_12\">\n    <path clip-path=\"url(#p85442d02ca)\" d=\"M 186.567 50.21 \nL 194.217 50.21 \nL 201.867 50.21 \n\" style=\"fill:none;stroke:#000000;stroke-linecap:round;stroke-width:2;\"/>\n   </g>\n   <g id=\"line2d_13\">\n    <path clip-path=\"url(#p85442d02ca)\" d=\"M 201.867 50.21 \nL 201.867 57.86 \nL 201.867 65.51 \n\" style=\"fill:none;stroke:#000000;stroke-linecap:round;stroke-width:2;\"/>\n   </g>\n   <g id=\"line2d_14\">\n    <path clip-path=\"url(#p85442d02ca)\" d=\"M 201.867 65.51 \nL 209.517 65.51 \nL 217.167 65.51 \n\" style=\"fill:none;stroke:#000000;stroke-linecap:round;stroke-width:2;\"/>\n   </g>\n   <g id=\"line2d_15\">\n    <path clip-path=\"url(#p85442d02ca)\" d=\"M 227.877 88.154 \nL 244.925571 88.054082 \nL 246.674143 87.754327 \nL 248.422714 87.254735 \nL 250.171286 86.555306 \nL 251.919857 85.656041 \nL 254.105571 84.250939 \nL 256.291286 82.533592 \nL 258.477 80.504 \nL 260.662714 78.162163 \nL 262.848429 75.508082 \nL 264.597 73.16 \nL 264.597 73.16 \nL 261.974143 69.712816 \nL 259.788429 67.183633 \nL 257.602714 64.966694 \nL 255.417 63.062 \nL 253.231286 61.469551 \nL 251.045571 60.189347 \nL 249.297 59.39 \nL 247.548429 58.79049 \nL 245.799857 58.390816 \nL 244.051286 58.19098 \nL 243.177 58.166 \nL 227.877 58.166 \nL 227.877 58.166 \nL 230.0802 60.614 \nL 231.47556 62.45 \nL 232.6506 64.286 \nL 233.60532 66.122 \nL 234.33972 67.958 \nL 234.8538 69.794 \nL 235.14756 71.63 \nL 235.221 73.466 \nL 235.07412 75.302 \nL 234.70692 77.138 \nL 234.1194 78.974 \nL 233.31156 80.81 \nL 232.2834 82.646 \nL 231.03492 84.482 \nL 229.56612 86.318 \nL 227.877 88.154 \nL 227.877 88.154 \n\" style=\"fill:none;stroke:#000000;stroke-linecap:round;stroke-width:2;\"/>\n   </g>\n   <g id=\"line2d_16\">\n    <path clip-path=\"url(#p85442d02ca)\" d=\"M 217.167 80.81 \nL 233.31156 80.81 \n\" style=\"fill:none;stroke:#000000;stroke-linecap:round;stroke-width:2;\"/>\n   </g>\n   <g id=\"line2d_17\">\n    <path clip-path=\"url(#p85442d02ca)\" d=\"M 217.167 65.51 \nL 233.31156 65.51 \n\" style=\"fill:none;stroke:#000000;stroke-linecap:round;stroke-width:2;\"/>\n   </g>\n   <g id=\"line2d_18\">\n    <path clip-path=\"url(#p85442d02ca)\" d=\"M 264.597 73.16 \nL 275.307 73.16 \n\" style=\"fill:none;stroke:#000000;stroke-linecap:round;stroke-width:2;\"/>\n   </g>\n   <g id=\"line2d_19\">\n    <path clip-path=\"url(#p85442d02ca)\" d=\"M 56.823 27.26 \nL 56.823 57.86 \nL 56.823 88.46 \n\" style=\"fill:none;stroke:#000000;stroke-linecap:round;stroke-width:2;\"/>\n   </g>\n   <g id=\"line2d_20\">\n    <path clip-path=\"url(#p85442d02ca)\" d=\"M 56.823 88.46 \nL 95.073 88.46 \nL 133.323 88.46 \n\" style=\"fill:none;stroke:#000000;stroke-linecap:round;stroke-width:2;\"/>\n   </g>\n   <g id=\"line2d_21\">\n    <path clip-path=\"url(#p85442d02ca)\" d=\"M 163.923 111.41 \nL 164.903274 111.378565 \nL 165.879521 111.284387 \nL 166.847727 111.127855 \nL 167.803915 110.909611 \nL 168.744156 110.630553 \nL 169.664585 110.291826 \nL 170.561421 109.894824 \nL 171.430979 109.441176 \nL 172.269684 108.932748 \nL 173.074091 108.371628 \nL 173.840894 107.760123 \nL 174.566943 107.100745 \nL 175.249253 106.396204 \nL 175.885022 105.649394 \nL 176.471635 104.863385 \nL 177.006684 104.041406 \nL 177.487969 103.186836 \nL 177.913513 102.303185 \nL 178.281567 101.394085 \nL 178.590618 100.463272 \nL 178.839397 99.51457 \nL 179.026881 98.551878 \nL 179.1523 97.579152 \nL 179.215139 96.600389 \nL 179.215139 95.619611 \nL 179.1523 94.640848 \nL 179.026881 93.668122 \nL 178.839397 92.70543 \nL 178.590618 91.756728 \nL 178.281567 90.825915 \nL 177.913513 89.916815 \nL 177.487969 89.033164 \nL 177.006684 88.178594 \nL 176.471635 87.356615 \nL 175.885022 86.570606 \nL 175.249253 85.823796 \nL 174.566943 85.119255 \nL 173.840894 84.459877 \nL 173.074091 83.848372 \nL 172.269684 83.287252 \nL 171.430979 82.778824 \nL 170.561421 82.325176 \nL 169.664585 81.928174 \nL 168.744156 81.589447 \nL 167.803915 81.310389 \nL 166.847727 81.092145 \nL 165.879521 80.935613 \nL 164.903274 80.841435 \nL 163.923 80.81 \nL 163.923 80.81 \nL 144.033 80.81 \nL 144.033 96.11 \nL 144.033 111.41 \nL 163.923 111.41 \n\" style=\"fill:none;stroke:#000000;stroke-linecap:round;stroke-width:2;\"/>\n   </g>\n   <g id=\"line2d_22\">\n    <path clip-path=\"url(#p85442d02ca)\" d=\"M 133.323 103.76 \nL 144.033 103.76 \n\" style=\"fill:none;stroke:#000000;stroke-linecap:round;stroke-width:2;\"/>\n   </g>\n   <g id=\"line2d_23\">\n    <path clip-path=\"url(#p85442d02ca)\" d=\"M 133.323 88.46 \nL 144.033 88.46 \n\" style=\"fill:none;stroke:#000000;stroke-linecap:round;stroke-width:2;\"/>\n   </g>\n   <g id=\"line2d_24\">\n    <path clip-path=\"url(#p85442d02ca)\" d=\"M 179.223 96.11 \nL 189.933 96.11 \n\" style=\"fill:none;stroke:#000000;stroke-linecap:round;stroke-width:2;\"/>\n   </g>\n   <g id=\"line2d_25\">\n    <path clip-path=\"url(#p85442d02ca)\" d=\"M 189.933 96.11 \nL 197.583 96.11 \nL 205.233 96.11 \n\" style=\"fill:none;stroke:#000000;stroke-linecap:round;stroke-width:2;\"/>\n   </g>\n   <g id=\"line2d_26\">\n    <path clip-path=\"url(#p85442d02ca)\" d=\"M 205.233 96.11 \nL 205.233 88.46 \nL 205.233 80.81 \n\" style=\"fill:none;stroke:#000000;stroke-linecap:round;stroke-width:2;\"/>\n   </g>\n   <g id=\"line2d_27\">\n    <path clip-path=\"url(#p85442d02ca)\" d=\"M 205.233 80.81 \nL 211.2 80.81 \nL 217.167 80.81 \n\" style=\"fill:none;stroke:#000000;stroke-linecap:round;stroke-width:2;\"/>\n   </g>\n   <g id=\"line2d_28\">\n    <path clip-path=\"url(#p85442d02ca)\" d=\"M 133.323 103.76 \nL 125.673 103.76 \nL 118.023 103.76 \n\" style=\"fill:none;stroke:#000000;stroke-linecap:round;stroke-width:2;\"/>\n   </g>\n   <g id=\"line2d_29\">\n    <path clip-path=\"url(#p85442d02ca)\" d=\"M 118.023 103.76 \nL 118.023 111.41 \nL 118.023 119.06 \n\" style=\"fill:none;stroke:#000000;stroke-linecap:round;stroke-width:2;\"/>\n   </g>\n   <g id=\"line2d_30\">\n    <path clip-path=\"url(#p85442d02ca)\" d=\"M 118.023 119.06 \nL 110.373 119.06 \nL 102.723 119.06 \n\" style=\"fill:none;stroke:#000000;stroke-linecap:round;stroke-width:2;\"/>\n   </g>\n   <g id=\"line2d_31\">\n    <path clip-path=\"url(#p85442d02ca)\" d=\"M 75.489 119.06 \nM 102.723 119.06 \n\" style=\"fill:none;stroke:#000000;stroke-linecap:round;stroke-width:2;\"/>\n   </g>\n   <g id=\"line2d_32\">\n    <path clip-path=\"url(#p85442d02ca)\" d=\"M 75.489 103.76 \nL 95.379 119.06 \nL 75.489 134.36 \nL 75.489 103.76 \n\" style=\"fill:none;stroke:#000000;stroke-linecap:round;stroke-width:2;\"/>\n   </g>\n   <g id=\"line2d_33\">\n    <path clip-path=\"url(#p85442d02ca)\" d=\"M 75.489 119.06 \nL 60.189 119.06 \nL 44.889 119.06 \n\" style=\"fill:none;stroke:#000000;stroke-linecap:round;stroke-width:2;\"/>\n   </g>\n   <g id=\"line2d_34\">\n    <path clip-path=\"url(#p85442d02ca)\" d=\"M 44.889 119.06 \nL 37.239 119.06 \nL 29.589 119.06 \n\" style=\"fill:none;stroke:#000000;stroke-linecap:round;stroke-width:2;\"/>\n   </g>\n   <g id=\"line2d_35\">\n    <path clip-path=\"url(#p85442d02ca)\" d=\"M 44.889 119.06 \nL 44.889 88.46 \nL 44.889 57.86 \n\" style=\"fill:none;stroke:#000000;stroke-linecap:round;stroke-width:2;\"/>\n   </g>\n   <g id=\"line2d_36\">\n    <path clip-path=\"url(#p85442d02ca)\" d=\"M 44.889 57.86 \nL 87.423 57.86 \nL 129.957 57.86 \n\" style=\"fill:none;stroke:#000000;stroke-linecap:round;stroke-width:2;\"/>\n   </g>\n   <g id=\"line2d_37\">\n    <path clip-path=\"url(#p85442d02ca)\" d=\"M 26.223 27.26 \nL 41.523 27.26 \nL 56.823 27.26 \n\" style=\"fill:none;stroke:#000000;stroke-linecap:round;stroke-width:2;\"/>\n   </g>\n   <g id=\"line2d_38\">\n    <path clip-path=\"url(#p85442d02ca)\" d=\"M 56.823 27.26 \nL 64.473 27.26 \nL 72.123 27.26 \n\" style=\"fill:none;stroke:#000000;stroke-linecap:round;stroke-width:2;\"/>\n   </g>\n   <g id=\"line2d_39\">\n    <path clip-path=\"url(#p85442d02ca)\" d=\"M 72.123 27.26 \nM 99.357 27.26 \n\" style=\"fill:none;stroke:#000000;stroke-linecap:round;stroke-width:2;\"/>\n   </g>\n   <g id=\"line2d_40\">\n    <path clip-path=\"url(#p85442d02ca)\" d=\"M 72.123 11.96 \nL 92.013 27.26 \nL 72.123 42.56 \nL 72.123 11.96 \n\" style=\"fill:none;stroke:#000000;stroke-linecap:round;stroke-width:2;\"/>\n   </g>\n   <g id=\"line2d_41\">\n    <path clip-path=\"url(#p85442d02ca)\" d=\"M 99.357 27.26 \nL 107.007 27.26 \nL 114.657 27.26 \n\" style=\"fill:none;stroke:#000000;stroke-linecap:round;stroke-width:2;\"/>\n   </g>\n   <g id=\"line2d_42\">\n    <path clip-path=\"url(#p85442d02ca)\" d=\"M 114.657 27.26 \nL 114.657 34.91 \nL 114.657 42.56 \n\" style=\"fill:none;stroke:#000000;stroke-linecap:round;stroke-width:2;\"/>\n   </g>\n   <g id=\"line2d_43\">\n    <path clip-path=\"url(#p85442d02ca)\" d=\"M 114.657 42.56 \nL 122.307 42.56 \nL 129.957 42.56 \n\" style=\"fill:none;stroke:#000000;stroke-linecap:round;stroke-width:2;\"/>\n   </g>\n   <g id=\"line2d_44\">\n    <path clip-path=\"url(#p85442d02ca)\" d=\"M 160.557 65.51 \nL 161.537274 65.478565 \nL 162.513521 65.384387 \nL 163.481727 65.227855 \nL 164.437915 65.009611 \nL 165.378156 64.730553 \nL 166.298585 64.391826 \nL 167.195421 63.994824 \nL 168.064979 63.541176 \nL 168.903684 63.032748 \nL 169.708091 62.471628 \nL 170.474894 61.860123 \nL 171.200943 61.200745 \nL 171.883253 60.496204 \nL 172.519022 59.749394 \nL 173.105635 58.963385 \nL 173.640684 58.141406 \nL 174.121969 57.286836 \nL 174.547513 56.403185 \nL 174.915567 55.494085 \nL 175.224618 54.563272 \nL 175.473397 53.61457 \nL 175.660881 52.651878 \nL 175.7863 51.679152 \nL 175.849139 50.700389 \nL 175.849139 49.719611 \nL 175.7863 48.740848 \nL 175.660881 47.768122 \nL 175.473397 46.80543 \nL 175.224618 45.856728 \nL 174.915567 44.925915 \nL 174.547513 44.016815 \nL 174.121969 43.133164 \nL 173.640684 42.278594 \nL 173.105635 41.456615 \nL 172.519022 40.670606 \nL 171.883253 39.923796 \nL 171.200943 39.219255 \nL 170.474894 38.559877 \nL 169.708091 37.948372 \nL 168.903684 37.387252 \nL 168.064979 36.878824 \nL 167.195421 36.425176 \nL 166.298585 36.028174 \nL 165.378156 35.689447 \nL 164.437915 35.410389 \nL 163.481727 35.192145 \nL 162.513521 35.035613 \nL 161.537274 34.941435 \nL 160.557 34.91 \nL 160.557 34.91 \nL 140.667 34.91 \nL 140.667 50.21 \nL 140.667 65.51 \nL 160.557 65.51 \n\" style=\"fill:none;stroke:#000000;stroke-linecap:round;stroke-width:2;\"/>\n   </g>\n   <g id=\"line2d_45\">\n    <path clip-path=\"url(#p85442d02ca)\" d=\"M 129.957 57.86 \nL 140.667 57.86 \n\" style=\"fill:none;stroke:#000000;stroke-linecap:round;stroke-width:2;\"/>\n   </g>\n   <g id=\"line2d_46\">\n    <path clip-path=\"url(#p85442d02ca)\" d=\"M 129.957 42.56 \nL 140.667 42.56 \n\" style=\"fill:none;stroke:#000000;stroke-linecap:round;stroke-width:2;\"/>\n   </g>\n   <g id=\"line2d_47\">\n    <path clip-path=\"url(#p85442d02ca)\" d=\"M 175.857 50.21 \nL 186.567 50.21 \n\" style=\"fill:none;stroke:#000000;stroke-linecap:round;stroke-width:2;\"/>\n   </g>\n   <g id=\"line2d_48\">\n    <path clip-path=\"url(#p85442d02ca)\" d=\"M 186.567 50.21 \nL 194.217 50.21 \nL 201.867 50.21 \n\" style=\"fill:none;stroke:#000000;stroke-linecap:round;stroke-width:2;\"/>\n   </g>\n   <g id=\"line2d_49\">\n    <path clip-path=\"url(#p85442d02ca)\" d=\"M 201.867 50.21 \nL 201.867 57.86 \nL 201.867 65.51 \n\" style=\"fill:none;stroke:#000000;stroke-linecap:round;stroke-width:2;\"/>\n   </g>\n   <g id=\"line2d_50\">\n    <path clip-path=\"url(#p85442d02ca)\" d=\"M 201.867 65.51 \nL 209.517 65.51 \nL 217.167 65.51 \n\" style=\"fill:none;stroke:#000000;stroke-linecap:round;stroke-width:2;\"/>\n   </g>\n   <g id=\"line2d_51\">\n    <path clip-path=\"url(#p85442d02ca)\" d=\"M 227.877 88.154 \nL 244.925571 88.054082 \nL 246.674143 87.754327 \nL 248.422714 87.254735 \nL 250.171286 86.555306 \nL 251.919857 85.656041 \nL 254.105571 84.250939 \nL 256.291286 82.533592 \nL 258.477 80.504 \nL 260.662714 78.162163 \nL 262.848429 75.508082 \nL 264.597 73.16 \nL 264.597 73.16 \nL 261.974143 69.712816 \nL 259.788429 67.183633 \nL 257.602714 64.966694 \nL 255.417 63.062 \nL 253.231286 61.469551 \nL 251.045571 60.189347 \nL 249.297 59.39 \nL 247.548429 58.79049 \nL 245.799857 58.390816 \nL 244.051286 58.19098 \nL 243.177 58.166 \nL 227.877 58.166 \nL 227.877 58.166 \nL 230.0802 60.614 \nL 231.47556 62.45 \nL 232.6506 64.286 \nL 233.60532 66.122 \nL 234.33972 67.958 \nL 234.8538 69.794 \nL 235.14756 71.63 \nL 235.221 73.466 \nL 235.07412 75.302 \nL 234.70692 77.138 \nL 234.1194 78.974 \nL 233.31156 80.81 \nL 232.2834 82.646 \nL 231.03492 84.482 \nL 229.56612 86.318 \nL 227.877 88.154 \nL 227.877 88.154 \n\" style=\"fill:none;stroke:#000000;stroke-linecap:round;stroke-width:2;\"/>\n   </g>\n   <g id=\"line2d_52\">\n    <path clip-path=\"url(#p85442d02ca)\" d=\"M 217.167 80.81 \nL 233.31156 80.81 \n\" style=\"fill:none;stroke:#000000;stroke-linecap:round;stroke-width:2;\"/>\n   </g>\n   <g id=\"line2d_53\">\n    <path clip-path=\"url(#p85442d02ca)\" d=\"M 217.167 65.51 \nL 233.31156 65.51 \n\" style=\"fill:none;stroke:#000000;stroke-linecap:round;stroke-width:2;\"/>\n   </g>\n   <g id=\"line2d_54\">\n    <path clip-path=\"url(#p85442d02ca)\" d=\"M 264.597 73.16 \nL 275.307 73.16 \n\" style=\"fill:none;stroke:#000000;stroke-linecap:round;stroke-width:2;\"/>\n   </g>\n   <g id=\"line2d_55\">\n    <path clip-path=\"url(#p85442d02ca)\" d=\"M 56.823 27.26 \nL 56.823 57.86 \nL 56.823 88.46 \n\" style=\"fill:none;stroke:#000000;stroke-linecap:round;stroke-width:2;\"/>\n   </g>\n   <g id=\"line2d_56\">\n    <path clip-path=\"url(#p85442d02ca)\" d=\"M 56.823 88.46 \nL 95.073 88.46 \nL 133.323 88.46 \n\" style=\"fill:none;stroke:#000000;stroke-linecap:round;stroke-width:2;\"/>\n   </g>\n   <g id=\"line2d_57\">\n    <path clip-path=\"url(#p85442d02ca)\" d=\"M 163.923 111.41 \nL 164.903274 111.378565 \nL 165.879521 111.284387 \nL 166.847727 111.127855 \nL 167.803915 110.909611 \nL 168.744156 110.630553 \nL 169.664585 110.291826 \nL 170.561421 109.894824 \nL 171.430979 109.441176 \nL 172.269684 108.932748 \nL 173.074091 108.371628 \nL 173.840894 107.760123 \nL 174.566943 107.100745 \nL 175.249253 106.396204 \nL 175.885022 105.649394 \nL 176.471635 104.863385 \nL 177.006684 104.041406 \nL 177.487969 103.186836 \nL 177.913513 102.303185 \nL 178.281567 101.394085 \nL 178.590618 100.463272 \nL 178.839397 99.51457 \nL 179.026881 98.551878 \nL 179.1523 97.579152 \nL 179.215139 96.600389 \nL 179.215139 95.619611 \nL 179.1523 94.640848 \nL 179.026881 93.668122 \nL 178.839397 92.70543 \nL 178.590618 91.756728 \nL 178.281567 90.825915 \nL 177.913513 89.916815 \nL 177.487969 89.033164 \nL 177.006684 88.178594 \nL 176.471635 87.356615 \nL 175.885022 86.570606 \nL 175.249253 85.823796 \nL 174.566943 85.119255 \nL 173.840894 84.459877 \nL 173.074091 83.848372 \nL 172.269684 83.287252 \nL 171.430979 82.778824 \nL 170.561421 82.325176 \nL 169.664585 81.928174 \nL 168.744156 81.589447 \nL 167.803915 81.310389 \nL 166.847727 81.092145 \nL 165.879521 80.935613 \nL 164.903274 80.841435 \nL 163.923 80.81 \nL 163.923 80.81 \nL 144.033 80.81 \nL 144.033 96.11 \nL 144.033 111.41 \nL 163.923 111.41 \n\" style=\"fill:none;stroke:#000000;stroke-linecap:round;stroke-width:2;\"/>\n   </g>\n   <g id=\"line2d_58\">\n    <path clip-path=\"url(#p85442d02ca)\" d=\"M 133.323 103.76 \nL 144.033 103.76 \n\" style=\"fill:none;stroke:#000000;stroke-linecap:round;stroke-width:2;\"/>\n   </g>\n   <g id=\"line2d_59\">\n    <path clip-path=\"url(#p85442d02ca)\" d=\"M 133.323 88.46 \nL 144.033 88.46 \n\" style=\"fill:none;stroke:#000000;stroke-linecap:round;stroke-width:2;\"/>\n   </g>\n   <g id=\"line2d_60\">\n    <path clip-path=\"url(#p85442d02ca)\" d=\"M 179.223 96.11 \nL 189.933 96.11 \n\" style=\"fill:none;stroke:#000000;stroke-linecap:round;stroke-width:2;\"/>\n   </g>\n   <g id=\"line2d_61\">\n    <path clip-path=\"url(#p85442d02ca)\" d=\"M 189.933 96.11 \nL 197.583 96.11 \nL 205.233 96.11 \n\" style=\"fill:none;stroke:#000000;stroke-linecap:round;stroke-width:2;\"/>\n   </g>\n   <g id=\"line2d_62\">\n    <path clip-path=\"url(#p85442d02ca)\" d=\"M 205.233 96.11 \nL 205.233 88.46 \nL 205.233 80.81 \n\" style=\"fill:none;stroke:#000000;stroke-linecap:round;stroke-width:2;\"/>\n   </g>\n   <g id=\"line2d_63\">\n    <path clip-path=\"url(#p85442d02ca)\" d=\"M 205.233 80.81 \nL 211.2 80.81 \nL 217.167 80.81 \n\" style=\"fill:none;stroke:#000000;stroke-linecap:round;stroke-width:2;\"/>\n   </g>\n   <g id=\"line2d_64\">\n    <path clip-path=\"url(#p85442d02ca)\" d=\"M 133.323 103.76 \nL 125.673 103.76 \nL 118.023 103.76 \n\" style=\"fill:none;stroke:#000000;stroke-linecap:round;stroke-width:2;\"/>\n   </g>\n   <g id=\"line2d_65\">\n    <path clip-path=\"url(#p85442d02ca)\" d=\"M 118.023 103.76 \nL 118.023 111.41 \nL 118.023 119.06 \n\" style=\"fill:none;stroke:#000000;stroke-linecap:round;stroke-width:2;\"/>\n   </g>\n   <g id=\"line2d_66\">\n    <path clip-path=\"url(#p85442d02ca)\" d=\"M 118.023 119.06 \nL 110.373 119.06 \nL 102.723 119.06 \n\" style=\"fill:none;stroke:#000000;stroke-linecap:round;stroke-width:2;\"/>\n   </g>\n   <g id=\"line2d_67\">\n    <path clip-path=\"url(#p85442d02ca)\" d=\"M 75.489 119.06 \nM 102.723 119.06 \n\" style=\"fill:none;stroke:#000000;stroke-linecap:round;stroke-width:2;\"/>\n   </g>\n   <g id=\"line2d_68\">\n    <path clip-path=\"url(#p85442d02ca)\" d=\"M 75.489 103.76 \nL 95.379 119.06 \nL 75.489 134.36 \nL 75.489 103.76 \n\" style=\"fill:none;stroke:#000000;stroke-linecap:round;stroke-width:2;\"/>\n   </g>\n   <g id=\"line2d_69\">\n    <path clip-path=\"url(#p85442d02ca)\" d=\"M 75.489 119.06 \nL 60.189 119.06 \nL 44.889 119.06 \n\" style=\"fill:none;stroke:#000000;stroke-linecap:round;stroke-width:2;\"/>\n   </g>\n   <g id=\"line2d_70\">\n    <path clip-path=\"url(#p85442d02ca)\" d=\"M 44.889 119.06 \nL 37.239 119.06 \nL 29.589 119.06 \n\" style=\"fill:none;stroke:#000000;stroke-linecap:round;stroke-width:2;\"/>\n   </g>\n   <g id=\"line2d_71\">\n    <path clip-path=\"url(#p85442d02ca)\" d=\"M 44.889 119.06 \nL 44.889 88.46 \nL 44.889 57.86 \n\" style=\"fill:none;stroke:#000000;stroke-linecap:round;stroke-width:2;\"/>\n   </g>\n   <g id=\"line2d_72\">\n    <path clip-path=\"url(#p85442d02ca)\" d=\"M 44.889 57.86 \nL 87.423 57.86 \nL 129.957 57.86 \n\" style=\"fill:none;stroke:#000000;stroke-linecap:round;stroke-width:2;\"/>\n   </g>\n   <g id=\"text_1\">\n    <g clip-path=\"url(#p85442d02ca)\">\n     <!-- 0 -->\n     <defs>\n      <path d=\"M 31.78125 66.40625 \nQ 24.171875 66.40625 20.328125 58.90625 \nQ 16.5 51.421875 16.5 36.375 \nQ 16.5 21.390625 20.328125 13.890625 \nQ 24.171875 6.390625 31.78125 6.390625 \nQ 39.453125 6.390625 43.28125 13.890625 \nQ 47.125 21.390625 47.125 36.375 \nQ 47.125 51.421875 43.28125 58.90625 \nQ 39.453125 66.40625 31.78125 66.40625 \nz\nM 31.78125 74.21875 \nQ 44.046875 74.21875 50.515625 64.515625 \nQ 56.984375 54.828125 56.984375 36.375 \nQ 56.984375 17.96875 50.515625 8.265625 \nQ 44.046875 -1.421875 31.78125 -1.421875 \nQ 19.53125 -1.421875 13.0625 8.265625 \nQ 6.59375 17.96875 6.59375 36.375 \nQ 6.59375 54.828125 13.0625 64.515625 \nQ 19.53125 74.21875 31.78125 74.21875 \nz\n\" id=\"DejaVuSans-48\"/>\n     </defs>\n     <g transform=\"translate(15.209875 30.709219)scale(0.125 -0.125)\">\n      <use xlink:href=\"#DejaVuSans-48\"/>\n     </g>\n    </g>\n   </g>\n   <g id=\"text_2\">\n    <g clip-path=\"url(#p85442d02ca)\">\n     <!-- 1 -->\n     <defs>\n      <path d=\"M 12.40625 8.296875 \nL 28.515625 8.296875 \nL 28.515625 63.921875 \nL 10.984375 60.40625 \nL 10.984375 69.390625 \nL 28.421875 72.90625 \nL 38.28125 72.90625 \nL 38.28125 8.296875 \nL 54.390625 8.296875 \nL 54.390625 0 \nL 12.40625 0 \nz\n\" id=\"DejaVuSans-49\"/>\n     </defs>\n     <g transform=\"translate(18.575875 122.509219)scale(0.125 -0.125)\">\n      <use xlink:href=\"#DejaVuSans-49\"/>\n     </g>\n    </g>\n   </g>\n   <g id=\"text_3\">\n    <g clip-path=\"url(#p85442d02ca)\">\n     <!-- 0 -->\n     <g transform=\"translate(15.209875 30.709219)scale(0.125 -0.125)\">\n      <use xlink:href=\"#DejaVuSans-48\"/>\n     </g>\n    </g>\n   </g>\n   <g id=\"text_4\">\n    <g clip-path=\"url(#p85442d02ca)\">\n     <!-- 1 -->\n     <g transform=\"translate(18.575875 122.509219)scale(0.125 -0.125)\">\n      <use xlink:href=\"#DejaVuSans-49\"/>\n     </g>\n    </g>\n   </g>\n   <g id=\"text_5\">\n    <!-- 0 -->\n    <defs>\n     <path d=\"M 31.84375 73.828125 \nQ 45.015625 73.828125 52.09375 61.625 \nQ 57.71875 51.953125 57.71875 36.625 \nQ 57.71875 21.4375 52.09375 11.578125 \nQ 45.125 -0.484375 31.5 -0.484375 \nQ 17.921875 -0.484375 10.9375 11.578125 \nQ 5.328125 21.4375 5.328125 36.71875 \nQ 5.328125 58.015625 15.625 67.71875 \nQ 22.171875 73.828125 31.84375 73.828125 \nz\nM 31.5 66.65625 \nQ 23.6875 66.65625 19.1875 58.734375 \nQ 14.59375 50.734375 14.59375 36.625 \nQ 14.59375 22.75 19.09375 14.796875 \nQ 23.640625 6.984375 31.5 6.984375 \nQ 40.921875 6.984375 45.453125 18.015625 \nQ 48.4375 25.34375 48.4375 37.109375 \nQ 48.4375 50.875 43.84375 58.734375 \nQ 39.203125 66.65625 31.5 66.65625 \nz\n\" id=\"IPAexGothic-48\"/>\n    </defs>\n    <g transform=\"translate(56.823 24.2)scale(0.12 -0.12)\">\n     <use xlink:href=\"#IPAexGothic-48\"/>\n    </g>\n   </g>\n   <g id=\"text_6\">\n    <!-- 0 -->\n    <g transform=\"translate(124.143 85.4)scale(0.12 -0.12)\">\n     <use xlink:href=\"#IPAexGothic-48\"/>\n    </g>\n   </g>\n   <g id=\"text_7\">\n    <!-- 1 -->\n    <defs>\n     <path d=\"M 38.484375 0.984375 \nL 29.6875 0.984375 \nL 29.6875 64.109375 \nQ 21.4375 61.28125 12.3125 59.328125 \nL 10.6875 66.109375 \nQ 23.734375 69.390625 32.90625 73.921875 \nL 38.484375 73.921875 \nz\n\" id=\"IPAexGothic-49\"/>\n    </defs>\n    <g transform=\"translate(56.823 116)scale(0.12 -0.12)\">\n     <use xlink:href=\"#IPAexGothic-49\"/>\n    </g>\n   </g>\n   <g id=\"text_8\">\n    <!-- 1 -->\n    <g transform=\"translate(124.143 70.1)scale(0.12 -0.12)\">\n     <use xlink:href=\"#IPAexGothic-49\"/>\n    </g>\n   </g>\n   <g id=\"text_9\">\n    <!-- 1 -->\n    <g transform=\"translate(124.143 36.44)scale(0.12 -0.12)\">\n     <use xlink:href=\"#IPAexGothic-49\"/>\n    </g>\n   </g>\n   <g id=\"text_10\">\n    <!-- 0 -->\n    <g transform=\"translate(124.143 116)scale(0.12 -0.12)\">\n     <use xlink:href=\"#IPAexGothic-48\"/>\n    </g>\n   </g>\n   <g id=\"text_11\">\n    <!-- 1 -->\n    <g transform=\"translate(206.763 63.98)scale(0.12 -0.12)\">\n     <use xlink:href=\"#IPAexGothic-49\"/>\n    </g>\n   </g>\n   <g id=\"text_12\">\n    <!-- 0 -->\n    <g transform=\"translate(206.763 94.58)scale(0.12 -0.12)\">\n     <use xlink:href=\"#IPAexGothic-48\"/>\n    </g>\n   </g>\n   <g id=\"text_13\">\n    <!-- 1 -->\n    <g style=\"fill:#ff0000;\" transform=\"translate(264.903 70.1)scale(0.12 -0.12)\">\n     <use xlink:href=\"#IPAexGothic-49\"/>\n    </g>\n   </g>\n   <g id=\"patch_6\">\n    <path clip-path=\"url(#p85442d02ca)\" d=\"M 56.823 29.555 \nC 57.431641 29.555 58.015436 29.313184 58.44581 28.88281 \nC 58.876184 28.452436 59.118 27.868641 59.118 27.26 \nC 59.118 26.651359 58.876184 26.067564 58.44581 25.63719 \nC 58.015436 25.206816 57.431641 24.965 56.823 24.965 \nC 56.214359 24.965 55.630564 25.206816 55.20019 25.63719 \nC 54.769816 26.067564 54.528 26.651359 54.528 27.26 \nC 54.528 27.868641 54.769816 28.452436 55.20019 28.88281 \nC 55.630564 29.313184 56.214359 29.555 56.823 29.555 \nz\n\" style=\"stroke:#000000;stroke-linejoin:miter;stroke-width:2;\"/>\n   </g>\n   <g id=\"patch_7\">\n    <path clip-path=\"url(#p85442d02ca)\" d=\"M 44.889 121.355 \nC 45.497641 121.355 46.081436 121.113184 46.51181 120.68281 \nC 46.942184 120.252436 47.184 119.668641 47.184 119.06 \nC 47.184 118.451359 46.942184 117.867564 46.51181 117.43719 \nC 46.081436 117.006816 45.497641 116.765 44.889 116.765 \nC 44.280359 116.765 43.696564 117.006816 43.26619 117.43719 \nC 42.835816 117.867564 42.594 118.451359 42.594 119.06 \nC 42.594 119.668641 42.835816 120.252436 43.26619 120.68281 \nC 43.696564 121.113184 44.280359 121.355 44.889 121.355 \nz\n\" style=\"stroke:#000000;stroke-linejoin:miter;stroke-width:2;\"/>\n   </g>\n   <g id=\"patch_8\">\n    <path clip-path=\"url(#p85442d02ca)\" d=\"M 56.823 29.555 \nC 57.431641 29.555 58.015436 29.313184 58.44581 28.88281 \nC 58.876184 28.452436 59.118 27.868641 59.118 27.26 \nC 59.118 26.651359 58.876184 26.067564 58.44581 25.63719 \nC 58.015436 25.206816 57.431641 24.965 56.823 24.965 \nC 56.214359 24.965 55.630564 25.206816 55.20019 25.63719 \nC 54.769816 26.067564 54.528 26.651359 54.528 27.26 \nC 54.528 27.868641 54.769816 28.452436 55.20019 28.88281 \nC 55.630564 29.313184 56.214359 29.555 56.823 29.555 \nz\n\" style=\"stroke:#000000;stroke-linejoin:miter;stroke-width:2;\"/>\n   </g>\n   <g id=\"patch_9\">\n    <path clip-path=\"url(#p85442d02ca)\" d=\"M 44.889 121.355 \nC 45.497641 121.355 46.081436 121.113184 46.51181 120.68281 \nC 46.942184 120.252436 47.184 119.668641 47.184 119.06 \nC 47.184 118.451359 46.942184 117.867564 46.51181 117.43719 \nC 46.081436 117.006816 45.497641 116.765 44.889 116.765 \nC 44.280359 116.765 43.696564 117.006816 43.26619 117.43719 \nC 42.835816 117.867564 42.594 118.451359 42.594 119.06 \nC 42.594 119.668641 42.835816 120.252436 43.26619 120.68281 \nC 43.696564 121.113184 44.280359 121.355 44.889 121.355 \nz\n\" style=\"stroke:#000000;stroke-linejoin:miter;stroke-width:2;\"/>\n   </g>\n  </g>\n </g>\n <defs>\n  <clipPath id=\"p85442d02ca\">\n   <rect height=\"130.22\" width=\"271.167\" x=\"7.2\" y=\"7.2\"/>\n  </clipPath>\n </defs>\n</svg>\n",
            "image/png": "[encoded data removed]"
          },
          "metadata": {}
        }
      ],
      "source": [
        "\n",
        "# 論理ゲート\n",
        "def NOT(a):\n",
        "  c = int(not a)\n",
        "  return c\n",
        "\n",
        "def AND(a, b):\n",
        "  c = int(a and b)\n",
        "  return c\n",
        "\n",
        "def OR(a, b):\n",
        "  c = int(a or b)\n",
        "  return c\n",
        "\n",
        "# a, bに0か１を入れる\n",
        "a,b=(int(x) for x in input('a b にそれぞれ1か0を入れる：').split())\n",
        "\n",
        "# schemdraw回路図\n",
        "d = Drawing(unit=.5)\n",
        "d += logic.Line().length(d.unit*2).label(str(a), 'left')\n",
        "\n",
        "d.push()\n",
        "d += (D1 := logic.Dot())\n",
        "d += logic.Line()\n",
        "d += (N1 := logic.Not())\n",
        "d += logic.Line().right()\n",
        "d += logic.Line().down()\n",
        "d += logic.Line().right()\n",
        "d += (AN1 := logic.And().right().anchor('in1'))\n",
        "d += logic.Line().right()\n",
        "d += logic.Line().down()\n",
        "d += logic.Line().right()\n",
        "d += (O1 := logic.Or().right().anchor('in1'))\n",
        "\n",
        "d.pop()\n",
        "d += logic.Line().down().length(d.unit*4)\n",
        "d += logic.Line().right().length(d.unit*5)\n",
        "d.push()\n",
        "d += (AN2 := logic.And().right().anchor('in1'))\n",
        "d += logic.Line().right()\n",
        "d += logic.Line().up()\n",
        "d += logic.Line().right().to(O1.in2)\n",
        "\n",
        "d.pop()\n",
        "d += logic.Line().at(AN2.in2).left()\n",
        "d += logic.Line().down()\n",
        "d += logic.Line().left()\n",
        "d += (N2 := logic.Not().right().anchor('out'))\n",
        "d += logic.Line().left().length(d.unit*2).at(N2.in1)\n",
        "d.push()\n",
        "d += (D1 := logic.Dot())\n",
        "d += logic.Line().label(str(b), 'left')\n",
        "\n",
        "d.pop()\n",
        "d += logic.Line().up().length(d.unit*4)\n",
        "d += logic.Line().right().to(AN1.in2)\n",
        "\n",
        "d.draw()\n",
        "\n",
        "# 出力の表示\n",
        "not_a = NOT(a)\n",
        "not_b = NOT(b)\n",
        "and_1 = AND(not_a, b)\n",
        "and_2 = AND(a, not_b)\n",
        "or_1 = OR(and_1, and_2)\n",
        "\n",
        "schemfig = d.draw()\n",
        "schemfig.ax.text(1.0, 0.1, a, size = 12, color = \"black\");\n",
        "schemfig.ax.text(3.2, -1.9, a, size = 12, color = \"black\");\n",
        "schemfig.ax.text(1.0, -2.9, b, size = 12, color = \"black\");\n",
        "schemfig.ax.text(3.2, -1.4, b, size = 12, color = \"black\");\n",
        "schemfig.ax.text(3.2, -0.4, not_a, size = 12, color = \"black\");\n",
        "schemfig.ax.text(3.2, -2.9, not_b, size = 12, color = \"black\");\n",
        "schemfig.ax.text(5.9, -1.2, and_1, size = 12, color = \"black\");\n",
        "schemfig.ax.text(5.9, -2.2, and_2, size = 12, color = \"black\");\n",
        "schemfig.ax.text(7.8, -1.4, or_1, size = 12, color = \"red\");\n",
        "\n",
        "display(schemfig)\n",
        "\n"
      ]
    },
    {
      "cell_type": "markdown",
      "source": [
        "# ★ 回路図の作成順序サンプル"
      ],
      "metadata": {
        "id": "T0ElIsbXFBWE"
      }
    },
    {
      "cell_type": "markdown",
      "source": [
        "SchemDraw 回路図作成サンプル\n",
        "\n",
        "[Circuit Gallery](https://schemdraw.readthedocs.io/en/latest/gallery/index.html)"
      ],
      "metadata": {
        "id": "c9izbP-OJqAF"
      }
    },
    {
      "cell_type": "markdown",
      "source": [
        "上の回路図の作成順序サンプル\n",
        "\n",
        "ofst = offsetの略\\\n",
        "ラベルの参考[Labels](https://schemdraw.readthedocs.io/en/latest/usage/labels.html#location)"
      ],
      "metadata": {
        "id": "gjzu7OsgFmve"
      }
    },
    {
      "cell_type": "code",
      "execution_count": null,
      "metadata": {
        "tags": [
          "hide-input"
        ],
        "colab": {
          "base_uri": "https://localhost:8080/",
          "height": 234
        },
        "outputId": "df52847e-e63f-4075-9640-870d5ad73a6c",
        "id": "bVjEU0mTEQY5"
      },
      "outputs": [
        {
          "output_type": "execute_result",
          "data": {
            "text/plain": [
              "<schemdraw.backends.mpl.Figure object at 0x7f4f44acdb20>"
            ],
            "image/svg+xml": "<?xml version=\"1.0\" encoding=\"utf-8\" standalone=\"no\"?>\n<!DOCTYPE svg PUBLIC \"-//W3C//DTD SVG 1.1//EN\"\n  \"http://www.w3.org/Graphics/SVG/1.1/DTD/svg11.dtd\">\n<!-- Created with matplotlib (https://matplotlib.org/) -->\n<svg height=\"159.665pt\" version=\"1.1\" viewBox=\"0 0 286.7808 159.665\" width=\"286.7808pt\" xmlns=\"http://www.w3.org/2000/svg\" xmlns:xlink=\"http://www.w3.org/1999/xlink\">\n <defs>\n  <style type=\"text/css\">\n*{stroke-linecap:butt;stroke-linejoin:round;}\n  </style>\n </defs>\n <g id=\"figure_1\">\n  <g id=\"patch_1\">\n   <path d=\"M 0 159.665 \nL 286.7808 159.665 \nL 286.7808 0 \nL 0 0 \nz\n\" style=\"fill:#ffffff;\"/>\n  </g>\n  <g id=\"axes_1\">\n   <g id=\"patch_2\">\n    <path clip-path=\"url(#pd584fa919f)\" d=\"M 96.8988 42.152 \nC 97.872626 42.152 98.806697 41.765095 99.495296 41.076496 \nC 100.183895 40.387897 100.5708 39.453826 100.5708 38.48 \nC 100.5708 37.506174 100.183895 36.572103 99.495296 35.883504 \nC 98.806697 35.194905 97.872626 34.808 96.8988 34.808 \nC 95.924974 34.808 94.990903 35.194905 94.302304 35.883504 \nC 93.613705 36.572103 93.2268 37.506174 93.2268 38.48 \nC 93.2268 39.453826 93.613705 40.387897 94.302304 41.076496 \nC 94.990903 41.765095 95.924974 42.152 96.8988 42.152 \nz\n\" style=\"fill:none;stroke:#000000;stroke-linejoin:miter;stroke-width:2;\"/>\n   </g>\n   <g id=\"patch_3\">\n    <path clip-path=\"url(#pd584fa919f)\" d=\"M 100.2648 133.952 \nC 101.238626 133.952 102.172697 133.565095 102.861296 132.876496 \nC 103.549895 132.187897 103.9368 131.253826 103.9368 130.28 \nC 103.9368 129.306174 103.549895 128.372103 102.861296 127.683504 \nC 102.172697 126.994905 101.238626 126.608 100.2648 126.608 \nC 99.290974 126.608 98.356903 126.994905 97.668304 127.683504 \nC 96.979705 128.372103 96.5928 129.306174 96.5928 130.28 \nC 96.5928 131.253826 96.979705 132.187897 97.668304 132.876496 \nC 98.356903 133.565095 99.290974 133.952 100.2648 133.952 \nz\n\" style=\"fill:none;stroke:#000000;stroke-linejoin:miter;stroke-width:2;\"/>\n   </g>\n   <g id=\"line2d_1\">\n    <path clip-path=\"url(#pd584fa919f)\" d=\"M 27.4368 38.48 \nL 42.7368 38.48 \nL 58.0368 38.48 \n\" style=\"fill:none;stroke:#000000;stroke-linecap:round;stroke-width:2;\"/>\n   </g>\n   <g id=\"line2d_2\">\n    <path clip-path=\"url(#pd584fa919f)\" d=\"M 58.0368 38.48 \nL 65.6868 38.48 \nL 73.3368 38.48 \n\" style=\"fill:none;stroke:#000000;stroke-linecap:round;stroke-width:2;\"/>\n   </g>\n   <g id=\"line2d_3\">\n    <path clip-path=\"url(#pd584fa919f)\" d=\"M 73.3368 38.48 \nM 100.5708 38.48 \n\" style=\"fill:none;stroke:#000000;stroke-linecap:round;stroke-width:2;\"/>\n   </g>\n   <g id=\"line2d_4\">\n    <path clip-path=\"url(#pd584fa919f)\" d=\"M 73.3368 23.18 \nL 93.2268 38.48 \nL 73.3368 53.78 \nL 73.3368 23.18 \n\" style=\"fill:none;stroke:#000000;stroke-linecap:round;stroke-width:2;\"/>\n   </g>\n   <g id=\"line2d_5\">\n    <path clip-path=\"url(#pd584fa919f)\" d=\"M 100.5708 38.48 \nL 108.2208 38.48 \nL 115.8708 38.48 \n\" style=\"fill:none;stroke:#000000;stroke-linecap:round;stroke-width:2;\"/>\n   </g>\n   <g id=\"line2d_6\">\n    <path clip-path=\"url(#pd584fa919f)\" d=\"M 115.8708 38.48 \nL 115.8708 46.13 \nL 115.8708 53.78 \n\" style=\"fill:none;stroke:#000000;stroke-linecap:round;stroke-width:2;\"/>\n   </g>\n   <g id=\"line2d_7\">\n    <path clip-path=\"url(#pd584fa919f)\" d=\"M 115.8708 53.78 \nL 123.5208 53.78 \nL 131.1708 53.78 \n\" style=\"fill:none;stroke:#000000;stroke-linecap:round;stroke-width:2;\"/>\n   </g>\n   <g id=\"line2d_8\">\n    <path clip-path=\"url(#pd584fa919f)\" d=\"M 161.7708 76.73 \nL 162.751074 76.698565 \nL 163.727321 76.604387 \nL 164.695527 76.447855 \nL 165.651715 76.229611 \nL 166.591956 75.950553 \nL 167.512385 75.611826 \nL 168.409221 75.214824 \nL 169.278779 74.761176 \nL 170.117484 74.252748 \nL 170.921891 73.691628 \nL 171.688694 73.080123 \nL 172.414743 72.420745 \nL 173.097053 71.716204 \nL 173.732822 70.969394 \nL 174.319435 70.183385 \nL 174.854484 69.361406 \nL 175.335769 68.506836 \nL 175.761313 67.623185 \nL 176.129367 66.714085 \nL 176.438418 65.783272 \nL 176.687197 64.83457 \nL 176.874681 63.871878 \nL 177.0001 62.899152 \nL 177.062939 61.920389 \nL 177.062939 60.939611 \nL 177.0001 59.960848 \nL 176.874681 58.988122 \nL 176.687197 58.02543 \nL 176.438418 57.076728 \nL 176.129367 56.145915 \nL 175.761313 55.236815 \nL 175.335769 54.353164 \nL 174.854484 53.498594 \nL 174.319435 52.676615 \nL 173.732822 51.890606 \nL 173.097053 51.143796 \nL 172.414743 50.439255 \nL 171.688694 49.779877 \nL 170.921891 49.168372 \nL 170.117484 48.607252 \nL 169.278779 48.098824 \nL 168.409221 47.645176 \nL 167.512385 47.248174 \nL 166.591956 46.909447 \nL 165.651715 46.630389 \nL 164.695527 46.412145 \nL 163.727321 46.255613 \nL 162.751074 46.161435 \nL 161.7708 46.13 \nL 161.7708 46.13 \nL 141.8808 46.13 \nL 141.8808 61.43 \nL 141.8808 76.73 \nL 161.7708 76.73 \n\" style=\"fill:none;stroke:#000000;stroke-linecap:round;stroke-width:2;\"/>\n   </g>\n   <g id=\"line2d_9\">\n    <path clip-path=\"url(#pd584fa919f)\" d=\"M 131.1708 69.08 \nL 141.8808 69.08 \n\" style=\"fill:none;stroke:#000000;stroke-linecap:round;stroke-width:2;\"/>\n   </g>\n   <g id=\"line2d_10\">\n    <path clip-path=\"url(#pd584fa919f)\" d=\"M 131.1708 53.78 \nL 141.8808 53.78 \n\" style=\"fill:none;stroke:#000000;stroke-linecap:round;stroke-width:2;\"/>\n   </g>\n   <g id=\"line2d_11\">\n    <path clip-path=\"url(#pd584fa919f)\" d=\"M 177.0708 61.43 \nL 187.7808 61.43 \n\" style=\"fill:none;stroke:#000000;stroke-linecap:round;stroke-width:2;\"/>\n   </g>\n   <g id=\"line2d_12\">\n    <path clip-path=\"url(#pd584fa919f)\" d=\"M 187.7808 61.43 \nL 195.4308 61.43 \nL 203.0808 61.43 \n\" style=\"fill:none;stroke:#000000;stroke-linecap:round;stroke-width:2;\"/>\n   </g>\n   <g id=\"line2d_13\">\n    <path clip-path=\"url(#pd584fa919f)\" d=\"M 203.0808 61.43 \nL 203.0808 69.08 \nL 203.0808 76.73 \n\" style=\"fill:none;stroke:#000000;stroke-linecap:round;stroke-width:2;\"/>\n   </g>\n   <g id=\"line2d_14\">\n    <path clip-path=\"url(#pd584fa919f)\" d=\"M 203.0808 76.73 \nL 210.7308 76.73 \nL 218.3808 76.73 \n\" style=\"fill:none;stroke:#000000;stroke-linecap:round;stroke-width:2;\"/>\n   </g>\n   <g id=\"line2d_15\">\n    <path clip-path=\"url(#pd584fa919f)\" d=\"M 229.0908 99.374 \nL 246.139371 99.274082 \nL 247.887943 98.974327 \nL 249.636514 98.474735 \nL 251.385086 97.775306 \nL 253.133657 96.876041 \nL 255.319371 95.470939 \nL 257.505086 93.753592 \nL 259.6908 91.724 \nL 261.876514 89.382163 \nL 264.062229 86.728082 \nL 265.8108 84.38 \nL 265.8108 84.38 \nL 263.187943 80.932816 \nL 261.002229 78.403633 \nL 258.816514 76.186694 \nL 256.6308 74.282 \nL 254.445086 72.689551 \nL 252.259371 71.409347 \nL 250.5108 70.61 \nL 248.762229 70.01049 \nL 247.013657 69.610816 \nL 245.265086 69.41098 \nL 244.3908 69.386 \nL 229.0908 69.386 \nL 229.0908 69.386 \nL 231.294 71.834 \nL 232.68936 73.67 \nL 233.8644 75.506 \nL 234.81912 77.342 \nL 235.55352 79.178 \nL 236.0676 81.014 \nL 236.36136 82.85 \nL 236.4348 84.686 \nL 236.28792 86.522 \nL 235.92072 88.358 \nL 235.3332 90.194 \nL 234.52536 92.03 \nL 233.4972 93.866 \nL 232.24872 95.702 \nL 230.77992 97.538 \nL 229.0908 99.374 \nL 229.0908 99.374 \n\" style=\"fill:none;stroke:#000000;stroke-linecap:round;stroke-width:2;\"/>\n   </g>\n   <g id=\"line2d_16\">\n    <path clip-path=\"url(#pd584fa919f)\" d=\"M 218.3808 92.03 \nL 234.52536 92.03 \n\" style=\"fill:none;stroke:#000000;stroke-linecap:round;stroke-width:2;\"/>\n   </g>\n   <g id=\"line2d_17\">\n    <path clip-path=\"url(#pd584fa919f)\" d=\"M 218.3808 76.73 \nL 234.52536 76.73 \n\" style=\"fill:none;stroke:#000000;stroke-linecap:round;stroke-width:2;\"/>\n   </g>\n   <g id=\"line2d_18\">\n    <path clip-path=\"url(#pd584fa919f)\" d=\"M 265.8108 84.38 \nL 276.5208 84.38 \n\" style=\"fill:none;stroke:#000000;stroke-linecap:round;stroke-width:2;\"/>\n   </g>\n   <g id=\"line2d_19\">\n    <path clip-path=\"url(#pd584fa919f)\" d=\"M 58.0368 38.48 \nL 58.0368 69.08 \nL 58.0368 99.68 \n\" style=\"fill:none;stroke:#000000;stroke-linecap:round;stroke-width:2;\"/>\n   </g>\n   <g id=\"line2d_20\">\n    <path clip-path=\"url(#pd584fa919f)\" d=\"M 58.0368 99.68 \nL 96.2868 99.68 \nL 134.5368 99.68 \n\" style=\"fill:none;stroke:#000000;stroke-linecap:round;stroke-width:2;\"/>\n   </g>\n   <g id=\"line2d_21\">\n    <path clip-path=\"url(#pd584fa919f)\" d=\"M 165.1368 122.63 \nL 166.117074 122.598565 \nL 167.093321 122.504387 \nL 168.061527 122.347855 \nL 169.017715 122.129611 \nL 169.957956 121.850553 \nL 170.878385 121.511826 \nL 171.775221 121.114824 \nL 172.644779 120.661176 \nL 173.483484 120.152748 \nL 174.287891 119.591628 \nL 175.054694 118.980123 \nL 175.780743 118.320745 \nL 176.463053 117.616204 \nL 177.098822 116.869394 \nL 177.685435 116.083385 \nL 178.220484 115.261406 \nL 178.701769 114.406836 \nL 179.127313 113.523185 \nL 179.495367 112.614085 \nL 179.804418 111.683272 \nL 180.053197 110.73457 \nL 180.240681 109.771878 \nL 180.3661 108.799152 \nL 180.428939 107.820389 \nL 180.428939 106.839611 \nL 180.3661 105.860848 \nL 180.240681 104.888122 \nL 180.053197 103.92543 \nL 179.804418 102.976728 \nL 179.495367 102.045915 \nL 179.127313 101.136815 \nL 178.701769 100.253164 \nL 178.220484 99.398594 \nL 177.685435 98.576615 \nL 177.098822 97.790606 \nL 176.463053 97.043796 \nL 175.780743 96.339255 \nL 175.054694 95.679877 \nL 174.287891 95.068372 \nL 173.483484 94.507252 \nL 172.644779 93.998824 \nL 171.775221 93.545176 \nL 170.878385 93.148174 \nL 169.957956 92.809447 \nL 169.017715 92.530389 \nL 168.061527 92.312145 \nL 167.093321 92.155613 \nL 166.117074 92.061435 \nL 165.1368 92.03 \nL 165.1368 92.03 \nL 145.2468 92.03 \nL 145.2468 107.33 \nL 145.2468 122.63 \nL 165.1368 122.63 \n\" style=\"fill:none;stroke:#000000;stroke-linecap:round;stroke-width:2;\"/>\n   </g>\n   <g id=\"line2d_22\">\n    <path clip-path=\"url(#pd584fa919f)\" d=\"M 134.5368 114.98 \nL 145.2468 114.98 \n\" style=\"fill:none;stroke:#000000;stroke-linecap:round;stroke-width:2;\"/>\n   </g>\n   <g id=\"line2d_23\">\n    <path clip-path=\"url(#pd584fa919f)\" d=\"M 134.5368 99.68 \nL 145.2468 99.68 \n\" style=\"fill:none;stroke:#000000;stroke-linecap:round;stroke-width:2;\"/>\n   </g>\n   <g id=\"line2d_24\">\n    <path clip-path=\"url(#pd584fa919f)\" d=\"M 180.4368 107.33 \nL 191.1468 107.33 \n\" style=\"fill:none;stroke:#000000;stroke-linecap:round;stroke-width:2;\"/>\n   </g>\n   <g id=\"line2d_25\">\n    <path clip-path=\"url(#pd584fa919f)\" d=\"M 191.1468 107.33 \nL 198.7968 107.33 \nL 206.4468 107.33 \n\" style=\"fill:none;stroke:#000000;stroke-linecap:round;stroke-width:2;\"/>\n   </g>\n   <g id=\"line2d_26\">\n    <path clip-path=\"url(#pd584fa919f)\" d=\"M 206.4468 107.33 \nL 206.4468 99.68 \nL 206.4468 92.03 \n\" style=\"fill:none;stroke:#000000;stroke-linecap:round;stroke-width:2;\"/>\n   </g>\n   <g id=\"line2d_27\">\n    <path clip-path=\"url(#pd584fa919f)\" d=\"M 206.4468 92.03 \nL 212.4138 92.03 \nL 218.3808 92.03 \n\" style=\"fill:none;stroke:#000000;stroke-linecap:round;stroke-width:2;\"/>\n   </g>\n   <g id=\"line2d_28\">\n    <path clip-path=\"url(#pd584fa919f)\" d=\"M 134.5368 114.98 \nL 126.8868 114.98 \nL 119.2368 114.98 \n\" style=\"fill:none;stroke:#000000;stroke-linecap:round;stroke-width:2;\"/>\n   </g>\n   <g id=\"line2d_29\">\n    <path clip-path=\"url(#pd584fa919f)\" d=\"M 119.2368 114.98 \nL 119.2368 122.63 \nL 119.2368 130.28 \n\" style=\"fill:none;stroke:#000000;stroke-linecap:round;stroke-width:2;\"/>\n   </g>\n   <g id=\"line2d_30\">\n    <path clip-path=\"url(#pd584fa919f)\" d=\"M 119.2368 130.28 \nL 111.5868 130.28 \nL 103.9368 130.28 \n\" style=\"fill:none;stroke:#000000;stroke-linecap:round;stroke-width:2;\"/>\n   </g>\n   <g id=\"line2d_31\">\n    <path clip-path=\"url(#pd584fa919f)\" d=\"M 76.7028 130.28 \nM 103.9368 130.28 \n\" style=\"fill:none;stroke:#000000;stroke-linecap:round;stroke-width:2;\"/>\n   </g>\n   <g id=\"line2d_32\">\n    <path clip-path=\"url(#pd584fa919f)\" d=\"M 76.7028 114.98 \nL 96.5928 130.28 \nL 76.7028 145.58 \nL 76.7028 114.98 \n\" style=\"fill:none;stroke:#000000;stroke-linecap:round;stroke-width:2;\"/>\n   </g>\n   <g id=\"line2d_33\">\n    <path clip-path=\"url(#pd584fa919f)\" d=\"M 76.7028 130.28 \nL 61.4028 130.28 \nL 46.1028 130.28 \n\" style=\"fill:none;stroke:#000000;stroke-linecap:round;stroke-width:2;\"/>\n   </g>\n   <g id=\"line2d_34\">\n    <path clip-path=\"url(#pd584fa919f)\" d=\"M 46.1028 130.28 \nL 38.4528 130.28 \nL 30.8028 130.28 \n\" style=\"fill:none;stroke:#000000;stroke-linecap:round;stroke-width:2;\"/>\n   </g>\n   <g id=\"line2d_35\">\n    <path clip-path=\"url(#pd584fa919f)\" d=\"M 46.1028 130.28 \nL 46.1028 99.68 \nL 46.1028 69.08 \n\" style=\"fill:none;stroke:#000000;stroke-linecap:round;stroke-width:2;\"/>\n   </g>\n   <g id=\"line2d_36\">\n    <path clip-path=\"url(#pd584fa919f)\" d=\"M 46.1028 69.08 \nL 88.6368 69.08 \nL 131.1708 69.08 \n\" style=\"fill:none;stroke:#000000;stroke-linecap:round;stroke-width:2;\"/>\n   </g>\n   <g id=\"text_1\">\n    <g clip-path=\"url(#pd584fa919f)\">\n     <!-- A -->\n     <defs>\n      <path d=\"M 34.1875 63.1875 \nL 20.796875 26.90625 \nL 47.609375 26.90625 \nz\nM 28.609375 72.90625 \nL 39.796875 72.90625 \nL 67.578125 0 \nL 57.328125 0 \nL 50.6875 18.703125 \nL 17.828125 18.703125 \nL 11.1875 0 \nL 0.78125 0 \nz\n\" id=\"DejaVuSans-65\"/>\n     </defs>\n     <g transform=\"translate(15.826019 41.929219)scale(0.125 -0.125)\">\n      <use xlink:href=\"#DejaVuSans-65\"/>\n     </g>\n    </g>\n   </g>\n   <g id=\"text_2\">\n    <g clip-path=\"url(#pd584fa919f)\">\n     <!-- 1 -->\n     <defs>\n      <path d=\"M 12.40625 8.296875 \nL 28.515625 8.296875 \nL 28.515625 63.921875 \nL 10.984375 60.40625 \nL 10.984375 69.390625 \nL 28.421875 72.90625 \nL 38.28125 72.90625 \nL 38.28125 8.296875 \nL 54.390625 8.296875 \nL 54.390625 0 \nL 12.40625 0 \nz\n\" id=\"DejaVuSans-49\"/>\n     </defs>\n     <g style=\"fill:#ff0000;\" transform=\"translate(40.032738 33.652266)scale(0.085 -0.085)\">\n      <use xlink:href=\"#DejaVuSans-49\"/>\n     </g>\n    </g>\n   </g>\n   <g id=\"text_3\">\n    <g clip-path=\"url(#pd584fa919f)\">\n     <!-- 3 -->\n     <defs>\n      <path d=\"M 40.578125 39.3125 \nQ 47.65625 37.796875 51.625 33 \nQ 55.609375 28.21875 55.609375 21.1875 \nQ 55.609375 10.40625 48.1875 4.484375 \nQ 40.765625 -1.421875 27.09375 -1.421875 \nQ 22.515625 -1.421875 17.65625 -0.515625 \nQ 12.796875 0.390625 7.625 2.203125 \nL 7.625 11.71875 \nQ 11.71875 9.328125 16.59375 8.109375 \nQ 21.484375 6.890625 26.8125 6.890625 \nQ 36.078125 6.890625 40.9375 10.546875 \nQ 45.796875 14.203125 45.796875 21.1875 \nQ 45.796875 27.640625 41.28125 31.265625 \nQ 36.765625 34.90625 28.71875 34.90625 \nL 20.21875 34.90625 \nL 20.21875 43.015625 \nL 29.109375 43.015625 \nQ 36.375 43.015625 40.234375 45.921875 \nQ 44.09375 48.828125 44.09375 54.296875 \nQ 44.09375 59.90625 40.109375 62.90625 \nQ 36.140625 65.921875 28.71875 65.921875 \nQ 24.65625 65.921875 20.015625 65.03125 \nQ 15.375 64.15625 9.8125 62.3125 \nL 9.8125 71.09375 \nQ 15.4375 72.65625 20.34375 73.4375 \nQ 25.25 74.21875 29.59375 74.21875 \nQ 40.828125 74.21875 47.359375 69.109375 \nQ 53.90625 64.015625 53.90625 55.328125 \nQ 53.90625 49.265625 50.4375 45.09375 \nQ 46.96875 40.921875 40.578125 39.3125 \nz\n\" id=\"DejaVuSans-51\"/>\n     </defs>\n     <g style=\"fill:#ff0000;\" transform=\"translate(62.982738 33.652266)scale(0.085 -0.085)\">\n      <use xlink:href=\"#DejaVuSans-51\"/>\n     </g>\n    </g>\n   </g>\n   <g id=\"text_4\">\n    <g clip-path=\"url(#pd584fa919f)\">\n     <!-- 4 -->\n     <defs>\n      <path d=\"M 37.796875 64.3125 \nL 12.890625 25.390625 \nL 37.796875 25.390625 \nz\nM 35.203125 72.90625 \nL 47.609375 72.90625 \nL 47.609375 25.390625 \nL 58.015625 25.390625 \nL 58.015625 17.1875 \nL 47.609375 17.1875 \nL 47.609375 0 \nL 37.796875 0 \nL 37.796875 17.1875 \nL 4.890625 17.1875 \nL 4.890625 26.703125 \nz\n\" id=\"DejaVuSans-52\"/>\n     </defs>\n     <g style=\"fill:#ff0000;\" transform=\"translate(84.249737 27.532266)scale(0.085 -0.085)\">\n      <use xlink:href=\"#DejaVuSans-52\"/>\n     </g>\n    </g>\n   </g>\n   <g id=\"text_5\">\n    <g clip-path=\"url(#pd584fa919f)\">\n     <!-- 5 -->\n     <defs>\n      <path d=\"M 10.796875 72.90625 \nL 49.515625 72.90625 \nL 49.515625 64.59375 \nL 19.828125 64.59375 \nL 19.828125 46.734375 \nQ 21.96875 47.46875 24.109375 47.828125 \nQ 26.265625 48.1875 28.421875 48.1875 \nQ 40.625 48.1875 47.75 41.5 \nQ 54.890625 34.8125 54.890625 23.390625 \nQ 54.890625 11.625 47.5625 5.09375 \nQ 40.234375 -1.421875 26.90625 -1.421875 \nQ 22.3125 -1.421875 17.546875 -0.640625 \nQ 12.796875 0.140625 7.71875 1.703125 \nL 7.71875 11.625 \nQ 12.109375 9.234375 16.796875 8.0625 \nQ 21.484375 6.890625 26.703125 6.890625 \nQ 35.15625 6.890625 40.078125 11.328125 \nQ 45.015625 15.765625 45.015625 23.390625 \nQ 45.015625 31 40.078125 35.4375 \nQ 35.15625 39.890625 26.703125 39.890625 \nQ 22.75 39.890625 18.8125 39.015625 \nQ 14.890625 38.140625 10.796875 36.28125 \nz\n\" id=\"DejaVuSans-53\"/>\n     </defs>\n     <g style=\"fill:#ff0000;\" transform=\"translate(105.516738 33.652266)scale(0.085 -0.085)\">\n      <use xlink:href=\"#DejaVuSans-53\"/>\n     </g>\n    </g>\n   </g>\n   <g id=\"text_6\">\n    <g clip-path=\"url(#pd584fa919f)\">\n     <!-- 6 -->\n     <defs>\n      <path d=\"M 33.015625 40.375 \nQ 26.375 40.375 22.484375 35.828125 \nQ 18.609375 31.296875 18.609375 23.390625 \nQ 18.609375 15.53125 22.484375 10.953125 \nQ 26.375 6.390625 33.015625 6.390625 \nQ 39.65625 6.390625 43.53125 10.953125 \nQ 47.40625 15.53125 47.40625 23.390625 \nQ 47.40625 31.296875 43.53125 35.828125 \nQ 39.65625 40.375 33.015625 40.375 \nz\nM 52.59375 71.296875 \nL 52.59375 62.3125 \nQ 48.875 64.0625 45.09375 64.984375 \nQ 41.3125 65.921875 37.59375 65.921875 \nQ 27.828125 65.921875 22.671875 59.328125 \nQ 17.53125 52.734375 16.796875 39.40625 \nQ 19.671875 43.65625 24.015625 45.921875 \nQ 28.375 48.1875 33.59375 48.1875 \nQ 44.578125 48.1875 50.953125 41.515625 \nQ 57.328125 34.859375 57.328125 23.390625 \nQ 57.328125 12.15625 50.6875 5.359375 \nQ 44.046875 -1.421875 33.015625 -1.421875 \nQ 20.359375 -1.421875 13.671875 8.265625 \nQ 6.984375 17.96875 6.984375 36.375 \nQ 6.984375 53.65625 15.1875 63.9375 \nQ 23.390625 74.21875 37.203125 74.21875 \nQ 40.921875 74.21875 44.703125 73.484375 \nQ 48.484375 72.75 52.59375 71.296875 \nz\n\" id=\"DejaVuSans-54\"/>\n     </defs>\n     <g style=\"fill:#ff0000;\" transform=\"translate(107.402675 48.475469)scale(0.085 -0.085)\">\n      <use xlink:href=\"#DejaVuSans-54\"/>\n     </g>\n    </g>\n   </g>\n   <g id=\"text_7\">\n    <g clip-path=\"url(#pd584fa919f)\">\n     <!-- 7 -->\n     <defs>\n      <path d=\"M 8.203125 72.90625 \nL 55.078125 72.90625 \nL 55.078125 68.703125 \nL 28.609375 0 \nL 18.3125 0 \nL 43.21875 64.59375 \nL 8.203125 64.59375 \nz\n\" id=\"DejaVuSans-55\"/>\n     </defs>\n     <g style=\"fill:#ff0000;\" transform=\"translate(120.816738 48.952266)scale(0.085 -0.085)\">\n      <use xlink:href=\"#DejaVuSans-55\"/>\n     </g>\n    </g>\n   </g>\n   <g id=\"text_8\">\n    <g clip-path=\"url(#pd584fa919f)\">\n     <!-- 8 -->\n     <defs>\n      <path d=\"M 31.78125 34.625 \nQ 24.75 34.625 20.71875 30.859375 \nQ 16.703125 27.09375 16.703125 20.515625 \nQ 16.703125 13.921875 20.71875 10.15625 \nQ 24.75 6.390625 31.78125 6.390625 \nQ 38.8125 6.390625 42.859375 10.171875 \nQ 46.921875 13.96875 46.921875 20.515625 \nQ 46.921875 27.09375 42.890625 30.859375 \nQ 38.875 34.625 31.78125 34.625 \nz\nM 21.921875 38.8125 \nQ 15.578125 40.375 12.03125 44.71875 \nQ 8.5 49.078125 8.5 55.328125 \nQ 8.5 64.0625 14.71875 69.140625 \nQ 20.953125 74.21875 31.78125 74.21875 \nQ 42.671875 74.21875 48.875 69.140625 \nQ 55.078125 64.0625 55.078125 55.328125 \nQ 55.078125 49.078125 51.53125 44.71875 \nQ 48 40.375 41.703125 38.8125 \nQ 48.828125 37.15625 52.796875 32.3125 \nQ 56.78125 27.484375 56.78125 20.515625 \nQ 56.78125 9.90625 50.3125 4.234375 \nQ 43.84375 -1.421875 31.78125 -1.421875 \nQ 19.734375 -1.421875 13.25 4.234375 \nQ 6.78125 9.90625 6.78125 20.515625 \nQ 6.78125 27.484375 10.78125 32.3125 \nQ 14.796875 37.15625 21.921875 38.8125 \nz\nM 18.3125 54.390625 \nQ 18.3125 48.734375 21.84375 45.5625 \nQ 25.390625 42.390625 31.78125 42.390625 \nQ 38.140625 42.390625 41.71875 45.5625 \nQ 45.3125 48.734375 45.3125 54.390625 \nQ 45.3125 60.0625 41.71875 63.234375 \nQ 38.140625 66.40625 31.78125 66.40625 \nQ 25.390625 66.40625 21.84375 63.234375 \nQ 18.3125 60.0625 18.3125 54.390625 \nz\n\" id=\"DejaVuSans-56\"/>\n     </defs>\n     <g style=\"fill:#ff0000;\" transform=\"translate(156.771738 41.302266)scale(0.085 -0.085)\">\n      <use xlink:href=\"#DejaVuSans-56\"/>\n     </g>\n    </g>\n   </g>\n   <g id=\"text_9\">\n    <g clip-path=\"url(#pd584fa919f)\">\n     <!-- 9 -->\n     <defs>\n      <path d=\"M 10.984375 1.515625 \nL 10.984375 10.5 \nQ 14.703125 8.734375 18.5 7.8125 \nQ 22.3125 6.890625 25.984375 6.890625 \nQ 35.75 6.890625 40.890625 13.453125 \nQ 46.046875 20.015625 46.78125 33.40625 \nQ 43.953125 29.203125 39.59375 26.953125 \nQ 35.25 24.703125 29.984375 24.703125 \nQ 19.046875 24.703125 12.671875 31.3125 \nQ 6.296875 37.9375 6.296875 49.421875 \nQ 6.296875 60.640625 12.9375 67.421875 \nQ 19.578125 74.21875 30.609375 74.21875 \nQ 43.265625 74.21875 49.921875 64.515625 \nQ 56.59375 54.828125 56.59375 36.375 \nQ 56.59375 19.140625 48.40625 8.859375 \nQ 40.234375 -1.421875 26.421875 -1.421875 \nQ 22.703125 -1.421875 18.890625 -0.6875 \nQ 15.09375 0.046875 10.984375 1.515625 \nz\nM 30.609375 32.421875 \nQ 37.25 32.421875 41.125 36.953125 \nQ 45.015625 41.5 45.015625 49.421875 \nQ 45.015625 57.28125 41.125 61.84375 \nQ 37.25 66.40625 30.609375 66.40625 \nQ 23.96875 66.40625 20.09375 61.84375 \nQ 16.21875 57.28125 16.21875 49.421875 \nQ 16.21875 41.5 20.09375 36.953125 \nQ 23.96875 32.421875 30.609375 32.421875 \nz\n\" id=\"DejaVuSans-57\"/>\n     </defs>\n     <g style=\"fill:#ff0000;\" transform=\"translate(192.726738 56.602266)scale(0.085 -0.085)\">\n      <use xlink:href=\"#DejaVuSans-57\"/>\n     </g>\n    </g>\n   </g>\n   <g id=\"text_10\">\n    <g clip-path=\"url(#pd584fa919f)\">\n     <!-- 10 -->\n     <defs>\n      <path d=\"M 31.78125 66.40625 \nQ 24.171875 66.40625 20.328125 58.90625 \nQ 16.5 51.421875 16.5 36.375 \nQ 16.5 21.390625 20.328125 13.890625 \nQ 24.171875 6.390625 31.78125 6.390625 \nQ 39.453125 6.390625 43.28125 13.890625 \nQ 47.125 21.390625 47.125 36.375 \nQ 47.125 51.421875 43.28125 58.90625 \nQ 39.453125 66.40625 31.78125 66.40625 \nz\nM 31.78125 74.21875 \nQ 44.046875 74.21875 50.515625 64.515625 \nQ 56.984375 54.828125 56.984375 36.375 \nQ 56.984375 17.96875 50.515625 8.265625 \nQ 44.046875 -1.421875 31.78125 -1.421875 \nQ 19.53125 -1.421875 13.0625 8.265625 \nQ 6.59375 17.96875 6.59375 36.375 \nQ 6.59375 54.828125 13.0625 64.515625 \nQ 19.53125 74.21875 31.78125 74.21875 \nz\n\" id=\"DejaVuSans-48\"/>\n     </defs>\n     <g style=\"fill:#ff0000;\" transform=\"translate(189.20455 71.425469)scale(0.085 -0.085)\">\n      <use xlink:href=\"#DejaVuSans-49\"/>\n      <use x=\"63.623047\" xlink:href=\"#DejaVuSans-48\"/>\n     </g>\n    </g>\n   </g>\n   <g id=\"text_11\">\n    <g clip-path=\"url(#pd584fa919f)\">\n     <!-- 11 -->\n     <g style=\"fill:#ff0000;\" transform=\"translate(211.442675 74.962266)scale(0.085 -0.085)\">\n      <use xlink:href=\"#DejaVuSans-49\"/>\n      <use x=\"63.623047\" xlink:href=\"#DejaVuSans-49\"/>\n     </g>\n    </g>\n   </g>\n   <g id=\"text_12\">\n    <g clip-path=\"url(#pd584fa919f)\">\n     <!-- 12 -->\n     <defs>\n      <path d=\"M 19.1875 8.296875 \nL 53.609375 8.296875 \nL 53.609375 0 \nL 7.328125 0 \nL 7.328125 8.296875 \nQ 12.9375 14.109375 22.625 23.890625 \nQ 32.328125 33.6875 34.8125 36.53125 \nQ 39.546875 41.84375 41.421875 45.53125 \nQ 43.3125 49.21875 43.3125 52.78125 \nQ 43.3125 58.59375 39.234375 62.25 \nQ 35.15625 65.921875 28.609375 65.921875 \nQ 23.96875 65.921875 18.8125 64.3125 \nQ 13.671875 62.703125 7.8125 59.421875 \nL 7.8125 69.390625 \nQ 13.765625 71.78125 18.9375 73 \nQ 24.125 74.21875 28.421875 74.21875 \nQ 39.75 74.21875 46.484375 68.546875 \nQ 53.21875 62.890625 53.21875 53.421875 \nQ 53.21875 48.921875 51.53125 44.890625 \nQ 49.859375 40.875 45.40625 35.40625 \nQ 44.1875 33.984375 37.640625 27.21875 \nQ 31.109375 20.453125 19.1875 8.296875 \nz\n\" id=\"DejaVuSans-50\"/>\n     </defs>\n     <g style=\"fill:#ff0000;\" transform=\"translate(242.042675 64.558266)scale(0.085 -0.085)\">\n      <use xlink:href=\"#DejaVuSans-49\"/>\n      <use x=\"63.623047\" xlink:href=\"#DejaVuSans-50\"/>\n     </g>\n    </g>\n   </g>\n   <g id=\"text_13\">\n    <g clip-path=\"url(#pd584fa919f)\">\n     <!-- 13 -->\n     <g style=\"fill:#ff0000;\" transform=\"translate(47.22055 56.125469)scale(0.085 -0.085)\">\n      <use xlink:href=\"#DejaVuSans-49\"/>\n      <use x=\"63.623047\" xlink:href=\"#DejaVuSans-51\"/>\n     </g>\n    </g>\n   </g>\n   <g id=\"text_14\">\n    <g clip-path=\"url(#pd584fa919f)\">\n     <!-- 14 -->\n     <g style=\"fill:#ff0000;\" transform=\"translate(90.878675 94.852266)scale(0.085 -0.085)\">\n      <use xlink:href=\"#DejaVuSans-49\"/>\n      <use x=\"63.623047\" xlink:href=\"#DejaVuSans-52\"/>\n     </g>\n    </g>\n   </g>\n   <g id=\"text_15\">\n    <g clip-path=\"url(#pd584fa919f)\">\n     <!-- 15 -->\n     <g style=\"fill:#ff0000;\" transform=\"translate(157.433675 87.202266)scale(0.085 -0.085)\">\n      <use xlink:href=\"#DejaVuSans-49\"/>\n      <use x=\"63.623047\" xlink:href=\"#DejaVuSans-53\"/>\n     </g>\n    </g>\n   </g>\n   <g id=\"text_16\">\n    <g clip-path=\"url(#pd584fa919f)\">\n     <!-- 16 -->\n     <g style=\"fill:#ff0000;\" transform=\"translate(187.268675 117.802266)scale(0.085 -0.085)\">\n      <use xlink:href=\"#DejaVuSans-49\"/>\n      <use x=\"63.623047\" xlink:href=\"#DejaVuSans-54\"/>\n     </g>\n    </g>\n   </g>\n   <g id=\"text_17\">\n    <g clip-path=\"url(#pd584fa919f)\">\n     <!-- 17 -->\n     <g style=\"fill:#ff0000;\" transform=\"translate(192.57055 102.025469)scale(0.085 -0.085)\">\n      <use xlink:href=\"#DejaVuSans-49\"/>\n      <use x=\"63.623047\" xlink:href=\"#DejaVuSans-55\"/>\n     </g>\n    </g>\n   </g>\n   <g id=\"text_18\">\n    <g clip-path=\"url(#pd584fa919f)\">\n     <!-- 18 -->\n     <g style=\"fill:#ff0000;\" transform=\"translate(213.125675 90.262266)scale(0.085 -0.085)\">\n      <use xlink:href=\"#DejaVuSans-49\"/>\n      <use x=\"63.623047\" xlink:href=\"#DejaVuSans-56\"/>\n     </g>\n    </g>\n   </g>\n   <g id=\"text_19\">\n    <g clip-path=\"url(#pd584fa919f)\">\n     <!-- 19 -->\n     <g style=\"fill:#ff0000;\" transform=\"translate(121.478675 110.152266)scale(0.085 -0.085)\">\n      <use xlink:href=\"#DejaVuSans-49\"/>\n      <use x=\"63.623047\" xlink:href=\"#DejaVuSans-57\"/>\n     </g>\n    </g>\n   </g>\n   <g id=\"text_20\">\n    <g clip-path=\"url(#pd584fa919f)\">\n     <!-- 20 -->\n     <g style=\"fill:#ff0000;\" transform=\"translate(120.66055 124.975469)scale(0.085 -0.085)\">\n      <use xlink:href=\"#DejaVuSans-50\"/>\n      <use x=\"63.623047\" xlink:href=\"#DejaVuSans-48\"/>\n     </g>\n    </g>\n   </g>\n   <g id=\"text_21\">\n    <g clip-path=\"url(#pd584fa919f)\">\n     <!-- 21 -->\n     <g style=\"fill:#ff0000;\" transform=\"translate(106.178675 137.692266)scale(0.085 -0.085)\">\n      <use xlink:href=\"#DejaVuSans-50\"/>\n      <use x=\"63.623047\" xlink:href=\"#DejaVuSans-49\"/>\n     </g>\n    </g>\n   </g>\n   <g id=\"text_22\">\n    <g clip-path=\"url(#pd584fa919f)\">\n     <!-- 22 -->\n     <g style=\"fill:#ff0000;\" transform=\"translate(84.911675 119.332266)scale(0.085 -0.085)\">\n      <use xlink:href=\"#DejaVuSans-50\"/>\n      <use x=\"63.623047\" xlink:href=\"#DejaVuSans-50\"/>\n     </g>\n    </g>\n   </g>\n   <g id=\"text_23\">\n    <g clip-path=\"url(#pd584fa919f)\">\n     <!-- 23 -->\n     <g style=\"fill:#ff0000;\" transform=\"translate(55.994675 125.452266)scale(0.085 -0.085)\">\n      <use xlink:href=\"#DejaVuSans-50\"/>\n      <use x=\"63.623047\" xlink:href=\"#DejaVuSans-51\"/>\n     </g>\n    </g>\n   </g>\n   <g id=\"text_24\">\n    <g clip-path=\"url(#pd584fa919f)\">\n     <!-- B -->\n     <defs>\n      <path d=\"M 19.671875 34.8125 \nL 19.671875 8.109375 \nL 35.5 8.109375 \nQ 43.453125 8.109375 47.28125 11.40625 \nQ 51.125 14.703125 51.125 21.484375 \nQ 51.125 28.328125 47.28125 31.5625 \nQ 43.453125 34.8125 35.5 34.8125 \nz\nM 19.671875 64.796875 \nL 19.671875 42.828125 \nL 34.28125 42.828125 \nQ 41.5 42.828125 45.03125 45.53125 \nQ 48.578125 48.25 48.578125 53.8125 \nQ 48.578125 59.328125 45.03125 62.0625 \nQ 41.5 64.796875 34.28125 64.796875 \nz\nM 9.8125 72.90625 \nL 35.015625 72.90625 \nQ 46.296875 72.90625 52.390625 68.21875 \nQ 58.5 63.53125 58.5 54.890625 \nQ 58.5 48.1875 55.375 44.234375 \nQ 52.25 40.28125 46.1875 39.3125 \nQ 53.46875 37.75 57.5 32.78125 \nQ 61.53125 27.828125 61.53125 20.40625 \nQ 61.53125 10.640625 54.890625 5.3125 \nQ 48.25 0 35.984375 0 \nL 9.8125 0 \nz\n\" id=\"DejaVuSans-66\"/>\n     </defs>\n     <g transform=\"translate(19.166628 133.729219)scale(0.125 -0.125)\">\n      <use xlink:href=\"#DejaVuSans-66\"/>\n     </g>\n    </g>\n   </g>\n   <g id=\"text_25\">\n    <g clip-path=\"url(#pd584fa919f)\">\n     <!-- 25 -->\n     <g style=\"fill:#ff0000;\" transform=\"translate(26.924675 128.512266)scale(0.085 -0.085)\">\n      <use xlink:href=\"#DejaVuSans-50\"/>\n      <use x=\"63.623047\" xlink:href=\"#DejaVuSans-53\"/>\n     </g>\n    </g>\n   </g>\n   <g id=\"text_26\">\n    <g clip-path=\"url(#pd584fa919f)\">\n     <!-- 26 -->\n     <g style=\"fill:#ff0000;\" transform=\"translate(32.22655 102.025469)scale(0.085 -0.085)\">\n      <use xlink:href=\"#DejaVuSans-50\"/>\n      <use x=\"63.623047\" xlink:href=\"#DejaVuSans-54\"/>\n     </g>\n    </g>\n   </g>\n   <g id=\"text_27\">\n    <g clip-path=\"url(#pd584fa919f)\">\n     <!-- 27 -->\n     <g style=\"fill:#ff0000;\" transform=\"translate(83.228675 64.252266)scale(0.085 -0.085)\">\n      <use xlink:href=\"#DejaVuSans-50\"/>\n      <use x=\"63.623047\" xlink:href=\"#DejaVuSans-55\"/>\n     </g>\n    </g>\n   </g>\n   <g id=\"patch_4\">\n    <path clip-path=\"url(#pd584fa919f)\" d=\"M 58.0368 40.775 \nC 58.645441 40.775 59.229236 40.533184 59.65961 40.10281 \nC 60.089984 39.672436 60.3318 39.088641 60.3318 38.48 \nC 60.3318 37.871359 60.089984 37.287564 59.65961 36.85719 \nC 59.229236 36.426816 58.645441 36.185 58.0368 36.185 \nC 57.428159 36.185 56.844364 36.426816 56.41399 36.85719 \nC 55.983616 37.287564 55.7418 37.871359 55.7418 38.48 \nC 55.7418 39.088641 55.983616 39.672436 56.41399 40.10281 \nC 56.844364 40.533184 57.428159 40.775 58.0368 40.775 \nz\n\" style=\"stroke:#000000;stroke-linejoin:miter;stroke-width:2;\"/>\n   </g>\n   <g id=\"patch_5\">\n    <path clip-path=\"url(#pd584fa919f)\" d=\"M 46.1028 132.575 \nC 46.711441 132.575 47.295236 132.333184 47.72561 131.90281 \nC 48.155984 131.472436 48.3978 130.888641 48.3978 130.28 \nC 48.3978 129.671359 48.155984 129.087564 47.72561 128.65719 \nC 47.295236 128.226816 46.711441 127.985 46.1028 127.985 \nC 45.494159 127.985 44.910364 128.226816 44.47999 128.65719 \nC 44.049616 129.087564 43.8078 129.671359 43.8078 130.28 \nC 43.8078 130.888641 44.049616 131.472436 44.47999 131.90281 \nC 44.910364 132.333184 45.494159 132.575 46.1028 132.575 \nz\n\" style=\"stroke:#000000;stroke-linejoin:miter;stroke-width:2;\"/>\n   </g>\n   <g id=\"text_28\">\n    <g clip-path=\"url(#pd584fa919f)\">\n     <!-- 2 -->\n     <g style=\"fill:#ff0000;\" transform=\"translate(55.332738 31.357266)scale(0.085 -0.085)\">\n      <use xlink:href=\"#DejaVuSans-50\"/>\n     </g>\n    </g>\n   </g>\n   <g id=\"text_29\">\n    <g clip-path=\"url(#pd584fa919f)\">\n     <!-- 24 -->\n     <g style=\"fill:#ff0000;\" transform=\"translate(40.694675 141.517266)scale(0.085 -0.085)\">\n      <use xlink:href=\"#DejaVuSans-50\"/>\n      <use x=\"63.623047\" xlink:href=\"#DejaVuSans-52\"/>\n     </g>\n    </g>\n   </g>\n  </g>\n </g>\n <defs>\n  <clipPath id=\"pd584fa919f\">\n   <rect height=\"145.265\" width=\"272.3808\" x=\"7.2\" y=\"7.2\"/>\n  </clipPath>\n </defs>\n</svg>\n",
            "image/png": "[encoded data removed]"
          },
          "metadata": {},
          "execution_count": 5
        }
      ],
      "source": [
        "# 作成順序の表示\n",
        "\n",
        "d = Drawing(unit=.5)\n",
        "\n",
        "d += logic.Line().length(d.unit*2).label('A', 'left').label('1', fontsize=10, color=\"red\")\n",
        "\n",
        "d.push()\n",
        "d += (D1 := logic.Dot().label('2', fontsize=10, color=\"red\"))\n",
        "d += logic.Line().label('3', fontsize=10, color=\"red\")\n",
        "d += (N1 := logic.Not().label('4', fontsize=10, color=\"red\", ofst=(0,-0.2)))\n",
        "d += logic.Line().right().label('5', fontsize=10, color=\"red\")\n",
        "d += logic.Line().down().label('6', fontsize=10, color=\"red\")\n",
        "d += logic.Line().right().label('7', fontsize=10, color=\"red\")\n",
        "d += (AN1 := logic.And().right().anchor('in1').label('8', fontsize=10, color=\"red\"))\n",
        "d += logic.Line().right().label('9', fontsize=10, color=\"red\")\n",
        "d += logic.Line().down().label('10', fontsize=10, color=\"red\")\n",
        "d += logic.Line().right().label('11', fontsize=10, color=\"red\", ofst=(0.2,0))\n",
        "d += (O1 := logic.Or().right().anchor('in1').label('12', fontsize=10, color=\"red\"))\n",
        "\n",
        "d.pop() # back to 2 \n",
        "d += logic.Line().down().length(d.unit*4).label('13', fontsize=10, color=\"red\", ofst=(-0.5,0))\n",
        "d += logic.Line().right().length(d.unit*5).label('14', fontsize=10, color=\"red\")\n",
        "d.push()\n",
        "d += (AN2 := logic.And().right().anchor('in1').label('15', fontsize=10, color=\"red\"))\n",
        "d += logic.Line().right().label('16', fontsize=10, color=\"red\", ofst=(-0.2,-0.4))\n",
        "d += logic.Line().up().label('17', fontsize=10, color=\"red\")\n",
        "d += logic.Line().right().to(O1.in2).label('18', fontsize=10, color=\"red\", ofst=(0.2,0))\n",
        "\n",
        "d.pop() # back to 15\n",
        "d += logic.Line().at(AN2.in2).left().label('19', fontsize=10, color=\"red\")\n",
        "d += logic.Line().down().label('20', fontsize=10, color=\"red\", ofst=(0,0.4))\n",
        "d += logic.Line().left().label('21', fontsize=10, color=\"red\", ofst=(0,0.3))\n",
        "d += (N2 := logic.Not().right().anchor('out').label('22', fontsize=10, color=\"red\", ofst=(0,-0.2)))\n",
        "d += logic.Line().left().length(d.unit*2).at(N2.in1).label('23', fontsize=10, color=\"red\")\n",
        "d.push()\n",
        "d += (D1 := logic.Dot().label('24', fontsize=10, color=\"red\", ofst=(0,-0.5)))\n",
        "d += logic.Line().label('B', 'left').label('25', fontsize=10, color=\"red\", ofst=(0.2,0))\n",
        "\n",
        "d.pop() # back to 24\n",
        "d += logic.Line().up().length(d.unit*4).label('26', fontsize=10, color=\"red\")\n",
        "d += logic.Line().right().to(AN1.in2).label('27', fontsize=10, color=\"red\")\n",
        "\n",
        "d.draw()\n",
        "\n"
      ]
    },
    {
      "cell_type": "markdown",
      "source": [
        "# ★ 実際のデジタル回路"
      ],
      "metadata": {
        "id": "_YdqrwsGU-aA"
      }
    },
    {
      "cell_type": "markdown",
      "source": [
        "SchemDrawで真理値表\n",
        "\n",
        "(SchemDrawの準備必要) ([SchemDraw](#SchemDraw-id))"
      ],
      "metadata": {
        "id": "oDmWm_Cg4rxy"
      }
    },
    {
      "cell_type": "markdown",
      "source": [
        "### ★ NOT回路"
      ],
      "metadata": {
        "id": "uqNktq2f5c4i"
      }
    },
    {
      "cell_type": "markdown",
      "source": [
        "NOTゲート回路は，1個の電界効果トランジスター(`FET` = Field Effect Transistor)と\n",
        "\n",
        "1個の抵抗で作ることが可能\n",
        "\n",
        "実際の集積回路では抵抗を組み込むことは難しいので，\n",
        "\n",
        "下のモデルに入っている抵抗のかわりに`FET`が使われている"
      ],
      "metadata": {
        "id": "j3D2pv1h2L0t"
      }
    },
    {
      "cell_type": "markdown",
      "source": [
        "SchemDraw - [Transistors](https://schemdraw.readthedocs.io/en/latest/elements/electrical.html#transistors)"
      ],
      "metadata": {
        "id": "2O7ia4CXBEMn"
      }
    },
    {
      "cell_type": "code",
      "execution_count": null,
      "metadata": {
        "tags": [
          "hide-input"
        ],
        "colab": {
          "base_uri": "https://localhost:8080/",
          "height": 307
        },
        "outputId": "cbc16f75-b035-4a47-d473-f6a8f2d7ebc0",
        "id": "eU7McDROqHCs"
      },
      "outputs": [
        {
          "output_type": "execute_result",
          "data": {
            "text/plain": [
              "<schemdraw.backends.mpl.Figure object at 0x7fa3d5d1a340>"
            ],
            "image/svg+xml": "<?xml version=\"1.0\" encoding=\"utf-8\" standalone=\"no\"?>\n<!DOCTYPE svg PUBLIC \"-//W3C//DTD SVG 1.1//EN\"\n  \"http://www.w3.org/Graphics/SVG/1.1/DTD/svg11.dtd\">\n<!-- Created with matplotlib (https://matplotlib.org/) -->\n<svg height=\"214.932pt\" version=\"1.1\" viewBox=\"0 0 165.258 214.932\" width=\"165.258pt\" xmlns=\"http://www.w3.org/2000/svg\" xmlns:xlink=\"http://www.w3.org/1999/xlink\">\n <defs>\n  <style type=\"text/css\">\n*{stroke-linecap:butt;stroke-linejoin:round;}\n  </style>\n </defs>\n <g id=\"figure_1\">\n  <g id=\"patch_1\">\n   <path d=\"M 0 214.932 \nL 165.258 214.932 \nL 165.258 0 \nL 0 0 \nz\n\" style=\"fill:#ffffff;\"/>\n  </g>\n  <g id=\"axes_1\">\n   <g id=\"line2d_1\">\n    <path clip-path=\"url(#pdebae99148)\" d=\"M 96.6234 47.32 \nL 96.6234 35.08 \n\" style=\"fill:none;stroke:#000000;stroke-linecap:round;stroke-width:2;\"/>\n   </g>\n   <g id=\"line2d_2\">\n    <path clip-path=\"url(#pdebae99148)\" d=\"M 96.6234 35.08 \nL 90.8859 35.08 \n\" style=\"fill:none;stroke:#000000;stroke-linecap:round;stroke-width:2;\"/>\n   </g>\n   <g id=\"line2d_3\">\n    <path clip-path=\"url(#pdebae99148)\" d=\"M 96.6234 35.08 \nL 102.3609 35.08 \n\" style=\"fill:none;stroke:#000000;stroke-linecap:round;stroke-width:2;\"/>\n   </g>\n   <g id=\"line2d_4\">\n    <path clip-path=\"url(#pdebae99148)\" d=\"M 96.6234 47.32 \nL 96.6234 54.97 \nL 96.6234 62.62 \n\" style=\"fill:none;stroke:#000000;stroke-linecap:round;stroke-width:2;\"/>\n   </g>\n   <g id=\"line2d_5\">\n    <path clip-path=\"url(#pdebae99148)\" d=\"M 96.6234 62.62 \nL 104.2734 65.17 \nL 88.9734 70.27 \nL 104.2734 75.37 \nL 88.9734 80.47 \nL 104.2734 85.57 \nL 88.9734 90.67 \nL 96.6234 93.22 \n\" style=\"fill:none;stroke:#000000;stroke-linecap:round;stroke-width:2;\"/>\n   </g>\n   <g id=\"line2d_6\">\n    <path clip-path=\"url(#pdebae99148)\" d=\"M 96.6234 93.22 \nL 96.6234 100.87 \nL 96.6234 108.52 \n\" style=\"fill:none;stroke:#000000;stroke-linecap:round;stroke-width:2;\"/>\n   </g>\n   <g id=\"line2d_7\">\n    <path clip-path=\"url(#pdebae99148)\" d=\"M 96.6234 108.52 \nL 104.2734 108.52 \nL 111.9234 108.52 \n\" style=\"fill:none;stroke:#000000;stroke-linecap:round;stroke-width:2;\"/>\n   </g>\n   <g id=\"line2d_8\">\n    <path clip-path=\"url(#pdebae99148)\" d=\"M 96.6234 108.52 \nL 96.6234 116.17 \nL 96.6234 123.82 \n\" style=\"fill:none;stroke:#000000;stroke-linecap:round;stroke-width:2;\"/>\n   </g>\n   <g id=\"line2d_9\">\n    <path clip-path=\"url(#pdebae99148)\" d=\"M 96.6234 169.72 \nL 96.6234 156.97 \nL 76.2234 156.97 \nL 76.2234 136.57 \nL 96.6234 136.57 \nL 96.6234 123.82 \n\" style=\"fill:none;stroke:#000000;stroke-linecap:round;stroke-width:2;\"/>\n   </g>\n   <g id=\"line2d_10\">\n    <path clip-path=\"url(#pdebae99148)\" d=\"M 71.1234 156.97 \nL 71.1234 136.57 \n\" style=\"fill:none;stroke:#000000;stroke-linecap:round;stroke-width:2;\"/>\n   </g>\n   <g id=\"line2d_11\">\n    <path clip-path=\"url(#pdebae99148)\" d=\"M 54.8034 146.77 \nL 71.1234 146.77 \n\" style=\"fill:none;stroke:#000000;stroke-linecap:round;stroke-width:2;\"/>\n   </g>\n   <g id=\"line2d_12\">\n    <path clip-path=\"url(#pdebae99148)\" d=\"M 54.8034 146.77 \nL 47.1534 146.77 \nL 39.5034 146.77 \n\" style=\"fill:none;stroke:#000000;stroke-linecap:round;stroke-width:2;\"/>\n   </g>\n   <g id=\"line2d_13\">\n    <path clip-path=\"url(#pdebae99148)\" d=\"M 96.6234 169.72 \nL 96.6234 177.37 \nL 96.6234 185.02 \n\" style=\"fill:none;stroke:#000000;stroke-linecap:round;stroke-width:2;\"/>\n   </g>\n   <g id=\"line2d_14\">\n    <path clip-path=\"url(#pdebae99148)\" d=\"M 96.6234 185.02 \nL 96.6234 197.26 \nL 88.9734 197.26 \nL 104.2734 197.26 \nM 91.2684 200.932 \nL 101.9784 200.932 \nM 95.0934 204.604 \nL 98.1534 204.604 \n\" style=\"fill:none;stroke:#000000;stroke-linecap:round;stroke-width:2;\"/>\n   </g>\n   <g id=\"text_1\">\n    <g clip-path=\"url(#pdebae99148)\">\n     <!-- $V_{dd}$ -->\n     <defs>\n      <path d=\"M 20.609375 0 \nL 7.8125 72.90625 \nL 17.484375 72.90625 \nL 28.078125 10.203125 \nL 63.484375 72.90625 \nL 74.21875 72.90625 \nL 32.078125 0 \nz\n\" id=\"DejaVuSans-Oblique-86\"/>\n      <path d=\"M 41.796875 8.203125 \nQ 38.1875 3.46875 33.25 1.015625 \nQ 28.328125 -1.421875 22.3125 -1.421875 \nQ 14.109375 -1.421875 9.34375 4.171875 \nQ 4.59375 9.765625 4.59375 19.484375 \nQ 4.59375 27.59375 7.46875 34.9375 \nQ 10.359375 42.28125 15.828125 48.09375 \nQ 19.4375 51.953125 23.96875 53.96875 \nQ 28.515625 56 33.5 56 \nQ 38.765625 56 42.796875 53.453125 \nQ 46.828125 50.921875 49.03125 46.1875 \nL 54.890625 75.984375 \nL 63.921875 75.984375 \nL 49.125 0 \nL 40.09375 0 \nz\nM 13.921875 21.09375 \nQ 13.921875 14.015625 17.109375 10.0625 \nQ 20.3125 6.109375 25.984375 6.109375 \nQ 30.171875 6.109375 33.765625 8.125 \nQ 37.359375 10.15625 40.09375 14.109375 \nQ 42.96875 18.21875 44.625 23.578125 \nQ 46.296875 28.953125 46.296875 34.1875 \nQ 46.296875 40.96875 43.09375 44.765625 \nQ 39.890625 48.578125 34.28125 48.578125 \nQ 30.03125 48.578125 26.359375 46.578125 \nQ 22.703125 44.578125 20.125 40.828125 \nQ 17.28125 36.765625 15.59375 31.390625 \nQ 13.921875 26.03125 13.921875 21.09375 \nz\n\" id=\"DejaVuSans-Oblique-100\"/>\n     </defs>\n     <g transform=\"translate(86.5609 29.420391)scale(0.125 -0.125)\">\n      <use transform=\"translate(0 0.09375)\" xlink:href=\"#DejaVuSans-Oblique-86\"/>\n      <use transform=\"translate(68.408203 -16.3125)scale(0.7)\" xlink:href=\"#DejaVuSans-Oblique-100\"/>\n      <use transform=\"translate(112.841797 -16.3125)scale(0.7)\" xlink:href=\"#DejaVuSans-Oblique-100\"/>\n     </g>\n    </g>\n   </g>\n   <g id=\"text_2\">\n    <g clip-path=\"url(#pdebae99148)\">\n     <!-- R -->\n     <defs>\n      <path d=\"M 44.390625 34.1875 \nQ 47.5625 33.109375 50.5625 29.59375 \nQ 53.5625 26.078125 56.59375 19.921875 \nL 66.609375 0 \nL 56 0 \nL 46.6875 18.703125 \nQ 43.0625 26.03125 39.671875 28.421875 \nQ 36.28125 30.8125 30.421875 30.8125 \nL 19.671875 30.8125 \nL 19.671875 0 \nL 9.8125 0 \nL 9.8125 72.90625 \nL 32.078125 72.90625 \nQ 44.578125 72.90625 50.734375 67.671875 \nQ 56.890625 62.453125 56.890625 51.90625 \nQ 56.890625 45.015625 53.6875 40.46875 \nQ 50.484375 35.9375 44.390625 34.1875 \nz\nM 19.671875 64.796875 \nL 19.671875 38.921875 \nL 32.078125 38.921875 \nQ 39.203125 38.921875 42.84375 42.21875 \nQ 46.484375 45.515625 46.484375 51.90625 \nQ 46.484375 58.296875 42.84375 61.546875 \nQ 39.203125 64.796875 32.078125 64.796875 \nz\n\" id=\"DejaVuSans-82\"/>\n     </defs>\n     <g transform=\"translate(77.227853 81.369219)scale(0.125 -0.125)\">\n      <use xlink:href=\"#DejaVuSans-82\"/>\n     </g>\n    </g>\n   </g>\n   <g id=\"text_3\">\n    <g clip-path=\"url(#pdebae99148)\">\n     <!-- $V_{out}$ -->\n     <defs>\n      <path d=\"M 25.390625 -1.421875 \nQ 15.765625 -1.421875 10.171875 4.515625 \nQ 4.59375 10.453125 4.59375 20.703125 \nQ 4.59375 26.65625 6.515625 32.828125 \nQ 8.453125 39.015625 11.53125 43.21875 \nQ 16.359375 49.75 22.3125 52.875 \nQ 28.265625 56 35.796875 56 \nQ 45.125 56 50.859375 50.1875 \nQ 56.59375 44.390625 56.59375 35.015625 \nQ 56.59375 28.515625 54.6875 22.0625 \nQ 52.78125 15.625 49.703125 11.375 \nQ 44.921875 4.828125 38.96875 1.703125 \nQ 33.015625 -1.421875 25.390625 -1.421875 \nz\nM 13.921875 21 \nQ 13.921875 13.578125 17.015625 9.890625 \nQ 20.125 6.203125 26.421875 6.203125 \nQ 35.453125 6.203125 41.375 14.078125 \nQ 47.3125 21.96875 47.3125 34.078125 \nQ 47.3125 41.15625 44.140625 44.765625 \nQ 40.96875 48.390625 34.8125 48.390625 \nQ 29.734375 48.390625 25.78125 46.015625 \nQ 21.828125 43.65625 18.703125 38.8125 \nQ 16.40625 35.203125 15.15625 30.5625 \nQ 13.921875 25.921875 13.921875 21 \nz\n\" id=\"DejaVuSans-Oblique-111\"/>\n      <path d=\"M 6.6875 21.6875 \nL 13.09375 54.6875 \nL 22.125 54.6875 \nL 15.71875 22.015625 \nQ 15.234375 19.625 15.015625 17.921875 \nQ 14.796875 16.21875 14.796875 15.09375 \nQ 14.796875 10.9375 17.328125 8.65625 \nQ 19.875 6.390625 24.515625 6.390625 \nQ 31.734375 6.390625 37 11.265625 \nQ 42.28125 16.15625 43.890625 24.421875 \nL 49.90625 54.6875 \nL 58.890625 54.6875 \nL 48.296875 0 \nL 39.3125 0 \nL 41.109375 8.59375 \nQ 37.3125 3.8125 32.0625 1.1875 \nQ 26.8125 -1.421875 20.90625 -1.421875 \nQ 13.71875 -1.421875 9.71875 2.515625 \nQ 5.71875 6.453125 5.71875 13.484375 \nQ 5.71875 14.9375 5.953125 17.140625 \nQ 6.203125 19.34375 6.6875 21.6875 \nz\n\" id=\"DejaVuSans-Oblique-117\"/>\n      <path d=\"M 42.28125 54.6875 \nL 40.921875 47.703125 \nL 23 47.703125 \nL 17.1875 18.015625 \nQ 16.890625 16.359375 16.75 15.234375 \nQ 16.609375 14.109375 16.609375 13.484375 \nQ 16.609375 10.359375 18.484375 8.9375 \nQ 20.359375 7.515625 24.515625 7.515625 \nL 33.59375 7.515625 \nL 32.078125 0 \nL 23.484375 0 \nQ 15.484375 0 11.546875 3.125 \nQ 7.625 6.25 7.625 12.59375 \nQ 7.625 13.71875 7.765625 15.0625 \nQ 7.90625 16.40625 8.203125 18.015625 \nL 14.015625 47.703125 \nL 6.390625 47.703125 \nL 7.8125 54.6875 \nL 15.28125 54.6875 \nL 18.3125 70.21875 \nL 27.296875 70.21875 \nL 24.3125 54.6875 \nz\n\" id=\"DejaVuSans-Oblique-116\"/>\n     </defs>\n     <g transform=\"translate(114.9834 111.969219)scale(0.125 -0.125)\">\n      <use transform=\"translate(0 0.09375)\" xlink:href=\"#DejaVuSans-Oblique-86\"/>\n      <use transform=\"translate(68.408203 -16.3125)scale(0.7)\" xlink:href=\"#DejaVuSans-Oblique-111\"/>\n      <use transform=\"translate(111.235352 -16.3125)scale(0.7)\" xlink:href=\"#DejaVuSans-Oblique-117\"/>\n      <use transform=\"translate(155.600586 -16.3125)scale(0.7)\" xlink:href=\"#DejaVuSans-Oblique-116\"/>\n     </g>\n    </g>\n   </g>\n   <g id=\"text_4\">\n    <g clip-path=\"url(#pdebae99148)\">\n     <!-- drain -->\n     <defs>\n      <path d=\"M 45.40625 46.390625 \nL 45.40625 75.984375 \nL 54.390625 75.984375 \nL 54.390625 0 \nL 45.40625 0 \nL 45.40625 8.203125 \nQ 42.578125 3.328125 38.25 0.953125 \nQ 33.9375 -1.421875 27.875 -1.421875 \nQ 17.96875 -1.421875 11.734375 6.484375 \nQ 5.515625 14.40625 5.515625 27.296875 \nQ 5.515625 40.1875 11.734375 48.09375 \nQ 17.96875 56 27.875 56 \nQ 33.9375 56 38.25 53.625 \nQ 42.578125 51.265625 45.40625 46.390625 \nz\nM 14.796875 27.296875 \nQ 14.796875 17.390625 18.875 11.75 \nQ 22.953125 6.109375 30.078125 6.109375 \nQ 37.203125 6.109375 41.296875 11.75 \nQ 45.40625 17.390625 45.40625 27.296875 \nQ 45.40625 37.203125 41.296875 42.84375 \nQ 37.203125 48.484375 30.078125 48.484375 \nQ 22.953125 48.484375 18.875 42.84375 \nQ 14.796875 37.203125 14.796875 27.296875 \nz\n\" id=\"DejaVuSans-100\"/>\n      <path d=\"M 41.109375 46.296875 \nQ 39.59375 47.171875 37.8125 47.578125 \nQ 36.03125 48 33.890625 48 \nQ 26.265625 48 22.1875 43.046875 \nQ 18.109375 38.09375 18.109375 28.8125 \nL 18.109375 0 \nL 9.078125 0 \nL 9.078125 54.6875 \nL 18.109375 54.6875 \nL 18.109375 46.1875 \nQ 20.953125 51.171875 25.484375 53.578125 \nQ 30.03125 56 36.53125 56 \nQ 37.453125 56 38.578125 55.875 \nQ 39.703125 55.765625 41.0625 55.515625 \nz\n\" id=\"DejaVuSans-114\"/>\n      <path d=\"M 34.28125 27.484375 \nQ 23.390625 27.484375 19.1875 25 \nQ 14.984375 22.515625 14.984375 16.5 \nQ 14.984375 11.71875 18.140625 8.90625 \nQ 21.296875 6.109375 26.703125 6.109375 \nQ 34.1875 6.109375 38.703125 11.40625 \nQ 43.21875 16.703125 43.21875 25.484375 \nL 43.21875 27.484375 \nz\nM 52.203125 31.203125 \nL 52.203125 0 \nL 43.21875 0 \nL 43.21875 8.296875 \nQ 40.140625 3.328125 35.546875 0.953125 \nQ 30.953125 -1.421875 24.3125 -1.421875 \nQ 15.921875 -1.421875 10.953125 3.296875 \nQ 6 8.015625 6 15.921875 \nQ 6 25.140625 12.171875 29.828125 \nQ 18.359375 34.515625 30.609375 34.515625 \nL 43.21875 34.515625 \nL 43.21875 35.40625 \nQ 43.21875 41.609375 39.140625 45 \nQ 35.0625 48.390625 27.6875 48.390625 \nQ 23 48.390625 18.546875 47.265625 \nQ 14.109375 46.140625 10.015625 43.890625 \nL 10.015625 52.203125 \nQ 14.9375 54.109375 19.578125 55.046875 \nQ 24.21875 56 28.609375 56 \nQ 40.484375 56 46.34375 49.84375 \nQ 52.203125 43.703125 52.203125 31.203125 \nz\n\" id=\"DejaVuSans-97\"/>\n      <path d=\"M 9.421875 54.6875 \nL 18.40625 54.6875 \nL 18.40625 0 \nL 9.421875 0 \nz\nM 9.421875 75.984375 \nL 18.40625 75.984375 \nL 18.40625 64.59375 \nL 9.421875 64.59375 \nz\n\" id=\"DejaVuSans-105\"/>\n      <path d=\"M 54.890625 33.015625 \nL 54.890625 0 \nL 45.90625 0 \nL 45.90625 32.71875 \nQ 45.90625 40.484375 42.875 44.328125 \nQ 39.84375 48.1875 33.796875 48.1875 \nQ 26.515625 48.1875 22.3125 43.546875 \nQ 18.109375 38.921875 18.109375 30.90625 \nL 18.109375 0 \nL 9.078125 0 \nL 9.078125 54.6875 \nL 18.109375 54.6875 \nL 18.109375 46.1875 \nQ 21.34375 51.125 25.703125 53.5625 \nQ 30.078125 56 35.796875 56 \nQ 45.21875 56 50.046875 50.171875 \nQ 54.890625 44.34375 54.890625 33.015625 \nz\n\" id=\"DejaVuSans-110\"/>\n     </defs>\n     <g transform=\"translate(99.224728 132.578828)scale(0.075 -0.075)\">\n      <use xlink:href=\"#DejaVuSans-100\"/>\n      <use x=\"63.476562\" xlink:href=\"#DejaVuSans-114\"/>\n      <use x=\"104.589844\" xlink:href=\"#DejaVuSans-97\"/>\n      <use x=\"165.869141\" xlink:href=\"#DejaVuSans-105\"/>\n      <use x=\"193.652344\" xlink:href=\"#DejaVuSans-110\"/>\n     </g>\n    </g>\n   </g>\n   <g id=\"text_5\">\n    <g clip-path=\"url(#pdebae99148)\">\n     <!-- FET -->\n     <defs>\n      <path d=\"M 9.8125 72.90625 \nL 51.703125 72.90625 \nL 51.703125 64.59375 \nL 19.671875 64.59375 \nL 19.671875 43.109375 \nL 48.578125 43.109375 \nL 48.578125 34.8125 \nL 19.671875 34.8125 \nL 19.671875 0 \nL 9.8125 0 \nz\n\" id=\"DejaVuSans-70\"/>\n      <path d=\"M 9.8125 72.90625 \nL 55.90625 72.90625 \nL 55.90625 64.59375 \nL 19.671875 64.59375 \nL 19.671875 43.015625 \nL 54.390625 43.015625 \nL 54.390625 34.71875 \nL 19.671875 34.71875 \nL 19.671875 8.296875 \nL 56.78125 8.296875 \nL 56.78125 0 \nL 9.8125 0 \nz\n\" id=\"DejaVuSans-69\"/>\n      <path d=\"M -0.296875 72.90625 \nL 61.375 72.90625 \nL 61.375 64.59375 \nL 35.5 64.59375 \nL 35.5 0 \nL 25.59375 0 \nL 25.59375 64.59375 \nL -0.296875 64.59375 \nz\n\" id=\"DejaVuSans-84\"/>\n     </defs>\n     <g transform=\"translate(99.6834 149.391406)scale(0.095 -0.095)\">\n      <use xlink:href=\"#DejaVuSans-70\"/>\n      <use x=\"57.519531\" xlink:href=\"#DejaVuSans-69\"/>\n      <use x=\"120.703125\" xlink:href=\"#DejaVuSans-84\"/>\n     </g>\n    </g>\n   </g>\n   <g id=\"text_6\">\n    <g clip-path=\"url(#pdebae99148)\">\n     <!-- $V_{in}$ -->\n     <defs>\n      <path d=\"M 18.3125 75.984375 \nL 27.296875 75.984375 \nL 25.09375 64.59375 \nL 16.109375 64.59375 \nz\nM 14.203125 54.6875 \nL 23.1875 54.6875 \nL 12.5 0 \nL 3.515625 0 \nz\n\" id=\"DejaVuSans-Oblique-105\"/>\n      <path d=\"M 55.71875 33.015625 \nL 49.3125 0 \nL 40.28125 0 \nL 46.6875 32.671875 \nQ 47.125 34.96875 47.359375 36.71875 \nQ 47.609375 38.484375 47.609375 39.5 \nQ 47.609375 43.609375 45.015625 45.890625 \nQ 42.4375 48.1875 37.796875 48.1875 \nQ 30.5625 48.1875 25.34375 43.375 \nQ 20.125 38.578125 18.5 30.328125 \nL 12.5 0 \nL 3.515625 0 \nL 14.109375 54.6875 \nL 23.09375 54.6875 \nL 21.296875 46.09375 \nQ 25.046875 50.828125 30.3125 53.40625 \nQ 35.59375 56 41.40625 56 \nQ 48.640625 56 52.609375 52.09375 \nQ 56.59375 48.1875 56.59375 41.109375 \nQ 56.59375 39.359375 56.375 37.359375 \nQ 56.15625 35.359375 55.71875 33.015625 \nz\n\" id=\"DejaVuSans-Oblique-110\"/>\n     </defs>\n     <g transform=\"translate(19.5684 150.219219)scale(0.125 -0.125)\">\n      <use transform=\"translate(0 0.09375)\" xlink:href=\"#DejaVuSans-Oblique-86\"/>\n      <use transform=\"translate(68.408203 -16.3125)scale(0.7)\" xlink:href=\"#DejaVuSans-Oblique-105\"/>\n      <use transform=\"translate(87.856445 -16.3125)scale(0.7)\" xlink:href=\"#DejaVuSans-Oblique-110\"/>\n     </g>\n    </g>\n   </g>\n   <g id=\"text_7\">\n    <g clip-path=\"url(#pdebae99148)\">\n     <!-- $gate$ -->\n     <defs>\n      <path d=\"M 59.625 54.6875 \nL 50.296875 6.78125 \nQ 47.609375 -7.125 40.015625 -13.953125 \nQ 32.421875 -20.796875 19.578125 -20.796875 \nQ 14.84375 -20.796875 10.78125 -20.09375 \nQ 6.734375 -19.390625 3.21875 -17.921875 \nL 4.890625 -9.1875 \nQ 8.203125 -11.328125 11.90625 -12.34375 \nQ 15.625 -13.375 19.828125 -13.375 \nQ 28.375 -13.375 33.859375 -8.703125 \nQ 39.359375 -4.046875 41.109375 4.6875 \nL 41.890625 8.796875 \nQ 38.140625 4.5 33.15625 2.25 \nQ 28.171875 0 22.40625 0 \nQ 14.109375 0 9.34375 5.484375 \nQ 4.59375 10.984375 4.59375 20.609375 \nQ 4.59375 28.171875 7.46875 35.421875 \nQ 10.359375 42.671875 15.578125 48.296875 \nQ 19.046875 52 23.65625 54 \nQ 28.265625 56 33.296875 56 \nQ 38.8125 56 42.90625 53.4375 \nQ 47.015625 50.875 49.03125 46.1875 \nL 50.59375 54.6875 \nz\nM 46.09375 34.625 \nQ 46.09375 41.265625 42.96875 44.875 \nQ 39.84375 48.484375 34.078125 48.484375 \nQ 30.515625 48.484375 27.296875 47.0625 \nQ 24.078125 45.65625 21.78125 43.109375 \nQ 18.0625 38.921875 15.984375 33.234375 \nQ 13.921875 27.546875 13.921875 21.484375 \nQ 13.921875 14.75 17.0625 11.125 \nQ 20.21875 7.515625 26.125 7.515625 \nQ 34.671875 7.515625 40.375 15.25 \nQ 46.09375 23 46.09375 34.625 \nz\n\" id=\"DejaVuSans-Oblique-103\"/>\n      <path d=\"M 53.71875 31.203125 \nL 47.609375 0 \nL 38.625 0 \nL 40.28125 8.296875 \nQ 36.328125 3.421875 31.265625 1 \nQ 26.21875 -1.421875 20.015625 -1.421875 \nQ 13.03125 -1.421875 8.5625 2.84375 \nQ 4.109375 7.125 4.109375 13.8125 \nQ 4.109375 23.390625 11.75 28.953125 \nQ 19.390625 34.515625 32.8125 34.515625 \nL 45.3125 34.515625 \nL 45.796875 36.921875 \nQ 45.90625 37.3125 45.953125 37.765625 \nQ 46 38.234375 46 39.203125 \nQ 46 43.5625 42.453125 45.96875 \nQ 38.921875 48.390625 32.515625 48.390625 \nQ 28.125 48.390625 23.5 47.265625 \nQ 18.890625 46.140625 14.015625 43.890625 \nL 15.578125 52.203125 \nQ 20.65625 54.109375 25.515625 55.046875 \nQ 30.375 56 34.90625 56 \nQ 44.578125 56 49.625 51.796875 \nQ 54.6875 47.609375 54.6875 39.59375 \nQ 54.6875 37.984375 54.4375 35.8125 \nQ 54.203125 33.640625 53.71875 31.203125 \nz\nM 44 27.484375 \nL 35.015625 27.484375 \nQ 23.96875 27.484375 18.671875 24.53125 \nQ 13.375 21.578125 13.375 15.375 \nQ 13.375 11.078125 16.078125 8.640625 \nQ 18.796875 6.203125 23.578125 6.203125 \nQ 30.90625 6.203125 36.375 11.453125 \nQ 41.84375 16.703125 43.609375 25.484375 \nz\n\" id=\"DejaVuSans-Oblique-97\"/>\n      <path d=\"M 48.09375 32.234375 \nQ 48.25 33.015625 48.3125 33.84375 \nQ 48.390625 34.671875 48.390625 35.5 \nQ 48.390625 41.453125 44.890625 44.921875 \nQ 41.40625 48.390625 35.40625 48.390625 \nQ 28.71875 48.390625 23.578125 44.15625 \nQ 18.453125 39.9375 15.828125 32.171875 \nz\nM 55.90625 25.203125 \nL 14.109375 25.203125 \nQ 13.8125 23.34375 13.71875 22.265625 \nQ 13.625 21.1875 13.625 20.40625 \nQ 13.625 13.625 17.796875 9.90625 \nQ 21.96875 6.203125 29.59375 6.203125 \nQ 35.453125 6.203125 40.671875 7.515625 \nQ 45.90625 8.84375 50.390625 11.375 \nL 48.6875 2.484375 \nQ 43.84375 0.53125 38.6875 -0.4375 \nQ 33.546875 -1.421875 28.21875 -1.421875 \nQ 16.84375 -1.421875 10.71875 4.015625 \nQ 4.59375 9.46875 4.59375 19.484375 \nQ 4.59375 28.03125 7.640625 35.375 \nQ 10.6875 42.71875 16.609375 48.484375 \nQ 20.40625 52.09375 25.65625 54.046875 \nQ 30.90625 56 36.8125 56 \nQ 46.09375 56 51.578125 50.4375 \nQ 57.078125 44.875 57.078125 35.5 \nQ 57.078125 33.25 56.78125 30.6875 \nQ 56.5 28.125 55.90625 25.203125 \nz\n\" id=\"DejaVuSans-Oblique-101\"/>\n     </defs>\n     <g transform=\"translate(54.8034 154.944297)scale(0.075 -0.075)\">\n      <use transform=\"translate(0 0.78125)\" xlink:href=\"#DejaVuSans-Oblique-103\"/>\n      <use transform=\"translate(63.476562 0.78125)\" xlink:href=\"#DejaVuSans-Oblique-97\"/>\n      <use transform=\"translate(124.755859 0.78125)\" xlink:href=\"#DejaVuSans-Oblique-116\"/>\n      <use transform=\"translate(163.964844 0.78125)\" xlink:href=\"#DejaVuSans-Oblique-101\"/>\n     </g>\n    </g>\n   </g>\n   <g id=\"text_8\">\n    <g clip-path=\"url(#pdebae99148)\">\n     <!-- source -->\n     <defs>\n      <path d=\"M 44.28125 53.078125 \nL 44.28125 44.578125 \nQ 40.484375 46.53125 36.375 47.5 \nQ 32.28125 48.484375 27.875 48.484375 \nQ 21.1875 48.484375 17.84375 46.4375 \nQ 14.5 44.390625 14.5 40.28125 \nQ 14.5 37.15625 16.890625 35.375 \nQ 19.28125 33.59375 26.515625 31.984375 \nL 29.59375 31.296875 \nQ 39.15625 29.25 43.1875 25.515625 \nQ 47.21875 21.78125 47.21875 15.09375 \nQ 47.21875 7.46875 41.1875 3.015625 \nQ 35.15625 -1.421875 24.609375 -1.421875 \nQ 20.21875 -1.421875 15.453125 -0.5625 \nQ 10.6875 0.296875 5.421875 2 \nL 5.421875 11.28125 \nQ 10.40625 8.6875 15.234375 7.390625 \nQ 20.0625 6.109375 24.8125 6.109375 \nQ 31.15625 6.109375 34.5625 8.28125 \nQ 37.984375 10.453125 37.984375 14.40625 \nQ 37.984375 18.0625 35.515625 20.015625 \nQ 33.0625 21.96875 24.703125 23.78125 \nL 21.578125 24.515625 \nQ 13.234375 26.265625 9.515625 29.90625 \nQ 5.8125 33.546875 5.8125 39.890625 \nQ 5.8125 47.609375 11.28125 51.796875 \nQ 16.75 56 26.8125 56 \nQ 31.78125 56 36.171875 55.265625 \nQ 40.578125 54.546875 44.28125 53.078125 \nz\n\" id=\"DejaVuSans-115\"/>\n      <path d=\"M 30.609375 48.390625 \nQ 23.390625 48.390625 19.1875 42.75 \nQ 14.984375 37.109375 14.984375 27.296875 \nQ 14.984375 17.484375 19.15625 11.84375 \nQ 23.34375 6.203125 30.609375 6.203125 \nQ 37.796875 6.203125 41.984375 11.859375 \nQ 46.1875 17.53125 46.1875 27.296875 \nQ 46.1875 37.015625 41.984375 42.703125 \nQ 37.796875 48.390625 30.609375 48.390625 \nz\nM 30.609375 56 \nQ 42.328125 56 49.015625 48.375 \nQ 55.71875 40.765625 55.71875 27.296875 \nQ 55.71875 13.875 49.015625 6.21875 \nQ 42.328125 -1.421875 30.609375 -1.421875 \nQ 18.84375 -1.421875 12.171875 6.21875 \nQ 5.515625 13.875 5.515625 27.296875 \nQ 5.515625 40.765625 12.171875 48.375 \nQ 18.84375 56 30.609375 56 \nz\n\" id=\"DejaVuSans-111\"/>\n      <path d=\"M 8.5 21.578125 \nL 8.5 54.6875 \nL 17.484375 54.6875 \nL 17.484375 21.921875 \nQ 17.484375 14.15625 20.5 10.265625 \nQ 23.53125 6.390625 29.59375 6.390625 \nQ 36.859375 6.390625 41.078125 11.03125 \nQ 45.3125 15.671875 45.3125 23.6875 \nL 45.3125 54.6875 \nL 54.296875 54.6875 \nL 54.296875 0 \nL 45.3125 0 \nL 45.3125 8.40625 \nQ 42.046875 3.421875 37.71875 1 \nQ 33.40625 -1.421875 27.6875 -1.421875 \nQ 18.265625 -1.421875 13.375 4.4375 \nQ 8.5 10.296875 8.5 21.578125 \nz\nM 31.109375 56 \nz\n\" id=\"DejaVuSans-117\"/>\n      <path d=\"M 48.78125 52.59375 \nL 48.78125 44.1875 \nQ 44.96875 46.296875 41.140625 47.34375 \nQ 37.3125 48.390625 33.40625 48.390625 \nQ 24.65625 48.390625 19.8125 42.84375 \nQ 14.984375 37.3125 14.984375 27.296875 \nQ 14.984375 17.28125 19.8125 11.734375 \nQ 24.65625 6.203125 33.40625 6.203125 \nQ 37.3125 6.203125 41.140625 7.25 \nQ 44.96875 8.296875 48.78125 10.40625 \nL 48.78125 2.09375 \nQ 45.015625 0.34375 40.984375 -0.53125 \nQ 36.96875 -1.421875 32.421875 -1.421875 \nQ 20.0625 -1.421875 12.78125 6.34375 \nQ 5.515625 14.109375 5.515625 27.296875 \nQ 5.515625 40.671875 12.859375 48.328125 \nQ 20.21875 56 33.015625 56 \nQ 37.15625 56 41.109375 55.140625 \nQ 45.0625 54.296875 48.78125 52.59375 \nz\n\" id=\"DejaVuSans-99\"/>\n      <path d=\"M 56.203125 29.59375 \nL 56.203125 25.203125 \nL 14.890625 25.203125 \nQ 15.484375 15.921875 20.484375 11.0625 \nQ 25.484375 6.203125 34.421875 6.203125 \nQ 39.59375 6.203125 44.453125 7.46875 \nQ 49.3125 8.734375 54.109375 11.28125 \nL 54.109375 2.78125 \nQ 49.265625 0.734375 44.1875 -0.34375 \nQ 39.109375 -1.421875 33.890625 -1.421875 \nQ 20.796875 -1.421875 13.15625 6.1875 \nQ 5.515625 13.8125 5.515625 26.8125 \nQ 5.515625 40.234375 12.765625 48.109375 \nQ 20.015625 56 32.328125 56 \nQ 43.359375 56 49.78125 48.890625 \nQ 56.203125 41.796875 56.203125 29.59375 \nz\nM 47.21875 32.234375 \nQ 47.125 39.59375 43.09375 43.984375 \nQ 39.0625 48.390625 32.421875 48.390625 \nQ 24.90625 48.390625 20.390625 44.140625 \nQ 15.875 39.890625 15.1875 32.171875 \nz\n\" id=\"DejaVuSans-101\"/>\n     </defs>\n     <g transform=\"translate(98.072384 168.368203)scale(0.065 -0.065)\">\n      <use xlink:href=\"#DejaVuSans-115\"/>\n      <use x=\"52.099609\" xlink:href=\"#DejaVuSans-111\"/>\n      <use x=\"113.28125\" xlink:href=\"#DejaVuSans-117\"/>\n      <use x=\"176.660156\" xlink:href=\"#DejaVuSans-114\"/>\n      <use x=\"215.523438\" xlink:href=\"#DejaVuSans-99\"/>\n      <use x=\"270.503906\" xlink:href=\"#DejaVuSans-101\"/>\n     </g>\n    </g>\n   </g>\n   <g id=\"text_9\">\n    <g clip-path=\"url(#pdebae99148)\">\n     <!-- $Ground$ -->\n     <defs>\n      <path d=\"M 54.59375 10.890625 \nL 58.40625 29.984375 \nL 42.1875 29.984375 \nL 43.703125 38.09375 \nL 69.578125 38.09375 \nL 63.28125 6 \nQ 56.78125 2.4375 49.109375 0.5 \nQ 41.453125 -1.421875 33.6875 -1.421875 \nQ 19.96875 -1.421875 12.234375 6.1875 \nQ 4.5 13.8125 4.5 27.390625 \nQ 4.5 38.671875 9.203125 48.84375 \nQ 13.921875 59.03125 22.21875 65.828125 \nQ 27.4375 70.0625 33.640625 72.140625 \nQ 39.84375 74.21875 47.40625 74.21875 \nQ 54.25 74.21875 60.515625 72.484375 \nQ 66.796875 70.75 72.515625 67.28125 \nL 70.515625 56.78125 \nQ 66.109375 61.375 60.203125 63.796875 \nQ 54.296875 66.21875 47.609375 66.21875 \nQ 39.84375 66.21875 33.9375 63.25 \nQ 28.03125 60.296875 23.390625 54.109375 \nQ 19.4375 48.828125 17.15625 41.671875 \nQ 14.890625 34.515625 14.890625 27.09375 \nQ 14.890625 16.890625 20.109375 11.734375 \nQ 25.34375 6.59375 35.6875 6.59375 \nQ 40.875 6.59375 45.703125 7.6875 \nQ 50.53125 8.796875 54.59375 10.890625 \nz\n\" id=\"DejaVuSans-Oblique-71\"/>\n      <path d=\"M 44.578125 46.390625 \nQ 43.21875 47.125 41.453125 47.515625 \nQ 39.703125 47.90625 37.703125 47.90625 \nQ 30.515625 47.90625 25.140625 42.453125 \nQ 19.78125 37.015625 18.015625 27.875 \nL 12.5 0 \nL 3.515625 0 \nL 14.203125 54.6875 \nL 23.1875 54.6875 \nL 21.484375 46.1875 \nQ 25.046875 50.921875 30 53.453125 \nQ 34.96875 56 40.578125 56 \nQ 42.046875 56 43.453125 55.828125 \nQ 44.875 55.671875 46.296875 55.28125 \nz\n\" id=\"DejaVuSans-Oblique-114\"/>\n     </defs>\n     <g transform=\"translate(107.3334 197.433406)scale(0.095 -0.095)\">\n      <use transform=\"translate(0 0.015625)\" xlink:href=\"#DejaVuSans-Oblique-71\"/>\n      <use transform=\"translate(77.490234 0.015625)\" xlink:href=\"#DejaVuSans-Oblique-114\"/>\n      <use transform=\"translate(118.603516 0.015625)\" xlink:href=\"#DejaVuSans-Oblique-111\"/>\n      <use transform=\"translate(179.785156 0.015625)\" xlink:href=\"#DejaVuSans-Oblique-117\"/>\n      <use transform=\"translate(243.164062 0.015625)\" xlink:href=\"#DejaVuSans-Oblique-110\"/>\n      <use transform=\"translate(306.542969 0.015625)\" xlink:href=\"#DejaVuSans-Oblique-100\"/>\n     </g>\n    </g>\n   </g>\n   <g id=\"patch_2\">\n    <path clip-path=\"url(#pdebae99148)\" d=\"M 96.6234 110.815 \nC 97.232041 110.815 97.815836 110.573184 98.24621 110.14281 \nC 98.676584 109.712436 98.9184 109.128641 98.9184 108.52 \nC 98.9184 107.911359 98.676584 107.327564 98.24621 106.89719 \nC 97.815836 106.466816 97.232041 106.225 96.6234 106.225 \nC 96.014759 106.225 95.430964 106.466816 95.00059 106.89719 \nC 94.570216 107.327564 94.3284 107.911359 94.3284 108.52 \nC 94.3284 109.128641 94.570216 109.712436 95.00059 110.14281 \nC 95.430964 110.573184 96.014759 110.815 96.6234 110.815 \nz\n\" style=\"stroke:#000000;stroke-linejoin:miter;stroke-width:2;\"/>\n   </g>\n  </g>\n </g>\n <defs>\n  <clipPath id=\"pdebae99148\">\n   <rect height=\"200.532\" width=\"150.858\" x=\"7.2\" y=\"7.2\"/>\n  </clipPath>\n </defs>\n</svg>\n",
            "image/png": "[encoded data removed]"
          },
          "metadata": {},
          "execution_count": 18
        }
      ],
      "source": [
        "# NOT回路モデル\n",
        "\n",
        "d = Drawing(unit=.5)\n",
        "\n",
        "d += elm.Vdd().label('$V_{dd}$')\n",
        "d += elm.Line().down()\n",
        "d += elm.Resistor().down().label('R') \n",
        "d += elm.Line().down()\n",
        "d += (dot01 := elm.Dot())\n",
        "d += elm.Line().right().label('$V_{out}$', 'right')\n",
        "d += (net01 := elm.Line().at(dot01.end).down().label('drain', 'left', fontsize=9, ofst=(0.1,0.4)))\n",
        "d += (NMOS := elm.NFet().reverse().at(net01.end).label('FET', 'right', fontsize=11, ofst=(0.1,0)).anchor('drain').theta(0))\n",
        "d += elm.Line().left().at(NMOS.gate).label('$V_{in}$', 'left').label('$gate$', 'right', fontsize=9, ofst=(0,0.2)) \n",
        "d += elm.Line().down().at(NMOS.source).label('source', 'right', fontsize=8, ofst=(0,0.4))\n",
        "d += elm.Ground().label('$Ground$', 'right', fontsize=11)\n",
        "\n",
        "d.draw()"
      ]
    },
    {
      "cell_type": "markdown",
      "source": [
        "実際の回路ではMOSFET (Metal–Oxide–Semiconductor Field-Effect Transistorの略)が使われている\n",
        "\n",
        "MOSFETはP型とN型があり，ここではPMOS，NMOSと略して使う"
      ],
      "metadata": {
        "id": "iQdFMowB2u32"
      }
    },
    {
      "cell_type": "code",
      "execution_count": null,
      "metadata": {
        "tags": [
          "hide-input"
        ],
        "colab": {
          "base_uri": "https://localhost:8080/",
          "height": 328
        },
        "outputId": "ca9c86e5-3b44-4979-d7cf-1d838fc0748a",
        "id": "jgpvlUcyGNVp"
      },
      "outputs": [
        {
          "output_type": "execute_result",
          "data": {
            "text/plain": [
              "<schemdraw.backends.mpl.Figure object at 0x7f180aa8bbe0>"
            ],
            "image/svg+xml": "<?xml version=\"1.0\" encoding=\"utf-8\" standalone=\"no\"?>\n<!DOCTYPE svg PUBLIC \"-//W3C//DTD SVG 1.1//EN\"\n  \"http://www.w3.org/Graphics/SVG/1.1/DTD/svg11.dtd\">\n<!-- Created with matplotlib (https://matplotlib.org/) -->\n<svg height=\"230.164pt\" version=\"1.1\" viewBox=\"0 0 180.558 230.164\" width=\"180.558pt\" xmlns=\"http://www.w3.org/2000/svg\" xmlns:xlink=\"http://www.w3.org/1999/xlink\">\n <defs>\n  <style type=\"text/css\">\n*{stroke-linecap:butt;stroke-linejoin:round;}\n  </style>\n </defs>\n <g id=\"figure_1\">\n  <g id=\"patch_1\">\n   <path d=\"M 0 230.164 \nL 180.558 230.164 \nL 180.558 0 \nL 0 0 \nz\n\" style=\"fill:#ffffff;\"/>\n  </g>\n  <g id=\"axes_1\">\n   <g id=\"patch_2\">\n    <path clip-path=\"url(#p29d2c4c97a)\" d=\"M 82.8534 89.14 \nC 83.800175 89.14 84.7083 88.763842 85.377771 88.094371 \nC 86.047242 87.4249 86.4234 86.516775 86.4234 85.57 \nC 86.4234 84.623225 86.047242 83.7151 85.377771 83.045629 \nC 84.7083 82.376158 83.800175 82 82.8534 82 \nC 81.906625 82 80.9985 82.376158 80.329029 83.045629 \nC 79.659558 83.7151 79.2834 84.623225 79.2834 85.57 \nC 79.2834 86.516775 79.659558 87.4249 80.329029 88.094371 \nC 80.9985 88.763842 81.906625 89.14 82.8534 89.14 \nz\n\" style=\"fill:none;stroke:#000000;stroke-linejoin:miter;stroke-width:2;\"/>\n   </g>\n   <g id=\"line2d_1\">\n    <path clip-path=\"url(#p29d2c4c97a)\" d=\"M 111.9234 108.52 \nL 111.9234 95.77 \nL 91.5234 95.77 \nL 91.5234 75.37 \nL 111.9234 75.37 \nL 111.9234 62.62 \n\" style=\"fill:none;stroke:#000000;stroke-linecap:round;stroke-width:2;\"/>\n   </g>\n   <g id=\"line2d_2\">\n    <path clip-path=\"url(#p29d2c4c97a)\" d=\"M 86.4234 95.77 \nL 86.4234 75.37 \n\" style=\"fill:none;stroke:#000000;stroke-linecap:round;stroke-width:2;\"/>\n   </g>\n   <g id=\"line2d_3\">\n    <path clip-path=\"url(#p29d2c4c97a)\" d=\"M 70.1034 85.57 \nL 79.2834 85.57 \n\" style=\"fill:none;stroke:#000000;stroke-linecap:round;stroke-width:2;\"/>\n   </g>\n   <g id=\"line2d_4\">\n    <path clip-path=\"url(#p29d2c4c97a)\" d=\"M 111.9234 62.62 \nL 111.9234 54.97 \nL 111.9234 47.32 \n\" style=\"fill:none;stroke:#000000;stroke-linecap:round;stroke-width:2;\"/>\n   </g>\n   <g id=\"line2d_5\">\n    <path clip-path=\"url(#p29d2c4c97a)\" d=\"M 111.9234 47.32 \nL 111.9234 35.08 \n\" style=\"fill:none;stroke:#000000;stroke-linecap:round;stroke-width:2;\"/>\n   </g>\n   <g id=\"line2d_6\">\n    <path clip-path=\"url(#p29d2c4c97a)\" d=\"M 111.9234 35.08 \nL 106.1859 35.08 \n\" style=\"fill:none;stroke:#000000;stroke-linecap:round;stroke-width:2;\"/>\n   </g>\n   <g id=\"line2d_7\">\n    <path clip-path=\"url(#p29d2c4c97a)\" d=\"M 111.9234 35.08 \nL 117.6609 35.08 \n\" style=\"fill:none;stroke:#000000;stroke-linecap:round;stroke-width:2;\"/>\n   </g>\n   <g id=\"line2d_8\">\n    <path clip-path=\"url(#p29d2c4c97a)\" d=\"M 70.1034 85.57 \nL 62.4534 85.57 \nL 54.8034 85.57 \n\" style=\"fill:none;stroke:#000000;stroke-linecap:round;stroke-width:2;\"/>\n   </g>\n   <g id=\"line2d_9\">\n    <path clip-path=\"url(#p29d2c4c97a)\" d=\"M 111.9234 108.52 \nL 111.9234 116.17 \nL 111.9234 123.82 \n\" style=\"fill:none;stroke:#000000;stroke-linecap:round;stroke-width:2;\"/>\n   </g>\n   <g id=\"line2d_10\">\n    <path clip-path=\"url(#p29d2c4c97a)\" d=\"M 111.9234 123.82 \nL 119.5734 123.82 \nL 127.2234 123.82 \n\" style=\"fill:none;stroke:#000000;stroke-linecap:round;stroke-width:2;\"/>\n   </g>\n   <g id=\"line2d_11\">\n    <path clip-path=\"url(#p29d2c4c97a)\" d=\"M 111.9234 123.82 \nL 111.9234 131.47 \nL 111.9234 139.12 \n\" style=\"fill:none;stroke:#000000;stroke-linecap:round;stroke-width:2;\"/>\n   </g>\n   <g id=\"line2d_12\">\n    <path clip-path=\"url(#p29d2c4c97a)\" d=\"M 111.9234 185.02 \nL 111.9234 172.27 \nL 91.5234 172.27 \nL 91.5234 151.87 \nL 111.9234 151.87 \nL 111.9234 139.12 \n\" style=\"fill:none;stroke:#000000;stroke-linecap:round;stroke-width:2;\"/>\n   </g>\n   <g id=\"line2d_13\">\n    <path clip-path=\"url(#p29d2c4c97a)\" d=\"M 86.4234 172.27 \nL 86.4234 151.87 \n\" style=\"fill:none;stroke:#000000;stroke-linecap:round;stroke-width:2;\"/>\n   </g>\n   <g id=\"line2d_14\">\n    <path clip-path=\"url(#p29d2c4c97a)\" d=\"M 70.1034 162.07 \nL 86.4234 162.07 \n\" style=\"fill:none;stroke:#000000;stroke-linecap:round;stroke-width:2;\"/>\n   </g>\n   <g id=\"line2d_15\">\n    <path clip-path=\"url(#p29d2c4c97a)\" d=\"M 70.1034 162.07 \nL 62.4534 162.07 \nL 54.8034 162.07 \n\" style=\"fill:none;stroke:#000000;stroke-linecap:round;stroke-width:2;\"/>\n   </g>\n   <g id=\"line2d_16\">\n    <path clip-path=\"url(#p29d2c4c97a)\" d=\"M 111.9234 185.02 \nL 111.9234 192.67 \nL 111.9234 200.32 \n\" style=\"fill:none;stroke:#000000;stroke-linecap:round;stroke-width:2;\"/>\n   </g>\n   <g id=\"line2d_17\">\n    <path clip-path=\"url(#p29d2c4c97a)\" d=\"M 111.9234 200.32 \nL 111.9234 212.56 \nL 104.2734 212.56 \nL 119.5734 212.56 \nM 106.5684 216.232 \nL 117.2784 216.232 \nM 110.3934 219.904 \nL 113.4534 219.904 \n\" style=\"fill:none;stroke:#000000;stroke-linecap:round;stroke-width:2;\"/>\n   </g>\n   <g id=\"line2d_18\">\n    <path clip-path=\"url(#p29d2c4c97a)\" d=\"M 54.8034 85.57 \nL 54.8034 103.93 \nL 54.8034 122.29 \n\" style=\"fill:none;stroke:#000000;stroke-linecap:round;stroke-width:2;\"/>\n   </g>\n   <g id=\"line2d_19\">\n    <path clip-path=\"url(#p29d2c4c97a)\" d=\"M 54.8034 122.29 \nL 47.1534 122.29 \nL 39.5034 122.29 \n\" style=\"fill:none;stroke:#000000;stroke-linecap:round;stroke-width:2;\"/>\n   </g>\n   <g id=\"line2d_20\">\n    <path clip-path=\"url(#p29d2c4c97a)\" d=\"M 54.8034 122.29 \nL 54.8034 142.18 \nL 54.8034 162.07 \n\" style=\"fill:none;stroke:#000000;stroke-linecap:round;stroke-width:2;\"/>\n   </g>\n   <g id=\"text_1\">\n    <g clip-path=\"url(#p29d2c4c97a)\">\n     <!-- PMOS -->\n     <defs>\n      <path d=\"M 19.671875 64.796875 \nL 19.671875 37.40625 \nL 32.078125 37.40625 \nQ 38.96875 37.40625 42.71875 40.96875 \nQ 46.484375 44.53125 46.484375 51.125 \nQ 46.484375 57.671875 42.71875 61.234375 \nQ 38.96875 64.796875 32.078125 64.796875 \nz\nM 9.8125 72.90625 \nL 32.078125 72.90625 \nQ 44.34375 72.90625 50.609375 67.359375 \nQ 56.890625 61.8125 56.890625 51.125 \nQ 56.890625 40.328125 50.609375 34.8125 \nQ 44.34375 29.296875 32.078125 29.296875 \nL 19.671875 29.296875 \nL 19.671875 0 \nL 9.8125 0 \nz\n\" id=\"DejaVuSans-80\"/>\n      <path d=\"M 9.8125 72.90625 \nL 24.515625 72.90625 \nL 43.109375 23.296875 \nL 61.8125 72.90625 \nL 76.515625 72.90625 \nL 76.515625 0 \nL 66.890625 0 \nL 66.890625 64.015625 \nL 48.09375 14.015625 \nL 38.1875 14.015625 \nL 19.390625 64.015625 \nL 19.390625 0 \nL 9.8125 0 \nz\n\" id=\"DejaVuSans-77\"/>\n      <path d=\"M 39.40625 66.21875 \nQ 28.65625 66.21875 22.328125 58.203125 \nQ 16.015625 50.203125 16.015625 36.375 \nQ 16.015625 22.609375 22.328125 14.59375 \nQ 28.65625 6.59375 39.40625 6.59375 \nQ 50.140625 6.59375 56.421875 14.59375 \nQ 62.703125 22.609375 62.703125 36.375 \nQ 62.703125 50.203125 56.421875 58.203125 \nQ 50.140625 66.21875 39.40625 66.21875 \nz\nM 39.40625 74.21875 \nQ 54.734375 74.21875 63.90625 63.9375 \nQ 73.09375 53.65625 73.09375 36.375 \nQ 73.09375 19.140625 63.90625 8.859375 \nQ 54.734375 -1.421875 39.40625 -1.421875 \nQ 24.03125 -1.421875 14.8125 8.828125 \nQ 5.609375 19.09375 5.609375 36.375 \nQ 5.609375 53.65625 14.8125 63.9375 \nQ 24.03125 74.21875 39.40625 74.21875 \nz\n\" id=\"DejaVuSans-79\"/>\n      <path d=\"M 53.515625 70.515625 \nL 53.515625 60.890625 \nQ 47.90625 63.578125 42.921875 64.890625 \nQ 37.9375 66.21875 33.296875 66.21875 \nQ 25.25 66.21875 20.875 63.09375 \nQ 16.5 59.96875 16.5 54.203125 \nQ 16.5 49.359375 19.40625 46.890625 \nQ 22.3125 44.4375 30.421875 42.921875 \nL 36.375 41.703125 \nQ 47.40625 39.59375 52.65625 34.296875 \nQ 57.90625 29 57.90625 20.125 \nQ 57.90625 9.515625 50.796875 4.046875 \nQ 43.703125 -1.421875 29.984375 -1.421875 \nQ 24.8125 -1.421875 18.96875 -0.25 \nQ 13.140625 0.921875 6.890625 3.21875 \nL 6.890625 13.375 \nQ 12.890625 10.015625 18.65625 8.296875 \nQ 24.421875 6.59375 29.984375 6.59375 \nQ 38.421875 6.59375 43.015625 9.90625 \nQ 47.609375 13.234375 47.609375 19.390625 \nQ 47.609375 24.75 44.3125 27.78125 \nQ 41.015625 30.8125 33.5 32.328125 \nL 27.484375 33.5 \nQ 16.453125 35.6875 11.515625 40.375 \nQ 6.59375 45.0625 6.59375 53.421875 \nQ 6.59375 63.09375 13.40625 68.65625 \nQ 20.21875 74.21875 32.171875 74.21875 \nQ 37.3125 74.21875 42.625 73.28125 \nQ 47.953125 72.359375 53.515625 70.515625 \nz\n\" id=\"DejaVuSans-83\"/>\n     </defs>\n     <g transform=\"translate(114.9834 87.639531)scale(0.075 -0.075)\">\n      <use xlink:href=\"#DejaVuSans-80\"/>\n      <use x=\"60.302734\" xlink:href=\"#DejaVuSans-77\"/>\n      <use x=\"146.582031\" xlink:href=\"#DejaVuSans-79\"/>\n      <use x=\"225.292969\" xlink:href=\"#DejaVuSans-83\"/>\n     </g>\n    </g>\n   </g>\n   <g id=\"text_2\">\n    <g clip-path=\"url(#p29d2c4c97a)\">\n     <!-- source -->\n     <defs>\n      <path d=\"M 44.28125 53.078125 \nL 44.28125 44.578125 \nQ 40.484375 46.53125 36.375 47.5 \nQ 32.28125 48.484375 27.875 48.484375 \nQ 21.1875 48.484375 17.84375 46.4375 \nQ 14.5 44.390625 14.5 40.28125 \nQ 14.5 37.15625 16.890625 35.375 \nQ 19.28125 33.59375 26.515625 31.984375 \nL 29.59375 31.296875 \nQ 39.15625 29.25 43.1875 25.515625 \nQ 47.21875 21.78125 47.21875 15.09375 \nQ 47.21875 7.46875 41.1875 3.015625 \nQ 35.15625 -1.421875 24.609375 -1.421875 \nQ 20.21875 -1.421875 15.453125 -0.5625 \nQ 10.6875 0.296875 5.421875 2 \nL 5.421875 11.28125 \nQ 10.40625 8.6875 15.234375 7.390625 \nQ 20.0625 6.109375 24.8125 6.109375 \nQ 31.15625 6.109375 34.5625 8.28125 \nQ 37.984375 10.453125 37.984375 14.40625 \nQ 37.984375 18.0625 35.515625 20.015625 \nQ 33.0625 21.96875 24.703125 23.78125 \nL 21.578125 24.515625 \nQ 13.234375 26.265625 9.515625 29.90625 \nQ 5.8125 33.546875 5.8125 39.890625 \nQ 5.8125 47.609375 11.28125 51.796875 \nQ 16.75 56 26.8125 56 \nQ 31.78125 56 36.171875 55.265625 \nQ 40.578125 54.546875 44.28125 53.078125 \nz\n\" id=\"DejaVuSans-115\"/>\n      <path d=\"M 30.609375 48.390625 \nQ 23.390625 48.390625 19.1875 42.75 \nQ 14.984375 37.109375 14.984375 27.296875 \nQ 14.984375 17.484375 19.15625 11.84375 \nQ 23.34375 6.203125 30.609375 6.203125 \nQ 37.796875 6.203125 41.984375 11.859375 \nQ 46.1875 17.53125 46.1875 27.296875 \nQ 46.1875 37.015625 41.984375 42.703125 \nQ 37.796875 48.390625 30.609375 48.390625 \nz\nM 30.609375 56 \nQ 42.328125 56 49.015625 48.375 \nQ 55.71875 40.765625 55.71875 27.296875 \nQ 55.71875 13.875 49.015625 6.21875 \nQ 42.328125 -1.421875 30.609375 -1.421875 \nQ 18.84375 -1.421875 12.171875 6.21875 \nQ 5.515625 13.875 5.515625 27.296875 \nQ 5.515625 40.765625 12.171875 48.375 \nQ 18.84375 56 30.609375 56 \nz\n\" id=\"DejaVuSans-111\"/>\n      <path d=\"M 8.5 21.578125 \nL 8.5 54.6875 \nL 17.484375 54.6875 \nL 17.484375 21.921875 \nQ 17.484375 14.15625 20.5 10.265625 \nQ 23.53125 6.390625 29.59375 6.390625 \nQ 36.859375 6.390625 41.078125 11.03125 \nQ 45.3125 15.671875 45.3125 23.6875 \nL 45.3125 54.6875 \nL 54.296875 54.6875 \nL 54.296875 0 \nL 45.3125 0 \nL 45.3125 8.40625 \nQ 42.046875 3.421875 37.71875 1 \nQ 33.40625 -1.421875 27.6875 -1.421875 \nQ 18.265625 -1.421875 13.375 4.4375 \nQ 8.5 10.296875 8.5 21.578125 \nz\nM 31.109375 56 \nz\n\" id=\"DejaVuSans-117\"/>\n      <path d=\"M 41.109375 46.296875 \nQ 39.59375 47.171875 37.8125 47.578125 \nQ 36.03125 48 33.890625 48 \nQ 26.265625 48 22.1875 43.046875 \nQ 18.109375 38.09375 18.109375 28.8125 \nL 18.109375 0 \nL 9.078125 0 \nL 9.078125 54.6875 \nL 18.109375 54.6875 \nL 18.109375 46.1875 \nQ 20.953125 51.171875 25.484375 53.578125 \nQ 30.03125 56 36.53125 56 \nQ 37.453125 56 38.578125 55.875 \nQ 39.703125 55.765625 41.0625 55.515625 \nz\n\" id=\"DejaVuSans-114\"/>\n      <path d=\"M 48.78125 52.59375 \nL 48.78125 44.1875 \nQ 44.96875 46.296875 41.140625 47.34375 \nQ 37.3125 48.390625 33.40625 48.390625 \nQ 24.65625 48.390625 19.8125 42.84375 \nQ 14.984375 37.3125 14.984375 27.296875 \nQ 14.984375 17.28125 19.8125 11.734375 \nQ 24.65625 6.203125 33.40625 6.203125 \nQ 37.3125 6.203125 41.140625 7.25 \nQ 44.96875 8.296875 48.78125 10.40625 \nL 48.78125 2.09375 \nQ 45.015625 0.34375 40.984375 -0.53125 \nQ 36.96875 -1.421875 32.421875 -1.421875 \nQ 20.0625 -1.421875 12.78125 6.34375 \nQ 5.515625 14.109375 5.515625 27.296875 \nQ 5.515625 40.671875 12.859375 48.328125 \nQ 20.21875 56 33.015625 56 \nQ 37.15625 56 41.109375 55.140625 \nQ 45.0625 54.296875 48.78125 52.59375 \nz\n\" id=\"DejaVuSans-99\"/>\n      <path d=\"M 56.203125 29.59375 \nL 56.203125 25.203125 \nL 14.890625 25.203125 \nQ 15.484375 15.921875 20.484375 11.0625 \nQ 25.484375 6.203125 34.421875 6.203125 \nQ 39.59375 6.203125 44.453125 7.46875 \nQ 49.3125 8.734375 54.109375 11.28125 \nL 54.109375 2.78125 \nQ 49.265625 0.734375 44.1875 -0.34375 \nQ 39.109375 -1.421875 33.890625 -1.421875 \nQ 20.796875 -1.421875 13.15625 6.1875 \nQ 5.515625 13.8125 5.515625 26.8125 \nQ 5.515625 40.234375 12.765625 48.109375 \nQ 20.015625 56 32.328125 56 \nQ 43.359375 56 49.78125 48.890625 \nQ 56.203125 41.796875 56.203125 29.59375 \nz\nM 47.21875 32.234375 \nQ 47.125 39.59375 43.09375 43.984375 \nQ 39.0625 48.390625 32.421875 48.390625 \nQ 24.90625 48.390625 20.390625 44.140625 \nQ 15.875 39.890625 15.1875 32.171875 \nz\n\" id=\"DejaVuSans-101\"/>\n     </defs>\n     <g transform=\"translate(101.132384 70.618984)scale(0.065 -0.065)\">\n      <use xlink:href=\"#DejaVuSans-115\"/>\n      <use x=\"52.099609\" xlink:href=\"#DejaVuSans-111\"/>\n      <use x=\"113.28125\" xlink:href=\"#DejaVuSans-117\"/>\n      <use x=\"176.660156\" xlink:href=\"#DejaVuSans-114\"/>\n      <use x=\"215.523438\" xlink:href=\"#DejaVuSans-99\"/>\n      <use x=\"270.503906\" xlink:href=\"#DejaVuSans-101\"/>\n     </g>\n    </g>\n   </g>\n   <g id=\"text_3\">\n    <g clip-path=\"url(#p29d2c4c97a)\">\n     <!-- $V_{dd}$ -->\n     <defs>\n      <path d=\"M 20.609375 0 \nL 7.8125 72.90625 \nL 17.484375 72.90625 \nL 28.078125 10.203125 \nL 63.484375 72.90625 \nL 74.21875 72.90625 \nL 32.078125 0 \nz\n\" id=\"DejaVuSans-Oblique-86\"/>\n      <path d=\"M 41.796875 8.203125 \nQ 38.1875 3.46875 33.25 1.015625 \nQ 28.328125 -1.421875 22.3125 -1.421875 \nQ 14.109375 -1.421875 9.34375 4.171875 \nQ 4.59375 9.765625 4.59375 19.484375 \nQ 4.59375 27.59375 7.46875 34.9375 \nQ 10.359375 42.28125 15.828125 48.09375 \nQ 19.4375 51.953125 23.96875 53.96875 \nQ 28.515625 56 33.5 56 \nQ 38.765625 56 42.796875 53.453125 \nQ 46.828125 50.921875 49.03125 46.1875 \nL 54.890625 75.984375 \nL 63.921875 75.984375 \nL 49.125 0 \nL 40.09375 0 \nz\nM 13.921875 21.09375 \nQ 13.921875 14.015625 17.109375 10.0625 \nQ 20.3125 6.109375 25.984375 6.109375 \nQ 30.171875 6.109375 33.765625 8.125 \nQ 37.359375 10.15625 40.09375 14.109375 \nQ 42.96875 18.21875 44.625 23.578125 \nQ 46.296875 28.953125 46.296875 34.1875 \nQ 46.296875 40.96875 43.09375 44.765625 \nQ 39.890625 48.578125 34.28125 48.578125 \nQ 30.03125 48.578125 26.359375 46.578125 \nQ 22.703125 44.578125 20.125 40.828125 \nQ 17.28125 36.765625 15.59375 31.390625 \nQ 13.921875 26.03125 13.921875 21.09375 \nz\n\" id=\"DejaVuSans-Oblique-100\"/>\n     </defs>\n     <g transform=\"translate(101.8609 29.420391)scale(0.125 -0.125)\">\n      <use transform=\"translate(0 0.09375)\" xlink:href=\"#DejaVuSans-Oblique-86\"/>\n      <use transform=\"translate(68.408203 -16.3125)scale(0.7)\" xlink:href=\"#DejaVuSans-Oblique-100\"/>\n      <use transform=\"translate(112.841797 -16.3125)scale(0.7)\" xlink:href=\"#DejaVuSans-Oblique-100\"/>\n     </g>\n    </g>\n   </g>\n   <g id=\"text_4\">\n    <g clip-path=\"url(#p29d2c4c97a)\">\n     <!-- drain -->\n     <defs>\n      <path d=\"M 45.40625 46.390625 \nL 45.40625 75.984375 \nL 54.390625 75.984375 \nL 54.390625 0 \nL 45.40625 0 \nL 45.40625 8.203125 \nQ 42.578125 3.328125 38.25 0.953125 \nQ 33.9375 -1.421875 27.875 -1.421875 \nQ 17.96875 -1.421875 11.734375 6.484375 \nQ 5.515625 14.40625 5.515625 27.296875 \nQ 5.515625 40.1875 11.734375 48.09375 \nQ 17.96875 56 27.875 56 \nQ 33.9375 56 38.25 53.625 \nQ 42.578125 51.265625 45.40625 46.390625 \nz\nM 14.796875 27.296875 \nQ 14.796875 17.390625 18.875 11.75 \nQ 22.953125 6.109375 30.078125 6.109375 \nQ 37.203125 6.109375 41.296875 11.75 \nQ 45.40625 17.390625 45.40625 27.296875 \nQ 45.40625 37.203125 41.296875 42.84375 \nQ 37.203125 48.484375 30.078125 48.484375 \nQ 22.953125 48.484375 18.875 42.84375 \nQ 14.796875 37.203125 14.796875 27.296875 \nz\n\" id=\"DejaVuSans-100\"/>\n      <path d=\"M 34.28125 27.484375 \nQ 23.390625 27.484375 19.1875 25 \nQ 14.984375 22.515625 14.984375 16.5 \nQ 14.984375 11.71875 18.140625 8.90625 \nQ 21.296875 6.109375 26.703125 6.109375 \nQ 34.1875 6.109375 38.703125 11.40625 \nQ 43.21875 16.703125 43.21875 25.484375 \nL 43.21875 27.484375 \nz\nM 52.203125 31.203125 \nL 52.203125 0 \nL 43.21875 0 \nL 43.21875 8.296875 \nQ 40.140625 3.328125 35.546875 0.953125 \nQ 30.953125 -1.421875 24.3125 -1.421875 \nQ 15.921875 -1.421875 10.953125 3.296875 \nQ 6 8.015625 6 15.921875 \nQ 6 25.140625 12.171875 29.828125 \nQ 18.359375 34.515625 30.609375 34.515625 \nL 43.21875 34.515625 \nL 43.21875 35.40625 \nQ 43.21875 41.609375 39.140625 45 \nQ 35.0625 48.390625 27.6875 48.390625 \nQ 23 48.390625 18.546875 47.265625 \nQ 14.109375 46.140625 10.015625 43.890625 \nL 10.015625 52.203125 \nQ 14.9375 54.109375 19.578125 55.046875 \nQ 24.21875 56 28.609375 56 \nQ 40.484375 56 46.34375 49.84375 \nQ 52.203125 43.703125 52.203125 31.203125 \nz\n\" id=\"DejaVuSans-97\"/>\n      <path d=\"M 9.421875 54.6875 \nL 18.40625 54.6875 \nL 18.40625 0 \nL 9.421875 0 \nz\nM 9.421875 75.984375 \nL 18.40625 75.984375 \nL 18.40625 64.59375 \nL 9.421875 64.59375 \nz\n\" id=\"DejaVuSans-105\"/>\n      <path d=\"M 54.890625 33.015625 \nL 54.890625 0 \nL 45.90625 0 \nL 45.90625 32.71875 \nQ 45.90625 40.484375 42.875 44.328125 \nQ 39.84375 48.1875 33.796875 48.1875 \nQ 26.515625 48.1875 22.3125 43.546875 \nQ 18.109375 38.921875 18.109375 30.90625 \nL 18.109375 0 \nL 9.078125 0 \nL 9.078125 54.6875 \nL 18.109375 54.6875 \nL 18.109375 46.1875 \nQ 21.34375 51.125 25.703125 53.5625 \nQ 30.078125 56 35.796875 56 \nQ 45.21875 56 50.046875 50.171875 \nQ 54.890625 44.34375 54.890625 33.015625 \nz\n\" id=\"DejaVuSans-110\"/>\n     </defs>\n     <g transform=\"translate(103.569884 104.108203)scale(0.065 -0.065)\">\n      <use xlink:href=\"#DejaVuSans-100\"/>\n      <use x=\"63.476562\" xlink:href=\"#DejaVuSans-114\"/>\n      <use x=\"104.589844\" xlink:href=\"#DejaVuSans-97\"/>\n      <use x=\"165.869141\" xlink:href=\"#DejaVuSans-105\"/>\n      <use x=\"193.652344\" xlink:href=\"#DejaVuSans-110\"/>\n     </g>\n    </g>\n   </g>\n   <g id=\"text_5\">\n    <g clip-path=\"url(#p29d2c4c97a)\">\n     <!-- $V_{out}$ -->\n     <defs>\n      <path d=\"M 25.390625 -1.421875 \nQ 15.765625 -1.421875 10.171875 4.515625 \nQ 4.59375 10.453125 4.59375 20.703125 \nQ 4.59375 26.65625 6.515625 32.828125 \nQ 8.453125 39.015625 11.53125 43.21875 \nQ 16.359375 49.75 22.3125 52.875 \nQ 28.265625 56 35.796875 56 \nQ 45.125 56 50.859375 50.1875 \nQ 56.59375 44.390625 56.59375 35.015625 \nQ 56.59375 28.515625 54.6875 22.0625 \nQ 52.78125 15.625 49.703125 11.375 \nQ 44.921875 4.828125 38.96875 1.703125 \nQ 33.015625 -1.421875 25.390625 -1.421875 \nz\nM 13.921875 21 \nQ 13.921875 13.578125 17.015625 9.890625 \nQ 20.125 6.203125 26.421875 6.203125 \nQ 35.453125 6.203125 41.375 14.078125 \nQ 47.3125 21.96875 47.3125 34.078125 \nQ 47.3125 41.15625 44.140625 44.765625 \nQ 40.96875 48.390625 34.8125 48.390625 \nQ 29.734375 48.390625 25.78125 46.015625 \nQ 21.828125 43.65625 18.703125 38.8125 \nQ 16.40625 35.203125 15.15625 30.5625 \nQ 13.921875 25.921875 13.921875 21 \nz\n\" id=\"DejaVuSans-Oblique-111\"/>\n      <path d=\"M 6.6875 21.6875 \nL 13.09375 54.6875 \nL 22.125 54.6875 \nL 15.71875 22.015625 \nQ 15.234375 19.625 15.015625 17.921875 \nQ 14.796875 16.21875 14.796875 15.09375 \nQ 14.796875 10.9375 17.328125 8.65625 \nQ 19.875 6.390625 24.515625 6.390625 \nQ 31.734375 6.390625 37 11.265625 \nQ 42.28125 16.15625 43.890625 24.421875 \nL 49.90625 54.6875 \nL 58.890625 54.6875 \nL 48.296875 0 \nL 39.3125 0 \nL 41.109375 8.59375 \nQ 37.3125 3.8125 32.0625 1.1875 \nQ 26.8125 -1.421875 20.90625 -1.421875 \nQ 13.71875 -1.421875 9.71875 2.515625 \nQ 5.71875 6.453125 5.71875 13.484375 \nQ 5.71875 14.9375 5.953125 17.140625 \nQ 6.203125 19.34375 6.6875 21.6875 \nz\n\" id=\"DejaVuSans-Oblique-117\"/>\n      <path d=\"M 42.28125 54.6875 \nL 40.921875 47.703125 \nL 23 47.703125 \nL 17.1875 18.015625 \nQ 16.890625 16.359375 16.75 15.234375 \nQ 16.609375 14.109375 16.609375 13.484375 \nQ 16.609375 10.359375 18.484375 8.9375 \nQ 20.359375 7.515625 24.515625 7.515625 \nL 33.59375 7.515625 \nL 32.078125 0 \nL 23.484375 0 \nQ 15.484375 0 11.546875 3.125 \nQ 7.625 6.25 7.625 12.59375 \nQ 7.625 13.71875 7.765625 15.0625 \nQ 7.90625 16.40625 8.203125 18.015625 \nL 14.015625 47.703125 \nL 6.390625 47.703125 \nL 7.8125 54.6875 \nL 15.28125 54.6875 \nL 18.3125 70.21875 \nL 27.296875 70.21875 \nL 24.3125 54.6875 \nz\n\" id=\"DejaVuSans-Oblique-116\"/>\n     </defs>\n     <g transform=\"translate(130.2834 127.269219)scale(0.125 -0.125)\">\n      <use transform=\"translate(0 0.09375)\" xlink:href=\"#DejaVuSans-Oblique-86\"/>\n      <use transform=\"translate(68.408203 -16.3125)scale(0.7)\" xlink:href=\"#DejaVuSans-Oblique-111\"/>\n      <use transform=\"translate(111.235352 -16.3125)scale(0.7)\" xlink:href=\"#DejaVuSans-Oblique-117\"/>\n      <use transform=\"translate(155.600586 -16.3125)scale(0.7)\" xlink:href=\"#DejaVuSans-Oblique-116\"/>\n     </g>\n    </g>\n   </g>\n   <g id=\"text_6\">\n    <g clip-path=\"url(#p29d2c4c97a)\">\n     <!-- drain -->\n     <g transform=\"translate(103.569884 147.118984)scale(0.065 -0.065)\">\n      <use xlink:href=\"#DejaVuSans-100\"/>\n      <use x=\"63.476562\" xlink:href=\"#DejaVuSans-114\"/>\n      <use x=\"104.589844\" xlink:href=\"#DejaVuSans-97\"/>\n      <use x=\"165.869141\" xlink:href=\"#DejaVuSans-105\"/>\n      <use x=\"193.652344\" xlink:href=\"#DejaVuSans-110\"/>\n     </g>\n    </g>\n   </g>\n   <g id=\"text_7\">\n    <g clip-path=\"url(#p29d2c4c97a)\">\n     <!-- NMOS -->\n     <defs>\n      <path d=\"M 9.8125 72.90625 \nL 23.09375 72.90625 \nL 55.421875 11.921875 \nL 55.421875 72.90625 \nL 64.984375 72.90625 \nL 64.984375 0 \nL 51.703125 0 \nL 19.390625 60.984375 \nL 19.390625 0 \nL 9.8125 0 \nz\n\" id=\"DejaVuSans-78\"/>\n     </defs>\n     <g transform=\"translate(114.9834 164.139531)scale(0.075 -0.075)\">\n      <use xlink:href=\"#DejaVuSans-78\"/>\n      <use x=\"74.804688\" xlink:href=\"#DejaVuSans-77\"/>\n      <use x=\"161.083984\" xlink:href=\"#DejaVuSans-79\"/>\n      <use x=\"239.794922\" xlink:href=\"#DejaVuSans-83\"/>\n     </g>\n    </g>\n   </g>\n   <g id=\"text_8\">\n    <g clip-path=\"url(#p29d2c4c97a)\">\n     <!-- source -->\n     <g transform=\"translate(101.132384 180.608203)scale(0.065 -0.065)\">\n      <use xlink:href=\"#DejaVuSans-115\"/>\n      <use x=\"52.099609\" xlink:href=\"#DejaVuSans-111\"/>\n      <use x=\"113.28125\" xlink:href=\"#DejaVuSans-117\"/>\n      <use x=\"176.660156\" xlink:href=\"#DejaVuSans-114\"/>\n      <use x=\"215.523438\" xlink:href=\"#DejaVuSans-99\"/>\n      <use x=\"270.503906\" xlink:href=\"#DejaVuSans-101\"/>\n     </g>\n    </g>\n   </g>\n   <g id=\"text_9\">\n    <g clip-path=\"url(#p29d2c4c97a)\">\n     <!-- $V_{in}$ -->\n     <defs>\n      <path d=\"M 18.3125 75.984375 \nL 27.296875 75.984375 \nL 25.09375 64.59375 \nL 16.109375 64.59375 \nz\nM 14.203125 54.6875 \nL 23.1875 54.6875 \nL 12.5 0 \nL 3.515625 0 \nz\n\" id=\"DejaVuSans-Oblique-105\"/>\n      <path d=\"M 55.71875 33.015625 \nL 49.3125 0 \nL 40.28125 0 \nL 46.6875 32.671875 \nQ 47.125 34.96875 47.359375 36.71875 \nQ 47.609375 38.484375 47.609375 39.5 \nQ 47.609375 43.609375 45.015625 45.890625 \nQ 42.4375 48.1875 37.796875 48.1875 \nQ 30.5625 48.1875 25.34375 43.375 \nQ 20.125 38.578125 18.5 30.328125 \nL 12.5 0 \nL 3.515625 0 \nL 14.109375 54.6875 \nL 23.09375 54.6875 \nL 21.296875 46.09375 \nQ 25.046875 50.828125 30.3125 53.40625 \nQ 35.59375 56 41.40625 56 \nQ 48.640625 56 52.609375 52.09375 \nQ 56.59375 48.1875 56.59375 41.109375 \nQ 56.59375 39.359375 56.375 37.359375 \nQ 56.15625 35.359375 55.71875 33.015625 \nz\n\" id=\"DejaVuSans-Oblique-110\"/>\n     </defs>\n     <g transform=\"translate(19.5684 125.739219)scale(0.125 -0.125)\">\n      <use transform=\"translate(0 0.09375)\" xlink:href=\"#DejaVuSans-Oblique-86\"/>\n      <use transform=\"translate(68.408203 -16.3125)scale(0.7)\" xlink:href=\"#DejaVuSans-Oblique-105\"/>\n      <use transform=\"translate(87.856445 -16.3125)scale(0.7)\" xlink:href=\"#DejaVuSans-Oblique-110\"/>\n     </g>\n    </g>\n   </g>\n   <g id=\"patch_3\">\n    <path clip-path=\"url(#p29d2c4c97a)\" d=\"M 111.9234 126.115 \nC 112.532041 126.115 113.115836 125.873184 113.54621 125.44281 \nC 113.976584 125.012436 114.2184 124.428641 114.2184 123.82 \nC 114.2184 123.211359 113.976584 122.627564 113.54621 122.19719 \nC 113.115836 121.766816 112.532041 121.525 111.9234 121.525 \nC 111.314759 121.525 110.730964 121.766816 110.30059 122.19719 \nC 109.870216 122.627564 109.6284 123.211359 109.6284 123.82 \nC 109.6284 124.428641 109.870216 125.012436 110.30059 125.44281 \nC 110.730964 125.873184 111.314759 126.115 111.9234 126.115 \nz\n\" style=\"stroke:#000000;stroke-linejoin:miter;stroke-width:2;\"/>\n   </g>\n  </g>\n </g>\n <defs>\n  <clipPath id=\"p29d2c4c97a\">\n   <rect height=\"215.764\" width=\"166.158\" x=\"7.2\" y=\"7.2\"/>\n  </clipPath>\n </defs>\n</svg>\n",
            "image/png": "[encoded data removed]"
          },
          "metadata": {},
          "execution_count": 3
        }
      ],
      "source": [
        "\n",
        "d = Drawing(unit=.5)\n",
        "\n",
        "d += (PMOS := elm.PFet().reverse().label('PMOS', 'right', fontsize=9, ofst=(0.1,0)).anchor('gate').theta(0))\n",
        "d += elm.Line().up().at(PMOS.source).label('source', 'left', fontsize=8)\n",
        "d += elm.Vdd().label('$V_{dd}$')\n",
        "d += elm.Line().left().at(PMOS.gate)\n",
        "d.push()\n",
        "d += elm.Line().down().at(PMOS.drain).label('drain', 'right', fontsize=8)\n",
        "d += (dot01 := elm.Dot())\n",
        "d += elm.Line().right().label('$V_{out}$', 'right')\n",
        "d += (net02 := elm.Line().at(dot01.end).down().label('drain', 'left', fontsize=8))\n",
        "d += (NMOS := elm.NFet().reverse().at(net02.end).label('NMOS', 'right', fontsize=9, ofst=(0.1,0)).anchor('drain').theta(0))\n",
        "d += (net03 := elm.Line().left().at(NMOS.gate))\n",
        "d += elm.Line().down().at(NMOS.source).label('source', 'right', fontsize=8)\n",
        "d += elm.Ground()\n",
        "\n",
        "d.pop()\n",
        "d += elm.Line().down().length(1.2)\n",
        "d += (net01 := elm.Line().left().label('$V_{in}$', 'left'))\n",
        "d += elm.Line().down().at(net01.start).to(net03.end)\n",
        "\n",
        "d.draw()\n",
        "\n"
      ]
    },
    {
      "cell_type": "markdown",
      "source": [
        "### ★ NAND回路とAND回路"
      ],
      "metadata": {
        "id": "WkScVHP25lMX"
      }
    },
    {
      "cell_type": "markdown",
      "source": [
        "NAND回路：見やすさを優先して抵抗1個＋FETトランジスタ2個の回路"
      ],
      "metadata": {
        "id": "N3aB4J8LUusS"
      }
    },
    {
      "cell_type": "code",
      "execution_count": null,
      "metadata": {
        "tags": [
          "hide-input"
        ],
        "colab": {
          "base_uri": "https://localhost:8080/",
          "height": 389
        },
        "outputId": "6fa7831f-784a-43a1-b268-774f69be5c16",
        "id": "2eATD7ZPUrH1"
      },
      "outputs": [
        {
          "output_type": "execute_result",
          "data": {
            "text/plain": [
              "<schemdraw.backends.mpl.Figure object at 0x7f600790eb80>"
            ],
            "image/svg+xml": "<?xml version=\"1.0\" encoding=\"utf-8\" standalone=\"no\"?>\n<!DOCTYPE svg PUBLIC \"-//W3C//DTD SVG 1.1//EN\"\n  \"http://www.w3.org/Graphics/SVG/1.1/DTD/svg11.dtd\">\n<!-- Created with matplotlib (https://matplotlib.org/) -->\n<svg height=\"276.064pt\" version=\"1.1\" viewBox=\"0 0 165.258 276.064\" width=\"165.258pt\" xmlns=\"http://www.w3.org/2000/svg\" xmlns:xlink=\"http://www.w3.org/1999/xlink\">\n <defs>\n  <style type=\"text/css\">\n*{stroke-linecap:butt;stroke-linejoin:round;}\n  </style>\n </defs>\n <g id=\"figure_1\">\n  <g id=\"patch_1\">\n   <path d=\"M 0 276.064 \nL 165.258 276.064 \nL 165.258 0 \nL 0 0 \nz\n\" style=\"fill:#ffffff;\"/>\n  </g>\n  <g id=\"axes_1\">\n   <g id=\"line2d_1\">\n    <path clip-path=\"url(#pb19f1ed3d8)\" d=\"M 96.6234 47.32 \nL 96.6234 35.08 \n\" style=\"fill:none;stroke:#000000;stroke-linecap:round;stroke-width:2;\"/>\n   </g>\n   <g id=\"line2d_2\">\n    <path clip-path=\"url(#pb19f1ed3d8)\" d=\"M 96.6234 35.08 \nL 90.8859 35.08 \n\" style=\"fill:none;stroke:#000000;stroke-linecap:round;stroke-width:2;\"/>\n   </g>\n   <g id=\"line2d_3\">\n    <path clip-path=\"url(#pb19f1ed3d8)\" d=\"M 96.6234 35.08 \nL 102.3609 35.08 \n\" style=\"fill:none;stroke:#000000;stroke-linecap:round;stroke-width:2;\"/>\n   </g>\n   <g id=\"line2d_4\">\n    <path clip-path=\"url(#pb19f1ed3d8)\" d=\"M 96.6234 47.32 \nL 96.6234 54.97 \nL 96.6234 62.62 \n\" style=\"fill:none;stroke:#000000;stroke-linecap:round;stroke-width:2;\"/>\n   </g>\n   <g id=\"line2d_5\">\n    <path clip-path=\"url(#pb19f1ed3d8)\" d=\"M 96.6234 62.62 \nL 104.2734 65.17 \nL 88.9734 70.27 \nL 104.2734 75.37 \nL 88.9734 80.47 \nL 104.2734 85.57 \nL 88.9734 90.67 \nL 96.6234 93.22 \n\" style=\"fill:none;stroke:#000000;stroke-linecap:round;stroke-width:2;\"/>\n   </g>\n   <g id=\"line2d_6\">\n    <path clip-path=\"url(#pb19f1ed3d8)\" d=\"M 96.6234 93.22 \nL 96.6234 100.87 \nL 96.6234 108.52 \n\" style=\"fill:none;stroke:#000000;stroke-linecap:round;stroke-width:2;\"/>\n   </g>\n   <g id=\"line2d_7\">\n    <path clip-path=\"url(#pb19f1ed3d8)\" d=\"M 96.6234 108.52 \nL 104.2734 108.52 \nL 111.9234 108.52 \n\" style=\"fill:none;stroke:#000000;stroke-linecap:round;stroke-width:2;\"/>\n   </g>\n   <g id=\"line2d_8\">\n    <path clip-path=\"url(#pb19f1ed3d8)\" d=\"M 96.6234 108.52 \nL 96.6234 116.17 \nL 96.6234 123.82 \n\" style=\"fill:none;stroke:#000000;stroke-linecap:round;stroke-width:2;\"/>\n   </g>\n   <g id=\"line2d_9\">\n    <path clip-path=\"url(#pb19f1ed3d8)\" d=\"M 96.6234 169.72 \nL 96.6234 156.97 \nL 76.2234 156.97 \nL 76.2234 136.57 \nL 96.6234 136.57 \nL 96.6234 123.82 \n\" style=\"fill:none;stroke:#000000;stroke-linecap:round;stroke-width:2;\"/>\n   </g>\n   <g id=\"line2d_10\">\n    <path clip-path=\"url(#pb19f1ed3d8)\" d=\"M 71.1234 156.97 \nL 71.1234 136.57 \n\" style=\"fill:none;stroke:#000000;stroke-linecap:round;stroke-width:2;\"/>\n   </g>\n   <g id=\"line2d_11\">\n    <path clip-path=\"url(#pb19f1ed3d8)\" d=\"M 54.8034 146.77 \nL 71.1234 146.77 \n\" style=\"fill:none;stroke:#000000;stroke-linecap:round;stroke-width:2;\"/>\n   </g>\n   <g id=\"line2d_12\">\n    <path clip-path=\"url(#pb19f1ed3d8)\" d=\"M 54.8034 146.77 \nL 47.1534 146.77 \nL 39.5034 146.77 \n\" style=\"fill:none;stroke:#000000;stroke-linecap:round;stroke-width:2;\"/>\n   </g>\n   <g id=\"line2d_13\">\n    <path clip-path=\"url(#pb19f1ed3d8)\" d=\"M 96.6234 169.72 \nL 96.6234 177.37 \nL 96.6234 185.02 \n\" style=\"fill:none;stroke:#000000;stroke-linecap:round;stroke-width:2;\"/>\n   </g>\n   <g id=\"line2d_14\">\n    <path clip-path=\"url(#pb19f1ed3d8)\" d=\"M 96.6234 230.92 \nL 96.6234 218.17 \nL 76.2234 218.17 \nL 76.2234 197.77 \nL 96.6234 197.77 \nL 96.6234 185.02 \n\" style=\"fill:none;stroke:#000000;stroke-linecap:round;stroke-width:2;\"/>\n   </g>\n   <g id=\"line2d_15\">\n    <path clip-path=\"url(#pb19f1ed3d8)\" d=\"M 71.1234 218.17 \nL 71.1234 197.77 \n\" style=\"fill:none;stroke:#000000;stroke-linecap:round;stroke-width:2;\"/>\n   </g>\n   <g id=\"line2d_16\">\n    <path clip-path=\"url(#pb19f1ed3d8)\" d=\"M 54.8034 207.97 \nL 71.1234 207.97 \n\" style=\"fill:none;stroke:#000000;stroke-linecap:round;stroke-width:2;\"/>\n   </g>\n   <g id=\"line2d_17\">\n    <path clip-path=\"url(#pb19f1ed3d8)\" d=\"M 54.8034 207.97 \nL 47.1534 207.97 \nL 39.5034 207.97 \n\" style=\"fill:none;stroke:#000000;stroke-linecap:round;stroke-width:2;\"/>\n   </g>\n   <g id=\"line2d_18\">\n    <path clip-path=\"url(#pb19f1ed3d8)\" d=\"M 96.6234 230.92 \nL 96.6234 238.57 \nL 96.6234 246.22 \n\" style=\"fill:none;stroke:#000000;stroke-linecap:round;stroke-width:2;\"/>\n   </g>\n   <g id=\"line2d_19\">\n    <path clip-path=\"url(#pb19f1ed3d8)\" d=\"M 96.6234 246.22 \nL 96.6234 258.46 \nL 88.9734 258.46 \nL 104.2734 258.46 \nM 91.2684 262.132 \nL 101.9784 262.132 \nM 95.0934 265.804 \nL 98.1534 265.804 \n\" style=\"fill:none;stroke:#000000;stroke-linecap:round;stroke-width:2;\"/>\n   </g>\n   <g id=\"text_1\">\n    <g clip-path=\"url(#pb19f1ed3d8)\">\n     <!-- $V_{dd}$ -->\n     <defs>\n      <path d=\"M 20.609375 0 \nL 7.8125 72.90625 \nL 17.484375 72.90625 \nL 28.078125 10.203125 \nL 63.484375 72.90625 \nL 74.21875 72.90625 \nL 32.078125 0 \nz\n\" id=\"DejaVuSans-Oblique-86\"/>\n      <path d=\"M 41.796875 8.203125 \nQ 38.1875 3.46875 33.25 1.015625 \nQ 28.328125 -1.421875 22.3125 -1.421875 \nQ 14.109375 -1.421875 9.34375 4.171875 \nQ 4.59375 9.765625 4.59375 19.484375 \nQ 4.59375 27.59375 7.46875 34.9375 \nQ 10.359375 42.28125 15.828125 48.09375 \nQ 19.4375 51.953125 23.96875 53.96875 \nQ 28.515625 56 33.5 56 \nQ 38.765625 56 42.796875 53.453125 \nQ 46.828125 50.921875 49.03125 46.1875 \nL 54.890625 75.984375 \nL 63.921875 75.984375 \nL 49.125 0 \nL 40.09375 0 \nz\nM 13.921875 21.09375 \nQ 13.921875 14.015625 17.109375 10.0625 \nQ 20.3125 6.109375 25.984375 6.109375 \nQ 30.171875 6.109375 33.765625 8.125 \nQ 37.359375 10.15625 40.09375 14.109375 \nQ 42.96875 18.21875 44.625 23.578125 \nQ 46.296875 28.953125 46.296875 34.1875 \nQ 46.296875 40.96875 43.09375 44.765625 \nQ 39.890625 48.578125 34.28125 48.578125 \nQ 30.03125 48.578125 26.359375 46.578125 \nQ 22.703125 44.578125 20.125 40.828125 \nQ 17.28125 36.765625 15.59375 31.390625 \nQ 13.921875 26.03125 13.921875 21.09375 \nz\n\" id=\"DejaVuSans-Oblique-100\"/>\n     </defs>\n     <g transform=\"translate(86.5609 29.420391)scale(0.125 -0.125)\">\n      <use transform=\"translate(0 0.09375)\" xlink:href=\"#DejaVuSans-Oblique-86\"/>\n      <use transform=\"translate(68.408203 -16.3125)scale(0.7)\" xlink:href=\"#DejaVuSans-Oblique-100\"/>\n      <use transform=\"translate(112.841797 -16.3125)scale(0.7)\" xlink:href=\"#DejaVuSans-Oblique-100\"/>\n     </g>\n    </g>\n   </g>\n   <g id=\"text_2\">\n    <g clip-path=\"url(#pb19f1ed3d8)\">\n     <!-- R -->\n     <defs>\n      <path d=\"M 44.390625 34.1875 \nQ 47.5625 33.109375 50.5625 29.59375 \nQ 53.5625 26.078125 56.59375 19.921875 \nL 66.609375 0 \nL 56 0 \nL 46.6875 18.703125 \nQ 43.0625 26.03125 39.671875 28.421875 \nQ 36.28125 30.8125 30.421875 30.8125 \nL 19.671875 30.8125 \nL 19.671875 0 \nL 9.8125 0 \nL 9.8125 72.90625 \nL 32.078125 72.90625 \nQ 44.578125 72.90625 50.734375 67.671875 \nQ 56.890625 62.453125 56.890625 51.90625 \nQ 56.890625 45.015625 53.6875 40.46875 \nQ 50.484375 35.9375 44.390625 34.1875 \nz\nM 19.671875 64.796875 \nL 19.671875 38.921875 \nL 32.078125 38.921875 \nQ 39.203125 38.921875 42.84375 42.21875 \nQ 46.484375 45.515625 46.484375 51.90625 \nQ 46.484375 58.296875 42.84375 61.546875 \nQ 39.203125 64.796875 32.078125 64.796875 \nz\n\" id=\"DejaVuSans-82\"/>\n     </defs>\n     <g transform=\"translate(77.227853 81.369219)scale(0.125 -0.125)\">\n      <use xlink:href=\"#DejaVuSans-82\"/>\n     </g>\n    </g>\n   </g>\n   <g id=\"text_3\">\n    <g clip-path=\"url(#pb19f1ed3d8)\">\n     <!-- $C_{out}$ -->\n     <defs>\n      <path d=\"M 69.484375 67.28125 \nL 67.484375 56.890625 \nQ 62.796875 61.625 57.546875 63.921875 \nQ 52.296875 66.21875 46.1875 66.21875 \nQ 37.84375 66.21875 31.515625 62.203125 \nQ 25.203125 58.203125 20.609375 50 \nQ 17.671875 44.734375 16.125 38.84375 \nQ 14.59375 32.953125 14.59375 27 \nQ 14.59375 17.046875 19.75 11.8125 \nQ 24.90625 6.59375 34.71875 6.59375 \nQ 41.5 6.59375 47.75 8.765625 \nQ 54 10.9375 59.90625 15.28125 \nL 57.625 3.609375 \nQ 51.8125 1.125 45.875 -0.140625 \nQ 39.9375 -1.421875 33.984375 -1.421875 \nQ 19.96875 -1.421875 12.078125 6.1875 \nQ 4.203125 13.8125 4.203125 27.390625 \nQ 4.203125 36.078125 7.203125 44.46875 \nQ 10.203125 52.875 15.828125 59.8125 \nQ 21.78125 67.1875 29.421875 70.703125 \nQ 37.0625 74.21875 47.21875 74.21875 \nQ 53.46875 74.21875 59.0625 72.484375 \nQ 64.65625 70.75 69.484375 67.28125 \nz\n\" id=\"DejaVuSans-Oblique-67\"/>\n      <path d=\"M 25.390625 -1.421875 \nQ 15.765625 -1.421875 10.171875 4.515625 \nQ 4.59375 10.453125 4.59375 20.703125 \nQ 4.59375 26.65625 6.515625 32.828125 \nQ 8.453125 39.015625 11.53125 43.21875 \nQ 16.359375 49.75 22.3125 52.875 \nQ 28.265625 56 35.796875 56 \nQ 45.125 56 50.859375 50.1875 \nQ 56.59375 44.390625 56.59375 35.015625 \nQ 56.59375 28.515625 54.6875 22.0625 \nQ 52.78125 15.625 49.703125 11.375 \nQ 44.921875 4.828125 38.96875 1.703125 \nQ 33.015625 -1.421875 25.390625 -1.421875 \nz\nM 13.921875 21 \nQ 13.921875 13.578125 17.015625 9.890625 \nQ 20.125 6.203125 26.421875 6.203125 \nQ 35.453125 6.203125 41.375 14.078125 \nQ 47.3125 21.96875 47.3125 34.078125 \nQ 47.3125 41.15625 44.140625 44.765625 \nQ 40.96875 48.390625 34.8125 48.390625 \nQ 29.734375 48.390625 25.78125 46.015625 \nQ 21.828125 43.65625 18.703125 38.8125 \nQ 16.40625 35.203125 15.15625 30.5625 \nQ 13.921875 25.921875 13.921875 21 \nz\n\" id=\"DejaVuSans-Oblique-111\"/>\n      <path d=\"M 6.6875 21.6875 \nL 13.09375 54.6875 \nL 22.125 54.6875 \nL 15.71875 22.015625 \nQ 15.234375 19.625 15.015625 17.921875 \nQ 14.796875 16.21875 14.796875 15.09375 \nQ 14.796875 10.9375 17.328125 8.65625 \nQ 19.875 6.390625 24.515625 6.390625 \nQ 31.734375 6.390625 37 11.265625 \nQ 42.28125 16.15625 43.890625 24.421875 \nL 49.90625 54.6875 \nL 58.890625 54.6875 \nL 48.296875 0 \nL 39.3125 0 \nL 41.109375 8.59375 \nQ 37.3125 3.8125 32.0625 1.1875 \nQ 26.8125 -1.421875 20.90625 -1.421875 \nQ 13.71875 -1.421875 9.71875 2.515625 \nQ 5.71875 6.453125 5.71875 13.484375 \nQ 5.71875 14.9375 5.953125 17.140625 \nQ 6.203125 19.34375 6.6875 21.6875 \nz\n\" id=\"DejaVuSans-Oblique-117\"/>\n      <path d=\"M 42.28125 54.6875 \nL 40.921875 47.703125 \nL 23 47.703125 \nL 17.1875 18.015625 \nQ 16.890625 16.359375 16.75 15.234375 \nQ 16.609375 14.109375 16.609375 13.484375 \nQ 16.609375 10.359375 18.484375 8.9375 \nQ 20.359375 7.515625 24.515625 7.515625 \nL 33.59375 7.515625 \nL 32.078125 0 \nL 23.484375 0 \nQ 15.484375 0 11.546875 3.125 \nQ 7.625 6.25 7.625 12.59375 \nQ 7.625 13.71875 7.765625 15.0625 \nQ 7.90625 16.40625 8.203125 18.015625 \nL 14.015625 47.703125 \nL 6.390625 47.703125 \nL 7.8125 54.6875 \nL 15.28125 54.6875 \nL 18.3125 70.21875 \nL 27.296875 70.21875 \nL 24.3125 54.6875 \nz\n\" id=\"DejaVuSans-Oblique-116\"/>\n     </defs>\n     <g transform=\"translate(114.9834 111.969219)scale(0.125 -0.125)\">\n      <use transform=\"translate(0 0.78125)\" xlink:href=\"#DejaVuSans-Oblique-67\"/>\n      <use transform=\"translate(69.824219 -15.625)scale(0.7)\" xlink:href=\"#DejaVuSans-Oblique-111\"/>\n      <use transform=\"translate(112.651367 -15.625)scale(0.7)\" xlink:href=\"#DejaVuSans-Oblique-117\"/>\n      <use transform=\"translate(157.016602 -15.625)scale(0.7)\" xlink:href=\"#DejaVuSans-Oblique-116\"/>\n     </g>\n    </g>\n   </g>\n   <g id=\"text_4\">\n    <g clip-path=\"url(#pb19f1ed3d8)\">\n     <!-- FET -->\n     <defs>\n      <path d=\"M 9.8125 72.90625 \nL 51.703125 72.90625 \nL 51.703125 64.59375 \nL 19.671875 64.59375 \nL 19.671875 43.109375 \nL 48.578125 43.109375 \nL 48.578125 34.8125 \nL 19.671875 34.8125 \nL 19.671875 0 \nL 9.8125 0 \nz\n\" id=\"DejaVuSans-70\"/>\n      <path d=\"M 9.8125 72.90625 \nL 55.90625 72.90625 \nL 55.90625 64.59375 \nL 19.671875 64.59375 \nL 19.671875 43.015625 \nL 54.390625 43.015625 \nL 54.390625 34.71875 \nL 19.671875 34.71875 \nL 19.671875 8.296875 \nL 56.78125 8.296875 \nL 56.78125 0 \nL 9.8125 0 \nz\n\" id=\"DejaVuSans-69\"/>\n      <path d=\"M -0.296875 72.90625 \nL 61.375 72.90625 \nL 61.375 64.59375 \nL 35.5 64.59375 \nL 35.5 0 \nL 25.59375 0 \nL 25.59375 64.59375 \nL -0.296875 64.59375 \nz\n\" id=\"DejaVuSans-84\"/>\n     </defs>\n     <g transform=\"translate(99.6834 149.115469)scale(0.085 -0.085)\">\n      <use xlink:href=\"#DejaVuSans-70\"/>\n      <use x=\"57.519531\" xlink:href=\"#DejaVuSans-69\"/>\n      <use x=\"120.703125\" xlink:href=\"#DejaVuSans-84\"/>\n     </g>\n    </g>\n   </g>\n   <g id=\"text_5\">\n    <g clip-path=\"url(#pb19f1ed3d8)\">\n     <!-- $A_{in}$ -->\n     <defs>\n      <path d=\"M 36.8125 72.90625 \nL 48 72.90625 \nL 61.53125 0 \nL 51.21875 0 \nL 48.1875 18.703125 \nL 15.375 18.703125 \nL 5.078125 0 \nL -5.328125 0 \nz\nM 40.375 63.1875 \nL 19.921875 26.90625 \nL 46.6875 26.90625 \nz\n\" id=\"DejaVuSans-Oblique-65\"/>\n      <path d=\"M 18.3125 75.984375 \nL 27.296875 75.984375 \nL 25.09375 64.59375 \nL 16.109375 64.59375 \nz\nM 14.203125 54.6875 \nL 23.1875 54.6875 \nL 12.5 0 \nL 3.515625 0 \nz\n\" id=\"DejaVuSans-Oblique-105\"/>\n      <path d=\"M 55.71875 33.015625 \nL 49.3125 0 \nL 40.28125 0 \nL 46.6875 32.671875 \nQ 47.125 34.96875 47.359375 36.71875 \nQ 47.609375 38.484375 47.609375 39.5 \nQ 47.609375 43.609375 45.015625 45.890625 \nQ 42.4375 48.1875 37.796875 48.1875 \nQ 30.5625 48.1875 25.34375 43.375 \nQ 20.125 38.578125 18.5 30.328125 \nL 12.5 0 \nL 3.515625 0 \nL 14.109375 54.6875 \nL 23.09375 54.6875 \nL 21.296875 46.09375 \nQ 25.046875 50.828125 30.3125 53.40625 \nQ 35.59375 56 41.40625 56 \nQ 48.640625 56 52.609375 52.09375 \nQ 56.59375 48.1875 56.59375 41.109375 \nQ 56.59375 39.359375 56.375 37.359375 \nQ 56.15625 35.359375 55.71875 33.015625 \nz\n\" id=\"DejaVuSans-Oblique-110\"/>\n     </defs>\n     <g transform=\"translate(19.5684 150.219219)scale(0.125 -0.125)\">\n      <use transform=\"translate(0 0.09375)\" xlink:href=\"#DejaVuSans-Oblique-65\"/>\n      <use transform=\"translate(68.408203 -16.3125)scale(0.7)\" xlink:href=\"#DejaVuSans-Oblique-105\"/>\n      <use transform=\"translate(87.856445 -16.3125)scale(0.7)\" xlink:href=\"#DejaVuSans-Oblique-110\"/>\n     </g>\n    </g>\n   </g>\n   <g id=\"text_6\">\n    <g clip-path=\"url(#pb19f1ed3d8)\">\n     <!-- FET -->\n     <g transform=\"translate(99.6834 210.039531)scale(0.075 -0.075)\">\n      <use xlink:href=\"#DejaVuSans-70\"/>\n      <use x=\"57.519531\" xlink:href=\"#DejaVuSans-69\"/>\n      <use x=\"120.703125\" xlink:href=\"#DejaVuSans-84\"/>\n     </g>\n    </g>\n   </g>\n   <g id=\"text_7\">\n    <g clip-path=\"url(#pb19f1ed3d8)\">\n     <!-- $B_{in}$ -->\n     <defs>\n      <path d=\"M 16.890625 72.90625 \nL 42.09375 72.90625 \nQ 52.34375 72.90625 57.421875 69.09375 \nQ 62.5 65.28125 62.5 57.625 \nQ 62.5 50.59375 58.125 45.484375 \nQ 53.765625 40.375 46.6875 39.3125 \nQ 52.734375 37.9375 55.765625 34.078125 \nQ 58.796875 30.21875 58.796875 23.78125 \nQ 58.796875 12.796875 50.65625 6.390625 \nQ 42.53125 0 28.421875 0 \nL 2.6875 0 \nz\nM 19.28125 34.8125 \nL 14.109375 8.109375 \nL 29.984375 8.109375 \nQ 38.921875 8.109375 43.75 12.203125 \nQ 48.578125 16.3125 48.578125 23.78125 \nQ 48.578125 29.546875 45.375 32.171875 \nQ 42.1875 34.8125 35.109375 34.8125 \nz\nM 25.09375 64.796875 \nL 20.796875 42.828125 \nL 35.5 42.828125 \nQ 43.359375 42.828125 47.78125 46.234375 \nQ 52.203125 49.65625 52.203125 55.71875 \nQ 52.203125 60.453125 49.21875 62.625 \nQ 46.234375 64.796875 39.703125 64.796875 \nz\n\" id=\"DejaVuSans-Oblique-66\"/>\n     </defs>\n     <g transform=\"translate(19.4434 211.419219)scale(0.125 -0.125)\">\n      <use transform=\"translate(0 0.09375)\" xlink:href=\"#DejaVuSans-Oblique-66\"/>\n      <use transform=\"translate(68.603516 -16.3125)scale(0.7)\" xlink:href=\"#DejaVuSans-Oblique-105\"/>\n      <use transform=\"translate(88.051758 -16.3125)scale(0.7)\" xlink:href=\"#DejaVuSans-Oblique-110\"/>\n     </g>\n    </g>\n   </g>\n   <g id=\"patch_2\">\n    <path clip-path=\"url(#pb19f1ed3d8)\" d=\"M 96.6234 110.815 \nC 97.232041 110.815 97.815836 110.573184 98.24621 110.14281 \nC 98.676584 109.712436 98.9184 109.128641 98.9184 108.52 \nC 98.9184 107.911359 98.676584 107.327564 98.24621 106.89719 \nC 97.815836 106.466816 97.232041 106.225 96.6234 106.225 \nC 96.014759 106.225 95.430964 106.466816 95.00059 106.89719 \nC 94.570216 107.327564 94.3284 107.911359 94.3284 108.52 \nC 94.3284 109.128641 94.570216 109.712436 95.00059 110.14281 \nC 95.430964 110.573184 96.014759 110.815 96.6234 110.815 \nz\n\" style=\"stroke:#000000;stroke-linejoin:miter;stroke-width:2;\"/>\n   </g>\n  </g>\n </g>\n <defs>\n  <clipPath id=\"pb19f1ed3d8\">\n   <rect height=\"261.664\" width=\"150.858\" x=\"7.2\" y=\"7.2\"/>\n  </clipPath>\n </defs>\n</svg>\n",
            "image/png": "[encoded data removed]"
          },
          "metadata": {},
          "execution_count": 71
        }
      ],
      "source": [
        "# NAND回路\n",
        "\n",
        "d = Drawing(unit=.5)\n",
        "\n",
        "d += elm.Vdd().label('$V_{dd}$')\n",
        "d += elm.Line().down()\n",
        "d += elm.Resistor().down().label('R') \n",
        "d += elm.Line().down()\n",
        "d += (dot01 := elm.Dot())\n",
        "d += elm.Line().right().label('$C_{out}$', 'right')\n",
        "d += (net01 := elm.Line().down().at(dot01.end))\n",
        "d += (NMOS01 := elm.NFet().reverse().at(net01.end).label('FET', 'right', fontsize=10, ofst=(0.1,0)).anchor('drain').theta(0))\n",
        "d += elm.Line().left().at(NMOS01.gate).label('$A_{in}$', 'left')\n",
        "d += (net02 := elm.Line().down().at(NMOS01.source))\n",
        "d += (NMOS02 := elm.NFet().reverse().at(net02.end).label('FET', 'right', fontsize=9, ofst=(0.1,0)).anchor('drain').theta(0))\n",
        "d += elm.Line().left().at(NMOS02.gate).label('$B_{in}$', 'left')\n",
        "d += elm.Line().down().at(NMOS02.source)\n",
        "d += elm.Ground()\n",
        "\n",
        "d.draw()\n"
      ]
    },
    {
      "cell_type": "markdown",
      "source": [
        "AND回路"
      ],
      "metadata": {
        "id": "4IVDc0WkX8vB"
      }
    },
    {
      "cell_type": "markdown",
      "source": [
        "NAND回路の出力に，NOTの回路を接続すればAND回路ができる仕組み\n",
        "\n",
        "上のNAND回路と次のAND回路を比べると，トランジスターの数はNAND回路の方が少ない\n",
        "\n",
        "つまり，実務上はNANDの回路の方が効率が良い\n",
        "\n",
        "したがって，トランジスターの性質上，ANDゲートよりもNANDゲートのほうが作りやすい"
      ],
      "metadata": {
        "id": "oIKRb824X9Ks"
      }
    },
    {
      "cell_type": "code",
      "execution_count": null,
      "metadata": {
        "tags": [
          "hide-input"
        ],
        "colab": {
          "base_uri": "https://localhost:8080/",
          "height": 389
        },
        "outputId": "30be26d0-c9ed-45a7-ef16-60a365eb3be1",
        "id": "ULdGX2uxXmch"
      },
      "outputs": [
        {
          "output_type": "execute_result",
          "data": {
            "text/plain": [
              "<schemdraw.backends.mpl.Figure object at 0x7f600747e580>"
            ],
            "image/svg+xml": "<?xml version=\"1.0\" encoding=\"utf-8\" standalone=\"no\"?>\n<!DOCTYPE svg PUBLIC \"-//W3C//DTD SVG 1.1//EN\"\n  \"http://www.w3.org/Graphics/SVG/1.1/DTD/svg11.dtd\">\n<!-- Created with matplotlib (https://matplotlib.org/) -->\n<svg height=\"276.064pt\" version=\"1.1\" viewBox=\"0 0 252.978 276.064\" width=\"252.978pt\" xmlns=\"http://www.w3.org/2000/svg\" xmlns:xlink=\"http://www.w3.org/1999/xlink\">\n <defs>\n  <style type=\"text/css\">\n*{stroke-linecap:butt;stroke-linejoin:round;}\n  </style>\n </defs>\n <g id=\"figure_1\">\n  <g id=\"patch_1\">\n   <path d=\"M 0 276.064 \nL 252.978 276.064 \nL 252.978 0 \nL 0 0 \nz\n\" style=\"fill:#ffffff;\"/>\n  </g>\n  <g id=\"axes_1\">\n   <g id=\"line2d_1\">\n    <path clip-path=\"url(#p0d540891bb)\" d=\"M 96.6234 47.32 \nL 96.6234 35.08 \n\" style=\"fill:none;stroke:#000000;stroke-linecap:round;stroke-width:2;\"/>\n   </g>\n   <g id=\"line2d_2\">\n    <path clip-path=\"url(#p0d540891bb)\" d=\"M 96.6234 35.08 \nL 90.8859 35.08 \n\" style=\"fill:none;stroke:#000000;stroke-linecap:round;stroke-width:2;\"/>\n   </g>\n   <g id=\"line2d_3\">\n    <path clip-path=\"url(#p0d540891bb)\" d=\"M 96.6234 35.08 \nL 102.3609 35.08 \n\" style=\"fill:none;stroke:#000000;stroke-linecap:round;stroke-width:2;\"/>\n   </g>\n   <g id=\"line2d_4\">\n    <path clip-path=\"url(#p0d540891bb)\" d=\"M 96.6234 47.32 \nL 96.6234 54.97 \nL 96.6234 62.62 \n\" style=\"fill:none;stroke:#000000;stroke-linecap:round;stroke-width:2;\"/>\n   </g>\n   <g id=\"line2d_5\">\n    <path clip-path=\"url(#p0d540891bb)\" d=\"M 96.6234 62.62 \nL 104.2734 65.17 \nL 88.9734 70.27 \nL 104.2734 75.37 \nL 88.9734 80.47 \nL 104.2734 85.57 \nL 88.9734 90.67 \nL 96.6234 93.22 \n\" style=\"fill:none;stroke:#000000;stroke-linecap:round;stroke-width:2;\"/>\n   </g>\n   <g id=\"line2d_6\">\n    <path clip-path=\"url(#p0d540891bb)\" d=\"M 96.6234 93.22 \nL 96.6234 100.87 \nL 96.6234 108.52 \n\" style=\"fill:none;stroke:#000000;stroke-linecap:round;stroke-width:2;\"/>\n   </g>\n   <g id=\"line2d_7\">\n    <path clip-path=\"url(#p0d540891bb)\" d=\"M 96.6234 108.52 \nL 104.2734 108.52 \nL 111.9234 108.52 \n\" style=\"fill:none;stroke:#000000;stroke-linecap:round;stroke-width:2;\"/>\n   </g>\n   <g id=\"line2d_8\">\n    <path clip-path=\"url(#p0d540891bb)\" d=\"M 96.6234 108.52 \nL 96.6234 116.17 \nL 96.6234 123.82 \n\" style=\"fill:none;stroke:#000000;stroke-linecap:round;stroke-width:2;\"/>\n   </g>\n   <g id=\"line2d_9\">\n    <path clip-path=\"url(#p0d540891bb)\" d=\"M 96.6234 169.72 \nL 96.6234 156.97 \nL 76.2234 156.97 \nL 76.2234 136.57 \nL 96.6234 136.57 \nL 96.6234 123.82 \n\" style=\"fill:none;stroke:#000000;stroke-linecap:round;stroke-width:2;\"/>\n   </g>\n   <g id=\"line2d_10\">\n    <path clip-path=\"url(#p0d540891bb)\" d=\"M 71.1234 156.97 \nL 71.1234 136.57 \n\" style=\"fill:none;stroke:#000000;stroke-linecap:round;stroke-width:2;\"/>\n   </g>\n   <g id=\"line2d_11\">\n    <path clip-path=\"url(#p0d540891bb)\" d=\"M 54.8034 146.77 \nL 71.1234 146.77 \n\" style=\"fill:none;stroke:#000000;stroke-linecap:round;stroke-width:2;\"/>\n   </g>\n   <g id=\"line2d_12\">\n    <path clip-path=\"url(#p0d540891bb)\" d=\"M 54.8034 146.77 \nL 47.1534 146.77 \nL 39.5034 146.77 \n\" style=\"fill:none;stroke:#000000;stroke-linecap:round;stroke-width:2;\"/>\n   </g>\n   <g id=\"line2d_13\">\n    <path clip-path=\"url(#p0d540891bb)\" d=\"M 96.6234 169.72 \nL 96.6234 177.37 \nL 96.6234 185.02 \n\" style=\"fill:none;stroke:#000000;stroke-linecap:round;stroke-width:2;\"/>\n   </g>\n   <g id=\"line2d_14\">\n    <path clip-path=\"url(#p0d540891bb)\" d=\"M 96.6234 230.92 \nL 96.6234 218.17 \nL 76.2234 218.17 \nL 76.2234 197.77 \nL 96.6234 197.77 \nL 96.6234 185.02 \n\" style=\"fill:none;stroke:#000000;stroke-linecap:round;stroke-width:2;\"/>\n   </g>\n   <g id=\"line2d_15\">\n    <path clip-path=\"url(#p0d540891bb)\" d=\"M 71.1234 218.17 \nL 71.1234 197.77 \n\" style=\"fill:none;stroke:#000000;stroke-linecap:round;stroke-width:2;\"/>\n   </g>\n   <g id=\"line2d_16\">\n    <path clip-path=\"url(#p0d540891bb)\" d=\"M 54.8034 207.97 \nL 71.1234 207.97 \n\" style=\"fill:none;stroke:#000000;stroke-linecap:round;stroke-width:2;\"/>\n   </g>\n   <g id=\"line2d_17\">\n    <path clip-path=\"url(#p0d540891bb)\" d=\"M 54.8034 207.97 \nL 47.1534 207.97 \nL 39.5034 207.97 \n\" style=\"fill:none;stroke:#000000;stroke-linecap:round;stroke-width:2;\"/>\n   </g>\n   <g id=\"line2d_18\">\n    <path clip-path=\"url(#p0d540891bb)\" d=\"M 96.6234 230.92 \nL 96.6234 238.57 \nL 96.6234 246.22 \n\" style=\"fill:none;stroke:#000000;stroke-linecap:round;stroke-width:2;\"/>\n   </g>\n   <g id=\"line2d_19\">\n    <path clip-path=\"url(#p0d540891bb)\" d=\"M 96.6234 246.22 \nL 96.6234 258.46 \nL 88.9734 258.46 \nL 104.2734 258.46 \nM 91.2684 262.132 \nL 101.9784 262.132 \nM 95.0934 265.804 \nL 98.1534 265.804 \n\" style=\"fill:none;stroke:#000000;stroke-linecap:round;stroke-width:2;\"/>\n   </g>\n   <g id=\"line2d_20\">\n    <path clip-path=\"url(#p0d540891bb)\" d=\"M 96.6234 108.52 \nL 119.5734 108.52 \nL 142.5234 108.52 \n\" style=\"fill:none;stroke:#000000;stroke-linecap:round;stroke-width:2;\"/>\n   </g>\n   <g id=\"line2d_21\">\n    <path clip-path=\"url(#p0d540891bb)\" d=\"M 142.5234 108.52 \nL 142.5234 146.77 \nL 142.5234 185.02 \n\" style=\"fill:none;stroke:#000000;stroke-linecap:round;stroke-width:2;\"/>\n   </g>\n   <g id=\"line2d_22\">\n    <path clip-path=\"url(#p0d540891bb)\" d=\"M 184.3434 207.97 \nL 184.3434 195.22 \nL 163.9434 195.22 \nL 163.9434 174.82 \nL 184.3434 174.82 \nL 184.3434 162.07 \n\" style=\"fill:none;stroke:#000000;stroke-linecap:round;stroke-width:2;\"/>\n   </g>\n   <g id=\"line2d_23\">\n    <path clip-path=\"url(#p0d540891bb)\" d=\"M 158.8434 195.22 \nL 158.8434 174.82 \n\" style=\"fill:none;stroke:#000000;stroke-linecap:round;stroke-width:2;\"/>\n   </g>\n   <g id=\"line2d_24\">\n    <path clip-path=\"url(#p0d540891bb)\" d=\"M 142.5234 185.02 \nL 158.8434 185.02 \n\" style=\"fill:none;stroke:#000000;stroke-linecap:round;stroke-width:2;\"/>\n   </g>\n   <g id=\"line2d_25\">\n    <path clip-path=\"url(#p0d540891bb)\" d=\"M 184.3434 162.07 \nL 184.3434 146.77 \nL 184.3434 131.47 \n\" style=\"fill:none;stroke:#000000;stroke-linecap:round;stroke-width:2;\"/>\n   </g>\n   <g id=\"line2d_26\">\n    <path clip-path=\"url(#p0d540891bb)\" d=\"M 184.3434 131.47 \nL 191.9934 131.47 \nL 199.6434 131.47 \n\" style=\"fill:none;stroke:#000000;stroke-linecap:round;stroke-width:2;\"/>\n   </g>\n   <g id=\"line2d_27\">\n    <path clip-path=\"url(#p0d540891bb)\" d=\"M 184.3434 131.47 \nL 184.3434 113.11 \nL 184.3434 94.75 \n\" style=\"fill:none;stroke:#000000;stroke-linecap:round;stroke-width:2;\"/>\n   </g>\n   <g id=\"line2d_28\">\n    <path clip-path=\"url(#p0d540891bb)\" d=\"M 184.3434 94.75 \nL 176.6934 92.2 \nL 191.9934 87.1 \nL 176.6934 82 \nL 191.9934 76.9 \nL 176.6934 71.8 \nL 191.9934 66.7 \nL 184.3434 64.15 \n\" style=\"fill:none;stroke:#000000;stroke-linecap:round;stroke-width:2;\"/>\n   </g>\n   <g id=\"line2d_29\">\n    <path clip-path=\"url(#p0d540891bb)\" d=\"M 184.3434 64.15 \nL 184.3434 56.5 \nL 184.3434 48.85 \n\" style=\"fill:none;stroke:#000000;stroke-linecap:round;stroke-width:2;\"/>\n   </g>\n   <g id=\"line2d_30\">\n    <path clip-path=\"url(#p0d540891bb)\" d=\"M 184.3434 48.85 \nL 184.3434 36.61 \n\" style=\"fill:none;stroke:#000000;stroke-linecap:round;stroke-width:2;\"/>\n   </g>\n   <g id=\"line2d_31\">\n    <path clip-path=\"url(#p0d540891bb)\" d=\"M 184.3434 36.61 \nL 178.6059 36.61 \n\" style=\"fill:none;stroke:#000000;stroke-linecap:round;stroke-width:2;\"/>\n   </g>\n   <g id=\"line2d_32\">\n    <path clip-path=\"url(#p0d540891bb)\" d=\"M 184.3434 36.61 \nL 190.0809 36.61 \n\" style=\"fill:none;stroke:#000000;stroke-linecap:round;stroke-width:2;\"/>\n   </g>\n   <g id=\"line2d_33\">\n    <path clip-path=\"url(#p0d540891bb)\" d=\"M 184.3434 207.97 \nL 184.3434 226.33 \nL 184.3434 244.69 \n\" style=\"fill:none;stroke:#000000;stroke-linecap:round;stroke-width:2;\"/>\n   </g>\n   <g id=\"line2d_34\">\n    <path clip-path=\"url(#p0d540891bb)\" d=\"M 184.3434 244.69 \nL 184.3434 256.93 \nL 176.6934 256.93 \nL 191.9934 256.93 \nM 178.9884 260.602 \nL 189.6984 260.602 \nM 182.8134 264.274 \nL 185.8734 264.274 \n\" style=\"fill:none;stroke:#000000;stroke-linecap:round;stroke-width:2;\"/>\n   </g>\n   <g id=\"text_1\">\n    <g clip-path=\"url(#p0d540891bb)\">\n     <!-- $V_{dd}$ -->\n     <defs>\n      <path d=\"M 20.609375 0 \nL 7.8125 72.90625 \nL 17.484375 72.90625 \nL 28.078125 10.203125 \nL 63.484375 72.90625 \nL 74.21875 72.90625 \nL 32.078125 0 \nz\n\" id=\"DejaVuSans-Oblique-86\"/>\n      <path d=\"M 41.796875 8.203125 \nQ 38.1875 3.46875 33.25 1.015625 \nQ 28.328125 -1.421875 22.3125 -1.421875 \nQ 14.109375 -1.421875 9.34375 4.171875 \nQ 4.59375 9.765625 4.59375 19.484375 \nQ 4.59375 27.59375 7.46875 34.9375 \nQ 10.359375 42.28125 15.828125 48.09375 \nQ 19.4375 51.953125 23.96875 53.96875 \nQ 28.515625 56 33.5 56 \nQ 38.765625 56 42.796875 53.453125 \nQ 46.828125 50.921875 49.03125 46.1875 \nL 54.890625 75.984375 \nL 63.921875 75.984375 \nL 49.125 0 \nL 40.09375 0 \nz\nM 13.921875 21.09375 \nQ 13.921875 14.015625 17.109375 10.0625 \nQ 20.3125 6.109375 25.984375 6.109375 \nQ 30.171875 6.109375 33.765625 8.125 \nQ 37.359375 10.15625 40.09375 14.109375 \nQ 42.96875 18.21875 44.625 23.578125 \nQ 46.296875 28.953125 46.296875 34.1875 \nQ 46.296875 40.96875 43.09375 44.765625 \nQ 39.890625 48.578125 34.28125 48.578125 \nQ 30.03125 48.578125 26.359375 46.578125 \nQ 22.703125 44.578125 20.125 40.828125 \nQ 17.28125 36.765625 15.59375 31.390625 \nQ 13.921875 26.03125 13.921875 21.09375 \nz\n\" id=\"DejaVuSans-Oblique-100\"/>\n     </defs>\n     <g transform=\"translate(86.5609 29.420391)scale(0.125 -0.125)\">\n      <use transform=\"translate(0 0.09375)\" xlink:href=\"#DejaVuSans-Oblique-86\"/>\n      <use transform=\"translate(68.408203 -16.3125)scale(0.7)\" xlink:href=\"#DejaVuSans-Oblique-100\"/>\n      <use transform=\"translate(112.841797 -16.3125)scale(0.7)\" xlink:href=\"#DejaVuSans-Oblique-100\"/>\n     </g>\n    </g>\n   </g>\n   <g id=\"text_2\">\n    <g clip-path=\"url(#p0d540891bb)\">\n     <!-- R -->\n     <defs>\n      <path d=\"M 44.390625 34.1875 \nQ 47.5625 33.109375 50.5625 29.59375 \nQ 53.5625 26.078125 56.59375 19.921875 \nL 66.609375 0 \nL 56 0 \nL 46.6875 18.703125 \nQ 43.0625 26.03125 39.671875 28.421875 \nQ 36.28125 30.8125 30.421875 30.8125 \nL 19.671875 30.8125 \nL 19.671875 0 \nL 9.8125 0 \nL 9.8125 72.90625 \nL 32.078125 72.90625 \nQ 44.578125 72.90625 50.734375 67.671875 \nQ 56.890625 62.453125 56.890625 51.90625 \nQ 56.890625 45.015625 53.6875 40.46875 \nQ 50.484375 35.9375 44.390625 34.1875 \nz\nM 19.671875 64.796875 \nL 19.671875 38.921875 \nL 32.078125 38.921875 \nQ 39.203125 38.921875 42.84375 42.21875 \nQ 46.484375 45.515625 46.484375 51.90625 \nQ 46.484375 58.296875 42.84375 61.546875 \nQ 39.203125 64.796875 32.078125 64.796875 \nz\n\" id=\"DejaVuSans-82\"/>\n     </defs>\n     <g transform=\"translate(77.227853 81.369219)scale(0.125 -0.125)\">\n      <use xlink:href=\"#DejaVuSans-82\"/>\n     </g>\n    </g>\n   </g>\n   <g id=\"text_3\">\n    <g clip-path=\"url(#p0d540891bb)\">\n     <!-- FET -->\n     <defs>\n      <path d=\"M 9.8125 72.90625 \nL 51.703125 72.90625 \nL 51.703125 64.59375 \nL 19.671875 64.59375 \nL 19.671875 43.109375 \nL 48.578125 43.109375 \nL 48.578125 34.8125 \nL 19.671875 34.8125 \nL 19.671875 0 \nL 9.8125 0 \nz\n\" id=\"DejaVuSans-70\"/>\n      <path d=\"M 9.8125 72.90625 \nL 55.90625 72.90625 \nL 55.90625 64.59375 \nL 19.671875 64.59375 \nL 19.671875 43.015625 \nL 54.390625 43.015625 \nL 54.390625 34.71875 \nL 19.671875 34.71875 \nL 19.671875 8.296875 \nL 56.78125 8.296875 \nL 56.78125 0 \nL 9.8125 0 \nz\n\" id=\"DejaVuSans-69\"/>\n      <path d=\"M -0.296875 72.90625 \nL 61.375 72.90625 \nL 61.375 64.59375 \nL 35.5 64.59375 \nL 35.5 0 \nL 25.59375 0 \nL 25.59375 64.59375 \nL -0.296875 64.59375 \nz\n\" id=\"DejaVuSans-84\"/>\n     </defs>\n     <g transform=\"translate(99.6834 149.115469)scale(0.085 -0.085)\">\n      <use xlink:href=\"#DejaVuSans-70\"/>\n      <use x=\"57.519531\" xlink:href=\"#DejaVuSans-69\"/>\n      <use x=\"120.703125\" xlink:href=\"#DejaVuSans-84\"/>\n     </g>\n    </g>\n   </g>\n   <g id=\"text_4\">\n    <g clip-path=\"url(#p0d540891bb)\">\n     <!-- $A_{in}$ -->\n     <defs>\n      <path d=\"M 36.8125 72.90625 \nL 48 72.90625 \nL 61.53125 0 \nL 51.21875 0 \nL 48.1875 18.703125 \nL 15.375 18.703125 \nL 5.078125 0 \nL -5.328125 0 \nz\nM 40.375 63.1875 \nL 19.921875 26.90625 \nL 46.6875 26.90625 \nz\n\" id=\"DejaVuSans-Oblique-65\"/>\n      <path d=\"M 18.3125 75.984375 \nL 27.296875 75.984375 \nL 25.09375 64.59375 \nL 16.109375 64.59375 \nz\nM 14.203125 54.6875 \nL 23.1875 54.6875 \nL 12.5 0 \nL 3.515625 0 \nz\n\" id=\"DejaVuSans-Oblique-105\"/>\n      <path d=\"M 55.71875 33.015625 \nL 49.3125 0 \nL 40.28125 0 \nL 46.6875 32.671875 \nQ 47.125 34.96875 47.359375 36.71875 \nQ 47.609375 38.484375 47.609375 39.5 \nQ 47.609375 43.609375 45.015625 45.890625 \nQ 42.4375 48.1875 37.796875 48.1875 \nQ 30.5625 48.1875 25.34375 43.375 \nQ 20.125 38.578125 18.5 30.328125 \nL 12.5 0 \nL 3.515625 0 \nL 14.109375 54.6875 \nL 23.09375 54.6875 \nL 21.296875 46.09375 \nQ 25.046875 50.828125 30.3125 53.40625 \nQ 35.59375 56 41.40625 56 \nQ 48.640625 56 52.609375 52.09375 \nQ 56.59375 48.1875 56.59375 41.109375 \nQ 56.59375 39.359375 56.375 37.359375 \nQ 56.15625 35.359375 55.71875 33.015625 \nz\n\" id=\"DejaVuSans-Oblique-110\"/>\n     </defs>\n     <g transform=\"translate(19.5684 150.219219)scale(0.125 -0.125)\">\n      <use transform=\"translate(0 0.09375)\" xlink:href=\"#DejaVuSans-Oblique-65\"/>\n      <use transform=\"translate(68.408203 -16.3125)scale(0.7)\" xlink:href=\"#DejaVuSans-Oblique-105\"/>\n      <use transform=\"translate(87.856445 -16.3125)scale(0.7)\" xlink:href=\"#DejaVuSans-Oblique-110\"/>\n     </g>\n    </g>\n   </g>\n   <g id=\"text_5\">\n    <g clip-path=\"url(#p0d540891bb)\">\n     <!-- FET -->\n     <g transform=\"translate(99.6834 210.039531)scale(0.075 -0.075)\">\n      <use xlink:href=\"#DejaVuSans-70\"/>\n      <use x=\"57.519531\" xlink:href=\"#DejaVuSans-69\"/>\n      <use x=\"120.703125\" xlink:href=\"#DejaVuSans-84\"/>\n     </g>\n    </g>\n   </g>\n   <g id=\"text_6\">\n    <g clip-path=\"url(#p0d540891bb)\">\n     <!-- $B_{in}$ -->\n     <defs>\n      <path d=\"M 16.890625 72.90625 \nL 42.09375 72.90625 \nQ 52.34375 72.90625 57.421875 69.09375 \nQ 62.5 65.28125 62.5 57.625 \nQ 62.5 50.59375 58.125 45.484375 \nQ 53.765625 40.375 46.6875 39.3125 \nQ 52.734375 37.9375 55.765625 34.078125 \nQ 58.796875 30.21875 58.796875 23.78125 \nQ 58.796875 12.796875 50.65625 6.390625 \nQ 42.53125 0 28.421875 0 \nL 2.6875 0 \nz\nM 19.28125 34.8125 \nL 14.109375 8.109375 \nL 29.984375 8.109375 \nQ 38.921875 8.109375 43.75 12.203125 \nQ 48.578125 16.3125 48.578125 23.78125 \nQ 48.578125 29.546875 45.375 32.171875 \nQ 42.1875 34.8125 35.109375 34.8125 \nz\nM 25.09375 64.796875 \nL 20.796875 42.828125 \nL 35.5 42.828125 \nQ 43.359375 42.828125 47.78125 46.234375 \nQ 52.203125 49.65625 52.203125 55.71875 \nQ 52.203125 60.453125 49.21875 62.625 \nQ 46.234375 64.796875 39.703125 64.796875 \nz\n\" id=\"DejaVuSans-Oblique-66\"/>\n     </defs>\n     <g transform=\"translate(19.4434 211.419219)scale(0.125 -0.125)\">\n      <use transform=\"translate(0 0.09375)\" xlink:href=\"#DejaVuSans-Oblique-66\"/>\n      <use transform=\"translate(68.603516 -16.3125)scale(0.7)\" xlink:href=\"#DejaVuSans-Oblique-105\"/>\n      <use transform=\"translate(88.051758 -16.3125)scale(0.7)\" xlink:href=\"#DejaVuSans-Oblique-110\"/>\n     </g>\n    </g>\n   </g>\n   <g id=\"text_7\">\n    <g clip-path=\"url(#p0d540891bb)\">\n     <!-- FET -->\n     <g transform=\"translate(187.4034 187.365469)scale(0.085 -0.085)\">\n      <use xlink:href=\"#DejaVuSans-70\"/>\n      <use x=\"57.519531\" xlink:href=\"#DejaVuSans-69\"/>\n      <use x=\"120.703125\" xlink:href=\"#DejaVuSans-84\"/>\n     </g>\n    </g>\n   </g>\n   <g id=\"text_8\">\n    <g clip-path=\"url(#p0d540891bb)\">\n     <!-- $C_{out}$ -->\n     <defs>\n      <path d=\"M 69.484375 67.28125 \nL 67.484375 56.890625 \nQ 62.796875 61.625 57.546875 63.921875 \nQ 52.296875 66.21875 46.1875 66.21875 \nQ 37.84375 66.21875 31.515625 62.203125 \nQ 25.203125 58.203125 20.609375 50 \nQ 17.671875 44.734375 16.125 38.84375 \nQ 14.59375 32.953125 14.59375 27 \nQ 14.59375 17.046875 19.75 11.8125 \nQ 24.90625 6.59375 34.71875 6.59375 \nQ 41.5 6.59375 47.75 8.765625 \nQ 54 10.9375 59.90625 15.28125 \nL 57.625 3.609375 \nQ 51.8125 1.125 45.875 -0.140625 \nQ 39.9375 -1.421875 33.984375 -1.421875 \nQ 19.96875 -1.421875 12.078125 6.1875 \nQ 4.203125 13.8125 4.203125 27.390625 \nQ 4.203125 36.078125 7.203125 44.46875 \nQ 10.203125 52.875 15.828125 59.8125 \nQ 21.78125 67.1875 29.421875 70.703125 \nQ 37.0625 74.21875 47.21875 74.21875 \nQ 53.46875 74.21875 59.0625 72.484375 \nQ 64.65625 70.75 69.484375 67.28125 \nz\n\" id=\"DejaVuSans-Oblique-67\"/>\n      <path d=\"M 25.390625 -1.421875 \nQ 15.765625 -1.421875 10.171875 4.515625 \nQ 4.59375 10.453125 4.59375 20.703125 \nQ 4.59375 26.65625 6.515625 32.828125 \nQ 8.453125 39.015625 11.53125 43.21875 \nQ 16.359375 49.75 22.3125 52.875 \nQ 28.265625 56 35.796875 56 \nQ 45.125 56 50.859375 50.1875 \nQ 56.59375 44.390625 56.59375 35.015625 \nQ 56.59375 28.515625 54.6875 22.0625 \nQ 52.78125 15.625 49.703125 11.375 \nQ 44.921875 4.828125 38.96875 1.703125 \nQ 33.015625 -1.421875 25.390625 -1.421875 \nz\nM 13.921875 21 \nQ 13.921875 13.578125 17.015625 9.890625 \nQ 20.125 6.203125 26.421875 6.203125 \nQ 35.453125 6.203125 41.375 14.078125 \nQ 47.3125 21.96875 47.3125 34.078125 \nQ 47.3125 41.15625 44.140625 44.765625 \nQ 40.96875 48.390625 34.8125 48.390625 \nQ 29.734375 48.390625 25.78125 46.015625 \nQ 21.828125 43.65625 18.703125 38.8125 \nQ 16.40625 35.203125 15.15625 30.5625 \nQ 13.921875 25.921875 13.921875 21 \nz\n\" id=\"DejaVuSans-Oblique-111\"/>\n      <path d=\"M 6.6875 21.6875 \nL 13.09375 54.6875 \nL 22.125 54.6875 \nL 15.71875 22.015625 \nQ 15.234375 19.625 15.015625 17.921875 \nQ 14.796875 16.21875 14.796875 15.09375 \nQ 14.796875 10.9375 17.328125 8.65625 \nQ 19.875 6.390625 24.515625 6.390625 \nQ 31.734375 6.390625 37 11.265625 \nQ 42.28125 16.15625 43.890625 24.421875 \nL 49.90625 54.6875 \nL 58.890625 54.6875 \nL 48.296875 0 \nL 39.3125 0 \nL 41.109375 8.59375 \nQ 37.3125 3.8125 32.0625 1.1875 \nQ 26.8125 -1.421875 20.90625 -1.421875 \nQ 13.71875 -1.421875 9.71875 2.515625 \nQ 5.71875 6.453125 5.71875 13.484375 \nQ 5.71875 14.9375 5.953125 17.140625 \nQ 6.203125 19.34375 6.6875 21.6875 \nz\n\" id=\"DejaVuSans-Oblique-117\"/>\n      <path d=\"M 42.28125 54.6875 \nL 40.921875 47.703125 \nL 23 47.703125 \nL 17.1875 18.015625 \nQ 16.890625 16.359375 16.75 15.234375 \nQ 16.609375 14.109375 16.609375 13.484375 \nQ 16.609375 10.359375 18.484375 8.9375 \nQ 20.359375 7.515625 24.515625 7.515625 \nL 33.59375 7.515625 \nL 32.078125 0 \nL 23.484375 0 \nQ 15.484375 0 11.546875 3.125 \nQ 7.625 6.25 7.625 12.59375 \nQ 7.625 13.71875 7.765625 15.0625 \nQ 7.90625 16.40625 8.203125 18.015625 \nL 14.015625 47.703125 \nL 6.390625 47.703125 \nL 7.8125 54.6875 \nL 15.28125 54.6875 \nL 18.3125 70.21875 \nL 27.296875 70.21875 \nL 24.3125 54.6875 \nz\n\" id=\"DejaVuSans-Oblique-116\"/>\n     </defs>\n     <g transform=\"translate(202.7034 134.919219)scale(0.125 -0.125)\">\n      <use transform=\"translate(0 0.78125)\" xlink:href=\"#DejaVuSans-Oblique-67\"/>\n      <use transform=\"translate(69.824219 -15.625)scale(0.7)\" xlink:href=\"#DejaVuSans-Oblique-111\"/>\n      <use transform=\"translate(112.651367 -15.625)scale(0.7)\" xlink:href=\"#DejaVuSans-Oblique-117\"/>\n      <use transform=\"translate(157.016602 -15.625)scale(0.7)\" xlink:href=\"#DejaVuSans-Oblique-116\"/>\n     </g>\n    </g>\n   </g>\n   <g id=\"text_9\">\n    <g clip-path=\"url(#p0d540891bb)\">\n     <!-- R -->\n     <g transform=\"translate(164.947853 82.899219)scale(0.125 -0.125)\">\n      <use xlink:href=\"#DejaVuSans-82\"/>\n     </g>\n    </g>\n   </g>\n   <g id=\"text_10\">\n    <g clip-path=\"url(#p0d540891bb)\">\n     <!-- $V_{dd}$ -->\n     <g transform=\"translate(174.2809 30.950391)scale(0.125 -0.125)\">\n      <use transform=\"translate(0 0.09375)\" xlink:href=\"#DejaVuSans-Oblique-86\"/>\n      <use transform=\"translate(68.408203 -16.3125)scale(0.7)\" xlink:href=\"#DejaVuSans-Oblique-100\"/>\n      <use transform=\"translate(112.841797 -16.3125)scale(0.7)\" xlink:href=\"#DejaVuSans-Oblique-100\"/>\n     </g>\n    </g>\n   </g>\n   <g id=\"patch_2\">\n    <path clip-path=\"url(#p0d540891bb)\" d=\"M 96.6234 110.815 \nC 97.232041 110.815 97.815836 110.573184 98.24621 110.14281 \nC 98.676584 109.712436 98.9184 109.128641 98.9184 108.52 \nC 98.9184 107.911359 98.676584 107.327564 98.24621 106.89719 \nC 97.815836 106.466816 97.232041 106.225 96.6234 106.225 \nC 96.014759 106.225 95.430964 106.466816 95.00059 106.89719 \nC 94.570216 107.327564 94.3284 107.911359 94.3284 108.52 \nC 94.3284 109.128641 94.570216 109.712436 95.00059 110.14281 \nC 95.430964 110.573184 96.014759 110.815 96.6234 110.815 \nz\n\" style=\"stroke:#000000;stroke-linejoin:miter;stroke-width:2;\"/>\n   </g>\n   <g id=\"patch_3\">\n    <path clip-path=\"url(#p0d540891bb)\" d=\"M 184.3434 133.765 \nC 184.952041 133.765 185.535836 133.523184 185.96621 133.09281 \nC 186.396584 132.662436 186.6384 132.078641 186.6384 131.47 \nC 186.6384 130.861359 186.396584 130.277564 185.96621 129.84719 \nC 185.535836 129.416816 184.952041 129.175 184.3434 129.175 \nC 183.734759 129.175 183.150964 129.416816 182.72059 129.84719 \nC 182.290216 130.277564 182.0484 130.861359 182.0484 131.47 \nC 182.0484 132.078641 182.290216 132.662436 182.72059 133.09281 \nC 183.150964 133.523184 183.734759 133.765 184.3434 133.765 \nz\n\" style=\"stroke:#000000;stroke-linejoin:miter;stroke-width:2;\"/>\n   </g>\n  </g>\n </g>\n <defs>\n  <clipPath id=\"p0d540891bb\">\n   <rect height=\"261.664\" width=\"238.578\" x=\"7.2\" y=\"7.2\"/>\n  </clipPath>\n </defs>\n</svg>\n",
            "image/png": "[encoded data removed]"
          },
          "metadata": {},
          "execution_count": 80
        }
      ],
      "source": [
        "# AND回路\n",
        "\n",
        "d = Drawing(unit=.5)\n",
        "\n",
        "d += elm.Vdd().label('$V_{dd}$')\n",
        "d += elm.Line().down()\n",
        "d += elm.Resistor().down().label('R') \n",
        "d += elm.Line().down()\n",
        "d.push()\n",
        "d += (dot01 := elm.Dot())\n",
        "d += elm.Line().right()\n",
        "d += (net01 := elm.Line().down().at(dot01.end))\n",
        "d += (NMOS01 := elm.NFet().reverse().at(net01.end).label('FET', 'right', fontsize=10, ofst=(0.1,0)).anchor('drain').theta(0))\n",
        "d += elm.Line().left().at(NMOS01.gate).label('$A_{in}$', 'left')\n",
        "d += (net02 := elm.Line().down().at(NMOS01.source))\n",
        "d += (NMOS02 := elm.NFet().reverse().at(net02.end).label('FET', 'right', fontsize=9, ofst=(0.1,0)).anchor('drain').theta(0))\n",
        "d += elm.Line().left().at(NMOS02.gate).label('$B_{in}$', 'left')\n",
        "d += elm.Line().down().at(NMOS02.source)\n",
        "d += elm.Ground()\n",
        "\n",
        "# NOT回路\n",
        "d.pop()\n",
        "d += elm.Line().right().length(1.5)\n",
        "d += (net03 := elm.Line().down().length(2.5))\n",
        "d += (NMOS3 := elm.NFet().reverse().at(net03.end).label('FET', 'right', fontsize=10, ofst=(0.1,0)).anchor('gate').theta(0))\n",
        "d += elm.Line().up().at(NMOS3.drain).length(1.0)\n",
        "d += (dot01 := elm.Dot())\n",
        "d += elm.Line().right().label('$C_{out}$', 'right')\n",
        "d += elm.Line().up().at(dot01.end).length(1.2)\n",
        "d += elm.Resistor().up().label('R') \n",
        "d += elm.Line().up()\n",
        "d += elm.Vdd().label('$V_{dd}$')\n",
        "\n",
        "d += elm.Line().down().at(NMOS3.source).length(1.2)\n",
        "d += elm.Ground()\n",
        "\n",
        "d.draw()\n"
      ]
    },
    {
      "cell_type": "markdown",
      "source": [
        "### ★ NOR回路とOR回路"
      ],
      "metadata": {
        "id": "E8sMRc8Z5lqe"
      }
    },
    {
      "cell_type": "markdown",
      "source": [
        "NOR回路：見やすさを優先して抵抗1個＋FETトランジスタ2個の回路"
      ],
      "metadata": {
        "id": "b7lEEOMm6cdY"
      }
    },
    {
      "cell_type": "code",
      "execution_count": null,
      "metadata": {
        "tags": [
          "hide-input"
        ],
        "colab": {
          "base_uri": "https://localhost:8080/",
          "height": 328
        },
        "outputId": "a4198bf0-5136-4237-dbfe-6de035d13da8",
        "id": "nI-7u-5l6Noe"
      },
      "outputs": [
        {
          "output_type": "execute_result",
          "data": {
            "text/plain": [
              "<schemdraw.backends.mpl.Figure object at 0x7f6007916fa0>"
            ],
            "image/svg+xml": "<?xml version=\"1.0\" encoding=\"utf-8\" standalone=\"no\"?>\n<!DOCTYPE svg PUBLIC \"-//W3C//DTD SVG 1.1//EN\"\n  \"http://www.w3.org/Graphics/SVG/1.1/DTD/svg11.dtd\">\n<!-- Created with matplotlib (https://matplotlib.org/) -->\n<svg height=\"230.164pt\" version=\"1.1\" viewBox=\"0 0 244.6854 230.164\" width=\"244.6854pt\" xmlns=\"http://www.w3.org/2000/svg\" xmlns:xlink=\"http://www.w3.org/1999/xlink\">\n <defs>\n  <style type=\"text/css\">\n*{stroke-linecap:butt;stroke-linejoin:round;}\n  </style>\n </defs>\n <g id=\"figure_1\">\n  <g id=\"patch_1\">\n   <path d=\"M 0 230.164 \nL 244.6854 230.164 \nL 244.6854 0 \nL 0 0 \nz\n\" style=\"fill:#ffffff;\"/>\n  </g>\n  <g id=\"axes_1\">\n   <g id=\"line2d_1\">\n    <path clip-path=\"url(#p1b971f83f5)\" d=\"M 111.9234 47.32 \nL 111.9234 35.08 \n\" style=\"fill:none;stroke:#000000;stroke-linecap:round;stroke-width:2;\"/>\n   </g>\n   <g id=\"line2d_2\">\n    <path clip-path=\"url(#p1b971f83f5)\" d=\"M 111.9234 35.08 \nL 106.1859 35.08 \n\" style=\"fill:none;stroke:#000000;stroke-linecap:round;stroke-width:2;\"/>\n   </g>\n   <g id=\"line2d_3\">\n    <path clip-path=\"url(#p1b971f83f5)\" d=\"M 111.9234 35.08 \nL 117.6609 35.08 \n\" style=\"fill:none;stroke:#000000;stroke-linecap:round;stroke-width:2;\"/>\n   </g>\n   <g id=\"line2d_4\">\n    <path clip-path=\"url(#p1b971f83f5)\" d=\"M 111.9234 47.32 \nL 111.9234 54.97 \nL 111.9234 62.62 \n\" style=\"fill:none;stroke:#000000;stroke-linecap:round;stroke-width:2;\"/>\n   </g>\n   <g id=\"line2d_5\">\n    <path clip-path=\"url(#p1b971f83f5)\" d=\"M 111.9234 62.62 \nL 119.5734 65.17 \nL 104.2734 70.27 \nL 119.5734 75.37 \nL 104.2734 80.47 \nL 119.5734 85.57 \nL 104.2734 90.67 \nL 111.9234 93.22 \n\" style=\"fill:none;stroke:#000000;stroke-linecap:round;stroke-width:2;\"/>\n   </g>\n   <g id=\"line2d_6\">\n    <path clip-path=\"url(#p1b971f83f5)\" d=\"M 111.9234 93.22 \nL 111.9234 100.87 \nL 111.9234 108.52 \n\" style=\"fill:none;stroke:#000000;stroke-linecap:round;stroke-width:2;\"/>\n   </g>\n   <g id=\"line2d_7\">\n    <path clip-path=\"url(#p1b971f83f5)\" d=\"M 111.9234 108.52 \nL 119.5734 108.52 \nL 127.2234 108.52 \n\" style=\"fill:none;stroke:#000000;stroke-linecap:round;stroke-width:2;\"/>\n   </g>\n   <g id=\"line2d_8\">\n    <path clip-path=\"url(#p1b971f83f5)\" d=\"M 111.9234 108.52 \nL 111.9234 116.17 \nL 111.9234 123.82 \n\" style=\"fill:none;stroke:#000000;stroke-linecap:round;stroke-width:2;\"/>\n   </g>\n   <g id=\"line2d_9\">\n    <path clip-path=\"url(#p1b971f83f5)\" d=\"M 111.9234 123.82 \nL 104.2734 123.82 \nL 96.6234 123.82 \n\" style=\"fill:none;stroke:#000000;stroke-linecap:round;stroke-width:2;\"/>\n   </g>\n   <g id=\"line2d_10\">\n    <path clip-path=\"url(#p1b971f83f5)\" d=\"M 96.6234 123.82 \nL 96.6234 131.47 \nL 96.6234 139.12 \n\" style=\"fill:none;stroke:#000000;stroke-linecap:round;stroke-width:2;\"/>\n   </g>\n   <g id=\"line2d_11\">\n    <path clip-path=\"url(#p1b971f83f5)\" d=\"M 96.6234 185.02 \nL 96.6234 172.27 \nL 76.2234 172.27 \nL 76.2234 151.87 \nL 96.6234 151.87 \nL 96.6234 139.12 \n\" style=\"fill:none;stroke:#000000;stroke-linecap:round;stroke-width:2;\"/>\n   </g>\n   <g id=\"line2d_12\">\n    <path clip-path=\"url(#p1b971f83f5)\" d=\"M 71.1234 172.27 \nL 71.1234 151.87 \n\" style=\"fill:none;stroke:#000000;stroke-linecap:round;stroke-width:2;\"/>\n   </g>\n   <g id=\"line2d_13\">\n    <path clip-path=\"url(#p1b971f83f5)\" d=\"M 54.8034 162.07 \nL 71.1234 162.07 \n\" style=\"fill:none;stroke:#000000;stroke-linecap:round;stroke-width:2;\"/>\n   </g>\n   <g id=\"line2d_14\">\n    <path clip-path=\"url(#p1b971f83f5)\" d=\"M 54.8034 162.07 \nL 47.1534 162.07 \nL 39.5034 162.07 \n\" style=\"fill:none;stroke:#000000;stroke-linecap:round;stroke-width:2;\"/>\n   </g>\n   <g id=\"line2d_15\">\n    <path clip-path=\"url(#p1b971f83f5)\" d=\"M 96.6234 185.02 \nL 96.6234 192.67 \nL 96.6234 200.32 \n\" style=\"fill:none;stroke:#000000;stroke-linecap:round;stroke-width:2;\"/>\n   </g>\n   <g id=\"line2d_16\">\n    <path clip-path=\"url(#p1b971f83f5)\" d=\"M 96.6234 200.32 \nL 96.6234 212.56 \nL 88.9734 212.56 \nL 104.2734 212.56 \nM 91.2684 216.232 \nL 101.9784 216.232 \nM 95.0934 219.904 \nL 98.1534 219.904 \n\" style=\"fill:none;stroke:#000000;stroke-linecap:round;stroke-width:2;\"/>\n   </g>\n   <g id=\"line2d_17\">\n    <path clip-path=\"url(#p1b971f83f5)\" d=\"M 111.9234 123.82 \nL 157.8234 123.82 \nL 203.7234 123.82 \n\" style=\"fill:none;stroke:#000000;stroke-linecap:round;stroke-width:2;\"/>\n   </g>\n   <g id=\"line2d_18\">\n    <path clip-path=\"url(#p1b971f83f5)\" d=\"M 203.7234 123.82 \nL 203.7234 131.47 \nL 203.7234 139.12 \n\" style=\"fill:none;stroke:#000000;stroke-linecap:round;stroke-width:2;\"/>\n   </g>\n   <g id=\"line2d_19\">\n    <path clip-path=\"url(#p1b971f83f5)\" d=\"M 203.7234 185.02 \nL 203.7234 172.27 \nL 183.3234 172.27 \nL 183.3234 151.87 \nL 203.7234 151.87 \nL 203.7234 139.12 \n\" style=\"fill:none;stroke:#000000;stroke-linecap:round;stroke-width:2;\"/>\n   </g>\n   <g id=\"line2d_20\">\n    <path clip-path=\"url(#p1b971f83f5)\" d=\"M 178.2234 172.27 \nL 178.2234 151.87 \n\" style=\"fill:none;stroke:#000000;stroke-linecap:round;stroke-width:2;\"/>\n   </g>\n   <g id=\"line2d_21\">\n    <path clip-path=\"url(#p1b971f83f5)\" d=\"M 161.9034 162.07 \nL 178.2234 162.07 \n\" style=\"fill:none;stroke:#000000;stroke-linecap:round;stroke-width:2;\"/>\n   </g>\n   <g id=\"line2d_22\">\n    <path clip-path=\"url(#p1b971f83f5)\" d=\"M 161.9034 162.07 \nL 154.2534 162.07 \nL 146.6034 162.07 \n\" style=\"fill:none;stroke:#000000;stroke-linecap:round;stroke-width:2;\"/>\n   </g>\n   <g id=\"line2d_23\">\n    <path clip-path=\"url(#p1b971f83f5)\" d=\"M 203.7234 185.02 \nL 203.7234 192.67 \nL 203.7234 200.32 \n\" style=\"fill:none;stroke:#000000;stroke-linecap:round;stroke-width:2;\"/>\n   </g>\n   <g id=\"line2d_24\">\n    <path clip-path=\"url(#p1b971f83f5)\" d=\"M 203.7234 200.32 \nL 203.7234 212.56 \nL 196.0734 212.56 \nL 211.3734 212.56 \nM 198.3684 216.232 \nL 209.0784 216.232 \nM 202.1934 219.904 \nL 205.2534 219.904 \n\" style=\"fill:none;stroke:#000000;stroke-linecap:round;stroke-width:2;\"/>\n   </g>\n   <g id=\"text_1\">\n    <g clip-path=\"url(#p1b971f83f5)\">\n     <!-- $V_{dd}$ -->\n     <defs>\n      <path d=\"M 20.609375 0 \nL 7.8125 72.90625 \nL 17.484375 72.90625 \nL 28.078125 10.203125 \nL 63.484375 72.90625 \nL 74.21875 72.90625 \nL 32.078125 0 \nz\n\" id=\"DejaVuSans-Oblique-86\"/>\n      <path d=\"M 41.796875 8.203125 \nQ 38.1875 3.46875 33.25 1.015625 \nQ 28.328125 -1.421875 22.3125 -1.421875 \nQ 14.109375 -1.421875 9.34375 4.171875 \nQ 4.59375 9.765625 4.59375 19.484375 \nQ 4.59375 27.59375 7.46875 34.9375 \nQ 10.359375 42.28125 15.828125 48.09375 \nQ 19.4375 51.953125 23.96875 53.96875 \nQ 28.515625 56 33.5 56 \nQ 38.765625 56 42.796875 53.453125 \nQ 46.828125 50.921875 49.03125 46.1875 \nL 54.890625 75.984375 \nL 63.921875 75.984375 \nL 49.125 0 \nL 40.09375 0 \nz\nM 13.921875 21.09375 \nQ 13.921875 14.015625 17.109375 10.0625 \nQ 20.3125 6.109375 25.984375 6.109375 \nQ 30.171875 6.109375 33.765625 8.125 \nQ 37.359375 10.15625 40.09375 14.109375 \nQ 42.96875 18.21875 44.625 23.578125 \nQ 46.296875 28.953125 46.296875 34.1875 \nQ 46.296875 40.96875 43.09375 44.765625 \nQ 39.890625 48.578125 34.28125 48.578125 \nQ 30.03125 48.578125 26.359375 46.578125 \nQ 22.703125 44.578125 20.125 40.828125 \nQ 17.28125 36.765625 15.59375 31.390625 \nQ 13.921875 26.03125 13.921875 21.09375 \nz\n\" id=\"DejaVuSans-Oblique-100\"/>\n     </defs>\n     <g transform=\"translate(101.8609 29.420391)scale(0.125 -0.125)\">\n      <use transform=\"translate(0 0.09375)\" xlink:href=\"#DejaVuSans-Oblique-86\"/>\n      <use transform=\"translate(68.408203 -16.3125)scale(0.7)\" xlink:href=\"#DejaVuSans-Oblique-100\"/>\n      <use transform=\"translate(112.841797 -16.3125)scale(0.7)\" xlink:href=\"#DejaVuSans-Oblique-100\"/>\n     </g>\n    </g>\n   </g>\n   <g id=\"text_2\">\n    <g clip-path=\"url(#p1b971f83f5)\">\n     <!-- R -->\n     <defs>\n      <path d=\"M 44.390625 34.1875 \nQ 47.5625 33.109375 50.5625 29.59375 \nQ 53.5625 26.078125 56.59375 19.921875 \nL 66.609375 0 \nL 56 0 \nL 46.6875 18.703125 \nQ 43.0625 26.03125 39.671875 28.421875 \nQ 36.28125 30.8125 30.421875 30.8125 \nL 19.671875 30.8125 \nL 19.671875 0 \nL 9.8125 0 \nL 9.8125 72.90625 \nL 32.078125 72.90625 \nQ 44.578125 72.90625 50.734375 67.671875 \nQ 56.890625 62.453125 56.890625 51.90625 \nQ 56.890625 45.015625 53.6875 40.46875 \nQ 50.484375 35.9375 44.390625 34.1875 \nz\nM 19.671875 64.796875 \nL 19.671875 38.921875 \nL 32.078125 38.921875 \nQ 39.203125 38.921875 42.84375 42.21875 \nQ 46.484375 45.515625 46.484375 51.90625 \nQ 46.484375 58.296875 42.84375 61.546875 \nQ 39.203125 64.796875 32.078125 64.796875 \nz\n\" id=\"DejaVuSans-82\"/>\n     </defs>\n     <g transform=\"translate(92.527853 81.369219)scale(0.125 -0.125)\">\n      <use xlink:href=\"#DejaVuSans-82\"/>\n     </g>\n    </g>\n   </g>\n   <g id=\"text_3\">\n    <g clip-path=\"url(#p1b971f83f5)\">\n     <!-- $C_{out}$ -->\n     <defs>\n      <path d=\"M 69.484375 67.28125 \nL 67.484375 56.890625 \nQ 62.796875 61.625 57.546875 63.921875 \nQ 52.296875 66.21875 46.1875 66.21875 \nQ 37.84375 66.21875 31.515625 62.203125 \nQ 25.203125 58.203125 20.609375 50 \nQ 17.671875 44.734375 16.125 38.84375 \nQ 14.59375 32.953125 14.59375 27 \nQ 14.59375 17.046875 19.75 11.8125 \nQ 24.90625 6.59375 34.71875 6.59375 \nQ 41.5 6.59375 47.75 8.765625 \nQ 54 10.9375 59.90625 15.28125 \nL 57.625 3.609375 \nQ 51.8125 1.125 45.875 -0.140625 \nQ 39.9375 -1.421875 33.984375 -1.421875 \nQ 19.96875 -1.421875 12.078125 6.1875 \nQ 4.203125 13.8125 4.203125 27.390625 \nQ 4.203125 36.078125 7.203125 44.46875 \nQ 10.203125 52.875 15.828125 59.8125 \nQ 21.78125 67.1875 29.421875 70.703125 \nQ 37.0625 74.21875 47.21875 74.21875 \nQ 53.46875 74.21875 59.0625 72.484375 \nQ 64.65625 70.75 69.484375 67.28125 \nz\n\" id=\"DejaVuSans-Oblique-67\"/>\n      <path d=\"M 25.390625 -1.421875 \nQ 15.765625 -1.421875 10.171875 4.515625 \nQ 4.59375 10.453125 4.59375 20.703125 \nQ 4.59375 26.65625 6.515625 32.828125 \nQ 8.453125 39.015625 11.53125 43.21875 \nQ 16.359375 49.75 22.3125 52.875 \nQ 28.265625 56 35.796875 56 \nQ 45.125 56 50.859375 50.1875 \nQ 56.59375 44.390625 56.59375 35.015625 \nQ 56.59375 28.515625 54.6875 22.0625 \nQ 52.78125 15.625 49.703125 11.375 \nQ 44.921875 4.828125 38.96875 1.703125 \nQ 33.015625 -1.421875 25.390625 -1.421875 \nz\nM 13.921875 21 \nQ 13.921875 13.578125 17.015625 9.890625 \nQ 20.125 6.203125 26.421875 6.203125 \nQ 35.453125 6.203125 41.375 14.078125 \nQ 47.3125 21.96875 47.3125 34.078125 \nQ 47.3125 41.15625 44.140625 44.765625 \nQ 40.96875 48.390625 34.8125 48.390625 \nQ 29.734375 48.390625 25.78125 46.015625 \nQ 21.828125 43.65625 18.703125 38.8125 \nQ 16.40625 35.203125 15.15625 30.5625 \nQ 13.921875 25.921875 13.921875 21 \nz\n\" id=\"DejaVuSans-Oblique-111\"/>\n      <path d=\"M 6.6875 21.6875 \nL 13.09375 54.6875 \nL 22.125 54.6875 \nL 15.71875 22.015625 \nQ 15.234375 19.625 15.015625 17.921875 \nQ 14.796875 16.21875 14.796875 15.09375 \nQ 14.796875 10.9375 17.328125 8.65625 \nQ 19.875 6.390625 24.515625 6.390625 \nQ 31.734375 6.390625 37 11.265625 \nQ 42.28125 16.15625 43.890625 24.421875 \nL 49.90625 54.6875 \nL 58.890625 54.6875 \nL 48.296875 0 \nL 39.3125 0 \nL 41.109375 8.59375 \nQ 37.3125 3.8125 32.0625 1.1875 \nQ 26.8125 -1.421875 20.90625 -1.421875 \nQ 13.71875 -1.421875 9.71875 2.515625 \nQ 5.71875 6.453125 5.71875 13.484375 \nQ 5.71875 14.9375 5.953125 17.140625 \nQ 6.203125 19.34375 6.6875 21.6875 \nz\n\" id=\"DejaVuSans-Oblique-117\"/>\n      <path d=\"M 42.28125 54.6875 \nL 40.921875 47.703125 \nL 23 47.703125 \nL 17.1875 18.015625 \nQ 16.890625 16.359375 16.75 15.234375 \nQ 16.609375 14.109375 16.609375 13.484375 \nQ 16.609375 10.359375 18.484375 8.9375 \nQ 20.359375 7.515625 24.515625 7.515625 \nL 33.59375 7.515625 \nL 32.078125 0 \nL 23.484375 0 \nQ 15.484375 0 11.546875 3.125 \nQ 7.625 6.25 7.625 12.59375 \nQ 7.625 13.71875 7.765625 15.0625 \nQ 7.90625 16.40625 8.203125 18.015625 \nL 14.015625 47.703125 \nL 6.390625 47.703125 \nL 7.8125 54.6875 \nL 15.28125 54.6875 \nL 18.3125 70.21875 \nL 27.296875 70.21875 \nL 24.3125 54.6875 \nz\n\" id=\"DejaVuSans-Oblique-116\"/>\n     </defs>\n     <g transform=\"translate(130.2834 111.969219)scale(0.125 -0.125)\">\n      <use transform=\"translate(0 0.78125)\" xlink:href=\"#DejaVuSans-Oblique-67\"/>\n      <use transform=\"translate(69.824219 -15.625)scale(0.7)\" xlink:href=\"#DejaVuSans-Oblique-111\"/>\n      <use transform=\"translate(112.651367 -15.625)scale(0.7)\" xlink:href=\"#DejaVuSans-Oblique-117\"/>\n      <use transform=\"translate(157.016602 -15.625)scale(0.7)\" xlink:href=\"#DejaVuSans-Oblique-116\"/>\n     </g>\n    </g>\n   </g>\n   <g id=\"text_4\">\n    <g clip-path=\"url(#p1b971f83f5)\">\n     <!-- FET -->\n     <defs>\n      <path d=\"M 9.8125 72.90625 \nL 51.703125 72.90625 \nL 51.703125 64.59375 \nL 19.671875 64.59375 \nL 19.671875 43.109375 \nL 48.578125 43.109375 \nL 48.578125 34.8125 \nL 19.671875 34.8125 \nL 19.671875 0 \nL 9.8125 0 \nz\n\" id=\"DejaVuSans-70\"/>\n      <path d=\"M 9.8125 72.90625 \nL 55.90625 72.90625 \nL 55.90625 64.59375 \nL 19.671875 64.59375 \nL 19.671875 43.015625 \nL 54.390625 43.015625 \nL 54.390625 34.71875 \nL 19.671875 34.71875 \nL 19.671875 8.296875 \nL 56.78125 8.296875 \nL 56.78125 0 \nL 9.8125 0 \nz\n\" id=\"DejaVuSans-69\"/>\n      <path d=\"M -0.296875 72.90625 \nL 61.375 72.90625 \nL 61.375 64.59375 \nL 35.5 64.59375 \nL 35.5 0 \nL 25.59375 0 \nL 25.59375 64.59375 \nL -0.296875 64.59375 \nz\n\" id=\"DejaVuSans-84\"/>\n     </defs>\n     <g transform=\"translate(99.6834 164.415469)scale(0.085 -0.085)\">\n      <use xlink:href=\"#DejaVuSans-70\"/>\n      <use x=\"57.519531\" xlink:href=\"#DejaVuSans-69\"/>\n      <use x=\"120.703125\" xlink:href=\"#DejaVuSans-84\"/>\n     </g>\n    </g>\n   </g>\n   <g id=\"text_5\">\n    <g clip-path=\"url(#p1b971f83f5)\">\n     <!-- $A_{in}$ -->\n     <defs>\n      <path d=\"M 36.8125 72.90625 \nL 48 72.90625 \nL 61.53125 0 \nL 51.21875 0 \nL 48.1875 18.703125 \nL 15.375 18.703125 \nL 5.078125 0 \nL -5.328125 0 \nz\nM 40.375 63.1875 \nL 19.921875 26.90625 \nL 46.6875 26.90625 \nz\n\" id=\"DejaVuSans-Oblique-65\"/>\n      <path d=\"M 18.3125 75.984375 \nL 27.296875 75.984375 \nL 25.09375 64.59375 \nL 16.109375 64.59375 \nz\nM 14.203125 54.6875 \nL 23.1875 54.6875 \nL 12.5 0 \nL 3.515625 0 \nz\n\" id=\"DejaVuSans-Oblique-105\"/>\n      <path d=\"M 55.71875 33.015625 \nL 49.3125 0 \nL 40.28125 0 \nL 46.6875 32.671875 \nQ 47.125 34.96875 47.359375 36.71875 \nQ 47.609375 38.484375 47.609375 39.5 \nQ 47.609375 43.609375 45.015625 45.890625 \nQ 42.4375 48.1875 37.796875 48.1875 \nQ 30.5625 48.1875 25.34375 43.375 \nQ 20.125 38.578125 18.5 30.328125 \nL 12.5 0 \nL 3.515625 0 \nL 14.109375 54.6875 \nL 23.09375 54.6875 \nL 21.296875 46.09375 \nQ 25.046875 50.828125 30.3125 53.40625 \nQ 35.59375 56 41.40625 56 \nQ 48.640625 56 52.609375 52.09375 \nQ 56.59375 48.1875 56.59375 41.109375 \nQ 56.59375 39.359375 56.375 37.359375 \nQ 56.15625 35.359375 55.71875 33.015625 \nz\n\" id=\"DejaVuSans-Oblique-110\"/>\n     </defs>\n     <g transform=\"translate(19.5684 165.519219)scale(0.125 -0.125)\">\n      <use transform=\"translate(0 0.09375)\" xlink:href=\"#DejaVuSans-Oblique-65\"/>\n      <use transform=\"translate(68.408203 -16.3125)scale(0.7)\" xlink:href=\"#DejaVuSans-Oblique-105\"/>\n      <use transform=\"translate(87.856445 -16.3125)scale(0.7)\" xlink:href=\"#DejaVuSans-Oblique-110\"/>\n     </g>\n    </g>\n   </g>\n   <g id=\"text_6\">\n    <g clip-path=\"url(#p1b971f83f5)\">\n     <!-- FET -->\n     <g transform=\"translate(206.7834 164.415469)scale(0.085 -0.085)\">\n      <use xlink:href=\"#DejaVuSans-70\"/>\n      <use x=\"57.519531\" xlink:href=\"#DejaVuSans-69\"/>\n      <use x=\"120.703125\" xlink:href=\"#DejaVuSans-84\"/>\n     </g>\n    </g>\n   </g>\n   <g id=\"text_7\">\n    <g clip-path=\"url(#p1b971f83f5)\">\n     <!-- $B_{in}$ -->\n     <defs>\n      <path d=\"M 16.890625 72.90625 \nL 42.09375 72.90625 \nQ 52.34375 72.90625 57.421875 69.09375 \nQ 62.5 65.28125 62.5 57.625 \nQ 62.5 50.59375 58.125 45.484375 \nQ 53.765625 40.375 46.6875 39.3125 \nQ 52.734375 37.9375 55.765625 34.078125 \nQ 58.796875 30.21875 58.796875 23.78125 \nQ 58.796875 12.796875 50.65625 6.390625 \nQ 42.53125 0 28.421875 0 \nL 2.6875 0 \nz\nM 19.28125 34.8125 \nL 14.109375 8.109375 \nL 29.984375 8.109375 \nQ 38.921875 8.109375 43.75 12.203125 \nQ 48.578125 16.3125 48.578125 23.78125 \nQ 48.578125 29.546875 45.375 32.171875 \nQ 42.1875 34.8125 35.109375 34.8125 \nz\nM 25.09375 64.796875 \nL 20.796875 42.828125 \nL 35.5 42.828125 \nQ 43.359375 42.828125 47.78125 46.234375 \nQ 52.203125 49.65625 52.203125 55.71875 \nQ 52.203125 60.453125 49.21875 62.625 \nQ 46.234375 64.796875 39.703125 64.796875 \nz\n\" id=\"DejaVuSans-Oblique-66\"/>\n     </defs>\n     <g transform=\"translate(126.5434 165.519219)scale(0.125 -0.125)\">\n      <use transform=\"translate(0 0.09375)\" xlink:href=\"#DejaVuSans-Oblique-66\"/>\n      <use transform=\"translate(68.603516 -16.3125)scale(0.7)\" xlink:href=\"#DejaVuSans-Oblique-105\"/>\n      <use transform=\"translate(88.051758 -16.3125)scale(0.7)\" xlink:href=\"#DejaVuSans-Oblique-110\"/>\n     </g>\n    </g>\n   </g>\n   <g id=\"patch_2\">\n    <path clip-path=\"url(#p1b971f83f5)\" d=\"M 111.9234 110.815 \nC 112.532041 110.815 113.115836 110.573184 113.54621 110.14281 \nC 113.976584 109.712436 114.2184 109.128641 114.2184 108.52 \nC 114.2184 107.911359 113.976584 107.327564 113.54621 106.89719 \nC 113.115836 106.466816 112.532041 106.225 111.9234 106.225 \nC 111.314759 106.225 110.730964 106.466816 110.30059 106.89719 \nC 109.870216 107.327564 109.6284 107.911359 109.6284 108.52 \nC 109.6284 109.128641 109.870216 109.712436 110.30059 110.14281 \nC 110.730964 110.573184 111.314759 110.815 111.9234 110.815 \nz\n\" style=\"stroke:#000000;stroke-linejoin:miter;stroke-width:2;\"/>\n   </g>\n  </g>\n </g>\n <defs>\n  <clipPath id=\"p1b971f83f5\">\n   <rect height=\"215.764\" width=\"230.2854\" x=\"7.2\" y=\"7.2\"/>\n  </clipPath>\n </defs>\n</svg>\n",
            "image/png": "[encoded data removed]"
          },
          "metadata": {},
          "execution_count": 81
        }
      ],
      "source": [
        "# NOR回路\n",
        "\n",
        "d = Drawing(unit=.5)\n",
        "\n",
        "d += elm.Vdd().label('$V_{dd}$')\n",
        "d += elm.Line().down()\n",
        "d += elm.Resistor().down().label('R') \n",
        "d += elm.Line().down()\n",
        "d += (dot01 := elm.Dot())\n",
        "d += elm.Line().right().label('$C_{out}$', 'right')\n",
        "d += (net01 := elm.Line().at(dot01.end).down())\n",
        "\n",
        "d += elm.Line().left().at(net01.end)\n",
        "d += (net02 := elm.Line().down())\n",
        "d += (NMOS01 := elm.NFet().reverse().at(net02.end).label('FET', 'right', fontsize=10, ofst=(0.1,0)).anchor('drain').theta(0))\n",
        "d += elm.Line().left().at(NMOS01.gate).label('$A_{in}$', 'left')\n",
        "d += elm.Line().down().at(NMOS01.source)\n",
        "d += elm.Ground()\n",
        "\n",
        "d += elm.Line().right().at(net01.end).length(3.0)\n",
        "d += (net03 := elm.Line().down())\n",
        "d += (NMOS02 := elm.NFet().reverse().at(net03.end).label('FET', 'right', fontsize=10, ofst=(0.1,0)).anchor('drain').theta(0))\n",
        "d += elm.Line().left().at(NMOS02.gate).label('$B_{in}$', 'left')\n",
        "d += elm.Line().down().at(NMOS02.source)\n",
        "d += elm.Ground()\n",
        "\n",
        "d.draw()\n"
      ]
    },
    {
      "cell_type": "markdown",
      "source": [
        "OR回路"
      ],
      "metadata": {
        "id": "1SaCIHITjenq"
      }
    },
    {
      "cell_type": "markdown",
      "source": [
        "NAND・AND回路と同じで，\n",
        "\n",
        "上のNOR回路と次のOR回路を比べると，トランジスターの数はNOR回路の方が少ないので\n",
        "\n",
        "実務上はNORの回路の方が効率が良い\n",
        "\n",
        "したがって，ORゲートよりもNORゲートのほうが作りやすい"
      ],
      "metadata": {
        "id": "Lb5U4TdQNr_D"
      }
    },
    {
      "cell_type": "code",
      "execution_count": null,
      "metadata": {
        "tags": [
          "hide-input"
        ],
        "colab": {
          "base_uri": "https://localhost:8080/",
          "height": 336
        },
        "outputId": "e8027772-44c9-4f9b-b32a-ee2edc6b4f99",
        "id": "Itasyij7NqXd"
      },
      "outputs": [
        {
          "output_type": "execute_result",
          "data": {
            "text/plain": [
              "<schemdraw.backends.mpl.Figure object at 0x7f600730be80>"
            ],
            "image/svg+xml": "<?xml version=\"1.0\" encoding=\"utf-8\" standalone=\"no\"?>\n<!DOCTYPE svg PUBLIC \"-//W3C//DTD SVG 1.1//EN\"\n  \"http://www.w3.org/Graphics/SVG/1.1/DTD/svg11.dtd\">\n<!-- Created with matplotlib (https://matplotlib.org/) -->\n<svg height=\"236.284pt\" version=\"1.1\" viewBox=\"0 0 344.778 236.284\" width=\"344.778pt\" xmlns=\"http://www.w3.org/2000/svg\" xmlns:xlink=\"http://www.w3.org/1999/xlink\">\n <defs>\n  <style type=\"text/css\">\n*{stroke-linecap:butt;stroke-linejoin:round;}\n  </style>\n </defs>\n <g id=\"figure_1\">\n  <g id=\"patch_1\">\n   <path d=\"M 0 236.284 \nL 344.778 236.284 \nL 344.778 0 \nL 0 0 \nz\n\" style=\"fill:#ffffff;\"/>\n  </g>\n  <g id=\"axes_1\">\n   <g id=\"line2d_1\">\n    <path clip-path=\"url(#p6b7c564c2b)\" d=\"M 111.9234 51.91 \nL 111.9234 39.67 \n\" style=\"fill:none;stroke:#000000;stroke-linecap:round;stroke-width:2;\"/>\n   </g>\n   <g id=\"line2d_2\">\n    <path clip-path=\"url(#p6b7c564c2b)\" d=\"M 111.9234 39.67 \nL 106.1859 39.67 \n\" style=\"fill:none;stroke:#000000;stroke-linecap:round;stroke-width:2;\"/>\n   </g>\n   <g id=\"line2d_3\">\n    <path clip-path=\"url(#p6b7c564c2b)\" d=\"M 111.9234 39.67 \nL 117.6609 39.67 \n\" style=\"fill:none;stroke:#000000;stroke-linecap:round;stroke-width:2;\"/>\n   </g>\n   <g id=\"line2d_4\">\n    <path clip-path=\"url(#p6b7c564c2b)\" d=\"M 111.9234 51.91 \nL 111.9234 59.56 \nL 111.9234 67.21 \n\" style=\"fill:none;stroke:#000000;stroke-linecap:round;stroke-width:2;\"/>\n   </g>\n   <g id=\"line2d_5\">\n    <path clip-path=\"url(#p6b7c564c2b)\" d=\"M 111.9234 67.21 \nL 119.5734 69.76 \nL 104.2734 74.86 \nL 119.5734 79.96 \nL 104.2734 85.06 \nL 119.5734 90.16 \nL 104.2734 95.26 \nL 111.9234 97.81 \n\" style=\"fill:none;stroke:#000000;stroke-linecap:round;stroke-width:2;\"/>\n   </g>\n   <g id=\"line2d_6\">\n    <path clip-path=\"url(#p6b7c564c2b)\" d=\"M 111.9234 97.81 \nL 111.9234 105.46 \nL 111.9234 113.11 \n\" style=\"fill:none;stroke:#000000;stroke-linecap:round;stroke-width:2;\"/>\n   </g>\n   <g id=\"line2d_7\">\n    <path clip-path=\"url(#p6b7c564c2b)\" d=\"M 111.9234 113.11 \nL 111.9234 120.76 \nL 111.9234 128.41 \n\" style=\"fill:none;stroke:#000000;stroke-linecap:round;stroke-width:2;\"/>\n   </g>\n   <g id=\"line2d_8\">\n    <path clip-path=\"url(#p6b7c564c2b)\" d=\"M 111.9234 128.41 \nL 104.2734 128.41 \nL 96.6234 128.41 \n\" style=\"fill:none;stroke:#000000;stroke-linecap:round;stroke-width:2;\"/>\n   </g>\n   <g id=\"line2d_9\">\n    <path clip-path=\"url(#p6b7c564c2b)\" d=\"M 96.6234 128.41 \nL 96.6234 136.06 \nL 96.6234 143.71 \n\" style=\"fill:none;stroke:#000000;stroke-linecap:round;stroke-width:2;\"/>\n   </g>\n   <g id=\"line2d_10\">\n    <path clip-path=\"url(#p6b7c564c2b)\" d=\"M 96.6234 189.61 \nL 96.6234 176.86 \nL 76.2234 176.86 \nL 76.2234 156.46 \nL 96.6234 156.46 \nL 96.6234 143.71 \n\" style=\"fill:none;stroke:#000000;stroke-linecap:round;stroke-width:2;\"/>\n   </g>\n   <g id=\"line2d_11\">\n    <path clip-path=\"url(#p6b7c564c2b)\" d=\"M 71.1234 176.86 \nL 71.1234 156.46 \n\" style=\"fill:none;stroke:#000000;stroke-linecap:round;stroke-width:2;\"/>\n   </g>\n   <g id=\"line2d_12\">\n    <path clip-path=\"url(#p6b7c564c2b)\" d=\"M 54.8034 166.66 \nL 71.1234 166.66 \n\" style=\"fill:none;stroke:#000000;stroke-linecap:round;stroke-width:2;\"/>\n   </g>\n   <g id=\"line2d_13\">\n    <path clip-path=\"url(#p6b7c564c2b)\" d=\"M 54.8034 166.66 \nL 47.1534 166.66 \nL 39.5034 166.66 \n\" style=\"fill:none;stroke:#000000;stroke-linecap:round;stroke-width:2;\"/>\n   </g>\n   <g id=\"line2d_14\">\n    <path clip-path=\"url(#p6b7c564c2b)\" d=\"M 96.6234 189.61 \nL 96.6234 197.26 \nL 96.6234 204.91 \n\" style=\"fill:none;stroke:#000000;stroke-linecap:round;stroke-width:2;\"/>\n   </g>\n   <g id=\"line2d_15\">\n    <path clip-path=\"url(#p6b7c564c2b)\" d=\"M 96.6234 204.91 \nL 96.6234 217.15 \nL 88.9734 217.15 \nL 104.2734 217.15 \nM 91.2684 220.822 \nL 101.9784 220.822 \nM 95.0934 224.494 \nL 98.1534 224.494 \n\" style=\"fill:none;stroke:#000000;stroke-linecap:round;stroke-width:2;\"/>\n   </g>\n   <g id=\"line2d_16\">\n    <path clip-path=\"url(#p6b7c564c2b)\" d=\"M 111.9234 128.41 \nL 157.8234 128.41 \nL 203.7234 128.41 \n\" style=\"fill:none;stroke:#000000;stroke-linecap:round;stroke-width:2;\"/>\n   </g>\n   <g id=\"line2d_17\">\n    <path clip-path=\"url(#p6b7c564c2b)\" d=\"M 203.7234 128.41 \nL 203.7234 136.06 \nL 203.7234 143.71 \n\" style=\"fill:none;stroke:#000000;stroke-linecap:round;stroke-width:2;\"/>\n   </g>\n   <g id=\"line2d_18\">\n    <path clip-path=\"url(#p6b7c564c2b)\" d=\"M 203.7234 189.61 \nL 203.7234 176.86 \nL 183.3234 176.86 \nL 183.3234 156.46 \nL 203.7234 156.46 \nL 203.7234 143.71 \n\" style=\"fill:none;stroke:#000000;stroke-linecap:round;stroke-width:2;\"/>\n   </g>\n   <g id=\"line2d_19\">\n    <path clip-path=\"url(#p6b7c564c2b)\" d=\"M 178.2234 176.86 \nL 178.2234 156.46 \n\" style=\"fill:none;stroke:#000000;stroke-linecap:round;stroke-width:2;\"/>\n   </g>\n   <g id=\"line2d_20\">\n    <path clip-path=\"url(#p6b7c564c2b)\" d=\"M 161.9034 166.66 \nL 178.2234 166.66 \n\" style=\"fill:none;stroke:#000000;stroke-linecap:round;stroke-width:2;\"/>\n   </g>\n   <g id=\"line2d_21\">\n    <path clip-path=\"url(#p6b7c564c2b)\" d=\"M 161.9034 166.66 \nL 154.2534 166.66 \nL 146.6034 166.66 \n\" style=\"fill:none;stroke:#000000;stroke-linecap:round;stroke-width:2;\"/>\n   </g>\n   <g id=\"line2d_22\">\n    <path clip-path=\"url(#p6b7c564c2b)\" d=\"M 203.7234 189.61 \nL 203.7234 197.26 \nL 203.7234 204.91 \n\" style=\"fill:none;stroke:#000000;stroke-linecap:round;stroke-width:2;\"/>\n   </g>\n   <g id=\"line2d_23\">\n    <path clip-path=\"url(#p6b7c564c2b)\" d=\"M 203.7234 204.91 \nL 203.7234 217.15 \nL 196.0734 217.15 \nL 211.3734 217.15 \nM 198.3684 220.822 \nL 209.0784 220.822 \nM 202.1934 224.494 \nL 205.2534 224.494 \n\" style=\"fill:none;stroke:#000000;stroke-linecap:round;stroke-width:2;\"/>\n   </g>\n   <g id=\"line2d_24\">\n    <path clip-path=\"url(#p6b7c564c2b)\" d=\"M 111.9234 113.11 \nL 173.1234 113.11 \nL 234.3234 113.11 \n\" style=\"fill:none;stroke:#000000;stroke-linecap:round;stroke-width:2;\"/>\n   </g>\n   <g id=\"line2d_25\">\n    <path clip-path=\"url(#p6b7c564c2b)\" d=\"M 234.3234 113.11 \nL 234.3234 140.65 \nL 234.3234 168.19 \n\" style=\"fill:none;stroke:#000000;stroke-linecap:round;stroke-width:2;\"/>\n   </g>\n   <g id=\"line2d_26\">\n    <path clip-path=\"url(#p6b7c564c2b)\" d=\"M 276.1434 191.14 \nL 276.1434 178.39 \nL 255.7434 178.39 \nL 255.7434 157.99 \nL 276.1434 157.99 \nL 276.1434 145.24 \n\" style=\"fill:none;stroke:#000000;stroke-linecap:round;stroke-width:2;\"/>\n   </g>\n   <g id=\"line2d_27\">\n    <path clip-path=\"url(#p6b7c564c2b)\" d=\"M 250.6434 178.39 \nL 250.6434 157.99 \n\" style=\"fill:none;stroke:#000000;stroke-linecap:round;stroke-width:2;\"/>\n   </g>\n   <g id=\"line2d_28\">\n    <path clip-path=\"url(#p6b7c564c2b)\" d=\"M 234.3234 168.19 \nL 250.6434 168.19 \n\" style=\"fill:none;stroke:#000000;stroke-linecap:round;stroke-width:2;\"/>\n   </g>\n   <g id=\"line2d_29\">\n    <path clip-path=\"url(#p6b7c564c2b)\" d=\"M 276.1434 145.24 \nL 276.1434 126.88 \nL 276.1434 108.52 \n\" style=\"fill:none;stroke:#000000;stroke-linecap:round;stroke-width:2;\"/>\n   </g>\n   <g id=\"line2d_30\">\n    <path clip-path=\"url(#p6b7c564c2b)\" d=\"M 276.1434 108.52 \nL 283.7934 108.52 \nL 291.4434 108.52 \n\" style=\"fill:none;stroke:#000000;stroke-linecap:round;stroke-width:2;\"/>\n   </g>\n   <g id=\"line2d_31\">\n    <path clip-path=\"url(#p6b7c564c2b)\" d=\"M 276.1434 108.52 \nL 276.1434 100.87 \nL 276.1434 93.22 \n\" style=\"fill:none;stroke:#000000;stroke-linecap:round;stroke-width:2;\"/>\n   </g>\n   <g id=\"line2d_32\">\n    <path clip-path=\"url(#p6b7c564c2b)\" d=\"M 276.1434 93.22 \nL 268.4934 90.67 \nL 283.7934 85.57 \nL 268.4934 80.47 \nL 283.7934 75.37 \nL 268.4934 70.27 \nL 283.7934 65.17 \nL 276.1434 62.62 \n\" style=\"fill:none;stroke:#000000;stroke-linecap:round;stroke-width:2;\"/>\n   </g>\n   <g id=\"line2d_33\">\n    <path clip-path=\"url(#p6b7c564c2b)\" d=\"M 276.1434 62.62 \nL 276.1434 54.97 \nL 276.1434 47.32 \n\" style=\"fill:none;stroke:#000000;stroke-linecap:round;stroke-width:2;\"/>\n   </g>\n   <g id=\"line2d_34\">\n    <path clip-path=\"url(#p6b7c564c2b)\" d=\"M 276.1434 47.32 \nL 276.1434 35.08 \n\" style=\"fill:none;stroke:#000000;stroke-linecap:round;stroke-width:2;\"/>\n   </g>\n   <g id=\"line2d_35\">\n    <path clip-path=\"url(#p6b7c564c2b)\" d=\"M 276.1434 35.08 \nL 270.4059 35.08 \n\" style=\"fill:none;stroke:#000000;stroke-linecap:round;stroke-width:2;\"/>\n   </g>\n   <g id=\"line2d_36\">\n    <path clip-path=\"url(#p6b7c564c2b)\" d=\"M 276.1434 35.08 \nL 281.8809 35.08 \n\" style=\"fill:none;stroke:#000000;stroke-linecap:round;stroke-width:2;\"/>\n   </g>\n   <g id=\"line2d_37\">\n    <path clip-path=\"url(#p6b7c564c2b)\" d=\"M 276.1434 191.14 \nL 276.1434 198.79 \nL 276.1434 206.44 \n\" style=\"fill:none;stroke:#000000;stroke-linecap:round;stroke-width:2;\"/>\n   </g>\n   <g id=\"line2d_38\">\n    <path clip-path=\"url(#p6b7c564c2b)\" d=\"M 276.1434 206.44 \nL 276.1434 218.68 \nL 268.4934 218.68 \nL 283.7934 218.68 \nM 270.7884 222.352 \nL 281.4984 222.352 \nM 274.6134 226.024 \nL 277.6734 226.024 \n\" style=\"fill:none;stroke:#000000;stroke-linecap:round;stroke-width:2;\"/>\n   </g>\n   <g id=\"text_1\">\n    <g clip-path=\"url(#p6b7c564c2b)\">\n     <!-- $V_{dd}$ -->\n     <defs>\n      <path d=\"M 20.609375 0 \nL 7.8125 72.90625 \nL 17.484375 72.90625 \nL 28.078125 10.203125 \nL 63.484375 72.90625 \nL 74.21875 72.90625 \nL 32.078125 0 \nz\n\" id=\"DejaVuSans-Oblique-86\"/>\n      <path d=\"M 41.796875 8.203125 \nQ 38.1875 3.46875 33.25 1.015625 \nQ 28.328125 -1.421875 22.3125 -1.421875 \nQ 14.109375 -1.421875 9.34375 4.171875 \nQ 4.59375 9.765625 4.59375 19.484375 \nQ 4.59375 27.59375 7.46875 34.9375 \nQ 10.359375 42.28125 15.828125 48.09375 \nQ 19.4375 51.953125 23.96875 53.96875 \nQ 28.515625 56 33.5 56 \nQ 38.765625 56 42.796875 53.453125 \nQ 46.828125 50.921875 49.03125 46.1875 \nL 54.890625 75.984375 \nL 63.921875 75.984375 \nL 49.125 0 \nL 40.09375 0 \nz\nM 13.921875 21.09375 \nQ 13.921875 14.015625 17.109375 10.0625 \nQ 20.3125 6.109375 25.984375 6.109375 \nQ 30.171875 6.109375 33.765625 8.125 \nQ 37.359375 10.15625 40.09375 14.109375 \nQ 42.96875 18.21875 44.625 23.578125 \nQ 46.296875 28.953125 46.296875 34.1875 \nQ 46.296875 40.96875 43.09375 44.765625 \nQ 39.890625 48.578125 34.28125 48.578125 \nQ 30.03125 48.578125 26.359375 46.578125 \nQ 22.703125 44.578125 20.125 40.828125 \nQ 17.28125 36.765625 15.59375 31.390625 \nQ 13.921875 26.03125 13.921875 21.09375 \nz\n\" id=\"DejaVuSans-Oblique-100\"/>\n     </defs>\n     <g transform=\"translate(101.8609 34.010391)scale(0.125 -0.125)\">\n      <use transform=\"translate(0 0.09375)\" xlink:href=\"#DejaVuSans-Oblique-86\"/>\n      <use transform=\"translate(68.408203 -16.3125)scale(0.7)\" xlink:href=\"#DejaVuSans-Oblique-100\"/>\n      <use transform=\"translate(112.841797 -16.3125)scale(0.7)\" xlink:href=\"#DejaVuSans-Oblique-100\"/>\n     </g>\n    </g>\n   </g>\n   <g id=\"text_2\">\n    <g clip-path=\"url(#p6b7c564c2b)\">\n     <!-- R -->\n     <defs>\n      <path d=\"M 44.390625 34.1875 \nQ 47.5625 33.109375 50.5625 29.59375 \nQ 53.5625 26.078125 56.59375 19.921875 \nL 66.609375 0 \nL 56 0 \nL 46.6875 18.703125 \nQ 43.0625 26.03125 39.671875 28.421875 \nQ 36.28125 30.8125 30.421875 30.8125 \nL 19.671875 30.8125 \nL 19.671875 0 \nL 9.8125 0 \nL 9.8125 72.90625 \nL 32.078125 72.90625 \nQ 44.578125 72.90625 50.734375 67.671875 \nQ 56.890625 62.453125 56.890625 51.90625 \nQ 56.890625 45.015625 53.6875 40.46875 \nQ 50.484375 35.9375 44.390625 34.1875 \nz\nM 19.671875 64.796875 \nL 19.671875 38.921875 \nL 32.078125 38.921875 \nQ 39.203125 38.921875 42.84375 42.21875 \nQ 46.484375 45.515625 46.484375 51.90625 \nQ 46.484375 58.296875 42.84375 61.546875 \nQ 39.203125 64.796875 32.078125 64.796875 \nz\n\" id=\"DejaVuSans-82\"/>\n     </defs>\n     <g transform=\"translate(92.527853 85.959219)scale(0.125 -0.125)\">\n      <use xlink:href=\"#DejaVuSans-82\"/>\n     </g>\n    </g>\n   </g>\n   <g id=\"text_3\">\n    <g clip-path=\"url(#p6b7c564c2b)\">\n     <!-- FET -->\n     <defs>\n      <path d=\"M 9.8125 72.90625 \nL 51.703125 72.90625 \nL 51.703125 64.59375 \nL 19.671875 64.59375 \nL 19.671875 43.109375 \nL 48.578125 43.109375 \nL 48.578125 34.8125 \nL 19.671875 34.8125 \nL 19.671875 0 \nL 9.8125 0 \nz\n\" id=\"DejaVuSans-70\"/>\n      <path d=\"M 9.8125 72.90625 \nL 55.90625 72.90625 \nL 55.90625 64.59375 \nL 19.671875 64.59375 \nL 19.671875 43.015625 \nL 54.390625 43.015625 \nL 54.390625 34.71875 \nL 19.671875 34.71875 \nL 19.671875 8.296875 \nL 56.78125 8.296875 \nL 56.78125 0 \nL 9.8125 0 \nz\n\" id=\"DejaVuSans-69\"/>\n      <path d=\"M -0.296875 72.90625 \nL 61.375 72.90625 \nL 61.375 64.59375 \nL 35.5 64.59375 \nL 35.5 0 \nL 25.59375 0 \nL 25.59375 64.59375 \nL -0.296875 64.59375 \nz\n\" id=\"DejaVuSans-84\"/>\n     </defs>\n     <g transform=\"translate(99.6834 169.005469)scale(0.085 -0.085)\">\n      <use xlink:href=\"#DejaVuSans-70\"/>\n      <use x=\"57.519531\" xlink:href=\"#DejaVuSans-69\"/>\n      <use x=\"120.703125\" xlink:href=\"#DejaVuSans-84\"/>\n     </g>\n    </g>\n   </g>\n   <g id=\"text_4\">\n    <g clip-path=\"url(#p6b7c564c2b)\">\n     <!-- $A_{in}$ -->\n     <defs>\n      <path d=\"M 36.8125 72.90625 \nL 48 72.90625 \nL 61.53125 0 \nL 51.21875 0 \nL 48.1875 18.703125 \nL 15.375 18.703125 \nL 5.078125 0 \nL -5.328125 0 \nz\nM 40.375 63.1875 \nL 19.921875 26.90625 \nL 46.6875 26.90625 \nz\n\" id=\"DejaVuSans-Oblique-65\"/>\n      <path d=\"M 18.3125 75.984375 \nL 27.296875 75.984375 \nL 25.09375 64.59375 \nL 16.109375 64.59375 \nz\nM 14.203125 54.6875 \nL 23.1875 54.6875 \nL 12.5 0 \nL 3.515625 0 \nz\n\" id=\"DejaVuSans-Oblique-105\"/>\n      <path d=\"M 55.71875 33.015625 \nL 49.3125 0 \nL 40.28125 0 \nL 46.6875 32.671875 \nQ 47.125 34.96875 47.359375 36.71875 \nQ 47.609375 38.484375 47.609375 39.5 \nQ 47.609375 43.609375 45.015625 45.890625 \nQ 42.4375 48.1875 37.796875 48.1875 \nQ 30.5625 48.1875 25.34375 43.375 \nQ 20.125 38.578125 18.5 30.328125 \nL 12.5 0 \nL 3.515625 0 \nL 14.109375 54.6875 \nL 23.09375 54.6875 \nL 21.296875 46.09375 \nQ 25.046875 50.828125 30.3125 53.40625 \nQ 35.59375 56 41.40625 56 \nQ 48.640625 56 52.609375 52.09375 \nQ 56.59375 48.1875 56.59375 41.109375 \nQ 56.59375 39.359375 56.375 37.359375 \nQ 56.15625 35.359375 55.71875 33.015625 \nz\n\" id=\"DejaVuSans-Oblique-110\"/>\n     </defs>\n     <g transform=\"translate(19.5684 170.109219)scale(0.125 -0.125)\">\n      <use transform=\"translate(0 0.09375)\" xlink:href=\"#DejaVuSans-Oblique-65\"/>\n      <use transform=\"translate(68.408203 -16.3125)scale(0.7)\" xlink:href=\"#DejaVuSans-Oblique-105\"/>\n      <use transform=\"translate(87.856445 -16.3125)scale(0.7)\" xlink:href=\"#DejaVuSans-Oblique-110\"/>\n     </g>\n    </g>\n   </g>\n   <g id=\"text_5\">\n    <g clip-path=\"url(#p6b7c564c2b)\">\n     <!-- FET -->\n     <g transform=\"translate(206.7834 169.005469)scale(0.085 -0.085)\">\n      <use xlink:href=\"#DejaVuSans-70\"/>\n      <use x=\"57.519531\" xlink:href=\"#DejaVuSans-69\"/>\n      <use x=\"120.703125\" xlink:href=\"#DejaVuSans-84\"/>\n     </g>\n    </g>\n   </g>\n   <g id=\"text_6\">\n    <g clip-path=\"url(#p6b7c564c2b)\">\n     <!-- $B_{in}$ -->\n     <defs>\n      <path d=\"M 16.890625 72.90625 \nL 42.09375 72.90625 \nQ 52.34375 72.90625 57.421875 69.09375 \nQ 62.5 65.28125 62.5 57.625 \nQ 62.5 50.59375 58.125 45.484375 \nQ 53.765625 40.375 46.6875 39.3125 \nQ 52.734375 37.9375 55.765625 34.078125 \nQ 58.796875 30.21875 58.796875 23.78125 \nQ 58.796875 12.796875 50.65625 6.390625 \nQ 42.53125 0 28.421875 0 \nL 2.6875 0 \nz\nM 19.28125 34.8125 \nL 14.109375 8.109375 \nL 29.984375 8.109375 \nQ 38.921875 8.109375 43.75 12.203125 \nQ 48.578125 16.3125 48.578125 23.78125 \nQ 48.578125 29.546875 45.375 32.171875 \nQ 42.1875 34.8125 35.109375 34.8125 \nz\nM 25.09375 64.796875 \nL 20.796875 42.828125 \nL 35.5 42.828125 \nQ 43.359375 42.828125 47.78125 46.234375 \nQ 52.203125 49.65625 52.203125 55.71875 \nQ 52.203125 60.453125 49.21875 62.625 \nQ 46.234375 64.796875 39.703125 64.796875 \nz\n\" id=\"DejaVuSans-Oblique-66\"/>\n     </defs>\n     <g transform=\"translate(126.5434 170.109219)scale(0.125 -0.125)\">\n      <use transform=\"translate(0 0.09375)\" xlink:href=\"#DejaVuSans-Oblique-66\"/>\n      <use transform=\"translate(68.603516 -16.3125)scale(0.7)\" xlink:href=\"#DejaVuSans-Oblique-105\"/>\n      <use transform=\"translate(88.051758 -16.3125)scale(0.7)\" xlink:href=\"#DejaVuSans-Oblique-110\"/>\n     </g>\n    </g>\n   </g>\n   <g id=\"text_7\">\n    <g clip-path=\"url(#p6b7c564c2b)\">\n     <!-- FET -->\n     <g transform=\"translate(279.2034 170.535469)scale(0.085 -0.085)\">\n      <use xlink:href=\"#DejaVuSans-70\"/>\n      <use x=\"57.519531\" xlink:href=\"#DejaVuSans-69\"/>\n      <use x=\"120.703125\" xlink:href=\"#DejaVuSans-84\"/>\n     </g>\n    </g>\n   </g>\n   <g id=\"text_8\">\n    <g clip-path=\"url(#p6b7c564c2b)\">\n     <!-- $C_{out}$ -->\n     <defs>\n      <path d=\"M 69.484375 67.28125 \nL 67.484375 56.890625 \nQ 62.796875 61.625 57.546875 63.921875 \nQ 52.296875 66.21875 46.1875 66.21875 \nQ 37.84375 66.21875 31.515625 62.203125 \nQ 25.203125 58.203125 20.609375 50 \nQ 17.671875 44.734375 16.125 38.84375 \nQ 14.59375 32.953125 14.59375 27 \nQ 14.59375 17.046875 19.75 11.8125 \nQ 24.90625 6.59375 34.71875 6.59375 \nQ 41.5 6.59375 47.75 8.765625 \nQ 54 10.9375 59.90625 15.28125 \nL 57.625 3.609375 \nQ 51.8125 1.125 45.875 -0.140625 \nQ 39.9375 -1.421875 33.984375 -1.421875 \nQ 19.96875 -1.421875 12.078125 6.1875 \nQ 4.203125 13.8125 4.203125 27.390625 \nQ 4.203125 36.078125 7.203125 44.46875 \nQ 10.203125 52.875 15.828125 59.8125 \nQ 21.78125 67.1875 29.421875 70.703125 \nQ 37.0625 74.21875 47.21875 74.21875 \nQ 53.46875 74.21875 59.0625 72.484375 \nQ 64.65625 70.75 69.484375 67.28125 \nz\n\" id=\"DejaVuSans-Oblique-67\"/>\n      <path d=\"M 25.390625 -1.421875 \nQ 15.765625 -1.421875 10.171875 4.515625 \nQ 4.59375 10.453125 4.59375 20.703125 \nQ 4.59375 26.65625 6.515625 32.828125 \nQ 8.453125 39.015625 11.53125 43.21875 \nQ 16.359375 49.75 22.3125 52.875 \nQ 28.265625 56 35.796875 56 \nQ 45.125 56 50.859375 50.1875 \nQ 56.59375 44.390625 56.59375 35.015625 \nQ 56.59375 28.515625 54.6875 22.0625 \nQ 52.78125 15.625 49.703125 11.375 \nQ 44.921875 4.828125 38.96875 1.703125 \nQ 33.015625 -1.421875 25.390625 -1.421875 \nz\nM 13.921875 21 \nQ 13.921875 13.578125 17.015625 9.890625 \nQ 20.125 6.203125 26.421875 6.203125 \nQ 35.453125 6.203125 41.375 14.078125 \nQ 47.3125 21.96875 47.3125 34.078125 \nQ 47.3125 41.15625 44.140625 44.765625 \nQ 40.96875 48.390625 34.8125 48.390625 \nQ 29.734375 48.390625 25.78125 46.015625 \nQ 21.828125 43.65625 18.703125 38.8125 \nQ 16.40625 35.203125 15.15625 30.5625 \nQ 13.921875 25.921875 13.921875 21 \nz\n\" id=\"DejaVuSans-Oblique-111\"/>\n      <path d=\"M 6.6875 21.6875 \nL 13.09375 54.6875 \nL 22.125 54.6875 \nL 15.71875 22.015625 \nQ 15.234375 19.625 15.015625 17.921875 \nQ 14.796875 16.21875 14.796875 15.09375 \nQ 14.796875 10.9375 17.328125 8.65625 \nQ 19.875 6.390625 24.515625 6.390625 \nQ 31.734375 6.390625 37 11.265625 \nQ 42.28125 16.15625 43.890625 24.421875 \nL 49.90625 54.6875 \nL 58.890625 54.6875 \nL 48.296875 0 \nL 39.3125 0 \nL 41.109375 8.59375 \nQ 37.3125 3.8125 32.0625 1.1875 \nQ 26.8125 -1.421875 20.90625 -1.421875 \nQ 13.71875 -1.421875 9.71875 2.515625 \nQ 5.71875 6.453125 5.71875 13.484375 \nQ 5.71875 14.9375 5.953125 17.140625 \nQ 6.203125 19.34375 6.6875 21.6875 \nz\n\" id=\"DejaVuSans-Oblique-117\"/>\n      <path d=\"M 42.28125 54.6875 \nL 40.921875 47.703125 \nL 23 47.703125 \nL 17.1875 18.015625 \nQ 16.890625 16.359375 16.75 15.234375 \nQ 16.609375 14.109375 16.609375 13.484375 \nQ 16.609375 10.359375 18.484375 8.9375 \nQ 20.359375 7.515625 24.515625 7.515625 \nL 33.59375 7.515625 \nL 32.078125 0 \nL 23.484375 0 \nQ 15.484375 0 11.546875 3.125 \nQ 7.625 6.25 7.625 12.59375 \nQ 7.625 13.71875 7.765625 15.0625 \nQ 7.90625 16.40625 8.203125 18.015625 \nL 14.015625 47.703125 \nL 6.390625 47.703125 \nL 7.8125 54.6875 \nL 15.28125 54.6875 \nL 18.3125 70.21875 \nL 27.296875 70.21875 \nL 24.3125 54.6875 \nz\n\" id=\"DejaVuSans-Oblique-116\"/>\n     </defs>\n     <g transform=\"translate(294.5034 111.969219)scale(0.125 -0.125)\">\n      <use transform=\"translate(0 0.78125)\" xlink:href=\"#DejaVuSans-Oblique-67\"/>\n      <use transform=\"translate(69.824219 -15.625)scale(0.7)\" xlink:href=\"#DejaVuSans-Oblique-111\"/>\n      <use transform=\"translate(112.651367 -15.625)scale(0.7)\" xlink:href=\"#DejaVuSans-Oblique-117\"/>\n      <use transform=\"translate(157.016602 -15.625)scale(0.7)\" xlink:href=\"#DejaVuSans-Oblique-116\"/>\n     </g>\n    </g>\n   </g>\n   <g id=\"text_9\">\n    <g clip-path=\"url(#p6b7c564c2b)\">\n     <!-- R -->\n     <g transform=\"translate(256.747853 81.369219)scale(0.125 -0.125)\">\n      <use xlink:href=\"#DejaVuSans-82\"/>\n     </g>\n    </g>\n   </g>\n   <g id=\"text_10\">\n    <g clip-path=\"url(#p6b7c564c2b)\">\n     <!-- $V_{dd}$ -->\n     <g transform=\"translate(266.0809 29.420391)scale(0.125 -0.125)\">\n      <use transform=\"translate(0 0.09375)\" xlink:href=\"#DejaVuSans-Oblique-86\"/>\n      <use transform=\"translate(68.408203 -16.3125)scale(0.7)\" xlink:href=\"#DejaVuSans-Oblique-100\"/>\n      <use transform=\"translate(112.841797 -16.3125)scale(0.7)\" xlink:href=\"#DejaVuSans-Oblique-100\"/>\n     </g>\n    </g>\n   </g>\n   <g id=\"patch_2\">\n    <path clip-path=\"url(#p6b7c564c2b)\" d=\"M 111.9234 115.405 \nC 112.532041 115.405 113.115836 115.163184 113.54621 114.73281 \nC 113.976584 114.302436 114.2184 113.718641 114.2184 113.11 \nC 114.2184 112.501359 113.976584 111.917564 113.54621 111.48719 \nC 113.115836 111.056816 112.532041 110.815 111.9234 110.815 \nC 111.314759 110.815 110.730964 111.056816 110.30059 111.48719 \nC 109.870216 111.917564 109.6284 112.501359 109.6284 113.11 \nC 109.6284 113.718641 109.870216 114.302436 110.30059 114.73281 \nC 110.730964 115.163184 111.314759 115.405 111.9234 115.405 \nz\n\" style=\"stroke:#000000;stroke-linejoin:miter;stroke-width:2;\"/>\n   </g>\n   <g id=\"patch_3\">\n    <path clip-path=\"url(#p6b7c564c2b)\" d=\"M 276.1434 110.815 \nC 276.752041 110.815 277.335836 110.573184 277.76621 110.14281 \nC 278.196584 109.712436 278.4384 109.128641 278.4384 108.52 \nC 278.4384 107.911359 278.196584 107.327564 277.76621 106.89719 \nC 277.335836 106.466816 276.752041 106.225 276.1434 106.225 \nC 275.534759 106.225 274.950964 106.466816 274.52059 106.89719 \nC 274.090216 107.327564 273.8484 107.911359 273.8484 108.52 \nC 273.8484 109.128641 274.090216 109.712436 274.52059 110.14281 \nC 274.950964 110.573184 275.534759 110.815 276.1434 110.815 \nz\n\" style=\"stroke:#000000;stroke-linejoin:miter;stroke-width:2;\"/>\n   </g>\n  </g>\n </g>\n <defs>\n  <clipPath id=\"p6b7c564c2b\">\n   <rect height=\"221.884\" width=\"330.378\" x=\"7.2\" y=\"7.2\"/>\n  </clipPath>\n </defs>\n</svg>\n",
            "image/png": "[encoded data removed]"
          },
          "metadata": {},
          "execution_count": 82
        }
      ],
      "source": [
        "# OR回路\n",
        "\n",
        "d = Drawing(unit=.5)\n",
        "\n",
        "d += elm.Vdd().label('$V_{dd}$')\n",
        "d += elm.Line().down()\n",
        "d += elm.Resistor().down().label('R') \n",
        "d += elm.Line().down()\n",
        "d.push()\n",
        "d += (dot01 := elm.Dot())\n",
        "d += (net01 := elm.Line().at(dot01.end).down())\n",
        "d += elm.Line().left().at(net01.end)\n",
        "d += (net02 := elm.Line().down())\n",
        "d += (NMOS01 := elm.NFet().reverse().at(net02.end).label('FET', 'right', fontsize=10, ofst=(0.1,0)).anchor('drain').theta(0))\n",
        "d += elm.Line().left().at(NMOS01.gate).label('$A_{in}$', 'left')\n",
        "d += elm.Line().down().at(NMOS01.source)\n",
        "d += elm.Ground()\n",
        "\n",
        "d += elm.Line().right().at(net01.end).length(3.0)\n",
        "d += (net03 := elm.Line().down())\n",
        "d += (NMOS02 := elm.NFet().reverse().at(net03.end).label('FET', 'right', fontsize=10, ofst=(0.1,0)).anchor('drain').theta(0))\n",
        "d += elm.Line().left().at(NMOS02.gate).label('$B_{in}$', 'left')\n",
        "d += elm.Line().down().at(NMOS02.source)\n",
        "d += elm.Ground()\n",
        "\n",
        "# NOT回路\n",
        "d.pop()\n",
        "d += elm.Line().right().length(4.0)\n",
        "d += (net03 := elm.Line().down().length(1.8))\n",
        "d += (NMOS3 := elm.NFet().reverse().at(net03.end).label('FET', 'right', fontsize=10, ofst=(0.1,0)).anchor('gate').theta(0))\n",
        "d += elm.Line().up().at(NMOS3.drain).length(1.2)\n",
        "d += (dot01 := elm.Dot())\n",
        "d += elm.Line().right().length(0.5).label('$C_{out}$', 'right')\n",
        "d += elm.Line().up().at(dot01.end)\n",
        "d += elm.Resistor().up().label('R') \n",
        "d += elm.Line().up()\n",
        "d += elm.Vdd().label('$V_{dd}$')\n",
        "\n",
        "d += elm.Line().down().at(NMOS3.source)\n",
        "d += elm.Ground()\n",
        "\n",
        "d.draw()\n"
      ]
    }
  ]
}